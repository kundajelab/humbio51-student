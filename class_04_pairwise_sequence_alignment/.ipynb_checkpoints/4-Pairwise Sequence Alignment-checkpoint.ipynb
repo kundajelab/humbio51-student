{
 "cells": [
  {
   "cell_type": "markdown",
   "metadata": {},
   "source": [
    "# Big Data for Biologists: Decoding Genomic Function- Class 4\n",
    "\n",
    "## How can we compare two or more DNA sequences? \n",
    "\n",
    "##  Learning Objectives\n",
    "***Students should be able to***\n",
    " <ol>\n",
    "   <li><a href=#SeqAlignIntro>Identify ways that DNA sequence alignments can provide insights into human biology</a></li>\n",
    " <li><a href=#Import>Import a module into a Python script</a></li>\n",
    " <li><a href=#ModuleHelp>Run the help command to get information about Python modules</a></li>\n",
    " <li><a href=#WriteModuleHelp>Write help information for a Python module</a></li>\n",
    " <li><a href=#Package>Explain what a Python package is and how to import modules from a package </a></li>\n",
    " <li><a href=#Align2>Align two sequences using modules from the BioPython package </a></li>\n",
    " <li><a href=#DataStructures> Identify the difference between tuple, list, and dictionary data structures in Python</a></li>\n",
    " <li><a href=#Align2>Interpret the output of a pairwise2 sequence alignment from the BioPython package </a></li>\n"
   ]
  },
  {
   "cell_type": "markdown",
   "metadata": {},
   "source": [
    "# How can DNA sequence alignments provide insights into human biology?<a name='SeqAlignIntro' />\n",
    "\n",
    "\n",
    "<i>\n",
    "    * \"What model organism can I use to study a gene that has been associated with a human disease?\"\n",
    "    \n",
    "    * \"I made a discovery about how a gene works in fruit flies, could my finding also be relevant in humans?\"  \n",
    "    \n",
    "    * \"How can I analyze my DNA sequencing results to determine if I am at risk of a disease?\"  \n",
    "    \n",
    "    * \"How different are humans from Neanderthals or other ancient humans?\"\n",
    "</i>\n",
    "\n",
    "\n",
    "**ALL of these questions utilize the tools of sequence alignment**   \n",
    "\n",
    "\n",
    "For today's class we will be looking at the very important procedure of DNA sequence alignment. \n",
    "\n",
    "We will look at this class and in the next class of examples of two types of sequence alignments that can be performed:\n",
    "\n",
    "* Comparing two sequences **pairwise sequence alignment**  \n",
    "* Comparing three or more sequences **multiple sequence alignment**\n",
    "\n",
    "In our examples today we will use DNA sequences, but there are also algorithms that can be applied to aligning protein sequences. \n",
    "\n",
    "We will be showing you how to perform alignments in Python to continue building your skills in Python, but there are a number of web-based tools for performing both pairwise and multiple sequence alignments such as [BLAST](https://blast.ncbi.nlm.nih.gov/Blast.cgi?PROGRAM=blastn&PAGE_TYPE=BlastSearch&LINK_LOC=blasthome) for pairwise alignments and [CLUSTAL Omega](http://www.ebi.ac.uk/Tools/msa/clustalo/) for multiple sequence alignments. \n"
   ]
  },
  {
   "cell_type": "markdown",
   "metadata": {},
   "source": [
    "# Import a module into a Python script<a name='Import' />\n",
    "\n",
    "Writing the algorithms for sequence alignments is beyond the scope of this class. However, we can perform sequence alignments with the help of algorithms that have been developed and shared by others. \n",
    "\n",
    "In order to use code that has been shared by others, we first need to learn how to import the code into Python. \n",
    "\n",
    "As a starting example, we can look first at how to import the module that we created in the last class, central_dogma_helpers.py, into a Python script.\n",
    "\n",
    "Remeber, that we defined three functions in central_dogma_helpers.py: \n",
    "\n",
    "    read_nt_from_fastasequence\n",
    "    write_RNA_from_DNA\n",
    "    write_protein_1_letter_aa_from_RNA\n",
    "\n",
    "Once the module is imported, we will be able to call these three functions by name in our code. We will not have to write out the entire function.  \n",
    "\n",
    "In our example, we will also use the sys module that comes with the Python distribution. \n",
    "\n",
    "We've seen a few examples of the import command already in earlier classes, and now you should have a better understanding of what that command means. \n",
    "\n",
    "As a reminder, the box below has the helper functions that we wrote in the last class."
   ]
  },
  {
   "cell_type": "code",
   "execution_count": null,
   "metadata": {
    "collapsed": true
   },
   "outputs": [],
   "source": [
    "%%writefile ../helpers/central_dogma_helpers.py\n",
    "\n",
    "#read in a nucleotide (DNA or RNA) sequence from a FASTA sequence\n",
    "\n",
    "def read_nt_from_fastasequence(FASTAsequence):\n",
    "    FASTAsequence=open(FASTAsequence,'r')\n",
    "    nt_sequence=(FASTAsequence.readlines()[1:])\n",
    "    nt_sequence=''.join(nt_sequence)\n",
    "    nt_sequence=nt_sequence.replace('\\n','')\n",
    "    return(nt_sequence)\n",
    "\n",
    "#write an RNA sequence from a DNA sequence\n",
    "\n",
    "def write_RNA_from_DNA(DNAsequence):\n",
    "    RNAsequence='' #this defines the variable 'complementarysequence'\n",
    "    for i in DNAsequence:\n",
    "        if i=='T':\n",
    "            RNAsequence=RNAsequence+'U'\n",
    "        else:\n",
    "            RNAsequence=RNAsequence+ i\n",
    "    return(RNAsequence)\n",
    "\n",
    "#Write out the protein 1-letter amino acid from an mRNA sequence\n",
    "\n",
    "def write_protein_1_letter_aa_from_RNA(RNAsequence):\n",
    "\n",
    "#defines the python dictionary for the one letter genetic code \n",
    "    geneticcode1let={'UUU':'F','UUC':'F','UUA':'L','UUG':'L',\n",
    "     'CUU':'L','CUC':'L','CUA':'L','CUG':'L',\n",
    "     'AUU':'I','AUC':'I','AUA':'I','AUG':'M',\n",
    "     'GUU':'V','GUC':'V','GUA':'V','GUG':'V',\n",
    "     'UCU':'S','UCC':'S','UCA':'S','UCG':'S',\n",
    "     'CCU':'P','CCC':'P','CCA':'P','CCG':'P',\n",
    "     'ACU':'T','ACC':'T','ACA':'T','ACG':'T',\n",
    "     'GCU':'A','GCC':'A','GCA':'A','GCG':'A',\n",
    "     'UAU':'Y','UAC':'Y','UAA':'*','UAG':'*',\n",
    "     'CAU':'H','CAC':'H','CAA':'Q','CAG':'Q',\n",
    "     'AAU':'N','AAC':'N','AAA':'K','AAG':'K',\n",
    "     'GAU':'D','GAC':'D','GAA':'E','GAG':'E',\n",
    "     'UGU':'C','UGC':'C','UGA':'*','UGG':'W',\n",
    "     'CGU':'R','CGC':'R','CGA':'R','CGG':'R',\n",
    "     'AGU':'S','AGC':'S','AGA':'R','AGG':'R',\n",
    "     'GGU':'G','GGC':'G','GGA':'G','GGG':'G'}\n",
    "\n",
    "#defines the string variable proteinseq\n",
    "    proteinseq=''\n",
    "\n",
    "#range command (start,stop(not included),step)\n",
    "\n",
    "    for i in range(0,len(RNAsequence),3): \n",
    "        proteinseq=proteinseq+str(geneticcode1let[RNAsequence[i:i+3]])\n",
    "    return (proteinseq)\n"
   ]
  },
  {
   "cell_type": "code",
   "execution_count": null,
   "metadata": {
    "collapsed": true
   },
   "outputs": [],
   "source": [
    "#Tells python where to look for .py files\n",
    "#adds ../helpers to the list of directories where to look for .py files. \n",
    "#The list of directories to look in is called the \"path\". \n",
    "#sys is a pre-installed module that comes with standard Python distributions (https://docs.python.org/3.6/library/sys.html)\n",
    " \n",
    "import sys\n",
    "sys.path.append('../helpers')\n",
    "\n",
    "#Imports the module central_dogma_helpers.py\n",
    "import central_dogma_helpers\n",
    "\n",
    "#Import the names of all the functions in central_dogma_helpers.py\n",
    "#The names of all the functions is denoted by the *. \n",
    "#You could also import each function by its individual name. \n",
    "#Or you could call each function by using the syntax central_dogma_helpers.function name\"\"\"\n",
    "\n",
    "from central_dogma_helpers import *\n",
    "\n",
    "#Runs the three functions in central_dogma_helpers\n",
    "\n",
    "insulin_DNA_sequence=read_nt_from_fastasequence('../class_01_Gene_Sequences/data/Human-Insulin NM_000207.2.txt')\n",
    "\n",
    "insulin_RNA_sequence=write_RNA_from_DNA(insulin_DNA_sequence)\n",
    "                        \n",
    "insulin_protein_sequence=write_protein_1_letter_aa_from_RNA(insulin_RNA_sequence[59:389])\n",
    "\n",
    "#Prints the output \n",
    "print('RNAsequence:  '+ insulin_RNA_sequence )\n",
    "print('\\n'+'Protein Sequence:'+ insulin_protein_sequence)"
   ]
  },
  {
   "cell_type": "markdown",
   "metadata": {},
   "source": [
    "## How can I get information about a Python module that I imported?<a name='ModuleHelp' />"
   ]
  },
  {
   "cell_type": "markdown",
   "metadata": {},
   "source": [
    "After you load a module into Python if you want to get more information about the module, you can use the help command. "
   ]
  },
  {
   "cell_type": "code",
   "execution_count": null,
   "metadata": {
    "collapsed": true
   },
   "outputs": [],
   "source": [
    "import sys\n",
    "help (sys)"
   ]
  },
  {
   "cell_type": "markdown",
   "metadata": {},
   "source": [
    "## How can I write help  information for a module that I write?<a name='WriteModuleHelp' />"
   ]
  },
  {
   "cell_type": "code",
   "execution_count": null,
   "metadata": {
    "collapsed": true
   },
   "outputs": [],
   "source": [
    "def read_nt_from_fastasequence(FASTAsequence):\n",
    "    '''this function reads in a sequence in FASTA format and\n",
    "       returns the nucleotide sequence without the header information'''\n",
    "    FASTAsequence=open(FASTAsequence,'r')\n",
    "    nt_sequence=(FASTAsequence.readlines()[1:])\n",
    "    nt_sequence=''.join(nt_sequence)\n",
    "    nt_sequence=nt_sequence.replace('\\n','')\n",
    "    return(nt_sequence)"
   ]
  },
  {
   "cell_type": "code",
   "execution_count": null,
   "metadata": {
    "collapsed": true
   },
   "outputs": [],
   "source": [
    "help (read_nt_from_fastasequence)"
   ]
  },
  {
   "cell_type": "markdown",
   "metadata": {},
   "source": [
    "## What are python pacakges and how can I import packages?<a name='Package' />\n",
    "\n",
    "There are many publicly available modules that can be imported into Python. Often, modules are made available as part of **packages** which are sets of module files that can be installed by users to expand Python functionality. Python packages are a collection of modules and also contain a required file called  \\_\\_init\\_\\_.py that instructs Python to treat a directory as a package. \n",
    "\n",
    "See the figure below for the relationship between functions, modules and packages. \n",
    "\n",
    "<img src=\"../Images/4-Package.png\" style=\"width: 30%; height: 30%\" align=\"center\"/>\n",
    "\n",
    "To use a package, the package first needs to be installed. How you install a package will depend on the system that you are using. \n",
    "\n",
    "For this class we have pre-installed the packages that you will need. Today we will be using a package called Biopython which you can learn more about [here](http://biopython.org/DIST/docs/tutorial/Tutorial.html). \n",
    "\n",
    "You can check to see if a package has been installed by running the import command and seeing if there is an error. \n",
    "\n",
    "In the code below, we are checking to be sure that the Bio package from BioPython has been installed. We can also check the version number. "
   ]
  },
  {
   "cell_type": "code",
   "execution_count": null,
   "metadata": {
    "collapsed": true
   },
   "outputs": [],
   "source": [
    "import Bio \n",
    "print(Bio.__version__)"
   ]
  },
  {
   "cell_type": "markdown",
   "metadata": {},
   "source": [
    "As a summary, we've looked today at how to import three types of modules into Python:\n",
    "\n",
    "* modules that you wrote and saved as .py files (eg. central_dogma_helpers.py from the last class) \n",
    "* modules that came with the Python distribution \n",
    "* modules that come from packages that you install \n",
    "\n",
    "One final note is that you may hear packages being referred to as **libraries**.  \n",
    "\n",
    "Now that we've set our system up to use the BioPython package we are going to look at ways that we can use it. "
   ]
  },
  {
   "cell_type": "markdown",
   "metadata": {},
   "source": [
    "## Align two sequences using BioPython<a name='Align2' />\n",
    "\n",
    "In the last class we looked at the sequence for human insulin. \n",
    "\n",
    "Mice have two copies of the insulin gene. How similar are they to the human gene? Which one is more similar? \n",
    "\n",
    "This is an example question that we'll look at as we learn about pairwise sequence alignments.    \n",
    "\n",
    "We saved the FASTA sequences for the mouse genes in two files Mouse Insulin GeneID 16333.txt and Mouse Insulin Gene ID 16334.txt in files in the data directory for this class.  \n",
    "\n",
    "In this example we are going to use two modules:\n",
    "\n",
    "SeqIO a convenient tool for reading FASTA sequences into Python. \n",
    "\n",
    "And pairwise2, an algorithm for aligning two sequences. \n",
    "\n",
    "If you remember back to the first class, we wrote some code to read a FASTA sequence into Python, but we had to separate the header (the first line starting with >) from the actual sequence. \n",
    "\n",
    "SeqIO is a Biopython package that conveniently reads in a file and separates (or **parses**) a FASTA sequence into its ID, Name, Description, features and the sequence.\n",
    "\n",
    "If the variable name defined when you call SeqIO is seq1 then you can refer to the id by seq1.id, the description by seq1.description, or the sequence by seq1.seq"
   ]
  },
  {
   "cell_type": "markdown",
   "metadata": {},
   "source": [
    "Before we run SeqIO, let's take a look at the source code. "
   ]
  },
  {
   "cell_type": "code",
   "execution_count": null,
   "metadata": {
    "collapsed": true
   },
   "outputs": [],
   "source": [
    "from IPython.display import IFrame\n",
    "\n",
    "IFrame(\"http://biopython.org/DIST/docs/api/Bio.SeqIO-pysrc.html\",height=1000,width=1000)"
   ]
  },
  {
   "cell_type": "code",
   "execution_count": null,
   "metadata": {
    "collapsed": true
   },
   "outputs": [],
   "source": [
    "# note we used the import Bio command above otherwise we would need to have it here.\n",
    "\n",
    "#imports the sequence reading package SeqIO from the Bio module and prints the sequence identifier.  \n",
    "from Bio import SeqIO\n",
    "\n",
    "#Reads the FASTA sequences \n",
    "seq=SeqIO.read('../class_01_Gene_Sequences/data/Human-Insulin-NG_007114.1.txt',\"fasta\")\n",
    "\n",
    "print(seq.id)\n",
    "print(seq)"
   ]
  },
  {
   "cell_type": "markdown",
   "metadata": {},
   "source": [
    " In the box below, revise the code above to print out the gene sequence instead of the identifier. \n"
   ]
  },
  {
   "cell_type": "code",
   "execution_count": null,
   "metadata": {
    "collapsed": true
   },
   "outputs": [],
   "source": [
    "#imports the sequence reading package SeqIO from the Bio module and prints the nucleotide sequence. \n",
    "print(seq.seq)"
   ]
  },
  {
   "cell_type": "markdown",
   "metadata": {},
   "source": [
    "Now we are ready to use the SeqIO package with the pairwise2 module to run the sequence alignment. For more information on the pairwise2 module see the BioPython documentation [here](http://biopython.org/DIST/docs/api/Bio.pairwise2-module.html)."
   ]
  },
  {
   "cell_type": "code",
   "execution_count": null,
   "metadata": {
    "collapsed": true
   },
   "outputs": [],
   "source": [
    "# Write code to do a pairwise sequence alignment between the Human-Insulin Gene NG_007114.1\n",
    "# and the Mouse Insulin GeneID 16333\n",
    "\n",
    "# note we used the import Bio and import SeqIO command above otherwise we would need to have them here.\n",
    "\n",
    "#imports the pairwise sequence alignment algorithm pairwise2 from the Bio module. \n",
    "from Bio import pairwise2 \n",
    "\n",
    "#import the sequence_alignment_helpers.py file in the helpers directory\n",
    "import sequence_alignment_helpers\n",
    "from sequence_alignment_helpers import *\n",
    "\n",
    "\n",
    "#Reads the FASTA sequences \n",
    "seq1=SeqIO.read('../class_01_Gene_Sequences/data/Human-Insulin-NG_007114.1.txt',\"fasta\") \n",
    "seq2=SeqIO.read('data/Mouse Insulin GeneID 16333.txt',\"fasta\")\n",
    "\n",
    "#Conducts a global pairwise alignment between the two sequences  \n",
    "#the xx gives instructions about how to calculate the alignment score\n",
    "#http://biopython.org/DIST/docs/api/Bio.pairwise2-module.html\n",
    "\n",
    "alignments = pairwise2.align.globalxx(seq1.seq, seq2.seq)\n",
    "\n",
    "print(alignments)"
   ]
  },
  {
   "cell_type": "code",
   "execution_count": null,
   "metadata": {
    "collapsed": true
   },
   "outputs": [],
   "source": [
    "#Write the code to determine the variable type for alignments \n",
    "###BEGIN SOLUTION\n",
    "###END SOLUTION"
   ]
  },
  {
   "cell_type": "markdown",
   "metadata": {},
   "source": [
    "## Identify the difference between list, tuple, and dictionary data structures in Python  <a name='DataStructures' />"
   ]
  },
  {
   "cell_type": "markdown",
   "metadata": {},
   "source": [
    "The alignments output of the pairwise2 algorithm is a list of a data type called tuples. \n",
    "\n",
    "* A **list** is denoted by square brackets. For example: \n",
    "\n",
    "       alignments=[alignment0, alignment1, alignment2] \n",
    "\n",
    "       Individual elements of a list can be referred to using an index. \n",
    "\n",
    "       alignments[0]= alignment0  \n",
    "       alignments[1]= alignment1 \n",
    "       alignments[2]= alignment2  \n",
    "       \n",
    "       Values of lists can be changed, for example:  \n",
    "       \n",
    "       alignments[2]= new_alignment2 \n",
    "       \n",
    "       alignments=[alignment0, alignment1,new_alignment2]\n",
    "       \n",
    "       Values in lists can be different data types. In the alignments example, the data types are tuples. \n",
    "\n",
    "\n",
    "* A **tuple** is denoted by parentheses. A tuple behaves similarly to a list, but it is \"immutable\". That means that once you define a tuple in your script or program, you cannot change, add or remove elements. Why would you ever want this constraint? There are two main reasons: using tuples can make some operations faster due to how they are stored internally in the computer's memory. Additionally, tuples can be used as dictionary keys (more on dictionary keys below), while lists cannot.\n",
    "\n",
    "       alignments[0]=('sequence1','sequence2',alignment_score,start,stop) \n",
    "       \n",
    "       Individual elements of a tuple can be referred to using an index. \n",
    "       \n",
    "       alignments[0][0]='sequence1' \n",
    "       alignments[0][1]='sequence2' \n",
    "       alignments[0][2]= alignment_score\n",
    "       alignments[0][3]=start\n",
    "       alignments[0][4]=stop\n",
    "       \n",
    "       alignments[0][1]='new_sequence2' will give error message: 'tuple' object does not support item assignment\n",
    "       \n",
    "       \n",
    "\n",
    "* As a review, a third data type that we have already seen is a **dictionary**. Dictionaries are denoted by curly braces and define a map of a value to a key.  \n",
    "       \n",
    "       In the pre-class assignment, for example, we saw: \n",
    "       \n",
    "       aminoacid_molecular_weight={'M':149,'F':165,'L':131,'A':89}\n",
    "       \n",
    "       Elements in dictionaries are referred to as keys and values. \n",
    "\n",
    "       a={key1:value1,key2:value2,key3:value3}\n",
    "\n",
    "       a[key1]=value1\n",
    "\n",
    "       a[key2]=value2\n",
    "\n",
    "       a[key3]=value3\n",
    "\n"
   ]
  },
  {
   "cell_type": "markdown",
   "metadata": {},
   "source": [
    "## Interpret the output of a pairwise 2 sequence alignment from the BioPython package  <a name='Align2' />"
   ]
  },
  {
   "cell_type": "markdown",
   "metadata": {},
   "source": [
    "Now that we have defined lists, tuples and dictionaries, let's look more carefully at the BioPython pairwise2 sequence alignment output. "
   ]
  },
  {
   "cell_type": "code",
   "execution_count": null,
   "metadata": {
    "collapsed": true
   },
   "outputs": [],
   "source": [
    "print (alignments)"
   ]
  },
  {
   "cell_type": "markdown",
   "metadata": {},
   "source": [
    "    What is alignments [0][1] (describe in a word)?\n",
    "    What is alignments[0][2] (describe in a word)?\n",
    "    What is alignments[0][3] (a number)?\n",
    "    What is alignments[0][4] (a number)?\n",
    "    What is alignments[0][5] (a number)?"
   ]
  },
  {
   "cell_type": "markdown",
   "metadata": {},
   "source": [
    "The sequence_alignment_helper functions: \n",
    "    insert_newlines \n",
    "    format_alignment_linebreak  \n",
    "    \n",
    " Can be used to print the alignments output from pairwise2 in a format that is easier to read.  "
   ]
  },
  {
   "cell_type": "code",
   "execution_count": null,
   "metadata": {
    "collapsed": true
   },
   "outputs": [],
   "source": [
    "#uses the sequence_alignment_helper functions to print the alignments with a nice format\n",
    "align1_linebreaks=insert_newlines(alignments[0][0])\n",
    "align2_linebreaks=insert_newlines(alignments[0][1])\n",
    " \n",
    "\n",
    "#format_alignment_linebreak inputs are: align1_linebreaks,align2_linebreaks,score,begin,end,seq1,seq2\n",
    "print(format_alignment_linebreak(align1_linebreaks,align2_linebreaks,alignments[0][2],alignments[0][3],\n",
    "                                 alignments[0][4],seq1,seq2))"
   ]
  },
  {
   "cell_type": "markdown",
   "metadata": {},
   "source": [
    "Now we can return to the question that we started with by looking at whether it is the mouse insulin GeneID 16333 or 16334 that is more similar to the human insulin gene. \n",
    "\n",
    "In the space below, write the code to run a pairwise sequence alignment with the Mouse Insulin GeneID 16334.txt file. "
   ]
  },
  {
   "cell_type": "code",
   "execution_count": null,
   "metadata": {
    "collapsed": true
   },
   "outputs": [],
   "source": [
    "# Write code to do a pairwise sequence alignment between the Human-Insulin Gene NG_007114.1\n",
    "# and the Mouse Insulin GeneID 16334\n",
    "\n",
    "###BEGIN SOLUTION\n",
    "###END SOLUTION"
   ]
  },
  {
   "cell_type": "markdown",
   "metadata": {},
   "source": [
    "Looking at the output, which mouse insulin gene do you think is more similar to human insulin?\n",
    "\n",
    "We'll talk more in the next class about the scoring of alignments. "
   ]
  }
 ],
 "metadata": {
  "anaconda-cloud": {},
  "kernelspec": {
   "display_name": "Python [Root]",
   "language": "python",
   "name": "Python [Root]"
  },
  "language_info": {
   "codemirror_mode": {
    "name": "ipython",
    "version": 3
   },
   "file_extension": ".py",
   "mimetype": "text/x-python",
   "name": "python",
   "nbconvert_exporter": "python",
   "pygments_lexer": "ipython3",
   "version": "3.5.6"
  }
 },
 "nbformat": 4,
 "nbformat_minor": 1
}
