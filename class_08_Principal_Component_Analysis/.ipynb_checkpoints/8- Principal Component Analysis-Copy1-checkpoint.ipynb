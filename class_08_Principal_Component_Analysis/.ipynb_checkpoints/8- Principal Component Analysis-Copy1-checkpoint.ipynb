{
 "cells": [
  {
   "cell_type": "markdown",
   "metadata": {},
   "source": [
    "# Big Data for Biologists: Decoding Genomic Function- Class 8\n",
    "\n",
    "## How do you visualize similarities and differences of gene expression profiles across cell types? Part II\n",
    "\n",
    "##  Learning Objectives\n",
    "***Students should be able to***\n",
    " <ol>\n",
    " <li> <a href=#MetaData>Prepare RNA-Seq samples and metadata for PCA analysis</a></li> \n",
    " <li> <a href=#PCA1>Describe what Principal Component analysis is and how it can be used to analyze and visualize variation in large datasets</a></li>\n",
    " <li> <a href=#PCA2>Perform prinicipal component analysis to identify clustering patterns in gene expression data </a></li>\n",
    " <li> <a href=#Scatter>Make a scatter plot of the output from principal component analysis</a></li> "
   ]
  },
  {
   "cell_type": "markdown",
   "metadata": {},
   "source": [
    "# Prepare RNA-Seq samples and metadata for PCA analysis (review)<a name='MetaData' />"
   ]
  },
  {
   "cell_type": "code",
   "execution_count": 1,
   "metadata": {},
   "outputs": [],
   "source": [
    "%load_ext autoreload\n",
    "# load the pandas package and define an abbreviation (or alias) \n",
    "import pandas as pd   "
   ]
  },
  {
   "cell_type": "markdown",
   "metadata": {},
   "source": [
    "We will focus our analysis on 4 of the anatomical structures and check for differential gene expression among them.  \n"
   ]
  },
  {
   "cell_type": "code",
   "execution_count": 2,
   "metadata": {},
   "outputs": [],
   "source": [
    "#Read in the metadata table. \n",
    "metadata = pd.read_table(\n",
    "     filepath_or_buffer='../datasets/RNAseq/rnaseq_metadata.txt', \n",
    "     header=0,\n",
    "    index_col=0)"
   ]
  },
  {
   "cell_type": "code",
   "execution_count": 3,
   "metadata": {},
   "outputs": [],
   "source": [
    "# Read in the RNA-seq data matrix. \n",
    "rnaseq_data = pd.read_table(\n",
    "     filepath_or_buffer='../datasets/RNAseq/rnaseq_normalized.tsv', \n",
    "     header=0,\n",
    "     index_col=0)"
   ]
  },
  {
   "cell_type": "code",
   "execution_count": 4,
   "metadata": {},
   "outputs": [
    {
     "name": "stdout",
     "output_type": "stream",
     "text": [
      "Number rows:55667\n",
      "Number columns:410\n"
     ]
    }
   ],
   "source": [
    "print(\"Number rows:\"+str(rnaseq_data.shape[0]))#prints number of rows -- this is the sample\n",
    "print(\"Number columns:\"+str(rnaseq_data.shape[1]))#prints number of columns -- this is the gene axis"
   ]
  },
  {
   "cell_type": "code",
   "execution_count": 5,
   "metadata": {},
   "outputs": [],
   "source": [
    "#Since our goal is to identify genes that are differentially expressed across organ systems, we \n",
    "# want to exclude genes that have expression = 0 in all 4 of the organ systems. \n",
    "rnaseq_data_subset=rnaseq_data[rnaseq_data.sum(axis=1)>0]\n"
   ]
  },
  {
   "cell_type": "code",
   "execution_count": 6,
   "metadata": {},
   "outputs": [
    {
     "name": "stdout",
     "output_type": "stream",
     "text": [
      "Number rows:55667\n",
      "Number columns:410\n"
     ]
    }
   ],
   "source": [
    "print(\"Number rows:\"+str(rnaseq_data_subset.shape[0]))#prints number of rows -- this is the sample\n",
    "print(\"Number columns:\"+str(rnaseq_data_subset.shape[1]))#prints number of columns -- this is the gene axis"
   ]
  },
  {
   "cell_type": "code",
   "execution_count": 7,
   "metadata": {},
   "outputs": [],
   "source": [
    "#Transpose the data frame \n",
    "#Now, our features (genes) are along the column axis, and sample names are along the row axis. This will make for easier\n",
    "#downstream analysis. \n",
    "rnaseq_data_subset=rnaseq_data_subset.transpose()"
   ]
  },
  {
   "cell_type": "code",
   "execution_count": 8,
   "metadata": {},
   "outputs": [
    {
     "name": "stdout",
     "output_type": "stream",
     "text": [
      "Number rows:410\n",
      "Number columns:55667\n"
     ]
    }
   ],
   "source": [
    "print(\"Number rows:\"+str(rnaseq_data_subset.shape[0]))#prints number of rows -- this is the gene axis \n",
    "print(\"Number columns:\"+str(rnaseq_data_subset.shape[1]))#prints number of columns"
   ]
  },
  {
   "cell_type": "code",
   "execution_count": 9,
   "metadata": {},
   "outputs": [
    {
     "data": {
      "text/html": [
       "<div>\n",
       "<style scoped>\n",
       "    .dataframe tbody tr th:only-of-type {\n",
       "        vertical-align: middle;\n",
       "    }\n",
       "\n",
       "    .dataframe tbody tr th {\n",
       "        vertical-align: top;\n",
       "    }\n",
       "\n",
       "    .dataframe thead th {\n",
       "        text-align: right;\n",
       "    }\n",
       "</style>\n",
       "<table border=\"1\" class=\"dataframe\">\n",
       "  <thead>\n",
       "    <tr style=\"text-align: right;\">\n",
       "      <th></th>\n",
       "      <th>ENSG00000242268.2</th>\n",
       "      <th>ENSG00000167578.12</th>\n",
       "      <th>ENSG00000270112.2</th>\n",
       "      <th>ENSG00000078237.4</th>\n",
       "      <th>ENSG00000263642.1</th>\n",
       "      <th>ENSG00000225275.4</th>\n",
       "      <th>ENSG00000269416.1</th>\n",
       "      <th>ENSG00000268332.1</th>\n",
       "      <th>ENSG00000060642.6</th>\n",
       "      <th>ENSG00000231981.3</th>\n",
       "      <th>...</th>\n",
       "      <th>ENSG00000148943.7</th>\n",
       "      <th>ENSG00000273233.1</th>\n",
       "      <th>ENSG00000265520.1</th>\n",
       "      <th>ENSG00000231119.2</th>\n",
       "      <th>ENSG00000105063.14</th>\n",
       "      <th>ENSG00000123685.4</th>\n",
       "      <th>ENSG00000181518.2</th>\n",
       "      <th>System</th>\n",
       "      <th>Organ</th>\n",
       "      <th>CellType</th>\n",
       "    </tr>\n",
       "    <tr>\n",
       "      <th>Sample</th>\n",
       "      <th></th>\n",
       "      <th></th>\n",
       "      <th></th>\n",
       "      <th></th>\n",
       "      <th></th>\n",
       "      <th></th>\n",
       "      <th></th>\n",
       "      <th></th>\n",
       "      <th></th>\n",
       "      <th></th>\n",
       "      <th></th>\n",
       "      <th></th>\n",
       "      <th></th>\n",
       "      <th></th>\n",
       "      <th></th>\n",
       "      <th></th>\n",
       "      <th></th>\n",
       "      <th></th>\n",
       "      <th></th>\n",
       "      <th></th>\n",
       "      <th></th>\n",
       "    </tr>\n",
       "  </thead>\n",
       "  <tbody>\n",
       "    <tr>\n",
       "      <th>ENCSR051GPK.Ganglion_Eminence_derived_primary_cultured_neurospheres.UCSF_Costello</th>\n",
       "      <td>0.675065</td>\n",
       "      <td>3.176028</td>\n",
       "      <td>-0.100813</td>\n",
       "      <td>3.750078</td>\n",
       "      <td>-0.005248</td>\n",
       "      <td>-0.008347</td>\n",
       "      <td>1.895792</td>\n",
       "      <td>0.071096</td>\n",
       "      <td>1.717195</td>\n",
       "      <td>0.086997</td>\n",
       "      <td>...</td>\n",
       "      <td>3.007283</td>\n",
       "      <td>0.106460</td>\n",
       "      <td>0.143332</td>\n",
       "      <td>0.102862</td>\n",
       "      <td>3.135837</td>\n",
       "      <td>1.171673</td>\n",
       "      <td>-0.011186</td>\n",
       "      <td>Nervous</td>\n",
       "      <td>Brain</td>\n",
       "      <td>Neurosphere</td>\n",
       "    </tr>\n",
       "    <tr>\n",
       "      <th>ENCSR906HEV.Fetal_Muscle_Trunk.UW_Glass</th>\n",
       "      <td>0.277090</td>\n",
       "      <td>2.113871</td>\n",
       "      <td>0.325754</td>\n",
       "      <td>1.852882</td>\n",
       "      <td>0.007042</td>\n",
       "      <td>0.022288</td>\n",
       "      <td>0.654517</td>\n",
       "      <td>0.013041</td>\n",
       "      <td>1.777113</td>\n",
       "      <td>0.168219</td>\n",
       "      <td>...</td>\n",
       "      <td>2.534540</td>\n",
       "      <td>0.102920</td>\n",
       "      <td>0.029297</td>\n",
       "      <td>0.089795</td>\n",
       "      <td>3.293024</td>\n",
       "      <td>0.909186</td>\n",
       "      <td>0.017020</td>\n",
       "      <td>Musculoskeletal</td>\n",
       "      <td>Muscle</td>\n",
       "      <td>Muscle</td>\n",
       "    </tr>\n",
       "    <tr>\n",
       "      <th>ENCSR762CJN.H1_BMP4_Derived_Trophoblast_Cultured_Cells.UCSD_Thompson</th>\n",
       "      <td>0.187297</td>\n",
       "      <td>2.990098</td>\n",
       "      <td>0.068335</td>\n",
       "      <td>3.030287</td>\n",
       "      <td>0.002427</td>\n",
       "      <td>0.012498</td>\n",
       "      <td>1.072950</td>\n",
       "      <td>0.041683</td>\n",
       "      <td>1.904739</td>\n",
       "      <td>0.139392</td>\n",
       "      <td>...</td>\n",
       "      <td>3.166439</td>\n",
       "      <td>0.099807</td>\n",
       "      <td>0.040695</td>\n",
       "      <td>0.081328</td>\n",
       "      <td>3.832852</td>\n",
       "      <td>0.175359</td>\n",
       "      <td>-0.000313</td>\n",
       "      <td>Embryonic</td>\n",
       "      <td>Trophoblast</td>\n",
       "      <td>ES.derived</td>\n",
       "    </tr>\n",
       "    <tr>\n",
       "      <th>ENCSR321ROU.Fetal_Kidney_Pelvis.UW_Glass</th>\n",
       "      <td>-0.104115</td>\n",
       "      <td>2.860598</td>\n",
       "      <td>-0.067226</td>\n",
       "      <td>2.432092</td>\n",
       "      <td>-0.028182</td>\n",
       "      <td>0.015227</td>\n",
       "      <td>0.631293</td>\n",
       "      <td>-0.242030</td>\n",
       "      <td>2.311262</td>\n",
       "      <td>0.133319</td>\n",
       "      <td>...</td>\n",
       "      <td>2.714726</td>\n",
       "      <td>0.046975</td>\n",
       "      <td>-0.183519</td>\n",
       "      <td>0.162563</td>\n",
       "      <td>3.613722</td>\n",
       "      <td>0.783756</td>\n",
       "      <td>0.003784</td>\n",
       "      <td>Urinary</td>\n",
       "      <td>Kidney</td>\n",
       "      <td>Kidney</td>\n",
       "    </tr>\n",
       "    <tr>\n",
       "      <th>ENCSR109IQO.K562_Leukemia_Cells.UConn_Graveley</th>\n",
       "      <td>0.384825</td>\n",
       "      <td>3.392432</td>\n",
       "      <td>0.145993</td>\n",
       "      <td>2.051930</td>\n",
       "      <td>-0.000008</td>\n",
       "      <td>0.009046</td>\n",
       "      <td>0.286721</td>\n",
       "      <td>0.084697</td>\n",
       "      <td>2.446061</td>\n",
       "      <td>0.137258</td>\n",
       "      <td>...</td>\n",
       "      <td>2.837897</td>\n",
       "      <td>0.012638</td>\n",
       "      <td>0.069255</td>\n",
       "      <td>0.089867</td>\n",
       "      <td>4.446532</td>\n",
       "      <td>1.255056</td>\n",
       "      <td>0.009028</td>\n",
       "      <td>Blood</td>\n",
       "      <td>Blood</td>\n",
       "      <td>Leukemia</td>\n",
       "    </tr>\n",
       "  </tbody>\n",
       "</table>\n",
       "<p>5 rows × 55670 columns</p>\n",
       "</div>"
      ],
      "text/plain": [
       "                                                    ENSG00000242268.2  \\\n",
       "Sample                                                                  \n",
       "ENCSR051GPK.Ganglion_Eminence_derived_primary_c...           0.675065   \n",
       "ENCSR906HEV.Fetal_Muscle_Trunk.UW_Glass                      0.277090   \n",
       "ENCSR762CJN.H1_BMP4_Derived_Trophoblast_Culture...           0.187297   \n",
       "ENCSR321ROU.Fetal_Kidney_Pelvis.UW_Glass                    -0.104115   \n",
       "ENCSR109IQO.K562_Leukemia_Cells.UConn_Graveley               0.384825   \n",
       "\n",
       "                                                    ENSG00000167578.12  \\\n",
       "Sample                                                                   \n",
       "ENCSR051GPK.Ganglion_Eminence_derived_primary_c...            3.176028   \n",
       "ENCSR906HEV.Fetal_Muscle_Trunk.UW_Glass                       2.113871   \n",
       "ENCSR762CJN.H1_BMP4_Derived_Trophoblast_Culture...            2.990098   \n",
       "ENCSR321ROU.Fetal_Kidney_Pelvis.UW_Glass                      2.860598   \n",
       "ENCSR109IQO.K562_Leukemia_Cells.UConn_Graveley                3.392432   \n",
       "\n",
       "                                                    ENSG00000270112.2  \\\n",
       "Sample                                                                  \n",
       "ENCSR051GPK.Ganglion_Eminence_derived_primary_c...          -0.100813   \n",
       "ENCSR906HEV.Fetal_Muscle_Trunk.UW_Glass                      0.325754   \n",
       "ENCSR762CJN.H1_BMP4_Derived_Trophoblast_Culture...           0.068335   \n",
       "ENCSR321ROU.Fetal_Kidney_Pelvis.UW_Glass                    -0.067226   \n",
       "ENCSR109IQO.K562_Leukemia_Cells.UConn_Graveley               0.145993   \n",
       "\n",
       "                                                    ENSG00000078237.4  \\\n",
       "Sample                                                                  \n",
       "ENCSR051GPK.Ganglion_Eminence_derived_primary_c...           3.750078   \n",
       "ENCSR906HEV.Fetal_Muscle_Trunk.UW_Glass                      1.852882   \n",
       "ENCSR762CJN.H1_BMP4_Derived_Trophoblast_Culture...           3.030287   \n",
       "ENCSR321ROU.Fetal_Kidney_Pelvis.UW_Glass                     2.432092   \n",
       "ENCSR109IQO.K562_Leukemia_Cells.UConn_Graveley               2.051930   \n",
       "\n",
       "                                                    ENSG00000263642.1  \\\n",
       "Sample                                                                  \n",
       "ENCSR051GPK.Ganglion_Eminence_derived_primary_c...          -0.005248   \n",
       "ENCSR906HEV.Fetal_Muscle_Trunk.UW_Glass                      0.007042   \n",
       "ENCSR762CJN.H1_BMP4_Derived_Trophoblast_Culture...           0.002427   \n",
       "ENCSR321ROU.Fetal_Kidney_Pelvis.UW_Glass                    -0.028182   \n",
       "ENCSR109IQO.K562_Leukemia_Cells.UConn_Graveley              -0.000008   \n",
       "\n",
       "                                                    ENSG00000225275.4  \\\n",
       "Sample                                                                  \n",
       "ENCSR051GPK.Ganglion_Eminence_derived_primary_c...          -0.008347   \n",
       "ENCSR906HEV.Fetal_Muscle_Trunk.UW_Glass                      0.022288   \n",
       "ENCSR762CJN.H1_BMP4_Derived_Trophoblast_Culture...           0.012498   \n",
       "ENCSR321ROU.Fetal_Kidney_Pelvis.UW_Glass                     0.015227   \n",
       "ENCSR109IQO.K562_Leukemia_Cells.UConn_Graveley               0.009046   \n",
       "\n",
       "                                                    ENSG00000269416.1  \\\n",
       "Sample                                                                  \n",
       "ENCSR051GPK.Ganglion_Eminence_derived_primary_c...           1.895792   \n",
       "ENCSR906HEV.Fetal_Muscle_Trunk.UW_Glass                      0.654517   \n",
       "ENCSR762CJN.H1_BMP4_Derived_Trophoblast_Culture...           1.072950   \n",
       "ENCSR321ROU.Fetal_Kidney_Pelvis.UW_Glass                     0.631293   \n",
       "ENCSR109IQO.K562_Leukemia_Cells.UConn_Graveley               0.286721   \n",
       "\n",
       "                                                    ENSG00000268332.1  \\\n",
       "Sample                                                                  \n",
       "ENCSR051GPK.Ganglion_Eminence_derived_primary_c...           0.071096   \n",
       "ENCSR906HEV.Fetal_Muscle_Trunk.UW_Glass                      0.013041   \n",
       "ENCSR762CJN.H1_BMP4_Derived_Trophoblast_Culture...           0.041683   \n",
       "ENCSR321ROU.Fetal_Kidney_Pelvis.UW_Glass                    -0.242030   \n",
       "ENCSR109IQO.K562_Leukemia_Cells.UConn_Graveley               0.084697   \n",
       "\n",
       "                                                    ENSG00000060642.6  \\\n",
       "Sample                                                                  \n",
       "ENCSR051GPK.Ganglion_Eminence_derived_primary_c...           1.717195   \n",
       "ENCSR906HEV.Fetal_Muscle_Trunk.UW_Glass                      1.777113   \n",
       "ENCSR762CJN.H1_BMP4_Derived_Trophoblast_Culture...           1.904739   \n",
       "ENCSR321ROU.Fetal_Kidney_Pelvis.UW_Glass                     2.311262   \n",
       "ENCSR109IQO.K562_Leukemia_Cells.UConn_Graveley               2.446061   \n",
       "\n",
       "                                                    ENSG00000231981.3  \\\n",
       "Sample                                                                  \n",
       "ENCSR051GPK.Ganglion_Eminence_derived_primary_c...           0.086997   \n",
       "ENCSR906HEV.Fetal_Muscle_Trunk.UW_Glass                      0.168219   \n",
       "ENCSR762CJN.H1_BMP4_Derived_Trophoblast_Culture...           0.139392   \n",
       "ENCSR321ROU.Fetal_Kidney_Pelvis.UW_Glass                     0.133319   \n",
       "ENCSR109IQO.K562_Leukemia_Cells.UConn_Graveley               0.137258   \n",
       "\n",
       "                                                       ...       \\\n",
       "Sample                                                 ...        \n",
       "ENCSR051GPK.Ganglion_Eminence_derived_primary_c...     ...        \n",
       "ENCSR906HEV.Fetal_Muscle_Trunk.UW_Glass                ...        \n",
       "ENCSR762CJN.H1_BMP4_Derived_Trophoblast_Culture...     ...        \n",
       "ENCSR321ROU.Fetal_Kidney_Pelvis.UW_Glass               ...        \n",
       "ENCSR109IQO.K562_Leukemia_Cells.UConn_Graveley         ...        \n",
       "\n",
       "                                                    ENSG00000148943.7  \\\n",
       "Sample                                                                  \n",
       "ENCSR051GPK.Ganglion_Eminence_derived_primary_c...           3.007283   \n",
       "ENCSR906HEV.Fetal_Muscle_Trunk.UW_Glass                      2.534540   \n",
       "ENCSR762CJN.H1_BMP4_Derived_Trophoblast_Culture...           3.166439   \n",
       "ENCSR321ROU.Fetal_Kidney_Pelvis.UW_Glass                     2.714726   \n",
       "ENCSR109IQO.K562_Leukemia_Cells.UConn_Graveley               2.837897   \n",
       "\n",
       "                                                    ENSG00000273233.1  \\\n",
       "Sample                                                                  \n",
       "ENCSR051GPK.Ganglion_Eminence_derived_primary_c...           0.106460   \n",
       "ENCSR906HEV.Fetal_Muscle_Trunk.UW_Glass                      0.102920   \n",
       "ENCSR762CJN.H1_BMP4_Derived_Trophoblast_Culture...           0.099807   \n",
       "ENCSR321ROU.Fetal_Kidney_Pelvis.UW_Glass                     0.046975   \n",
       "ENCSR109IQO.K562_Leukemia_Cells.UConn_Graveley               0.012638   \n",
       "\n",
       "                                                    ENSG00000265520.1  \\\n",
       "Sample                                                                  \n",
       "ENCSR051GPK.Ganglion_Eminence_derived_primary_c...           0.143332   \n",
       "ENCSR906HEV.Fetal_Muscle_Trunk.UW_Glass                      0.029297   \n",
       "ENCSR762CJN.H1_BMP4_Derived_Trophoblast_Culture...           0.040695   \n",
       "ENCSR321ROU.Fetal_Kidney_Pelvis.UW_Glass                    -0.183519   \n",
       "ENCSR109IQO.K562_Leukemia_Cells.UConn_Graveley               0.069255   \n",
       "\n",
       "                                                    ENSG00000231119.2  \\\n",
       "Sample                                                                  \n",
       "ENCSR051GPK.Ganglion_Eminence_derived_primary_c...           0.102862   \n",
       "ENCSR906HEV.Fetal_Muscle_Trunk.UW_Glass                      0.089795   \n",
       "ENCSR762CJN.H1_BMP4_Derived_Trophoblast_Culture...           0.081328   \n",
       "ENCSR321ROU.Fetal_Kidney_Pelvis.UW_Glass                     0.162563   \n",
       "ENCSR109IQO.K562_Leukemia_Cells.UConn_Graveley               0.089867   \n",
       "\n",
       "                                                    ENSG00000105063.14  \\\n",
       "Sample                                                                   \n",
       "ENCSR051GPK.Ganglion_Eminence_derived_primary_c...            3.135837   \n",
       "ENCSR906HEV.Fetal_Muscle_Trunk.UW_Glass                       3.293024   \n",
       "ENCSR762CJN.H1_BMP4_Derived_Trophoblast_Culture...            3.832852   \n",
       "ENCSR321ROU.Fetal_Kidney_Pelvis.UW_Glass                      3.613722   \n",
       "ENCSR109IQO.K562_Leukemia_Cells.UConn_Graveley                4.446532   \n",
       "\n",
       "                                                    ENSG00000123685.4  \\\n",
       "Sample                                                                  \n",
       "ENCSR051GPK.Ganglion_Eminence_derived_primary_c...           1.171673   \n",
       "ENCSR906HEV.Fetal_Muscle_Trunk.UW_Glass                      0.909186   \n",
       "ENCSR762CJN.H1_BMP4_Derived_Trophoblast_Culture...           0.175359   \n",
       "ENCSR321ROU.Fetal_Kidney_Pelvis.UW_Glass                     0.783756   \n",
       "ENCSR109IQO.K562_Leukemia_Cells.UConn_Graveley               1.255056   \n",
       "\n",
       "                                                    ENSG00000181518.2  \\\n",
       "Sample                                                                  \n",
       "ENCSR051GPK.Ganglion_Eminence_derived_primary_c...          -0.011186   \n",
       "ENCSR906HEV.Fetal_Muscle_Trunk.UW_Glass                      0.017020   \n",
       "ENCSR762CJN.H1_BMP4_Derived_Trophoblast_Culture...          -0.000313   \n",
       "ENCSR321ROU.Fetal_Kidney_Pelvis.UW_Glass                     0.003784   \n",
       "ENCSR109IQO.K562_Leukemia_Cells.UConn_Graveley               0.009028   \n",
       "\n",
       "                                                             System  \\\n",
       "Sample                                                                \n",
       "ENCSR051GPK.Ganglion_Eminence_derived_primary_c...          Nervous   \n",
       "ENCSR906HEV.Fetal_Muscle_Trunk.UW_Glass             Musculoskeletal   \n",
       "ENCSR762CJN.H1_BMP4_Derived_Trophoblast_Culture...        Embryonic   \n",
       "ENCSR321ROU.Fetal_Kidney_Pelvis.UW_Glass                    Urinary   \n",
       "ENCSR109IQO.K562_Leukemia_Cells.UConn_Graveley                Blood   \n",
       "\n",
       "                                                          Organ     CellType  \n",
       "Sample                                                                        \n",
       "ENCSR051GPK.Ganglion_Eminence_derived_primary_c...        Brain  Neurosphere  \n",
       "ENCSR906HEV.Fetal_Muscle_Trunk.UW_Glass                  Muscle       Muscle  \n",
       "ENCSR762CJN.H1_BMP4_Derived_Trophoblast_Culture...  Trophoblast   ES.derived  \n",
       "ENCSR321ROU.Fetal_Kidney_Pelvis.UW_Glass                 Kidney       Kidney  \n",
       "ENCSR109IQO.K562_Leukemia_Cells.UConn_Graveley            Blood     Leukemia  \n",
       "\n",
       "[5 rows x 55670 columns]"
      ]
     },
     "execution_count": 9,
     "metadata": {},
     "output_type": "execute_result"
    }
   ],
   "source": [
    "#merge the rnaseq_subset dataframe with the metadata frame so we can more easily sub-select the organ systems \n",
    "#of interst.\n",
    "\n",
    "merged_df=pd.merge(rnaseq_data_subset, metadata, left_index=True,right_index=True)\n",
    "merged_df.head()"
   ]
  },
  {
   "cell_type": "code",
   "execution_count": 10,
   "metadata": {},
   "outputs": [],
   "source": [
    "#Define the systems of interest\n",
    "systems_subset=[\"Blood\",\"Embryonic\",\"Immune\",\"Respiratory\"]"
   ]
  },
  {
   "cell_type": "code",
   "execution_count": 11,
   "metadata": {},
   "outputs": [
    {
     "data": {
      "text/plain": [
       "Sample\n",
       "ENCSR051GPK.Ganglion_Eminence_derived_primary_cultured_neurospheres.UCSF_Costello    False\n",
       "ENCSR906HEV.Fetal_Muscle_Trunk.UW_Glass                                              False\n",
       "ENCSR762CJN.H1_BMP4_Derived_Trophoblast_Cultured_Cells.UCSD_Thompson                  True\n",
       "ENCSR321ROU.Fetal_Kidney_Pelvis.UW_Glass                                             False\n",
       "ENCSR109IQO.K562_Leukemia_Cells.UConn_Graveley                                        True\n",
       "Name: System, dtype: bool"
      ]
     },
     "execution_count": 11,
     "metadata": {},
     "output_type": "execute_result"
    }
   ],
   "source": [
    "#Pick out the samples (rows) in the merged dataframe that contain the samples from the systems of interest \n",
    "samples_to_keep=merged_df['System'].isin(systems_subset)\n",
    "samples_to_keep.head()"
   ]
  },
  {
   "cell_type": "code",
   "execution_count": 12,
   "metadata": {},
   "outputs": [],
   "source": [
    "#Select the rows in the data matrix that contain the samples we wish to analyze (i.e. the samples\n",
    "#from blood, embryonic, immune, and)\n",
    "merged_df_subset=merged_df[samples_to_keep]"
   ]
  },
  {
   "cell_type": "code",
   "execution_count": 13,
   "metadata": {},
   "outputs": [
    {
     "data": {
      "text/html": [
       "<div>\n",
       "<style scoped>\n",
       "    .dataframe tbody tr th:only-of-type {\n",
       "        vertical-align: middle;\n",
       "    }\n",
       "\n",
       "    .dataframe tbody tr th {\n",
       "        vertical-align: top;\n",
       "    }\n",
       "\n",
       "    .dataframe thead th {\n",
       "        text-align: right;\n",
       "    }\n",
       "</style>\n",
       "<table border=\"1\" class=\"dataframe\">\n",
       "  <thead>\n",
       "    <tr style=\"text-align: right;\">\n",
       "      <th></th>\n",
       "      <th>ENSG00000242268.2</th>\n",
       "      <th>ENSG00000167578.12</th>\n",
       "      <th>ENSG00000270112.2</th>\n",
       "      <th>ENSG00000078237.4</th>\n",
       "      <th>ENSG00000263642.1</th>\n",
       "      <th>ENSG00000225275.4</th>\n",
       "      <th>ENSG00000269416.1</th>\n",
       "      <th>ENSG00000268332.1</th>\n",
       "      <th>ENSG00000060642.6</th>\n",
       "      <th>ENSG00000231981.3</th>\n",
       "      <th>...</th>\n",
       "      <th>ENSG00000148943.7</th>\n",
       "      <th>ENSG00000273233.1</th>\n",
       "      <th>ENSG00000265520.1</th>\n",
       "      <th>ENSG00000231119.2</th>\n",
       "      <th>ENSG00000105063.14</th>\n",
       "      <th>ENSG00000123685.4</th>\n",
       "      <th>ENSG00000181518.2</th>\n",
       "      <th>System</th>\n",
       "      <th>Organ</th>\n",
       "      <th>CellType</th>\n",
       "    </tr>\n",
       "    <tr>\n",
       "      <th>Sample</th>\n",
       "      <th></th>\n",
       "      <th></th>\n",
       "      <th></th>\n",
       "      <th></th>\n",
       "      <th></th>\n",
       "      <th></th>\n",
       "      <th></th>\n",
       "      <th></th>\n",
       "      <th></th>\n",
       "      <th></th>\n",
       "      <th></th>\n",
       "      <th></th>\n",
       "      <th></th>\n",
       "      <th></th>\n",
       "      <th></th>\n",
       "      <th></th>\n",
       "      <th></th>\n",
       "      <th></th>\n",
       "      <th></th>\n",
       "      <th></th>\n",
       "      <th></th>\n",
       "    </tr>\n",
       "  </thead>\n",
       "  <tbody>\n",
       "    <tr>\n",
       "      <th>ENCSR762CJN.H1_BMP4_Derived_Trophoblast_Cultured_Cells.UCSD_Thompson</th>\n",
       "      <td>0.187297</td>\n",
       "      <td>2.990098</td>\n",
       "      <td>0.068335</td>\n",
       "      <td>3.030287</td>\n",
       "      <td>0.002427</td>\n",
       "      <td>0.012498</td>\n",
       "      <td>1.072950</td>\n",
       "      <td>0.041683</td>\n",
       "      <td>1.904739</td>\n",
       "      <td>0.139392</td>\n",
       "      <td>...</td>\n",
       "      <td>3.166439</td>\n",
       "      <td>0.099807</td>\n",
       "      <td>0.040695</td>\n",
       "      <td>0.081328</td>\n",
       "      <td>3.832852</td>\n",
       "      <td>0.175359</td>\n",
       "      <td>-0.000313</td>\n",
       "      <td>Embryonic</td>\n",
       "      <td>Trophoblast</td>\n",
       "      <td>ES.derived</td>\n",
       "    </tr>\n",
       "    <tr>\n",
       "      <th>ENCSR109IQO.K562_Leukemia_Cells.UConn_Graveley</th>\n",
       "      <td>0.384825</td>\n",
       "      <td>3.392432</td>\n",
       "      <td>0.145993</td>\n",
       "      <td>2.051930</td>\n",
       "      <td>-0.000008</td>\n",
       "      <td>0.009046</td>\n",
       "      <td>0.286721</td>\n",
       "      <td>0.084697</td>\n",
       "      <td>2.446061</td>\n",
       "      <td>0.137258</td>\n",
       "      <td>...</td>\n",
       "      <td>2.837897</td>\n",
       "      <td>0.012638</td>\n",
       "      <td>0.069255</td>\n",
       "      <td>0.089867</td>\n",
       "      <td>4.446532</td>\n",
       "      <td>1.255056</td>\n",
       "      <td>0.009028</td>\n",
       "      <td>Blood</td>\n",
       "      <td>Blood</td>\n",
       "      <td>Leukemia</td>\n",
       "    </tr>\n",
       "    <tr>\n",
       "      <th>ENCSR000AEF.GM12878_Lymphoblastoid_Cells.UConn_Graveley</th>\n",
       "      <td>0.805894</td>\n",
       "      <td>2.345439</td>\n",
       "      <td>0.033347</td>\n",
       "      <td>2.783840</td>\n",
       "      <td>0.004928</td>\n",
       "      <td>0.014051</td>\n",
       "      <td>-0.213324</td>\n",
       "      <td>0.093003</td>\n",
       "      <td>2.479022</td>\n",
       "      <td>0.062528</td>\n",
       "      <td>...</td>\n",
       "      <td>1.990848</td>\n",
       "      <td>0.062083</td>\n",
       "      <td>0.084751</td>\n",
       "      <td>0.101481</td>\n",
       "      <td>3.415822</td>\n",
       "      <td>2.394278</td>\n",
       "      <td>0.008071</td>\n",
       "      <td>Blood</td>\n",
       "      <td>Blood</td>\n",
       "      <td>Lymphoblastoid</td>\n",
       "    </tr>\n",
       "    <tr>\n",
       "      <th>ENCSR000CUA.Primary_hematopoietic_stem_cells.CSHL_Gingeras</th>\n",
       "      <td>0.312230</td>\n",
       "      <td>3.183208</td>\n",
       "      <td>0.153861</td>\n",
       "      <td>2.028751</td>\n",
       "      <td>0.002950</td>\n",
       "      <td>0.002064</td>\n",
       "      <td>0.783033</td>\n",
       "      <td>0.066531</td>\n",
       "      <td>3.088628</td>\n",
       "      <td>-0.031498</td>\n",
       "      <td>...</td>\n",
       "      <td>1.629999</td>\n",
       "      <td>0.081016</td>\n",
       "      <td>0.085211</td>\n",
       "      <td>0.120326</td>\n",
       "      <td>5.430897</td>\n",
       "      <td>1.120048</td>\n",
       "      <td>0.001673</td>\n",
       "      <td>Blood</td>\n",
       "      <td>Blood</td>\n",
       "      <td>HSC</td>\n",
       "    </tr>\n",
       "    <tr>\n",
       "      <th>ENCSR000AAN.Pulmonary_Artery_Smooth_Muscle_Primary_Cells.CSHL_Gingeras</th>\n",
       "      <td>0.160138</td>\n",
       "      <td>2.133929</td>\n",
       "      <td>0.077260</td>\n",
       "      <td>2.683576</td>\n",
       "      <td>0.003354</td>\n",
       "      <td>0.005010</td>\n",
       "      <td>0.668882</td>\n",
       "      <td>0.073288</td>\n",
       "      <td>2.662957</td>\n",
       "      <td>-0.073561</td>\n",
       "      <td>...</td>\n",
       "      <td>2.899638</td>\n",
       "      <td>0.038162</td>\n",
       "      <td>0.069725</td>\n",
       "      <td>0.142189</td>\n",
       "      <td>3.799500</td>\n",
       "      <td>0.782373</td>\n",
       "      <td>-0.013330</td>\n",
       "      <td>Respiratory</td>\n",
       "      <td>Lung</td>\n",
       "      <td>Smooth</td>\n",
       "    </tr>\n",
       "  </tbody>\n",
       "</table>\n",
       "<p>5 rows × 55670 columns</p>\n",
       "</div>"
      ],
      "text/plain": [
       "                                                    ENSG00000242268.2  \\\n",
       "Sample                                                                  \n",
       "ENCSR762CJN.H1_BMP4_Derived_Trophoblast_Culture...           0.187297   \n",
       "ENCSR109IQO.K562_Leukemia_Cells.UConn_Graveley               0.384825   \n",
       "ENCSR000AEF.GM12878_Lymphoblastoid_Cells.UConn_...           0.805894   \n",
       "ENCSR000CUA.Primary_hematopoietic_stem_cells.CS...           0.312230   \n",
       "ENCSR000AAN.Pulmonary_Artery_Smooth_Muscle_Prim...           0.160138   \n",
       "\n",
       "                                                    ENSG00000167578.12  \\\n",
       "Sample                                                                   \n",
       "ENCSR762CJN.H1_BMP4_Derived_Trophoblast_Culture...            2.990098   \n",
       "ENCSR109IQO.K562_Leukemia_Cells.UConn_Graveley                3.392432   \n",
       "ENCSR000AEF.GM12878_Lymphoblastoid_Cells.UConn_...            2.345439   \n",
       "ENCSR000CUA.Primary_hematopoietic_stem_cells.CS...            3.183208   \n",
       "ENCSR000AAN.Pulmonary_Artery_Smooth_Muscle_Prim...            2.133929   \n",
       "\n",
       "                                                    ENSG00000270112.2  \\\n",
       "Sample                                                                  \n",
       "ENCSR762CJN.H1_BMP4_Derived_Trophoblast_Culture...           0.068335   \n",
       "ENCSR109IQO.K562_Leukemia_Cells.UConn_Graveley               0.145993   \n",
       "ENCSR000AEF.GM12878_Lymphoblastoid_Cells.UConn_...           0.033347   \n",
       "ENCSR000CUA.Primary_hematopoietic_stem_cells.CS...           0.153861   \n",
       "ENCSR000AAN.Pulmonary_Artery_Smooth_Muscle_Prim...           0.077260   \n",
       "\n",
       "                                                    ENSG00000078237.4  \\\n",
       "Sample                                                                  \n",
       "ENCSR762CJN.H1_BMP4_Derived_Trophoblast_Culture...           3.030287   \n",
       "ENCSR109IQO.K562_Leukemia_Cells.UConn_Graveley               2.051930   \n",
       "ENCSR000AEF.GM12878_Lymphoblastoid_Cells.UConn_...           2.783840   \n",
       "ENCSR000CUA.Primary_hematopoietic_stem_cells.CS...           2.028751   \n",
       "ENCSR000AAN.Pulmonary_Artery_Smooth_Muscle_Prim...           2.683576   \n",
       "\n",
       "                                                    ENSG00000263642.1  \\\n",
       "Sample                                                                  \n",
       "ENCSR762CJN.H1_BMP4_Derived_Trophoblast_Culture...           0.002427   \n",
       "ENCSR109IQO.K562_Leukemia_Cells.UConn_Graveley              -0.000008   \n",
       "ENCSR000AEF.GM12878_Lymphoblastoid_Cells.UConn_...           0.004928   \n",
       "ENCSR000CUA.Primary_hematopoietic_stem_cells.CS...           0.002950   \n",
       "ENCSR000AAN.Pulmonary_Artery_Smooth_Muscle_Prim...           0.003354   \n",
       "\n",
       "                                                    ENSG00000225275.4  \\\n",
       "Sample                                                                  \n",
       "ENCSR762CJN.H1_BMP4_Derived_Trophoblast_Culture...           0.012498   \n",
       "ENCSR109IQO.K562_Leukemia_Cells.UConn_Graveley               0.009046   \n",
       "ENCSR000AEF.GM12878_Lymphoblastoid_Cells.UConn_...           0.014051   \n",
       "ENCSR000CUA.Primary_hematopoietic_stem_cells.CS...           0.002064   \n",
       "ENCSR000AAN.Pulmonary_Artery_Smooth_Muscle_Prim...           0.005010   \n",
       "\n",
       "                                                    ENSG00000269416.1  \\\n",
       "Sample                                                                  \n",
       "ENCSR762CJN.H1_BMP4_Derived_Trophoblast_Culture...           1.072950   \n",
       "ENCSR109IQO.K562_Leukemia_Cells.UConn_Graveley               0.286721   \n",
       "ENCSR000AEF.GM12878_Lymphoblastoid_Cells.UConn_...          -0.213324   \n",
       "ENCSR000CUA.Primary_hematopoietic_stem_cells.CS...           0.783033   \n",
       "ENCSR000AAN.Pulmonary_Artery_Smooth_Muscle_Prim...           0.668882   \n",
       "\n",
       "                                                    ENSG00000268332.1  \\\n",
       "Sample                                                                  \n",
       "ENCSR762CJN.H1_BMP4_Derived_Trophoblast_Culture...           0.041683   \n",
       "ENCSR109IQO.K562_Leukemia_Cells.UConn_Graveley               0.084697   \n",
       "ENCSR000AEF.GM12878_Lymphoblastoid_Cells.UConn_...           0.093003   \n",
       "ENCSR000CUA.Primary_hematopoietic_stem_cells.CS...           0.066531   \n",
       "ENCSR000AAN.Pulmonary_Artery_Smooth_Muscle_Prim...           0.073288   \n",
       "\n",
       "                                                    ENSG00000060642.6  \\\n",
       "Sample                                                                  \n",
       "ENCSR762CJN.H1_BMP4_Derived_Trophoblast_Culture...           1.904739   \n",
       "ENCSR109IQO.K562_Leukemia_Cells.UConn_Graveley               2.446061   \n",
       "ENCSR000AEF.GM12878_Lymphoblastoid_Cells.UConn_...           2.479022   \n",
       "ENCSR000CUA.Primary_hematopoietic_stem_cells.CS...           3.088628   \n",
       "ENCSR000AAN.Pulmonary_Artery_Smooth_Muscle_Prim...           2.662957   \n",
       "\n",
       "                                                    ENSG00000231981.3  \\\n",
       "Sample                                                                  \n",
       "ENCSR762CJN.H1_BMP4_Derived_Trophoblast_Culture...           0.139392   \n",
       "ENCSR109IQO.K562_Leukemia_Cells.UConn_Graveley               0.137258   \n",
       "ENCSR000AEF.GM12878_Lymphoblastoid_Cells.UConn_...           0.062528   \n",
       "ENCSR000CUA.Primary_hematopoietic_stem_cells.CS...          -0.031498   \n",
       "ENCSR000AAN.Pulmonary_Artery_Smooth_Muscle_Prim...          -0.073561   \n",
       "\n",
       "                                                         ...        \\\n",
       "Sample                                                   ...         \n",
       "ENCSR762CJN.H1_BMP4_Derived_Trophoblast_Culture...       ...         \n",
       "ENCSR109IQO.K562_Leukemia_Cells.UConn_Graveley           ...         \n",
       "ENCSR000AEF.GM12878_Lymphoblastoid_Cells.UConn_...       ...         \n",
       "ENCSR000CUA.Primary_hematopoietic_stem_cells.CS...       ...         \n",
       "ENCSR000AAN.Pulmonary_Artery_Smooth_Muscle_Prim...       ...         \n",
       "\n",
       "                                                    ENSG00000148943.7  \\\n",
       "Sample                                                                  \n",
       "ENCSR762CJN.H1_BMP4_Derived_Trophoblast_Culture...           3.166439   \n",
       "ENCSR109IQO.K562_Leukemia_Cells.UConn_Graveley               2.837897   \n",
       "ENCSR000AEF.GM12878_Lymphoblastoid_Cells.UConn_...           1.990848   \n",
       "ENCSR000CUA.Primary_hematopoietic_stem_cells.CS...           1.629999   \n",
       "ENCSR000AAN.Pulmonary_Artery_Smooth_Muscle_Prim...           2.899638   \n",
       "\n",
       "                                                    ENSG00000273233.1  \\\n",
       "Sample                                                                  \n",
       "ENCSR762CJN.H1_BMP4_Derived_Trophoblast_Culture...           0.099807   \n",
       "ENCSR109IQO.K562_Leukemia_Cells.UConn_Graveley               0.012638   \n",
       "ENCSR000AEF.GM12878_Lymphoblastoid_Cells.UConn_...           0.062083   \n",
       "ENCSR000CUA.Primary_hematopoietic_stem_cells.CS...           0.081016   \n",
       "ENCSR000AAN.Pulmonary_Artery_Smooth_Muscle_Prim...           0.038162   \n",
       "\n",
       "                                                    ENSG00000265520.1  \\\n",
       "Sample                                                                  \n",
       "ENCSR762CJN.H1_BMP4_Derived_Trophoblast_Culture...           0.040695   \n",
       "ENCSR109IQO.K562_Leukemia_Cells.UConn_Graveley               0.069255   \n",
       "ENCSR000AEF.GM12878_Lymphoblastoid_Cells.UConn_...           0.084751   \n",
       "ENCSR000CUA.Primary_hematopoietic_stem_cells.CS...           0.085211   \n",
       "ENCSR000AAN.Pulmonary_Artery_Smooth_Muscle_Prim...           0.069725   \n",
       "\n",
       "                                                    ENSG00000231119.2  \\\n",
       "Sample                                                                  \n",
       "ENCSR762CJN.H1_BMP4_Derived_Trophoblast_Culture...           0.081328   \n",
       "ENCSR109IQO.K562_Leukemia_Cells.UConn_Graveley               0.089867   \n",
       "ENCSR000AEF.GM12878_Lymphoblastoid_Cells.UConn_...           0.101481   \n",
       "ENCSR000CUA.Primary_hematopoietic_stem_cells.CS...           0.120326   \n",
       "ENCSR000AAN.Pulmonary_Artery_Smooth_Muscle_Prim...           0.142189   \n",
       "\n",
       "                                                    ENSG00000105063.14  \\\n",
       "Sample                                                                   \n",
       "ENCSR762CJN.H1_BMP4_Derived_Trophoblast_Culture...            3.832852   \n",
       "ENCSR109IQO.K562_Leukemia_Cells.UConn_Graveley                4.446532   \n",
       "ENCSR000AEF.GM12878_Lymphoblastoid_Cells.UConn_...            3.415822   \n",
       "ENCSR000CUA.Primary_hematopoietic_stem_cells.CS...            5.430897   \n",
       "ENCSR000AAN.Pulmonary_Artery_Smooth_Muscle_Prim...            3.799500   \n",
       "\n",
       "                                                    ENSG00000123685.4  \\\n",
       "Sample                                                                  \n",
       "ENCSR762CJN.H1_BMP4_Derived_Trophoblast_Culture...           0.175359   \n",
       "ENCSR109IQO.K562_Leukemia_Cells.UConn_Graveley               1.255056   \n",
       "ENCSR000AEF.GM12878_Lymphoblastoid_Cells.UConn_...           2.394278   \n",
       "ENCSR000CUA.Primary_hematopoietic_stem_cells.CS...           1.120048   \n",
       "ENCSR000AAN.Pulmonary_Artery_Smooth_Muscle_Prim...           0.782373   \n",
       "\n",
       "                                                    ENSG00000181518.2  \\\n",
       "Sample                                                                  \n",
       "ENCSR762CJN.H1_BMP4_Derived_Trophoblast_Culture...          -0.000313   \n",
       "ENCSR109IQO.K562_Leukemia_Cells.UConn_Graveley               0.009028   \n",
       "ENCSR000AEF.GM12878_Lymphoblastoid_Cells.UConn_...           0.008071   \n",
       "ENCSR000CUA.Primary_hematopoietic_stem_cells.CS...           0.001673   \n",
       "ENCSR000AAN.Pulmonary_Artery_Smooth_Muscle_Prim...          -0.013330   \n",
       "\n",
       "                                                         System        Organ  \\\n",
       "Sample                                                                         \n",
       "ENCSR762CJN.H1_BMP4_Derived_Trophoblast_Culture...    Embryonic  Trophoblast   \n",
       "ENCSR109IQO.K562_Leukemia_Cells.UConn_Graveley            Blood        Blood   \n",
       "ENCSR000AEF.GM12878_Lymphoblastoid_Cells.UConn_...        Blood        Blood   \n",
       "ENCSR000CUA.Primary_hematopoietic_stem_cells.CS...        Blood        Blood   \n",
       "ENCSR000AAN.Pulmonary_Artery_Smooth_Muscle_Prim...  Respiratory         Lung   \n",
       "\n",
       "                                                          CellType  \n",
       "Sample                                                              \n",
       "ENCSR762CJN.H1_BMP4_Derived_Trophoblast_Culture...      ES.derived  \n",
       "ENCSR109IQO.K562_Leukemia_Cells.UConn_Graveley            Leukemia  \n",
       "ENCSR000AEF.GM12878_Lymphoblastoid_Cells.UConn_...  Lymphoblastoid  \n",
       "ENCSR000CUA.Primary_hematopoietic_stem_cells.CS...             HSC  \n",
       "ENCSR000AAN.Pulmonary_Artery_Smooth_Muscle_Prim...          Smooth  \n",
       "\n",
       "[5 rows x 55670 columns]"
      ]
     },
     "execution_count": 13,
     "metadata": {},
     "output_type": "execute_result"
    }
   ],
   "source": [
    "merged_df_subset.head()"
   ]
  },
  {
   "cell_type": "code",
   "execution_count": 14,
   "metadata": {
    "scrolled": false
   },
   "outputs": [
    {
     "name": "stdout",
     "output_type": "stream",
     "text": [
      "Number rows:116\n",
      "Number columns:55670\n"
     ]
    }
   ],
   "source": [
    "#Check row & column numbers in merged_df_subset \n",
    "print(\"Number rows:\"+str(merged_df_subset.shape[0]))#prints number of rows -- this is the sample axis\n",
    "print(\"Number columns:\"+str(merged_df_subset.shape[1]))# prints the number of columns -- this is the gene axis "
   ]
  },
  {
   "cell_type": "code",
   "execution_count": 15,
   "metadata": {},
   "outputs": [
    {
     "name": "stdout",
     "output_type": "stream",
     "text": [
      "ENSG00000242268.2     True\n",
      "ENSG00000167578.12    True\n",
      "ENSG00000270112.2     True\n",
      "ENSG00000078237.4     True\n",
      "ENSG00000263642.1     True\n",
      "ENSG00000225275.4     True\n",
      "ENSG00000269416.1     True\n",
      "ENSG00000268332.1     True\n",
      "ENSG00000060642.6     True\n",
      "ENSG00000231981.3     True\n",
      "ENSG00000019995.6     True\n",
      "ENSG00000167700.4     True\n",
      "ENSG00000172137.14    True\n",
      "ENSG00000240423.1     True\n",
      "ENSG00000271616.1     True\n",
      "ENSG00000234881.1     True\n",
      "ENSG00000236040.1     True\n",
      "ENSG00000231105.1     True\n",
      "ENSG00000182141.5     True\n",
      "ENSG00000136895.14    True\n",
      "ENSG00000270677.1     True\n",
      "ENSG00000264981.1     True\n",
      "ENSG00000197557.6     True\n",
      "ENSG00000233540.1     True\n",
      "ENSG00000252650.1     True\n",
      "ENSG00000102174.7     True\n",
      "ENSG00000271647.1     True\n",
      "ENSG00000232001.1     True\n",
      "ENSG00000166391.10    True\n",
      "ENSG00000270469.1     True\n",
      "                      ... \n",
      "ENSG00000233845.1     True\n",
      "ENSG00000264995.1     True\n",
      "ENSG00000264491.1     True\n",
      "ENSG00000146587.13    True\n",
      "ENSG00000173930.8     True\n",
      "ENSG00000135094.6     True\n",
      "ENSG00000273290.1     True\n",
      "ENSG00000199892.2     True\n",
      "ENSG00000221760.1     True\n",
      "ENSG00000107863.12    True\n",
      "ENSG00000253333.1     True\n",
      "ENSG00000212084.2     True\n",
      "ENSG00000213782.3     True\n",
      "ENSG00000146707.10    True\n",
      "ENSG00000255083.1     True\n",
      "ENSG00000223665.1     True\n",
      "ENSG00000109390.7     True\n",
      "ENSG00000203729.4     True\n",
      "ENSG00000272515.1     True\n",
      "ENSG00000232668.1     True\n",
      "ENSG00000089177.13    True\n",
      "ENSG00000124214.15    True\n",
      "ENSG00000267117.1     True\n",
      "ENSG00000148943.7     True\n",
      "ENSG00000273233.1     True\n",
      "ENSG00000265520.1     True\n",
      "ENSG00000231119.2     True\n",
      "ENSG00000105063.14    True\n",
      "ENSG00000123685.4     True\n",
      "ENSG00000181518.2     True\n",
      "Length: 55667, dtype: bool\n"
     ]
    }
   ],
   "source": [
    "nonzero_rows=rnaseq_data.sum(axis=1)>0\n",
    "print(nonzero_rows)"
   ]
  },
  {
   "cell_type": "markdown",
   "metadata": {},
   "source": [
    "Note that `rnaseq_data.sum(axis=1)>0` returns a value of \"True\" or \"False\" at each row in the`rnaseq_data` matrix. This is referred to as binary indexing. \n",
    "\n",
    "Next, we identify the rows with a value of \"True\", and select them from `rnaseq_data`. \n",
    "This can be done with the command: "
   ]
  },
  {
   "cell_type": "code",
   "execution_count": 16,
   "metadata": {},
   "outputs": [
    {
     "data": {
      "text/plain": [
       "(55667, 410)"
      ]
     },
     "execution_count": 16,
     "metadata": {},
     "output_type": "execute_result"
    }
   ],
   "source": [
    "rnaseq_data_subset=rnaseq_data[nonzero_rows]\n",
    "rnaseq_data_subset.shape"
   ]
  },
  {
   "cell_type": "markdown",
   "metadata": {},
   "source": [
    "We have extracted RNA-seq expression data for our four organ systems of interest. We have also removed all genes that are not expressed in any of the four organ systems."
   ]
  },
  {
   "cell_type": "markdown",
   "metadata": {},
   "source": [
    "## What is principal component analysis (PCA)? <a name='PCA1' />"
   ]
  },
  {
   "cell_type": "markdown",
   "metadata": {},
   "source": [
    "Principal component analysis (PCA) is a statistical method to understand and visualize variation in large datasets."
   ]
  },
  {
   "cell_type": "code",
   "execution_count": 17,
   "metadata": {},
   "outputs": [
    {
     "data": {
      "text/html": [
       "<iframe src=\"https://docs.google.com/presentation/d/e/2PACX-1vRcZ3RiXYbwH_xrE-261ccJT71HKZ5oPJqmIATdHa2SwvDekvAR5Lr7zDwnNPN88FAEM2XT-F6-DHiS/embed?start=false&loop=false&delayms=60000\" frameborder=\"0\" width=\"960\" height=\"749\" allowfullscreen=\"true\" mozallowfullscreen=\"true\" webkitallowfullscreen=\"true\"></iframe>"
      ],
      "text/plain": [
       "<IPython.core.display.HTML object>"
      ]
     },
     "execution_count": 17,
     "metadata": {},
     "output_type": "execute_result"
    }
   ],
   "source": [
    "from IPython.display import HTML\n",
    "HTML('<iframe src=\"https://docs.google.com/presentation/d/e/2PACX-1vRcZ3RiXYbwH_xrE-261ccJT71HKZ5oPJqmIATdHa2SwvDekvAR5Lr7zDwnNPN88FAEM2XT-F6-DHiS/embed?start=false&loop=false&delayms=60000\" frameborder=\"0\" width=\"960\" height=\"749\" allowfullscreen=\"true\" mozallowfullscreen=\"true\" webkitallowfullscreen=\"true\"></iframe>')"
   ]
  },
  {
   "cell_type": "markdown",
   "metadata": {},
   "source": [
    "We will use the [scikit learn](http://scikit-learn.org/stable/) python library to perform principal component analysis. We import scikit learn with the command \"import sklearn\". This library has a number of built-in tools for performing statistical analysis and machine learning. \n",
    "\n",
    "[This tutorial](http://scikit-learn.org/stable/modules/generated/sklearn.decomposition.PCA.html) provides a guide to performing PCA analysis with scikit learn."
   ]
  },
  {
   "cell_type": "code",
   "execution_count": 18,
   "metadata": {},
   "outputs": [],
   "source": [
    "# Perform principal component analysis on the data to check for clustering patterns\n",
    "from sklearn.decomposition import PCA as sklearnPCA\n",
    "\n",
    "#We decompose the data into 10 principal components \n",
    "sklearn_pca = sklearnPCA(n_components=10)\n",
    "#We want to exclude the metadata columns from the PCA transformation -- they have served their purpose in helping \n",
    "#us filter the dataset to the organ systems of interest, and now we remove them. \n",
    "metadata_subset=merged_df_subset[['System','Organ','CellType']]\n",
    "merged_df_subset = merged_df_subset.drop(['System', 'Organ','CellType'], axis=1)\n",
    "\n",
    "pca_results = sklearn_pca.fit_transform(merged_df_subset)\n"
   ]
  },
  {
   "cell_type": "code",
   "execution_count": 19,
   "metadata": {},
   "outputs": [
    {
     "name": "stdout",
     "output_type": "stream",
     "text": [
      "(116, 55667)\n",
      "(116, 3)\n"
     ]
    }
   ],
   "source": [
    "print(merged_df_subset.shape)\n",
    "print(metadata_subset.shape)"
   ]
  },
  {
   "cell_type": "markdown",
   "metadata": {},
   "source": [
    "We visualize the percent of variance explained by each principal component in a graph called a \"scree plot\""
   ]
  },
  {
   "cell_type": "code",
   "execution_count": 20,
   "metadata": {},
   "outputs": [],
   "source": [
    "#We use our plotly helper functions to generate a scree plot from the principal component analysis. \n",
    "#Import the plotting helper functions from the helpers directory\n",
    "from plotnine import * \n"
   ]
  },
  {
   "cell_type": "code",
   "execution_count": 21,
   "metadata": {},
   "outputs": [
    {
     "name": "stdout",
     "output_type": "stream",
     "text": [
      "[0.33194117 0.08875006 0.05108619 0.03660361 0.03005244 0.02490942\n",
      " 0.02247453 0.01959424 0.01736863 0.01457132]\n"
     ]
    }
   ],
   "source": [
    "print(sklearn_pca.explained_variance_ratio_)"
   ]
  },
  {
   "cell_type": "code",
   "execution_count": 22,
   "metadata": {},
   "outputs": [
    {
     "data": {
      "image/png": "[encoded data removed]",
      "text/plain": [
       "<Figure size 640x480 with 1 Axes>"
      ]
     },
     "metadata": {},
     "output_type": "display_data"
    },
    {
     "data": {
      "text/plain": [
       "<ggplot: (-9223363308687178801)>"
      ]
     },
     "execution_count": 22,
     "metadata": {},
     "output_type": "execute_result"
    }
   ],
   "source": [
    "#We use the plotnine plotting library to generate a scree plot of the variance explained by each component\n",
    "#Now, we create a barplot with just our 4 organ systems of interest \n",
    "y=sklearn_pca.explained_variance_ratio_\n",
    "x=range(1,len(y)+1)\n",
    "qplot(x=x,\n",
    "      y=y,\n",
    "      geom=\"bar\",\n",
    "      stat=\"identity\",\n",
    "      xlab=\"PC\",\n",
    "      ylab=\"Fraction of variance explained\")"
   ]
  },
  {
   "cell_type": "markdown",
   "metadata": {},
   "source": [
    "This indicates that the first principal component explain 82% of the variance in the data, while the second principal component explains 4% of the variance. "
   ]
  },
  {
   "cell_type": "code",
   "execution_count": 23,
   "metadata": {},
   "outputs": [
    {
     "data": {
      "text/plain": [
       "array([[ 76.89533803,  24.61036263,  10.39605457,  16.0457879 ,\n",
       "         91.67562673,   6.36099632, -24.5765966 ,   4.77899682,\n",
       "          9.9308807 ,  -7.8170212 ],\n",
       "       [-46.71717251,   7.70002739,  -6.72009764,   2.95298411,\n",
       "         -0.11813002,  -5.35019615,  -2.41013092,  -9.06401714,\n",
       "          6.96002814,   8.47842984],\n",
       "       [-76.87523754,   7.18111229,  -9.85900234, -22.30721206,\n",
       "          1.44715318,  34.34053974, -28.02566141,  -2.26248406,\n",
       "        -35.18938848,   1.32238626],\n",
       "       [ -0.63612033,  -3.76930585, -16.43216028,   0.85570725,\n",
       "          3.59253933, -22.12015538,   9.70440137,  -1.52879335,\n",
       "          2.68483279,  14.06666968],\n",
       "       [ 45.21986846, -45.5697893 ,  -7.15573549,  -4.74777029,\n",
       "         -5.81760732,   5.93846018, -11.96488273,  -1.53821409,\n",
       "         18.61520279,  11.00984154],\n",
       "       [-48.37758644,  12.10019941, -12.36118782,  -1.64095647,\n",
       "          4.10757452,   1.61999101,  -6.5999148 ,  -7.84838465,\n",
       "          6.04808072,  -0.95523671],\n",
       "       [ -5.30018739, -13.72138685,  43.91172056,  -4.6607724 ,\n",
       "        -10.30563183,  22.16190467,  24.95761487,  25.94010167,\n",
       "        -13.99451142,  28.95079738],\n",
       "       [-16.58558119, -29.49444095,  75.71736074,  -1.75279056,\n",
       "        -11.0638565 , -17.81844174, -18.23645832,   3.69018994,\n",
       "          2.76946345,  -3.95268664],\n",
       "       [ 37.83309574, -33.12261754, -18.40754667,  -2.30207188,\n",
       "         -3.09743072,  12.17710888,   2.25209857,  -9.22922146,\n",
       "        -14.19267143,  -3.35526034],\n",
       "       [ 62.67363276,  18.95424478,   2.09792526,  -0.43497211,\n",
       "          7.05641054,   5.95745674,   5.34763961,   2.77804652,\n",
       "          5.25159197,   4.98810755]])"
      ]
     },
     "execution_count": 23,
     "metadata": {},
     "output_type": "execute_result"
    }
   ],
   "source": [
    "pca_results[0:10]"
   ]
  },
  {
   "cell_type": "code",
   "execution_count": 24,
   "metadata": {},
   "outputs": [
    {
     "name": "stdout",
     "output_type": "stream",
     "text": [
      "(116, 10)\n"
     ]
    }
   ],
   "source": [
    "print(pca_results.shape)\n"
   ]
  },
  {
   "cell_type": "code",
   "execution_count": 25,
   "metadata": {},
   "outputs": [
    {
     "name": "stdout",
     "output_type": "stream",
     "text": [
      "<class 'numpy.ndarray'>\n"
     ]
    }
   ],
   "source": [
    "print (type(pca_results))"
   ]
  },
  {
   "cell_type": "markdown",
   "metadata": {},
   "source": [
    "## Make a scatter plot of the output from principal component analysis <a name='Scatter' />"
   ]
  },
  {
   "cell_type": "code",
   "execution_count": 26,
   "metadata": {},
   "outputs": [
    {
     "data": {
      "image/png": "[encoded data removed]",
      "text/plain": [
       "<Figure size 640x480 with 1 Axes>"
      ]
     },
     "metadata": {},
     "output_type": "display_data"
    },
    {
     "data": {
      "text/plain": [
       "<ggplot: (-9223363308687193358)>"
      ]
     },
     "execution_count": 26,
     "metadata": {},
     "output_type": "execute_result"
    }
   ],
   "source": [
    "#We make a scatterplot of PC1 vs PC2 \n",
    "x=pca_results[:,0]\n",
    "y=pca_results[:,1]\n",
    "qplot(x=x,\n",
    "      y=y,\n",
    "      geom=\"point\",\n",
    "      xlab=\"PC1\",\n",
    "      ylab=\"PC2\")"
   ]
  },
  {
   "cell_type": "markdown",
   "metadata": {},
   "source": [
    "To investigate whether there is any clustering of samples by organ system, we can color-code by the 'System' column from the metadata table."
   ]
  },
  {
   "cell_type": "code",
   "execution_count": 34,
   "metadata": {},
   "outputs": [
    {
     "data": {
      "image/png": "[encoded data removed]",
      "text/plain": [
       "<Figure size 640x480 with 1 Axes>"
      ]
     },
     "metadata": {},
     "output_type": "display_data"
    },
    {
     "data": {
      "text/plain": [
       "<ggplot: (8728167552576)>"
      ]
     },
     "execution_count": 34,
     "metadata": {},
     "output_type": "execute_result"
    }
   ],
   "source": [
    "qplot(x=x,\n",
    "      y=y,\n",
    "      geom=\"point\",\n",
    "      xlab=\"PC1\",\n",
    "      ylab=\"PC2\",\n",
    "      color=list(metadata_subset['System']))+scale_color_discrete(name=\"System\")"
   ]
  },
  {
   "cell_type": "code",
   "execution_count": null,
   "metadata": {},
   "outputs": [],
   "source": [
    "#Make a scatter plot of principle component 2 (PC2) vs principle component 3 (PC3)\n",
    "#Make sure to change your axes labels too!\n",
    "\n",
    "##ANSWER## "
   ]
  },
  {
   "cell_type": "code",
   "execution_count": null,
   "metadata": {},
   "outputs": [],
   "source": [
    "#Make a scatter plot of principle component 1 (PC1) vs principle component 3 (PC3)\n",
    "#Make sure to change your axes labeles too!\n",
    "\n",
    "##ANSWER## "
   ]
  }
 ],
 "metadata": {
  "anaconda-cloud": {},
  "kernelspec": {
   "display_name": "Python 3",
   "language": "python",
   "name": "python3"
  },
  "language_info": {
   "codemirror_mode": {
    "name": "ipython",
    "version": 3
   },
   "file_extension": ".py",
   "mimetype": "text/x-python",
   "name": "python",
   "nbconvert_exporter": "python",
   "pygments_lexer": "ipython3",
   "version": "3.5.6"
  }
 },
 "nbformat": 4,
 "nbformat_minor": 1
}
