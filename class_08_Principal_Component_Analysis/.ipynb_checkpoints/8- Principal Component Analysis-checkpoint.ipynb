{
 "cells": [
  {
   "cell_type": "markdown",
   "metadata": {},
   "source": [
    "# Big Data for Biologists: Decoding Genomic Function- Class 8\n",
    "\n",
    "## How do you visualize similarities and differences of gene expression profiles across cell types? Part II\n",
    "\n",
    "##  Learning Objectives\n",
    "***Students should be able to***\n",
    " <ol>\n",
    " <li> <a href=#MetaData>Prepare RNA-Seq samples and metadata for PCA analysis</a></li> \n",
    " <li> <a href=#PCA1>Describe what Principal Component analysis is and how it can be used to analyze and visualize variation in large datasets</a></li>\n",
    " <li> <a href=#PCA2>Perform prinicipal component analysis to identify clustering patterns in gene expression data </a></li>\n",
    " <li> <a href=#Scatter>Make a scatter plot of the output from principal component analysis</a></li> "
   ]
  },
  {
   "cell_type": "markdown",
   "metadata": {},
   "source": [
    "# Prepare RNA-Seq samples and metadata for PCA analysis (review)<a name='MetaData' />"
   ]
  },
  {
   "cell_type": "code",
   "execution_count": 1,
   "metadata": {},
   "outputs": [],
   "source": [
    "import warnings\n",
    "warnings.filterwarnings('ignore')\n",
    "\n",
    "# load the pandas package and define an abbreviation (or alias) \n",
    "import pandas as pd   "
   ]
  },
  {
   "cell_type": "markdown",
   "metadata": {},
   "source": [
    "We will focus our analysis on 4 of the anatomical structures and check for differential gene expression among them.  \n"
   ]
  },
  {
   "cell_type": "code",
   "execution_count": 2,
   "metadata": {},
   "outputs": [],
   "source": [
    "metadata_filename='/data/datasets/RNAseq/rnaseq_metadata.txt'\n",
    "rnaseq_filename='/data/datasets/RNAseq/rnaseq_normalized.tsv'\n",
    "\n",
    "## BEGIN SOLUTION ## \n",
    "#Read in the metadata table. \n",
    "metadata = pd.read_table(filepath_or_buffer=metadata_filename, \n",
    "     header=0,\n",
    "    index_col=0)\n",
    "# Read in the RNA-seq data matrix. \n",
    "rnaseq_data= pd.read_table(filepath_or_buffer=rnaseq_filename, \n",
    "     header=0,\n",
    "     index_col=0)\n",
    "## END SOLUTION ##"
   ]
  },
  {
   "cell_type": "code",
   "execution_count": 3,
   "metadata": {},
   "outputs": [
    {
     "name": "stdout",
     "output_type": "stream",
     "text": [
      "Number rows: 55667\n",
      "Number columns: 410\n"
     ]
    }
   ],
   "source": [
    "#Get the number of rows and columns in the rnaseq_data table \n",
    "## BEGIN SOLUTION ## \n",
    "num_rows=rnaseq_data.shape[0]\n",
    "num_cols=rnaseq_data.shape[1]\n",
    "## END SOLUTION ## \n",
    "print(\"Number rows: \"+str(num_rows))#prints number of rows -- this is the sample\n",
    "print(\"Number columns: \"+str(num_cols))#prints number of columns -- this is the gene axis"
   ]
  },
  {
   "cell_type": "code",
   "execution_count": 4,
   "metadata": {},
   "outputs": [
    {
     "name": "stdout",
     "output_type": "stream",
     "text": [
      "Number rows: 410\n",
      "Number columns: 55667\n"
     ]
    }
   ],
   "source": [
    "#Transpose the data frame \n",
    "#Now, our features (genes) are along the column axis, and sample names are along the row axis. This will make for easier\n",
    "#downstream analysis. \n",
    "\n",
    "## BEGIN SOLUTION##\n",
    "rnaseq_data_subset_transposed=rnaseq_data.transpose()\n",
    "## END SOLUTION ## \n",
    "print(\"Number rows: \"+str(rnaseq_data_subset_transposed.shape[0]))#prints number of rows -- this is the gene axis \n",
    "print(\"Number columns: \"+str(rnaseq_data_subset_transposed.shape[1]))#prints number of columns"
   ]
  },
  {
   "cell_type": "code",
   "execution_count": 5,
   "metadata": {},
   "outputs": [
    {
     "data": {
      "text/html": [
       "<div>\n",
       "<style scoped>\n",
       "    .dataframe tbody tr th:only-of-type {\n",
       "        vertical-align: middle;\n",
       "    }\n",
       "\n",
       "    .dataframe tbody tr th {\n",
       "        vertical-align: top;\n",
       "    }\n",
       "\n",
       "    .dataframe thead th {\n",
       "        text-align: right;\n",
       "    }\n",
       "</style>\n",
       "<table border=\"1\" class=\"dataframe\">\n",
       "  <thead>\n",
       "    <tr style=\"text-align: right;\">\n",
       "      <th></th>\n",
       "      <th>ENSG00000242268.2</th>\n",
       "      <th>ENSG00000167578.12</th>\n",
       "      <th>ENSG00000270112.2</th>\n",
       "      <th>ENSG00000078237.4</th>\n",
       "      <th>ENSG00000263642.1</th>\n",
       "      <th>ENSG00000225275.4</th>\n",
       "      <th>ENSG00000269416.1</th>\n",
       "      <th>ENSG00000268332.1</th>\n",
       "      <th>ENSG00000060642.6</th>\n",
       "      <th>ENSG00000231981.3</th>\n",
       "      <th>...</th>\n",
       "      <th>ENSG00000148943.7</th>\n",
       "      <th>ENSG00000273233.1</th>\n",
       "      <th>ENSG00000265520.1</th>\n",
       "      <th>ENSG00000231119.2</th>\n",
       "      <th>ENSG00000105063.14</th>\n",
       "      <th>ENSG00000123685.4</th>\n",
       "      <th>ENSG00000181518.2</th>\n",
       "      <th>System</th>\n",
       "      <th>Organ</th>\n",
       "      <th>CellType</th>\n",
       "    </tr>\n",
       "  </thead>\n",
       "  <tbody>\n",
       "    <tr>\n",
       "      <th>ENCSR051GPK.Ganglion_Eminence_derived_primary_cultured_neurospheres.UCSF_Costello</th>\n",
       "      <td>0.675065</td>\n",
       "      <td>3.176028</td>\n",
       "      <td>-0.100813</td>\n",
       "      <td>3.750078</td>\n",
       "      <td>-0.005248</td>\n",
       "      <td>-0.008347</td>\n",
       "      <td>1.895792</td>\n",
       "      <td>0.071096</td>\n",
       "      <td>1.717195</td>\n",
       "      <td>0.086997</td>\n",
       "      <td>...</td>\n",
       "      <td>3.007283</td>\n",
       "      <td>0.106460</td>\n",
       "      <td>0.143332</td>\n",
       "      <td>0.102862</td>\n",
       "      <td>3.135837</td>\n",
       "      <td>1.171673</td>\n",
       "      <td>-0.011186</td>\n",
       "      <td>Nervous</td>\n",
       "      <td>Brain</td>\n",
       "      <td>Neurosphere</td>\n",
       "    </tr>\n",
       "    <tr>\n",
       "      <th>ENCSR906HEV.Fetal_Muscle_Trunk.UW_Glass</th>\n",
       "      <td>0.277090</td>\n",
       "      <td>2.113871</td>\n",
       "      <td>0.325754</td>\n",
       "      <td>1.852882</td>\n",
       "      <td>0.007042</td>\n",
       "      <td>0.022288</td>\n",
       "      <td>0.654517</td>\n",
       "      <td>0.013041</td>\n",
       "      <td>1.777113</td>\n",
       "      <td>0.168219</td>\n",
       "      <td>...</td>\n",
       "      <td>2.534540</td>\n",
       "      <td>0.102920</td>\n",
       "      <td>0.029297</td>\n",
       "      <td>0.089795</td>\n",
       "      <td>3.293024</td>\n",
       "      <td>0.909186</td>\n",
       "      <td>0.017020</td>\n",
       "      <td>Musculoskeletal</td>\n",
       "      <td>Muscle</td>\n",
       "      <td>Muscle</td>\n",
       "    </tr>\n",
       "    <tr>\n",
       "      <th>ENCSR762CJN.H1_BMP4_Derived_Trophoblast_Cultured_Cells.UCSD_Thompson</th>\n",
       "      <td>0.187297</td>\n",
       "      <td>2.990098</td>\n",
       "      <td>0.068335</td>\n",
       "      <td>3.030287</td>\n",
       "      <td>0.002427</td>\n",
       "      <td>0.012498</td>\n",
       "      <td>1.072950</td>\n",
       "      <td>0.041683</td>\n",
       "      <td>1.904739</td>\n",
       "      <td>0.139392</td>\n",
       "      <td>...</td>\n",
       "      <td>3.166439</td>\n",
       "      <td>0.099807</td>\n",
       "      <td>0.040695</td>\n",
       "      <td>0.081328</td>\n",
       "      <td>3.832852</td>\n",
       "      <td>0.175359</td>\n",
       "      <td>-0.000313</td>\n",
       "      <td>Embryonic</td>\n",
       "      <td>Trophoblast</td>\n",
       "      <td>ES.derived</td>\n",
       "    </tr>\n",
       "    <tr>\n",
       "      <th>ENCSR321ROU.Fetal_Kidney_Pelvis.UW_Glass</th>\n",
       "      <td>-0.104115</td>\n",
       "      <td>2.860598</td>\n",
       "      <td>-0.067226</td>\n",
       "      <td>2.432092</td>\n",
       "      <td>-0.028182</td>\n",
       "      <td>0.015227</td>\n",
       "      <td>0.631293</td>\n",
       "      <td>-0.242030</td>\n",
       "      <td>2.311262</td>\n",
       "      <td>0.133319</td>\n",
       "      <td>...</td>\n",
       "      <td>2.714726</td>\n",
       "      <td>0.046975</td>\n",
       "      <td>-0.183519</td>\n",
       "      <td>0.162563</td>\n",
       "      <td>3.613722</td>\n",
       "      <td>0.783756</td>\n",
       "      <td>0.003784</td>\n",
       "      <td>Urinary</td>\n",
       "      <td>Kidney</td>\n",
       "      <td>Kidney</td>\n",
       "    </tr>\n",
       "    <tr>\n",
       "      <th>ENCSR109IQO.K562_Leukemia_Cells.UConn_Graveley</th>\n",
       "      <td>0.384825</td>\n",
       "      <td>3.392432</td>\n",
       "      <td>0.145993</td>\n",
       "      <td>2.051930</td>\n",
       "      <td>-0.000008</td>\n",
       "      <td>0.009046</td>\n",
       "      <td>0.286721</td>\n",
       "      <td>0.084697</td>\n",
       "      <td>2.446061</td>\n",
       "      <td>0.137258</td>\n",
       "      <td>...</td>\n",
       "      <td>2.837897</td>\n",
       "      <td>0.012638</td>\n",
       "      <td>0.069255</td>\n",
       "      <td>0.089867</td>\n",
       "      <td>4.446532</td>\n",
       "      <td>1.255056</td>\n",
       "      <td>0.009028</td>\n",
       "      <td>Blood</td>\n",
       "      <td>Blood</td>\n",
       "      <td>Leukemia</td>\n",
       "    </tr>\n",
       "  </tbody>\n",
       "</table>\n",
       "<p>5 rows × 55670 columns</p>\n",
       "</div>"
      ],
      "text/plain": [
       "                                                    ENSG00000242268.2  \\\n",
       "ENCSR051GPK.Ganglion_Eminence_derived_primary_c...           0.675065   \n",
       "ENCSR906HEV.Fetal_Muscle_Trunk.UW_Glass                      0.277090   \n",
       "ENCSR762CJN.H1_BMP4_Derived_Trophoblast_Culture...           0.187297   \n",
       "ENCSR321ROU.Fetal_Kidney_Pelvis.UW_Glass                    -0.104115   \n",
       "ENCSR109IQO.K562_Leukemia_Cells.UConn_Graveley               0.384825   \n",
       "\n",
       "                                                    ENSG00000167578.12  \\\n",
       "ENCSR051GPK.Ganglion_Eminence_derived_primary_c...            3.176028   \n",
       "ENCSR906HEV.Fetal_Muscle_Trunk.UW_Glass                       2.113871   \n",
       "ENCSR762CJN.H1_BMP4_Derived_Trophoblast_Culture...            2.990098   \n",
       "ENCSR321ROU.Fetal_Kidney_Pelvis.UW_Glass                      2.860598   \n",
       "ENCSR109IQO.K562_Leukemia_Cells.UConn_Graveley                3.392432   \n",
       "\n",
       "                                                    ENSG00000270112.2  \\\n",
       "ENCSR051GPK.Ganglion_Eminence_derived_primary_c...          -0.100813   \n",
       "ENCSR906HEV.Fetal_Muscle_Trunk.UW_Glass                      0.325754   \n",
       "ENCSR762CJN.H1_BMP4_Derived_Trophoblast_Culture...           0.068335   \n",
       "ENCSR321ROU.Fetal_Kidney_Pelvis.UW_Glass                    -0.067226   \n",
       "ENCSR109IQO.K562_Leukemia_Cells.UConn_Graveley               0.145993   \n",
       "\n",
       "                                                    ENSG00000078237.4  \\\n",
       "ENCSR051GPK.Ganglion_Eminence_derived_primary_c...           3.750078   \n",
       "ENCSR906HEV.Fetal_Muscle_Trunk.UW_Glass                      1.852882   \n",
       "ENCSR762CJN.H1_BMP4_Derived_Trophoblast_Culture...           3.030287   \n",
       "ENCSR321ROU.Fetal_Kidney_Pelvis.UW_Glass                     2.432092   \n",
       "ENCSR109IQO.K562_Leukemia_Cells.UConn_Graveley               2.051930   \n",
       "\n",
       "                                                    ENSG00000263642.1  \\\n",
       "ENCSR051GPK.Ganglion_Eminence_derived_primary_c...          -0.005248   \n",
       "ENCSR906HEV.Fetal_Muscle_Trunk.UW_Glass                      0.007042   \n",
       "ENCSR762CJN.H1_BMP4_Derived_Trophoblast_Culture...           0.002427   \n",
       "ENCSR321ROU.Fetal_Kidney_Pelvis.UW_Glass                    -0.028182   \n",
       "ENCSR109IQO.K562_Leukemia_Cells.UConn_Graveley              -0.000008   \n",
       "\n",
       "                                                    ENSG00000225275.4  \\\n",
       "ENCSR051GPK.Ganglion_Eminence_derived_primary_c...          -0.008347   \n",
       "ENCSR906HEV.Fetal_Muscle_Trunk.UW_Glass                      0.022288   \n",
       "ENCSR762CJN.H1_BMP4_Derived_Trophoblast_Culture...           0.012498   \n",
       "ENCSR321ROU.Fetal_Kidney_Pelvis.UW_Glass                     0.015227   \n",
       "ENCSR109IQO.K562_Leukemia_Cells.UConn_Graveley               0.009046   \n",
       "\n",
       "                                                    ENSG00000269416.1  \\\n",
       "ENCSR051GPK.Ganglion_Eminence_derived_primary_c...           1.895792   \n",
       "ENCSR906HEV.Fetal_Muscle_Trunk.UW_Glass                      0.654517   \n",
       "ENCSR762CJN.H1_BMP4_Derived_Trophoblast_Culture...           1.072950   \n",
       "ENCSR321ROU.Fetal_Kidney_Pelvis.UW_Glass                     0.631293   \n",
       "ENCSR109IQO.K562_Leukemia_Cells.UConn_Graveley               0.286721   \n",
       "\n",
       "                                                    ENSG00000268332.1  \\\n",
       "ENCSR051GPK.Ganglion_Eminence_derived_primary_c...           0.071096   \n",
       "ENCSR906HEV.Fetal_Muscle_Trunk.UW_Glass                      0.013041   \n",
       "ENCSR762CJN.H1_BMP4_Derived_Trophoblast_Culture...           0.041683   \n",
       "ENCSR321ROU.Fetal_Kidney_Pelvis.UW_Glass                    -0.242030   \n",
       "ENCSR109IQO.K562_Leukemia_Cells.UConn_Graveley               0.084697   \n",
       "\n",
       "                                                    ENSG00000060642.6  \\\n",
       "ENCSR051GPK.Ganglion_Eminence_derived_primary_c...           1.717195   \n",
       "ENCSR906HEV.Fetal_Muscle_Trunk.UW_Glass                      1.777113   \n",
       "ENCSR762CJN.H1_BMP4_Derived_Trophoblast_Culture...           1.904739   \n",
       "ENCSR321ROU.Fetal_Kidney_Pelvis.UW_Glass                     2.311262   \n",
       "ENCSR109IQO.K562_Leukemia_Cells.UConn_Graveley               2.446061   \n",
       "\n",
       "                                                    ENSG00000231981.3  ...  \\\n",
       "ENCSR051GPK.Ganglion_Eminence_derived_primary_c...           0.086997  ...   \n",
       "ENCSR906HEV.Fetal_Muscle_Trunk.UW_Glass                      0.168219  ...   \n",
       "ENCSR762CJN.H1_BMP4_Derived_Trophoblast_Culture...           0.139392  ...   \n",
       "ENCSR321ROU.Fetal_Kidney_Pelvis.UW_Glass                     0.133319  ...   \n",
       "ENCSR109IQO.K562_Leukemia_Cells.UConn_Graveley               0.137258  ...   \n",
       "\n",
       "                                                    ENSG00000148943.7  \\\n",
       "ENCSR051GPK.Ganglion_Eminence_derived_primary_c...           3.007283   \n",
       "ENCSR906HEV.Fetal_Muscle_Trunk.UW_Glass                      2.534540   \n",
       "ENCSR762CJN.H1_BMP4_Derived_Trophoblast_Culture...           3.166439   \n",
       "ENCSR321ROU.Fetal_Kidney_Pelvis.UW_Glass                     2.714726   \n",
       "ENCSR109IQO.K562_Leukemia_Cells.UConn_Graveley               2.837897   \n",
       "\n",
       "                                                    ENSG00000273233.1  \\\n",
       "ENCSR051GPK.Ganglion_Eminence_derived_primary_c...           0.106460   \n",
       "ENCSR906HEV.Fetal_Muscle_Trunk.UW_Glass                      0.102920   \n",
       "ENCSR762CJN.H1_BMP4_Derived_Trophoblast_Culture...           0.099807   \n",
       "ENCSR321ROU.Fetal_Kidney_Pelvis.UW_Glass                     0.046975   \n",
       "ENCSR109IQO.K562_Leukemia_Cells.UConn_Graveley               0.012638   \n",
       "\n",
       "                                                    ENSG00000265520.1  \\\n",
       "ENCSR051GPK.Ganglion_Eminence_derived_primary_c...           0.143332   \n",
       "ENCSR906HEV.Fetal_Muscle_Trunk.UW_Glass                      0.029297   \n",
       "ENCSR762CJN.H1_BMP4_Derived_Trophoblast_Culture...           0.040695   \n",
       "ENCSR321ROU.Fetal_Kidney_Pelvis.UW_Glass                    -0.183519   \n",
       "ENCSR109IQO.K562_Leukemia_Cells.UConn_Graveley               0.069255   \n",
       "\n",
       "                                                    ENSG00000231119.2  \\\n",
       "ENCSR051GPK.Ganglion_Eminence_derived_primary_c...           0.102862   \n",
       "ENCSR906HEV.Fetal_Muscle_Trunk.UW_Glass                      0.089795   \n",
       "ENCSR762CJN.H1_BMP4_Derived_Trophoblast_Culture...           0.081328   \n",
       "ENCSR321ROU.Fetal_Kidney_Pelvis.UW_Glass                     0.162563   \n",
       "ENCSR109IQO.K562_Leukemia_Cells.UConn_Graveley               0.089867   \n",
       "\n",
       "                                                    ENSG00000105063.14  \\\n",
       "ENCSR051GPK.Ganglion_Eminence_derived_primary_c...            3.135837   \n",
       "ENCSR906HEV.Fetal_Muscle_Trunk.UW_Glass                       3.293024   \n",
       "ENCSR762CJN.H1_BMP4_Derived_Trophoblast_Culture...            3.832852   \n",
       "ENCSR321ROU.Fetal_Kidney_Pelvis.UW_Glass                      3.613722   \n",
       "ENCSR109IQO.K562_Leukemia_Cells.UConn_Graveley                4.446532   \n",
       "\n",
       "                                                    ENSG00000123685.4  \\\n",
       "ENCSR051GPK.Ganglion_Eminence_derived_primary_c...           1.171673   \n",
       "ENCSR906HEV.Fetal_Muscle_Trunk.UW_Glass                      0.909186   \n",
       "ENCSR762CJN.H1_BMP4_Derived_Trophoblast_Culture...           0.175359   \n",
       "ENCSR321ROU.Fetal_Kidney_Pelvis.UW_Glass                     0.783756   \n",
       "ENCSR109IQO.K562_Leukemia_Cells.UConn_Graveley               1.255056   \n",
       "\n",
       "                                                    ENSG00000181518.2  \\\n",
       "ENCSR051GPK.Ganglion_Eminence_derived_primary_c...          -0.011186   \n",
       "ENCSR906HEV.Fetal_Muscle_Trunk.UW_Glass                      0.017020   \n",
       "ENCSR762CJN.H1_BMP4_Derived_Trophoblast_Culture...          -0.000313   \n",
       "ENCSR321ROU.Fetal_Kidney_Pelvis.UW_Glass                     0.003784   \n",
       "ENCSR109IQO.K562_Leukemia_Cells.UConn_Graveley               0.009028   \n",
       "\n",
       "                                                             System  \\\n",
       "ENCSR051GPK.Ganglion_Eminence_derived_primary_c...          Nervous   \n",
       "ENCSR906HEV.Fetal_Muscle_Trunk.UW_Glass             Musculoskeletal   \n",
       "ENCSR762CJN.H1_BMP4_Derived_Trophoblast_Culture...        Embryonic   \n",
       "ENCSR321ROU.Fetal_Kidney_Pelvis.UW_Glass                    Urinary   \n",
       "ENCSR109IQO.K562_Leukemia_Cells.UConn_Graveley                Blood   \n",
       "\n",
       "                                                          Organ     CellType  \n",
       "ENCSR051GPK.Ganglion_Eminence_derived_primary_c...        Brain  Neurosphere  \n",
       "ENCSR906HEV.Fetal_Muscle_Trunk.UW_Glass                  Muscle       Muscle  \n",
       "ENCSR762CJN.H1_BMP4_Derived_Trophoblast_Culture...  Trophoblast   ES.derived  \n",
       "ENCSR321ROU.Fetal_Kidney_Pelvis.UW_Glass                 Kidney       Kidney  \n",
       "ENCSR109IQO.K562_Leukemia_Cells.UConn_Graveley            Blood     Leukemia  \n",
       "\n",
       "[5 rows x 55670 columns]"
      ]
     },
     "metadata": {},
     "output_type": "display_data"
    },
    {
     "data": {
      "text/plain": [
       "(410, 55670)"
      ]
     },
     "metadata": {},
     "output_type": "display_data"
    }
   ],
   "source": [
    "#merge the rnaseq_subset dataframe with the metadata frame so we can more easily sub-select the organ systems \n",
    "#of interst.\n",
    "\n",
    "## BEGIN SOLUTION \n",
    "## Hint: Use the \"merge\" function from pandas \n",
    "merged_df=pd.merge(rnaseq_data_subset_transposed, metadata, left_index=True, right_index=True)\n",
    "## END SOLUTION \n",
    "display(merged_df.head())\n",
    "display(merged_df.shape)"
   ]
  },
  {
   "cell_type": "code",
   "execution_count": 6,
   "metadata": {},
   "outputs": [],
   "source": [
    "#Define the systems of interest\n",
    "systems_subset=[\"Blood\",\"Embryonic\",\"Immune\",\"Respiratory\"]"
   ]
  },
  {
   "cell_type": "code",
   "execution_count": 7,
   "metadata": {},
   "outputs": [
    {
     "data": {
      "text/plain": [
       "ENCSR051GPK.Ganglion_Eminence_derived_primary_cultured_neurospheres.UCSF_Costello    False\n",
       "ENCSR906HEV.Fetal_Muscle_Trunk.UW_Glass                                              False\n",
       "ENCSR762CJN.H1_BMP4_Derived_Trophoblast_Cultured_Cells.UCSD_Thompson                  True\n",
       "ENCSR321ROU.Fetal_Kidney_Pelvis.UW_Glass                                             False\n",
       "ENCSR109IQO.K562_Leukemia_Cells.UConn_Graveley                                        True\n",
       "Name: System, dtype: bool"
      ]
     },
     "execution_count": 7,
     "metadata": {},
     "output_type": "execute_result"
    }
   ],
   "source": [
    "#Pick out the samples (rows) in the merged dataframe that contain the samples from the systems of interest \n",
    "##BEGIN SOLUTION \n",
    "samples_to_keep=merged_df['System'].isin(systems_subset)\n",
    "samples_to_keep.head()\n",
    "## END SOLUTION "
   ]
  },
  {
   "cell_type": "code",
   "execution_count": 8,
   "metadata": {},
   "outputs": [],
   "source": [
    "#Select the rows in the data matrix that contain the samples we wish to analyze (i.e. the samples\n",
    "#from blood, embryonic, immune, and)\n",
    "\n",
    "## BEGIN SOLUTION \n",
    "merged_df_subset=merged_df[samples_to_keep]\n",
    "## END SOLUTION "
   ]
  },
  {
   "cell_type": "code",
   "execution_count": 9,
   "metadata": {},
   "outputs": [
    {
     "data": {
      "text/html": [
       "<div>\n",
       "<style scoped>\n",
       "    .dataframe tbody tr th:only-of-type {\n",
       "        vertical-align: middle;\n",
       "    }\n",
       "\n",
       "    .dataframe tbody tr th {\n",
       "        vertical-align: top;\n",
       "    }\n",
       "\n",
       "    .dataframe thead th {\n",
       "        text-align: right;\n",
       "    }\n",
       "</style>\n",
       "<table border=\"1\" class=\"dataframe\">\n",
       "  <thead>\n",
       "    <tr style=\"text-align: right;\">\n",
       "      <th></th>\n",
       "      <th>ENSG00000242268.2</th>\n",
       "      <th>ENSG00000167578.12</th>\n",
       "      <th>ENSG00000270112.2</th>\n",
       "      <th>ENSG00000078237.4</th>\n",
       "      <th>ENSG00000263642.1</th>\n",
       "      <th>ENSG00000225275.4</th>\n",
       "      <th>ENSG00000269416.1</th>\n",
       "      <th>ENSG00000268332.1</th>\n",
       "      <th>ENSG00000060642.6</th>\n",
       "      <th>ENSG00000231981.3</th>\n",
       "      <th>...</th>\n",
       "      <th>ENSG00000148943.7</th>\n",
       "      <th>ENSG00000273233.1</th>\n",
       "      <th>ENSG00000265520.1</th>\n",
       "      <th>ENSG00000231119.2</th>\n",
       "      <th>ENSG00000105063.14</th>\n",
       "      <th>ENSG00000123685.4</th>\n",
       "      <th>ENSG00000181518.2</th>\n",
       "      <th>System</th>\n",
       "      <th>Organ</th>\n",
       "      <th>CellType</th>\n",
       "    </tr>\n",
       "  </thead>\n",
       "  <tbody>\n",
       "    <tr>\n",
       "      <th>ENCSR762CJN.H1_BMP4_Derived_Trophoblast_Cultured_Cells.UCSD_Thompson</th>\n",
       "      <td>0.187297</td>\n",
       "      <td>2.990098</td>\n",
       "      <td>0.068335</td>\n",
       "      <td>3.030287</td>\n",
       "      <td>0.002427</td>\n",
       "      <td>0.012498</td>\n",
       "      <td>1.072950</td>\n",
       "      <td>0.041683</td>\n",
       "      <td>1.904739</td>\n",
       "      <td>0.139392</td>\n",
       "      <td>...</td>\n",
       "      <td>3.166439</td>\n",
       "      <td>0.099807</td>\n",
       "      <td>0.040695</td>\n",
       "      <td>0.081328</td>\n",
       "      <td>3.832852</td>\n",
       "      <td>0.175359</td>\n",
       "      <td>-0.000313</td>\n",
       "      <td>Embryonic</td>\n",
       "      <td>Trophoblast</td>\n",
       "      <td>ES.derived</td>\n",
       "    </tr>\n",
       "    <tr>\n",
       "      <th>ENCSR109IQO.K562_Leukemia_Cells.UConn_Graveley</th>\n",
       "      <td>0.384825</td>\n",
       "      <td>3.392432</td>\n",
       "      <td>0.145993</td>\n",
       "      <td>2.051930</td>\n",
       "      <td>-0.000008</td>\n",
       "      <td>0.009046</td>\n",
       "      <td>0.286721</td>\n",
       "      <td>0.084697</td>\n",
       "      <td>2.446061</td>\n",
       "      <td>0.137258</td>\n",
       "      <td>...</td>\n",
       "      <td>2.837897</td>\n",
       "      <td>0.012638</td>\n",
       "      <td>0.069255</td>\n",
       "      <td>0.089867</td>\n",
       "      <td>4.446532</td>\n",
       "      <td>1.255056</td>\n",
       "      <td>0.009028</td>\n",
       "      <td>Blood</td>\n",
       "      <td>Blood</td>\n",
       "      <td>Leukemia</td>\n",
       "    </tr>\n",
       "    <tr>\n",
       "      <th>ENCSR000AEF.GM12878_Lymphoblastoid_Cells.UConn_Graveley</th>\n",
       "      <td>0.805894</td>\n",
       "      <td>2.345439</td>\n",
       "      <td>0.033347</td>\n",
       "      <td>2.783840</td>\n",
       "      <td>0.004928</td>\n",
       "      <td>0.014051</td>\n",
       "      <td>-0.213324</td>\n",
       "      <td>0.093003</td>\n",
       "      <td>2.479022</td>\n",
       "      <td>0.062528</td>\n",
       "      <td>...</td>\n",
       "      <td>1.990848</td>\n",
       "      <td>0.062083</td>\n",
       "      <td>0.084751</td>\n",
       "      <td>0.101481</td>\n",
       "      <td>3.415822</td>\n",
       "      <td>2.394278</td>\n",
       "      <td>0.008071</td>\n",
       "      <td>Blood</td>\n",
       "      <td>Blood</td>\n",
       "      <td>Lymphoblastoid</td>\n",
       "    </tr>\n",
       "    <tr>\n",
       "      <th>ENCSR000CUA.Primary_hematopoietic_stem_cells.CSHL_Gingeras</th>\n",
       "      <td>0.312230</td>\n",
       "      <td>3.183208</td>\n",
       "      <td>0.153861</td>\n",
       "      <td>2.028751</td>\n",
       "      <td>0.002950</td>\n",
       "      <td>0.002064</td>\n",
       "      <td>0.783033</td>\n",
       "      <td>0.066531</td>\n",
       "      <td>3.088628</td>\n",
       "      <td>-0.031498</td>\n",
       "      <td>...</td>\n",
       "      <td>1.629999</td>\n",
       "      <td>0.081016</td>\n",
       "      <td>0.085211</td>\n",
       "      <td>0.120326</td>\n",
       "      <td>5.430897</td>\n",
       "      <td>1.120048</td>\n",
       "      <td>0.001673</td>\n",
       "      <td>Blood</td>\n",
       "      <td>Blood</td>\n",
       "      <td>HSC</td>\n",
       "    </tr>\n",
       "    <tr>\n",
       "      <th>ENCSR000AAN.Pulmonary_Artery_Smooth_Muscle_Primary_Cells.CSHL_Gingeras</th>\n",
       "      <td>0.160138</td>\n",
       "      <td>2.133929</td>\n",
       "      <td>0.077260</td>\n",
       "      <td>2.683576</td>\n",
       "      <td>0.003354</td>\n",
       "      <td>0.005010</td>\n",
       "      <td>0.668882</td>\n",
       "      <td>0.073288</td>\n",
       "      <td>2.662957</td>\n",
       "      <td>-0.073561</td>\n",
       "      <td>...</td>\n",
       "      <td>2.899638</td>\n",
       "      <td>0.038162</td>\n",
       "      <td>0.069725</td>\n",
       "      <td>0.142189</td>\n",
       "      <td>3.799500</td>\n",
       "      <td>0.782373</td>\n",
       "      <td>-0.013330</td>\n",
       "      <td>Respiratory</td>\n",
       "      <td>Lung</td>\n",
       "      <td>Smooth</td>\n",
       "    </tr>\n",
       "  </tbody>\n",
       "</table>\n",
       "<p>5 rows × 55670 columns</p>\n",
       "</div>"
      ],
      "text/plain": [
       "                                                    ENSG00000242268.2  \\\n",
       "ENCSR762CJN.H1_BMP4_Derived_Trophoblast_Culture...           0.187297   \n",
       "ENCSR109IQO.K562_Leukemia_Cells.UConn_Graveley               0.384825   \n",
       "ENCSR000AEF.GM12878_Lymphoblastoid_Cells.UConn_...           0.805894   \n",
       "ENCSR000CUA.Primary_hematopoietic_stem_cells.CS...           0.312230   \n",
       "ENCSR000AAN.Pulmonary_Artery_Smooth_Muscle_Prim...           0.160138   \n",
       "\n",
       "                                                    ENSG00000167578.12  \\\n",
       "ENCSR762CJN.H1_BMP4_Derived_Trophoblast_Culture...            2.990098   \n",
       "ENCSR109IQO.K562_Leukemia_Cells.UConn_Graveley                3.392432   \n",
       "ENCSR000AEF.GM12878_Lymphoblastoid_Cells.UConn_...            2.345439   \n",
       "ENCSR000CUA.Primary_hematopoietic_stem_cells.CS...            3.183208   \n",
       "ENCSR000AAN.Pulmonary_Artery_Smooth_Muscle_Prim...            2.133929   \n",
       "\n",
       "                                                    ENSG00000270112.2  \\\n",
       "ENCSR762CJN.H1_BMP4_Derived_Trophoblast_Culture...           0.068335   \n",
       "ENCSR109IQO.K562_Leukemia_Cells.UConn_Graveley               0.145993   \n",
       "ENCSR000AEF.GM12878_Lymphoblastoid_Cells.UConn_...           0.033347   \n",
       "ENCSR000CUA.Primary_hematopoietic_stem_cells.CS...           0.153861   \n",
       "ENCSR000AAN.Pulmonary_Artery_Smooth_Muscle_Prim...           0.077260   \n",
       "\n",
       "                                                    ENSG00000078237.4  \\\n",
       "ENCSR762CJN.H1_BMP4_Derived_Trophoblast_Culture...           3.030287   \n",
       "ENCSR109IQO.K562_Leukemia_Cells.UConn_Graveley               2.051930   \n",
       "ENCSR000AEF.GM12878_Lymphoblastoid_Cells.UConn_...           2.783840   \n",
       "ENCSR000CUA.Primary_hematopoietic_stem_cells.CS...           2.028751   \n",
       "ENCSR000AAN.Pulmonary_Artery_Smooth_Muscle_Prim...           2.683576   \n",
       "\n",
       "                                                    ENSG00000263642.1  \\\n",
       "ENCSR762CJN.H1_BMP4_Derived_Trophoblast_Culture...           0.002427   \n",
       "ENCSR109IQO.K562_Leukemia_Cells.UConn_Graveley              -0.000008   \n",
       "ENCSR000AEF.GM12878_Lymphoblastoid_Cells.UConn_...           0.004928   \n",
       "ENCSR000CUA.Primary_hematopoietic_stem_cells.CS...           0.002950   \n",
       "ENCSR000AAN.Pulmonary_Artery_Smooth_Muscle_Prim...           0.003354   \n",
       "\n",
       "                                                    ENSG00000225275.4  \\\n",
       "ENCSR762CJN.H1_BMP4_Derived_Trophoblast_Culture...           0.012498   \n",
       "ENCSR109IQO.K562_Leukemia_Cells.UConn_Graveley               0.009046   \n",
       "ENCSR000AEF.GM12878_Lymphoblastoid_Cells.UConn_...           0.014051   \n",
       "ENCSR000CUA.Primary_hematopoietic_stem_cells.CS...           0.002064   \n",
       "ENCSR000AAN.Pulmonary_Artery_Smooth_Muscle_Prim...           0.005010   \n",
       "\n",
       "                                                    ENSG00000269416.1  \\\n",
       "ENCSR762CJN.H1_BMP4_Derived_Trophoblast_Culture...           1.072950   \n",
       "ENCSR109IQO.K562_Leukemia_Cells.UConn_Graveley               0.286721   \n",
       "ENCSR000AEF.GM12878_Lymphoblastoid_Cells.UConn_...          -0.213324   \n",
       "ENCSR000CUA.Primary_hematopoietic_stem_cells.CS...           0.783033   \n",
       "ENCSR000AAN.Pulmonary_Artery_Smooth_Muscle_Prim...           0.668882   \n",
       "\n",
       "                                                    ENSG00000268332.1  \\\n",
       "ENCSR762CJN.H1_BMP4_Derived_Trophoblast_Culture...           0.041683   \n",
       "ENCSR109IQO.K562_Leukemia_Cells.UConn_Graveley               0.084697   \n",
       "ENCSR000AEF.GM12878_Lymphoblastoid_Cells.UConn_...           0.093003   \n",
       "ENCSR000CUA.Primary_hematopoietic_stem_cells.CS...           0.066531   \n",
       "ENCSR000AAN.Pulmonary_Artery_Smooth_Muscle_Prim...           0.073288   \n",
       "\n",
       "                                                    ENSG00000060642.6  \\\n",
       "ENCSR762CJN.H1_BMP4_Derived_Trophoblast_Culture...           1.904739   \n",
       "ENCSR109IQO.K562_Leukemia_Cells.UConn_Graveley               2.446061   \n",
       "ENCSR000AEF.GM12878_Lymphoblastoid_Cells.UConn_...           2.479022   \n",
       "ENCSR000CUA.Primary_hematopoietic_stem_cells.CS...           3.088628   \n",
       "ENCSR000AAN.Pulmonary_Artery_Smooth_Muscle_Prim...           2.662957   \n",
       "\n",
       "                                                    ENSG00000231981.3  ...  \\\n",
       "ENCSR762CJN.H1_BMP4_Derived_Trophoblast_Culture...           0.139392  ...   \n",
       "ENCSR109IQO.K562_Leukemia_Cells.UConn_Graveley               0.137258  ...   \n",
       "ENCSR000AEF.GM12878_Lymphoblastoid_Cells.UConn_...           0.062528  ...   \n",
       "ENCSR000CUA.Primary_hematopoietic_stem_cells.CS...          -0.031498  ...   \n",
       "ENCSR000AAN.Pulmonary_Artery_Smooth_Muscle_Prim...          -0.073561  ...   \n",
       "\n",
       "                                                    ENSG00000148943.7  \\\n",
       "ENCSR762CJN.H1_BMP4_Derived_Trophoblast_Culture...           3.166439   \n",
       "ENCSR109IQO.K562_Leukemia_Cells.UConn_Graveley               2.837897   \n",
       "ENCSR000AEF.GM12878_Lymphoblastoid_Cells.UConn_...           1.990848   \n",
       "ENCSR000CUA.Primary_hematopoietic_stem_cells.CS...           1.629999   \n",
       "ENCSR000AAN.Pulmonary_Artery_Smooth_Muscle_Prim...           2.899638   \n",
       "\n",
       "                                                    ENSG00000273233.1  \\\n",
       "ENCSR762CJN.H1_BMP4_Derived_Trophoblast_Culture...           0.099807   \n",
       "ENCSR109IQO.K562_Leukemia_Cells.UConn_Graveley               0.012638   \n",
       "ENCSR000AEF.GM12878_Lymphoblastoid_Cells.UConn_...           0.062083   \n",
       "ENCSR000CUA.Primary_hematopoietic_stem_cells.CS...           0.081016   \n",
       "ENCSR000AAN.Pulmonary_Artery_Smooth_Muscle_Prim...           0.038162   \n",
       "\n",
       "                                                    ENSG00000265520.1  \\\n",
       "ENCSR762CJN.H1_BMP4_Derived_Trophoblast_Culture...           0.040695   \n",
       "ENCSR109IQO.K562_Leukemia_Cells.UConn_Graveley               0.069255   \n",
       "ENCSR000AEF.GM12878_Lymphoblastoid_Cells.UConn_...           0.084751   \n",
       "ENCSR000CUA.Primary_hematopoietic_stem_cells.CS...           0.085211   \n",
       "ENCSR000AAN.Pulmonary_Artery_Smooth_Muscle_Prim...           0.069725   \n",
       "\n",
       "                                                    ENSG00000231119.2  \\\n",
       "ENCSR762CJN.H1_BMP4_Derived_Trophoblast_Culture...           0.081328   \n",
       "ENCSR109IQO.K562_Leukemia_Cells.UConn_Graveley               0.089867   \n",
       "ENCSR000AEF.GM12878_Lymphoblastoid_Cells.UConn_...           0.101481   \n",
       "ENCSR000CUA.Primary_hematopoietic_stem_cells.CS...           0.120326   \n",
       "ENCSR000AAN.Pulmonary_Artery_Smooth_Muscle_Prim...           0.142189   \n",
       "\n",
       "                                                    ENSG00000105063.14  \\\n",
       "ENCSR762CJN.H1_BMP4_Derived_Trophoblast_Culture...            3.832852   \n",
       "ENCSR109IQO.K562_Leukemia_Cells.UConn_Graveley                4.446532   \n",
       "ENCSR000AEF.GM12878_Lymphoblastoid_Cells.UConn_...            3.415822   \n",
       "ENCSR000CUA.Primary_hematopoietic_stem_cells.CS...            5.430897   \n",
       "ENCSR000AAN.Pulmonary_Artery_Smooth_Muscle_Prim...            3.799500   \n",
       "\n",
       "                                                    ENSG00000123685.4  \\\n",
       "ENCSR762CJN.H1_BMP4_Derived_Trophoblast_Culture...           0.175359   \n",
       "ENCSR109IQO.K562_Leukemia_Cells.UConn_Graveley               1.255056   \n",
       "ENCSR000AEF.GM12878_Lymphoblastoid_Cells.UConn_...           2.394278   \n",
       "ENCSR000CUA.Primary_hematopoietic_stem_cells.CS...           1.120048   \n",
       "ENCSR000AAN.Pulmonary_Artery_Smooth_Muscle_Prim...           0.782373   \n",
       "\n",
       "                                                    ENSG00000181518.2  \\\n",
       "ENCSR762CJN.H1_BMP4_Derived_Trophoblast_Culture...          -0.000313   \n",
       "ENCSR109IQO.K562_Leukemia_Cells.UConn_Graveley               0.009028   \n",
       "ENCSR000AEF.GM12878_Lymphoblastoid_Cells.UConn_...           0.008071   \n",
       "ENCSR000CUA.Primary_hematopoietic_stem_cells.CS...           0.001673   \n",
       "ENCSR000AAN.Pulmonary_Artery_Smooth_Muscle_Prim...          -0.013330   \n",
       "\n",
       "                                                         System        Organ  \\\n",
       "ENCSR762CJN.H1_BMP4_Derived_Trophoblast_Culture...    Embryonic  Trophoblast   \n",
       "ENCSR109IQO.K562_Leukemia_Cells.UConn_Graveley            Blood        Blood   \n",
       "ENCSR000AEF.GM12878_Lymphoblastoid_Cells.UConn_...        Blood        Blood   \n",
       "ENCSR000CUA.Primary_hematopoietic_stem_cells.CS...        Blood        Blood   \n",
       "ENCSR000AAN.Pulmonary_Artery_Smooth_Muscle_Prim...  Respiratory         Lung   \n",
       "\n",
       "                                                          CellType  \n",
       "ENCSR762CJN.H1_BMP4_Derived_Trophoblast_Culture...      ES.derived  \n",
       "ENCSR109IQO.K562_Leukemia_Cells.UConn_Graveley            Leukemia  \n",
       "ENCSR000AEF.GM12878_Lymphoblastoid_Cells.UConn_...  Lymphoblastoid  \n",
       "ENCSR000CUA.Primary_hematopoietic_stem_cells.CS...             HSC  \n",
       "ENCSR000AAN.Pulmonary_Artery_Smooth_Muscle_Prim...          Smooth  \n",
       "\n",
       "[5 rows x 55670 columns]"
      ]
     },
     "metadata": {},
     "output_type": "display_data"
    },
    {
     "data": {
      "text/plain": [
       "(116, 55670)"
      ]
     },
     "metadata": {},
     "output_type": "display_data"
    }
   ],
   "source": [
    "display(merged_df_subset.head())\n",
    "display(merged_df_subset.shape)"
   ]
  },
  {
   "cell_type": "code",
   "execution_count": 10,
   "metadata": {},
   "outputs": [
    {
     "name": "stdout",
     "output_type": "stream",
     "text": [
      "Number rows: 116\n",
      "Number columns: 55670\n"
     ]
    }
   ],
   "source": [
    "#Check row & column numbers in merged_df_subset \n",
    "print(\"Number rows: \"+str(merged_df_subset.shape[0]))#prints number of rows -- this is the sample axis\n",
    "print(\"Number columns: \"+str(merged_df_subset.shape[1]))# prints the number of columns -- this is the gene axis "
   ]
  },
  {
   "cell_type": "code",
   "execution_count": 11,
   "metadata": {},
   "outputs": [],
   "source": [
    "#We want to exclude the genes that have expression <= 0 in all 4 organ systems of interest\n",
    "nonzero_columns=merged_df_subset.iloc[:,0:-3].sum(axis=0)>0\n",
    "nonzero_columns['System']=True\n",
    "nonzero_columns['Organ']=True\n",
    "nonzero_columns['CellType']=True"
   ]
  },
  {
   "cell_type": "markdown",
   "metadata": {},
   "source": [
    "Note that `merged_df_subset.iloc[:,0:-3].sum(axis=0)>0` returns a value of \"True\" or \"False\" at each gene column in the`merged_df_subset` matrix. This is referred to as binary indexing. We also indicate that we want the metadata columns (System, Organ, CellType) to be set to True (i.e. included in the matrix). \n",
    "\n",
    "Next, we identify the columns with a value of \"True\", and select them from `merged_df_subset`. \n",
    "This can be done with the command: "
   ]
  },
  {
   "cell_type": "code",
   "execution_count": 12,
   "metadata": {},
   "outputs": [
    {
     "name": "stdout",
     "output_type": "stream",
     "text": [
      "(116, 54129)\n"
     ]
    }
   ],
   "source": [
    "merged_df_subset_nonzero=merged_df_subset.iloc[:,nonzero_columns.tolist()]\n",
    "print(merged_df_subset_nonzero.shape)"
   ]
  },
  {
   "cell_type": "markdown",
   "metadata": {},
   "source": [
    "We have extracted RNA-seq expression data for our four organ systems of interest. We have also removed all genes that are not expressed in any of the four organ systems."
   ]
  },
  {
   "cell_type": "markdown",
   "metadata": {},
   "source": [
    "## What is principal component analysis (PCA)? <a name='PCA1' />"
   ]
  },
  {
   "cell_type": "markdown",
   "metadata": {},
   "source": [
    "Principal component analysis (PCA) is a statistical method to understand and visualize variation in large datasets."
   ]
  },
  {
   "cell_type": "code",
   "execution_count": 13,
   "metadata": {},
   "outputs": [
    {
     "data": {
      "text/html": [
       "\n",
       "        <iframe\n",
       "            width=\"960\"\n",
       "            height=\"749\"\n",
       "            src=\"https://docs.google.com/presentation/d/12AlDV7G7aEasvS9HTllyoMNlsBdmCO6XODC7tOl5f70/embed??frameborder=0&allowfullscreen=true&mozallowfullscreen=true&webkitallowfullscreen=true\"\n",
       "            frameborder=\"0\"\n",
       "            allowfullscreen\n",
       "        ></iframe>\n",
       "        "
      ],
      "text/plain": [
       "<IPython.lib.display.IFrame at 0x7f345b99cdd0>"
      ]
     },
     "execution_count": 13,
     "metadata": {},
     "output_type": "execute_result"
    }
   ],
   "source": [
    "from IPython.display import IFrame\n",
    "IFrame(src=\"https://docs.google.com/presentation/d/12AlDV7G7aEasvS9HTllyoMNlsBdmCO6XODC7tOl5f70/embed?\",\n",
    "       frameborder=\"0\", width=\"960\", height=\"749\", allowfullscreen=\"true\", mozallowfullscreen=\"true\", webkitallowfullscreen=\"true\")"
   ]
  },
  {
   "cell_type": "markdown",
   "metadata": {},
   "source": [
    "We will use the [scikit learn](http://scikit-learn.org/stable/) python library to perform principal component analysis. We import scikit learn with the command \"import sklearn\". This library has a number of built-in tools for performing statistical analysis and machine learning. \n",
    "\n",
    "[This tutorial](http://scikit-learn.org/stable/modules/generated/sklearn.decomposition.PCA.html) provides a guide to performing PCA analysis with scikit learn."
   ]
  },
  {
   "cell_type": "markdown",
   "metadata": {},
   "source": [
    "Thought questions: \n",
    "\n",
    "* What do principal components represent?\n",
    "* Which genes will have the greatest influence on the principal components?\n",
    "* Which samples / cells will cluster together in the PCA plot?"
   ]
  },
  {
   "cell_type": "code",
   "execution_count": 14,
   "metadata": {},
   "outputs": [
    {
     "name": "stderr",
     "output_type": "stream",
     "text": [
      "/opt/conda/lib/python3.7/site-packages/sklearn/linear_model/least_angle.py:30: DeprecationWarning: `np.float` is a deprecated alias for the builtin `float`. To silence this warning, use `float` by itself. Doing this will not modify any behavior and is safe. If you specifically wanted the numpy scalar type, use `np.float64` here.\n",
      "Deprecated in NumPy 1.20; for more details and guidance: https://numpy.org/devdocs/release/1.20.0-notes.html#deprecations\n",
      "  method='lar', copy_X=True, eps=np.finfo(np.float).eps,\n",
      "/opt/conda/lib/python3.7/site-packages/sklearn/linear_model/least_angle.py:167: DeprecationWarning: `np.float` is a deprecated alias for the builtin `float`. To silence this warning, use `float` by itself. Doing this will not modify any behavior and is safe. If you specifically wanted the numpy scalar type, use `np.float64` here.\n",
      "Deprecated in NumPy 1.20; for more details and guidance: https://numpy.org/devdocs/release/1.20.0-notes.html#deprecations\n",
      "  method='lar', copy_X=True, eps=np.finfo(np.float).eps,\n",
      "/opt/conda/lib/python3.7/site-packages/sklearn/linear_model/least_angle.py:284: DeprecationWarning: `np.float` is a deprecated alias for the builtin `float`. To silence this warning, use `float` by itself. Doing this will not modify any behavior and is safe. If you specifically wanted the numpy scalar type, use `np.float64` here.\n",
      "Deprecated in NumPy 1.20; for more details and guidance: https://numpy.org/devdocs/release/1.20.0-notes.html#deprecations\n",
      "  eps=np.finfo(np.float).eps, copy_Gram=True, verbose=0,\n",
      "/opt/conda/lib/python3.7/site-packages/sklearn/linear_model/least_angle.py:862: DeprecationWarning: `np.float` is a deprecated alias for the builtin `float`. To silence this warning, use `float` by itself. Doing this will not modify any behavior and is safe. If you specifically wanted the numpy scalar type, use `np.float64` here.\n",
      "Deprecated in NumPy 1.20; for more details and guidance: https://numpy.org/devdocs/release/1.20.0-notes.html#deprecations\n",
      "  eps=np.finfo(np.float).eps, copy_X=True, fit_path=True,\n",
      "/opt/conda/lib/python3.7/site-packages/sklearn/linear_model/least_angle.py:1101: DeprecationWarning: `np.float` is a deprecated alias for the builtin `float`. To silence this warning, use `float` by itself. Doing this will not modify any behavior and is safe. If you specifically wanted the numpy scalar type, use `np.float64` here.\n",
      "Deprecated in NumPy 1.20; for more details and guidance: https://numpy.org/devdocs/release/1.20.0-notes.html#deprecations\n",
      "  eps=np.finfo(np.float).eps, copy_X=True, fit_path=True,\n",
      "/opt/conda/lib/python3.7/site-packages/sklearn/linear_model/least_angle.py:1127: DeprecationWarning: `np.float` is a deprecated alias for the builtin `float`. To silence this warning, use `float` by itself. Doing this will not modify any behavior and is safe. If you specifically wanted the numpy scalar type, use `np.float64` here.\n",
      "Deprecated in NumPy 1.20; for more details and guidance: https://numpy.org/devdocs/release/1.20.0-notes.html#deprecations\n",
      "  eps=np.finfo(np.float).eps, positive=False):\n",
      "/opt/conda/lib/python3.7/site-packages/sklearn/linear_model/least_angle.py:1362: DeprecationWarning: `np.float` is a deprecated alias for the builtin `float`. To silence this warning, use `float` by itself. Doing this will not modify any behavior and is safe. If you specifically wanted the numpy scalar type, use `np.float64` here.\n",
      "Deprecated in NumPy 1.20; for more details and guidance: https://numpy.org/devdocs/release/1.20.0-notes.html#deprecations\n",
      "  max_n_alphas=1000, n_jobs=None, eps=np.finfo(np.float).eps,\n",
      "/opt/conda/lib/python3.7/site-packages/sklearn/linear_model/least_angle.py:1602: DeprecationWarning: `np.float` is a deprecated alias for the builtin `float`. To silence this warning, use `float` by itself. Doing this will not modify any behavior and is safe. If you specifically wanted the numpy scalar type, use `np.float64` here.\n",
      "Deprecated in NumPy 1.20; for more details and guidance: https://numpy.org/devdocs/release/1.20.0-notes.html#deprecations\n",
      "  max_n_alphas=1000, n_jobs=None, eps=np.finfo(np.float).eps,\n",
      "/opt/conda/lib/python3.7/site-packages/sklearn/linear_model/least_angle.py:1738: DeprecationWarning: `np.float` is a deprecated alias for the builtin `float`. To silence this warning, use `float` by itself. Doing this will not modify any behavior and is safe. If you specifically wanted the numpy scalar type, use `np.float64` here.\n",
      "Deprecated in NumPy 1.20; for more details and guidance: https://numpy.org/devdocs/release/1.20.0-notes.html#deprecations\n",
      "  eps=np.finfo(np.float).eps, copy_X=True, positive=False):\n",
      "/opt/conda/lib/python3.7/site-packages/sklearn/decomposition/online_lda.py:29: DeprecationWarning: `np.float` is a deprecated alias for the builtin `float`. To silence this warning, use `float` by itself. Doing this will not modify any behavior and is safe. If you specifically wanted the numpy scalar type, use `np.float64` here.\n",
      "Deprecated in NumPy 1.20; for more details and guidance: https://numpy.org/devdocs/release/1.20.0-notes.html#deprecations\n",
      "  EPS = np.finfo(np.float).eps\n"
     ]
    }
   ],
   "source": [
    "# Perform principal component analysis on the data to check for clustering patterns\n",
    "from sklearn.decomposition import PCA as sklearnPCA\n",
    "\n",
    "#We decompose the data into 10 principal components \n",
    "sklearn_pca = sklearnPCA(n_components=10)\n",
    "#We want to exclude the metadata columns from the PCA transformation -- they have served their purpose in helping \n",
    "#us filter the dataset to the organ systems of interest, and now we remove them. \n",
    "metadata_subset=merged_df_subset_nonzero[['System','Organ','CellType']]\n",
    "merged_df_subset_nometadata = merged_df_subset_nonzero.drop(metadata_subset, axis=1)\n",
    "\n",
    "pca_results = sklearn_pca.fit_transform(merged_df_subset_nometadata)"
   ]
  },
  {
   "cell_type": "code",
   "execution_count": 15,
   "metadata": {},
   "outputs": [
    {
     "data": {
      "text/plain": [
       "(116, 54129)"
      ]
     },
     "metadata": {},
     "output_type": "display_data"
    },
    {
     "data": {
      "text/plain": [
       "(116, 54126)"
      ]
     },
     "metadata": {},
     "output_type": "display_data"
    },
    {
     "data": {
      "text/plain": [
       "(116, 3)"
      ]
     },
     "metadata": {},
     "output_type": "display_data"
    }
   ],
   "source": [
    "display(merged_df_subset_nonzero.shape)\n",
    "display(merged_df_subset_nometadata.shape)\n",
    "display(metadata_subset.shape)"
   ]
  },
  {
   "cell_type": "markdown",
   "metadata": {},
   "source": [
    "We visualize the percent of variance explained by each principal component in a graph called a \"scree plot\""
   ]
  },
  {
   "cell_type": "code",
   "execution_count": 16,
   "metadata": {},
   "outputs": [],
   "source": [
    "#We use our plotly helper functions to generate a scree plot from the principal component analysis. \n",
    "#Import the plotting helper functions from the helpers directory\n",
    "from plotnine import * "
   ]
  },
  {
   "cell_type": "code",
   "execution_count": 17,
   "metadata": {},
   "outputs": [
    {
     "name": "stdout",
     "output_type": "stream",
     "text": [
      "[0.33231557 0.08881498 0.05109061 0.03663335 0.03005643 0.02493179\n",
      " 0.02244721 0.0196104  0.01735412 0.01457998]\n"
     ]
    }
   ],
   "source": [
    "print(sklearn_pca.explained_variance_ratio_)"
   ]
  },
  {
   "cell_type": "code",
   "execution_count": 18,
   "metadata": {},
   "outputs": [
    {
     "data": {
      "image/png": "[encoded data removed]",
      "text/plain": [
       "<Figure size 640x480 with 1 Axes>"
      ]
     },
     "metadata": {},
     "output_type": "display_data"
    },
    {
     "data": {
      "text/plain": [
       "<ggplot: (8741245036337)>"
      ]
     },
     "execution_count": 18,
     "metadata": {},
     "output_type": "execute_result"
    }
   ],
   "source": [
    "#We use the plotnine plotting library to generate a scree plot of the variance explained by each component\n",
    "#Now, we create a barplot with just our 4 organ systems of interest \n",
    "y=sklearn_pca.explained_variance_ratio_\n",
    "x=range(1,len(y)+1)\n",
    "qplot(x=x,\n",
    "      y=y,\n",
    "      geom=\"bar\",\n",
    "      stat=\"identity\",\n",
    "      xlab=\"PC\",\n",
    "      ylab=\"Fraction of variance explained\")"
   ]
  },
  {
   "cell_type": "markdown",
   "metadata": {},
   "source": [
    "This indicates that the first principal component explain 33% of the variance in the data, while the second principal component explains 9% of the variance. "
   ]
  },
  {
   "cell_type": "markdown",
   "metadata": {},
   "source": [
    "Scree plots can be visualized as  both bar graphs and line plots. Below, we write the code to visualize the scree plot as a line graph. \n"
   ]
  },
  {
   "cell_type": "code",
   "execution_count": 19,
   "metadata": {},
   "outputs": [
    {
     "data": {
      "image/png": "[encoded data removed]",
      "text/plain": [
       "<Figure size 640x480 with 1 Axes>"
      ]
     },
     "metadata": {},
     "output_type": "display_data"
    },
    {
     "data": {
      "text/plain": [
       "<ggplot: (8741245045177)>"
      ]
     },
     "execution_count": 19,
     "metadata": {},
     "output_type": "execute_result"
    }
   ],
   "source": [
    "qplot(x=x,\n",
    "      y=y,\n",
    "      geom=\"line\",\n",
    "      xlab=\"PC\",\n",
    "      ylab=\"Fraction of variance explained\")"
   ]
  },
  {
   "cell_type": "code",
   "execution_count": 20,
   "metadata": {},
   "outputs": [
    {
     "data": {
      "text/plain": [
       "array([[ 76.84407508,  24.61833039,  10.4589715 ,  15.83951573,\n",
       "         91.67908984,   6.30101215, -24.28096628,   4.73678183,\n",
       "          9.83055163,  -7.92796001],\n",
       "       [-46.69300968,   7.70111607,  -6.71953709,   2.94695357,\n",
       "         -0.12223787,  -5.33456886,  -2.3547583 ,  -9.05235498,\n",
       "          6.93665547,   8.43119808],\n",
       "       [-76.87234167,   7.14991831,  -9.78251444, -22.26562847,\n",
       "          1.38537837,  34.35358994, -28.15168957,  -2.17345672,\n",
       "        -34.97792092,   0.89981066],\n",
       "       [ -0.67120286,  -3.72398932, -16.4635867 ,   0.77570886,\n",
       "          3.54673823, -22.11450199,   9.62577052,  -1.53845291,\n",
       "          2.71602871,  14.16986547],\n",
       "       [ 45.20305805, -45.59842984,  -7.09034273,  -4.66536067,\n",
       "         -5.80552097,   5.97467097, -11.80587073,  -1.5190692 ,\n",
       "         18.69495955,  11.08078712],\n",
       "       [-48.34554828,  12.09132185, -12.37896421,  -1.66247132,\n",
       "          4.12679527,   1.63676406,  -6.5776013 ,  -7.80103947,\n",
       "          6.00015274,  -0.94549194],\n",
       "       [ -5.33718591, -13.65604888,  43.89502662,  -4.6615531 ,\n",
       "        -10.42130029,  22.126592  ,  24.96688563,  25.91151935,\n",
       "        -14.25182127,  28.86728626],\n",
       "       [-16.59289815, -29.48178432,  75.67850804,  -1.60045699,\n",
       "        -11.04678415, -17.84353136, -18.1219731 ,   3.61040954,\n",
       "          2.74660333,  -3.87958173],\n",
       "       [ 37.81119732, -33.11236927, -18.40204021,  -2.30781008,\n",
       "         -3.07114241,  12.18407135,   2.16800116,  -9.21546582,\n",
       "        -14.15910335,  -3.34516887],\n",
       "       [ 62.64723884,  18.94585632,   2.07963443,  -0.46397352,\n",
       "          7.05432235,   5.93213884,   5.3907606 ,   2.78140291,\n",
       "          5.18547316,   4.95504125]])"
      ]
     },
     "execution_count": 20,
     "metadata": {},
     "output_type": "execute_result"
    }
   ],
   "source": [
    "pca_results[0:10]"
   ]
  },
  {
   "cell_type": "code",
   "execution_count": 21,
   "metadata": {},
   "outputs": [
    {
     "name": "stdout",
     "output_type": "stream",
     "text": [
      "(116, 10)\n"
     ]
    }
   ],
   "source": [
    "print(pca_results.shape)"
   ]
  },
  {
   "cell_type": "code",
   "execution_count": 22,
   "metadata": {},
   "outputs": [
    {
     "name": "stdout",
     "output_type": "stream",
     "text": [
      "<class 'numpy.ndarray'>\n"
     ]
    }
   ],
   "source": [
    "print (type(pca_results))"
   ]
  },
  {
   "cell_type": "markdown",
   "metadata": {},
   "source": [
    "## Make a scatter plot of the output from principal component analysis <a name='Scatter' />"
   ]
  },
  {
   "cell_type": "code",
   "execution_count": 23,
   "metadata": {},
   "outputs": [
    {
     "data": {
      "image/png": "[encoded data removed]",
      "text/plain": [
       "<Figure size 640x480 with 1 Axes>"
      ]
     },
     "metadata": {},
     "output_type": "display_data"
    },
    {
     "data": {
      "text/plain": [
       "<ggplot: (8741244926169)>"
      ]
     },
     "execution_count": 23,
     "metadata": {},
     "output_type": "execute_result"
    }
   ],
   "source": [
    "#We make a scatterplot of PC1 vs PC2 \n",
    "x=pca_results[:,0]\n",
    "y=pca_results[:,1]\n",
    "qplot(x=x,\n",
    "      y=y,\n",
    "      geom=\"point\",\n",
    "      xlab=\"PC1\",\n",
    "      ylab=\"PC2\")"
   ]
  },
  {
   "cell_type": "markdown",
   "metadata": {},
   "source": [
    "To investigate whether there is any clustering of samples by organ system, we can color-code by the 'System' column from the metadata table.\n",
    "\n",
    "We use the \"scale_color_discrete\" function to assign discrete color names (selected from a pre-defined color palette) to each System. \n"
   ]
  },
  {
   "cell_type": "code",
   "execution_count": 24,
   "metadata": {},
   "outputs": [
    {
     "data": {
      "image/png": "[encoded data removed]",
      "text/plain": [
       "<Figure size 640x480 with 1 Axes>"
      ]
     },
     "metadata": {},
     "output_type": "display_data"
    },
    {
     "data": {
      "text/plain": [
       "<ggplot: (8741244901281)>"
      ]
     },
     "execution_count": 24,
     "metadata": {},
     "output_type": "execute_result"
    }
   ],
   "source": [
    "qplot(x=x,\n",
    "      y=y,\n",
    "      geom=\"point\",\n",
    "      xlab=\"PC1\",\n",
    "      ylab=\"PC2\",\n",
    "      color=list(metadata_subset['System']))+scale_color_discrete(name=\"System\")"
   ]
  },
  {
   "cell_type": "code",
   "execution_count": 25,
   "metadata": {},
   "outputs": [
    {
     "data": {
      "image/png": "[encoded data removed]",
      "text/plain": [
       "<Figure size 640x480 with 1 Axes>"
      ]
     },
     "metadata": {},
     "output_type": "display_data"
    },
    {
     "data": {
      "text/plain": [
       "<ggplot: (8741244853133)>"
      ]
     },
     "execution_count": 25,
     "metadata": {},
     "output_type": "execute_result"
    }
   ],
   "source": [
    "#Make a scatter plot of principle component 2 (PC2) vs principle component 3 (PC3)\n",
    "#Make sure to change your axes labels too!\n",
    "\n",
    "##BEGIN SOLUTION## \n",
    "x=pca_results[:,1]\n",
    "y=pca_results[:,2]\n",
    "qplot(x=x,\n",
    "      y=y,\n",
    "      geom=\"point\",\n",
    "      xlab=\"PC2\",\n",
    "      ylab=\"PC3\",\n",
    "      color=list(metadata_subset['System']))+scale_color_discrete(name=\"System\")\n",
    "##END SOLUTION ## "
   ]
  },
  {
   "cell_type": "code",
   "execution_count": 26,
   "metadata": {},
   "outputs": [
    {
     "data": {
      "image/png": "[encoded data removed]",
      "text/plain": [
       "<Figure size 640x480 with 1 Axes>"
      ]
     },
     "metadata": {},
     "output_type": "display_data"
    },
    {
     "data": {
      "text/plain": [
       "<ggplot: (8741244801589)>"
      ]
     },
     "execution_count": 26,
     "metadata": {},
     "output_type": "execute_result"
    }
   ],
   "source": [
    "#Make a scatter plot of principle component 1 (PC1) vs principle component 3 (PC3)\n",
    "#Make sure to change your axes labeles too!\n",
    "\n",
    "##BEGIN SOLUTION## \n",
    "x=pca_results[:,0]\n",
    "y=pca_results[:,2]\n",
    "qplot(x=x,\n",
    "      y=y,\n",
    "      geom=\"point\",\n",
    "      xlab=\"PC1\",\n",
    "      ylab=\"PC3\",\n",
    "      color=list(metadata_subset['CellType']))+scale_color_discrete(name=\"CellType\")\n",
    "##END SOLUTION ## "
   ]
  },
  {
   "cell_type": "code",
   "execution_count": null,
   "metadata": {},
   "outputs": [],
   "source": []
  }
 ],
 "metadata": {
  "anaconda-cloud": {},
  "kernelspec": {
   "display_name": "Python 3",
   "language": "python",
   "name": "python3"
  },
  "language_info": {
   "codemirror_mode": {
    "name": "ipython",
    "version": 3
   },
   "file_extension": ".py",
   "mimetype": "text/x-python",
   "name": "python",
   "nbconvert_exporter": "python",
   "pygments_lexer": "ipython3",
   "version": "3.7.10"
  }
 },
 "nbformat": 4,
 "nbformat_minor": 4
}
