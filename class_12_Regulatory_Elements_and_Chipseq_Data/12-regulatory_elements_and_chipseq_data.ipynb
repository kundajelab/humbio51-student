{
 "cells": [
  {
   "cell_type": "markdown",
   "metadata": {},
   "source": [
    "# Big Data for Biologists: Decoding Genomic Function- Class 12\n",
    "\n",
    "##  Learning Objectives\n",
    "***Students should be able to***\n",
    "<ol> \n",
    "<li><a href=#Regulator>Explain what is a regulatory element</a></li>\n",
    "<li> <a href=#PromotersEnhancers>Explain what promoters and enhancers are</a></li>\n",
    "<li> <a href=#creMapping>How can we identify all regulatory elements in the human genome?</a></li>\n",
    "<li> <a href=#chromatinState>What is the chromatin state of a regulatory element?</a></li>\n",
    "<li> <a href=#roadmap>Interpret genome-wide chromatin state maps in 100s of cell types and tissues from the ENCODE and Roadmap Epigenomics Projects</a></li>"
   ]
  },
  {
   "cell_type": "markdown",
   "metadata": {},
   "source": [
    "# What are regulatory elements? <a name='Regulator'/>"
   ]
  },
  {
   "cell_type": "markdown",
   "metadata": {},
   "source": [
    "Complexes of trancription factors bind specific genomic elements that contain their DNA sequence binding motifs. These elements are referred to as <b>regulatory elements</b> or cis-regulatory elements (cREs). The primary role of these cREs is to modulate gene transcription of nearby genes by either promoting or repressing recruitment of the RNA polymerase complex at the start of the gene. RNA polymerase is the protein complex that transcribes genes into messenger RNA.\n",
    "\n",
    "There are millions of regulatory elements scattered all across the genome.\n",
    "\n",
    "Each cell type / cell state in the human body has a specific gene expression program i.e. which genes are expressed and at what levels. Hence, each cell type also has a specific collection of cREs that regulate the gene expression program of the cell and define its identity and function.\n",
    "\n",
    "Note that two factors that determine whether a cRE is functioning i.e actively regulating a gene in a specific cell type or cell state.\n",
    "1. The collection of DNA sequence motifs corresponding to transcription factor binding sites encoded in the DNA sequence of the cRE\n",
    "2. The availability of the transcription factor proteins to bind to the motifs. i.e. the genes encoding the transcription factors whose motifs are encoded in the cRE should be expressed and localized to the nucleus of the cell."
   ]
  },
  {
   "cell_type": "markdown",
   "metadata": {},
   "source": [
    "## What are promoters and enhancers ? <a name='PromotersEnhancers' />"
   ]
  },
  {
   "cell_type": "markdown",
   "metadata": {},
   "source": [
    "A **promoter** is a cRE that is located just upstream of a gene's transcription start site. Promoters are located on the same strand as the gene, just upstream of the gene. Transcription factors (TFs) bind to sequence motifs embedded in the sequence of the promoter. They recruit RNA polymerase to initiate transcription from the transcription start site. Promoters are typically 100 - 1000 bases long. \n",
    "\n",
    "In contrast, an **enhancer** is a cRE that is located at some distance upstream of a gene. Some enhancers can be over a 1 Mb away from the gene they regulate. Hence, enhancers are also often referred to as distal cREs. Transcription factors bind to sequence motifs embedded in the DNA sequences of enhancers. These enhancers are brought in 3D physical proximity to the promoters of the genes they regulate through what is believed to be a result of DNA looping (See figure below). The TFs binding at the enhancer assist further with recruiting RNA polymerase at the promoter of the target gene thereby enhancing transcription i.e. production of mRNA.\n",
    "\n",
    "In the human genome, on average each gene has about 10 enhancers. Enhancers are critical for cell-type specific regulation of genes.\n"
   ]
  },
  {
   "cell_type": "markdown",
   "metadata": {},
   "source": [
    "![Promoter vs Enhancer](../Images/11_PromoterEnhancer.jpg)\n",
    "source: https://www.nature.com/scitable/topicpage/gene-expression-14121669\n",
    "\n",
    "![Multiple Enhancers](../Images/11_MultipleEnhancers.jpg)\n",
    "source: https://www.nature.com/scitable/topicpage/gene-expression-14121669"
   ]
  },
  {
   "cell_type": "markdown",
   "metadata": {},
   "source": [
    "## How can we identify all regulatory elements in the human genome? <a name='creMapping' />"
   ]
  },
  {
   "cell_type": "markdown",
   "metadata": {},
   "source": [
    "As noted above, cREs are regions in the genome that are bound by different combinations of transcription factors. So we can think of two strategies for identifying cREs genome wide.\n",
    "\n",
    "### 1. Computational motif scanning: \n",
    "One efficient computational strategy to identify cREs genome-wide would be to scan the human genome using motifs (PSSMs) of every possible transcription factor. This is infact a commonly used screening approach. But there a few drawbacks of this approach.\n",
    "\n",
    "1. Deciding on optimal thresholds for motif matching scores to accurately discriminate between true and false TF binding sites is a difficult and unsolved problem.\n",
    "2. Motif scanning would provide a static collection of all possible cREs in the human genome but would not reveal how these cREs are being dynamically utilized in different cell types and cell states.\n",
    "3. The presence of a motif is not a sufficient condition for a region of the genome to act as a cRE. There are many other 'epigenomic' properties of DNA that can over-ride the sequence e.g. a cRE containing a activator TF's motif can be repressed by adding specific chemical modifications to it.\n",
    "\n",
    "### 2. ChIP-seqing every TF in every cell state:\n",
    "We could instead just perform ChIP-seq experiments for every transcription factor in every possible cellular state. This is obviously not feasible due to material, cost and time constraints but also due to the fact that we do not have high-specificity antibodies for every transcription factor."
   ]
  },
  {
   "cell_type": "markdown",
   "metadata": {},
   "source": [
    "## What is the chromatin state of a regulatory element? <a name='chromatinState'/>"
   ]
  },
  {
   "cell_type": "code",
   "execution_count": 3,
   "metadata": {
    "collapsed": false,
    "jupyter": {
     "outputs_hidden": false
    }
   },
   "outputs": [
    {
     "data": {
      "text/html": [
       "\n",
       "        <iframe\n",
       "            width=\"1000\"\n",
       "            height=\"800\"\n",
       "            src=\"https://docs.google.com/presentation/d/1FmIF7CcAyBAatv9nR5wGzZ84ko6zJx7rOcPZT96GDB4/embed??frameborder=0&allowfullscreen=true&mozallowfullscreen=true&webkitallowfullscreen=true\"\n",
       "            frameborder=\"0\"\n",
       "            allowfullscreen\n",
       "        ></iframe>\n",
       "        "
      ],
      "text/plain": [
       "<IPython.lib.display.IFrame at 0x7f2d14158f90>"
      ]
     },
     "execution_count": 3,
     "metadata": {},
     "output_type": "execute_result"
    }
   ],
   "source": [
    "import warnings\n",
    "warnings.filterwarnings('ignore')\n",
    "from IPython.display import IFrame\n",
    "IFrame(src=\"https://docs.google.com/presentation/d/1FmIF7CcAyBAatv9nR5wGzZ84ko6zJx7rOcPZT96GDB4/embed?\", frameborder=\"0\", width=\"1000\", height=\"800\", allowfullscreen=\"true\", mozallowfullscreen=\"true\", webkitallowfullscreen=\"true\")"
   ]
  },
  {
   "cell_type": "markdown",
   "metadata": {},
   "source": [
    "DNA is wrapped around structural protein complexes known as <b>nucleosomes</b> like a string wrapped around beads. Nucleosomes provide structural stability to DNA. DNA wrapped around nucleosomes is collectively referred to as the <b>chromatin</b> fibre. \n",
    "\n",
    "Nucleosomes are made up of a specific class of proteins known as <b>histones</b>. Specific amino acids residues in the tails of these histone proteins can be modified with a wide variety of chemical modifications such as acetylation, methylation etc. These modifications are referred to as <b>histone or chromatin modifications</b>. Some histone modifications are activating and others are repressive. Combinations of histone modifications are used by the cell to mark different types of functional elements and their activity states. E.g. Enhancers and promoters have different combinations of histone modifications. Active gene bodies have other modifications. Repressed domains have other modifications. These distinct combinations of histone modifications that define specific types of elements are called the <b>histone code</b> or <b>chromatin states</b>.\n",
    "\n",
    "Cytosines in DNA can also be methylated. These modifications are referred to as <b>DNA methylation</b>. Note that DNA methylation is a direct modification to DNA wherease histone modifications are modifications to the histone proteins in the the nucleosomes that the DNA is wrapped around.\n",
    "\n",
    "Each cell type has a distinct and characteristic map of chromatin state and DNA methylation across the genome which is referred to as the <b>epigenome</b> of the cell type. The epigenome can be modified in response to changes in environment or cell state. Epigenomic modifications is the primary conduit through which the information encoded in the DNA (genetic code of genes and the motif code of regulatory elements) interacts and responds to the environment.\n",
    "\n",
    "A region of DNA in the genome can behave differently in different cell states based on its epigenomic/chromatin state even though the DNA sequence is identical in the different cell states. This is the primary basis by which the same genomic sequence can give rise to the diversity of cell types and tissues in the human body."
   ]
  },
  {
   "cell_type": "markdown",
   "metadata": {},
   "source": [
    "## Interpreting genome-wide chromatin state maps in 100s of cell types and tissues from the ENCODE and Roadmap Epigenomics Projects <a name=\"roadmap\"/>"
   ]
  },
  {
   "cell_type": "markdown",
   "metadata": {},
   "source": [
    "Analogous to the <a href=\"https://www.gtexportal.org/home/\">GTEx Project</a>, whose goal was to map gene expression variation across celltypes/tissues and individuals, the NIH funded two large projects <a href=\"https://www.encodeproject.org/\">The Encyclopedia of DNA Elements (ENCODE)</a> and <a href=\"http://www.roadmapepigenomics.org/\">The Roadmap Epigenomics Project</a> to map chromatin states across the entire genome in 100s of diverse cell types and tissues.\n",
    "\n",
    "Just as <b>ChIP-seq experiments</b> can be used to map genome-wide binding locations of transcription factors, the same technique can also be used to map genome-wide locations of different chromatin modifications. While there are 100s of different histone modifications, luckily, a few (~5-10) have been found to be sufficient to map most of the important classes of functional elements in the genome such as genes, promoters and enhancers. Hence, mapping histone modifications is a powerful and economical approach to map regulatory elements genome-wide and also obtain the cell type and tissue-specific activity states.\n",
    "\n",
    "The ENCODE and Roadmap Epigenomics projects performed ChIP-seq experiments for 5-10s of histone modifications across 100s of diverse cell types and tissues. Computational approaches were used to identify the predominant combinations of histone modifications i.e. elucidate the key types of <b>chromatin states</b>. \n",
    "\n",
    "The projects were able to identify over <b>2 million putative enhancers</b> across the diverse cell types and tissues thereby providing the first reference epigenomic and regulatory map of the human genome.\n",
    "\n",
    "<b>Clustering</b> analysis of the activity patterns of the 2 million enhancers revealed modular clusters of enhancers with highly tissue-specific activation patterns. (See slides above)\n",
    "\n",
    "<b>Gene-Ontology enrichment analysis</b> of these enhancer clusters i.e. using genes in proximity to the enhancers in each cluster revealed that the enhancers regulate genes with highly tissue-specific functions. These enhancers hence define the regulatory circuitry that defines cell identity. (See slides above)\n",
    "\n",
    "<b>Motif enrichment analysis</b> of the DNA sequences of enhancers in each cluster also reveal distinct motifs of tissue-specific transcription factors embedded in the enhancers. (See slides above)\n",
    "\n",
    "We will visualize histone ChIP-seq data for several histone modifications in the IMR-90 fibroblast cell-line in the WashU browser http://epigenomegateway.wustl.edu/browser/?genome=hg19&session=srmdBPr0KW&statusId=1954345662\n",
    "\n",
    "We will visualize compact chromatin state maps across all 127 cell types and tissues using the WashU epigenome browser \n",
    "http://epigenomegateway.wustl.edu/legacy/?genome=hg19&session=S2GryDq9Tn&statusId=1086888834"
   ]
  },
  {
   "cell_type": "code",
   "execution_count": null,
   "metadata": {},
   "outputs": [],
   "source": []
  }
 ],
 "metadata": {
  "anaconda-cloud": {},
  "kernelspec": {
   "display_name": "Python 3",
   "language": "python",
   "name": "python3"
  },
  "language_info": {
   "codemirror_mode": {
    "name": "ipython",
    "version": 3
   },
   "file_extension": ".py",
   "mimetype": "text/x-python",
   "name": "python",
   "nbconvert_exporter": "python",
   "pygments_lexer": "ipython3",
   "version": "3.7.10"
  }
 },
 "nbformat": 4,
 "nbformat_minor": 4
}
