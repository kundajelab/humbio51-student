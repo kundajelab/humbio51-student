{
 "cells": [
  {
   "cell_type": "markdown",
   "metadata": {},
   "source": [
    "## Big Data for Biologists: Decoding Genomic Function - Class 13\n",
    "\n",
    "\n",
    "##  Learning Objectives\n",
    "***Students should be able to***\n",
    " <ol>\n",
    "    \n",
    "<li> <a href=#Arithmetic>Use the bedtools closest and bedtools intersect functions be used to identify expressed genes from active promoter and strong enhancer sites.</a></li>\n",
    "<li> <a href=#Subtract>Use the bedtools subtract command be used to compare the activity of promoters and enhancers across cell types. </a></li>\n",
    "<li> <a href=#IntersectBed> Use the intersectBed command to extract sequences corresponding to promoter or enhancer regions for a gene from CHiP-seq data </a></li> \n",
    "<li> <a href=#BestPractices> Use bedtools best practices to work with large bed files in a memory-efficient manner.</a></li>"
   ]
  },
  {
   "cell_type": "markdown",
   "metadata": {},
   "source": [
    "## Using the bedtools closest and bedtools intersect functions to identify expressed genes from active promoter and strong enhancer sites. <a name='Arithmetic' />"
   ]
  },
  {
   "cell_type": "markdown",
   "metadata": {},
   "source": [
    "We obtain a list of promoters and enhancers for the H1-hESC cell line (embryonic stem cells) from ENCODE [here](http://genome.ucsc.edu/cgi-bin/hgFileUi?db=hg19&g=wgEncodeBroadHmm). Both files are in the [Bed6 format](https://genome.ucsc.edu/FAQ/FAQformat#format1). By comparing the location of active promoters and strong enhancers in the genome to the location of genes, we can get a good sense of which genes are active. \n",
    "\n",
    "Let's examine the contents of the active promoter and strong enhancer files: "
   ]
  },
  {
   "cell_type": "code",
   "execution_count": null,
   "metadata": {},
   "outputs": [],
   "source": [
    "# The active promoter file: \n",
    "!head -n10 data/wgEncodeBroadHmmH1hescHMM.active_promoters.bed"
   ]
  },
  {
   "cell_type": "code",
   "execution_count": null,
   "metadata": {},
   "outputs": [],
   "source": [
    "#The strong enhancer file: \n",
    "!head -n10 data/wgEncodeBroadHmmH1hescHMM.strong_enhancers.bed"
   ]
  },
  {
   "cell_type": "markdown",
   "metadata": {},
   "source": [
    "We also have a list of gene coordinates for the hg19 human reference genome. The column meanings are as follows: \n",
    "* column 1: Chromosome name \n",
    "* column 2: Start of transcription \n",
    "* column 3: End of transcription \n",
    "* column 4: Chromatin state \n",
    "* column 5: Place holder (you can ignore this) \n",
    "* column 6: Strand information"
   ]
  },
  {
   "cell_type": "code",
   "execution_count": null,
   "metadata": {},
   "outputs": [],
   "source": [
    "!head -n10 data/hg19.gene_coords.bed"
   ]
  },
  {
   "cell_type": "markdown",
   "metadata": {},
   "source": [
    "We use the **wc** command to determine the total number of genes in the reference genome: "
   ]
  },
  {
   "cell_type": "code",
   "execution_count": null,
   "metadata": {},
   "outputs": [],
   "source": [
    "!wc -l data/hg19.gene_coords.bed"
   ]
  },
  {
   "cell_type": "markdown",
   "metadata": {},
   "source": [
    "We would like to see which genes are expressed in the H1-hESC cell type. The [bedtools intersect](http://bedtools.readthedocs.io/en/latest/content/tools/intersect.html) command can be used to intersect the file of active promoters with the list of gene coordinates to determine which genes are being expressed."
   ]
  },
  {
   "cell_type": "code",
   "execution_count": null,
   "metadata": {},
   "outputs": [],
   "source": [
    "!bedtools intersect -u -a data/hg19.gene_coords.bed  -b data/wgEncodeBroadHmmH1hescHMM.active_promoters.bed  > expressed_genes_H1.active_promoters.bed"
   ]
  },
  {
   "cell_type": "markdown",
   "metadata": {},
   "source": [
    "Let's examine the resulting file to see which genes intersect active promoters and are therefore turned on in the H1 cell line:"
   ]
  },
  {
   "cell_type": "code",
   "execution_count": null,
   "metadata": {},
   "outputs": [],
   "source": [
    "!head -n10 expressed_genes_H1.active_promoters.bed"
   ]
  },
  {
   "cell_type": "markdown",
   "metadata": {},
   "source": [
    "We can use the **wc** command to see how many genes are expressed in total: "
   ]
  },
  {
   "cell_type": "code",
   "execution_count": null,
   "metadata": {},
   "outputs": [],
   "source": [
    "! wc -l expressed_genes_H1.active_promoters.bed "
   ]
  },
  {
   "cell_type": "markdown",
   "metadata": {},
   "source": [
    "Looks like there are 10,081 expressed genes in the cell line, which is slightly less than half of all reference genes. \n",
    "\n",
    "Now, let's try the same intersection for the strong enhancers: "
   ]
  },
  {
   "cell_type": "code",
   "execution_count": null,
   "metadata": {},
   "outputs": [],
   "source": [
    "!bedtools intersect -u -a data/hg19.gene_coords.bed -b data/wgEncodeBroadHmmH1hescHMM.strong_enhancers.bed > expressed_genes_H1.strong_enhancers.bed"
   ]
  },
  {
   "cell_type": "markdown",
   "metadata": {},
   "source": [
    "Let's see how many genes show up as intersecting a strong  enhancer:"
   ]
  },
  {
   "cell_type": "code",
   "execution_count": null,
   "metadata": {},
   "outputs": [],
   "source": [
    "!wc -l expressed_genes_H1.strong_enhancers.bed"
   ]
  },
  {
   "cell_type": "markdown",
   "metadata": {},
   "source": [
    "Note that we observe a much smaller number of genes -- only 4158 as opposed to 10081 when we examined intersection with active promoters. What could account for this difference? There are two possible explanations. \n",
    "\n",
    "Not every expressed gene will be associated with a strong enhancer. Some may be associated with a weak enhancer, or not  have an associated enhancer at all. \n",
    "\n",
    "Additionally, many enhancers are distal-acting -- they are located several hundred bases away from the target gene. After a transcription factor has bound to the enhancer region, the DNA must form a loop to bring the transcription factor into contact with the target gene:\n",
    "![Enhancers are several hundred bases away from target genes](../Images/13_enhancer_position.png)"
   ]
  },
  {
   "cell_type": "markdown",
   "metadata": {},
   "source": [
    "So we don't expect most of the enhancers to intersect the target gene. However, we expect the enhancer to be fairly close to the target gene. Generally (but not always!), the closest gene to a strong enhancer is that enhancer's target gene. We can then identify expressed genes from our list of strong enhancers by using the [**bedtools closest**](http://bedtools.readthedocs.io/en/latest/content/tools/closest.html) command. "
   ]
  },
  {
   "cell_type": "markdown",
   "metadata": {},
   "source": [
    "*closest* searches for overlapping features in A and B. In the event that no feature in B overlaps the current feature in A, closest will report the nearest (that is, least genomic distance from the start or end of A) feature in B. Note that closest will report an overlapping feature as the closest—that is, it does not restrict to closest non-overlapping feature. The following iconic “cheatsheet” summarizes the functionality available through the various options provided by the closest tool.\n",
    "![bedtools closest cheat sheet](../Images/11_bedtools_closest_cheatsheet.png)\n"
   ]
  },
  {
   "cell_type": "markdown",
   "metadata": {},
   "source": [
    "We would like to know how far the enhancer is from the target gene, so we add the -d flag to report this distance. We would also like all genes to be reported in the case of ties, so we use the *-t all* flag. "
   ]
  },
  {
   "cell_type": "code",
   "execution_count": null,
   "metadata": {},
   "outputs": [],
   "source": [
    "!bedtools closest -d -t all -a data/wgEncodeBroadHmmH1hescHMM.strong_enhancers.bed -b data/hg19.gene_coords.bed > expressed_genes.H1.closest.bed "
   ]
  },
  {
   "cell_type": "markdown",
   "metadata": {},
   "source": [
    "Let's examine the output:"
   ]
  },
  {
   "cell_type": "code",
   "execution_count": null,
   "metadata": {},
   "outputs": [],
   "source": [
    "!head -n10 expressed_genes.H1.closest.bed "
   ]
  },
  {
   "cell_type": "markdown",
   "metadata": {},
   "source": [
    "Perform a sort operation on the gene name column (column 13) to count the number of unique genes identified by the *bedtools closest* command: "
   ]
  },
  {
   "cell_type": "code",
   "execution_count": null,
   "metadata": {},
   "outputs": [],
   "source": [
    "#cut column 13 from the bed file (this contains the gene names)\n",
    "!cut -f13 expressed_genes.H1.closest.bed > tmp1\n",
    "\n",
    "#sort the gene names \n",
    "!sort  tmp1 > tmp2 \n",
    "#get the unique gene names from the sorted data. \n",
    "!uniq tmp2 > tmp3 \n",
    "\n",
    "#count the number of lines in the file. \n",
    "!wc -l tmp3 "
   ]
  },
  {
   "cell_type": "markdown",
   "metadata": {},
   "source": [
    "Now we see 6975 genes, as opposed to 4158 when we used the bedtools intersect command. "
   ]
  },
  {
   "cell_type": "markdown",
   "metadata": {},
   "source": [
    "## Use the bedtools subtract command to compare the activity of promoters and enhancers across cell types. <a name='Subtract' />"
   ]
  },
  {
   "cell_type": "markdown",
   "metadata": {},
   "source": [
    "How would the gene expression profile change if we examined a different cell type? We have downloaded data for the Hepg cell line (from the liver). We repeat our analysis from above: "
   ]
  },
  {
   "cell_type": "code",
   "execution_count": null,
   "metadata": {},
   "outputs": [],
   "source": [
    "# Here is the file of active promoter regions in the Hepg2 cell line: \n",
    "!head -n10 data/wgEncodeBroadHmmHepg2HMM.active_promoters.bed"
   ]
  },
  {
   "cell_type": "code",
   "execution_count": null,
   "metadata": {},
   "outputs": [],
   "source": [
    "#Intersect the active promoters file with the gene coordinates file to get the list of expressed genes \n",
    "# in the Hepg2 cell line \n",
    "# BEGIN SOLUTION \n",
    "# END SOLUTION "
   ]
  },
  {
   "cell_type": "code",
   "execution_count": null,
   "metadata": {},
   "outputs": [],
   "source": [
    "#Here is the file of strong enhancers in the Hegp2 cell line: \n",
    "!head -n10 data/wgEncodeBroadHmmHepg2HMM.strong_enhancers.bed"
   ]
  },
  {
   "cell_type": "code",
   "execution_count": null,
   "metadata": {},
   "outputs": [],
   "source": [
    "# Use the bedtools closest command to map strong enhancers to active genes  \n",
    "# BEGIN SOLUTION \n",
    "# END SOLUTION "
   ]
  },
  {
   "cell_type": "markdown",
   "metadata": {},
   "source": [
    "We are now interested in the different genes that are expressed in the H1 cell line as compared to the Hepg2 cell line. We can use the [bedtools subtract](http://bedtools.readthedocs.io/en/latest/content/tools/subtract.html) command to identify entries that are present in one bed file but not present in another bed file. \n",
    "\n",
    "The syntax for this command is: \n",
    "\n",
    "bedtools subtract -a **fileA** -b **fileB**\n",
    "\n",
    "Any region from fileB that overlaps a region in fileA will be subtracted from fileA: \n",
    "\n",
    "![bedtools closest cheat sheet](../Images/12_subtract.png)\n",
    "\n",
    "\n"
   ]
  },
  {
   "cell_type": "code",
   "execution_count": null,
   "metadata": {},
   "outputs": [],
   "source": [
    "#Subtract the promoter-intersected genes of the H1 cell line from \n",
    "#the promoter-intersected genes of the Hepg2 cell line. \n",
    "## BEGIN SOLUTION \n",
    "## END SOLUTION "
   ]
  },
  {
   "cell_type": "code",
   "execution_count": null,
   "metadata": {},
   "outputs": [],
   "source": [
    "#Subtract the promoter-interested genes of the Hepg2 cell line from \n",
    "#the promoter-intersected genes of the H1 cell line.\n",
    "## BEGIN SOLUTION \n",
    "## END SOLUTION "
   ]
  },
  {
   "cell_type": "markdown",
   "metadata": {},
   "source": [
    "## Use the intersectBed command to extract sequences corresponding to promoter or enhancer regions for a gene from ChIP-seq data <a name='IntersectBed'>"
   ]
  },
  {
   "cell_type": "markdown",
   "metadata": {},
   "source": [
    "We have fetched a list of enhancer-like and promoter-like regions for the H1 embryonic stem cell line in humans (hg19)\n",
    "\n",
    "These are stored in the following files: \n",
    "\n",
    "**ENCSR000DRY_predictions_promoter.bed** for the promoter file.\n",
    "\n",
    "**ENCSR000ANP_predictions_enhancer.bed** for the enhnacer file. "
   ]
  },
  {
   "cell_type": "code",
   "execution_count": null,
   "metadata": {},
   "outputs": [],
   "source": [
    "!head data/ENCSR000DRY_predictions_promoter.bed"
   ]
  },
  {
   "cell_type": "markdown",
   "metadata": {},
   "source": [
    "#### What file format is the data in? What is contained in each of the first five columns? \n",
    "Your answer: \n",
    "    \n",
    "#### Bonus question -- can you explain the meaning of the remaining columns in the file (column 6 and up)? \n",
    "Your answer:"
   ]
  },
  {
   "cell_type": "markdown",
   "metadata": {},
   "source": [
    "Prior studies have shown that the gene **LIN28A** is associated with cell differentiation, and you hypothesize that this gene is likely to be expressed in the H1 cell line, as these are embryonic cells that are undergoing differentiation.  Look up LIN28A in the [WashU Genome Browser](http://epigenomegateway.wustl.edu/browser/) to find the chromosome and position of the LIN28A gene.  Fill in the chromosome and the starting and ending coordinates of LIN28A below:"
   ]
  },
  {
   "cell_type": "code",
   "execution_count": null,
   "metadata": {},
   "outputs": [],
   "source": [
    "chrom_lin28a=\"chr1\" #replace \"\" with the chromosome of the gene \n",
    "startpos_lin28a=26737268 #replace None with the gene start position \n",
    "endpos_lin28a=26756213 #replace None with the gene end position"
   ]
  },
  {
   "cell_type": "markdown",
   "metadata": {},
   "source": [
    "We will use the bedtools intersect command to find the H1  promoter and enhancer peaks that are within 50kb of the LIN28A gene. "
   ]
  },
  {
   "cell_type": "code",
   "execution_count": null,
   "metadata": {},
   "outputs": [],
   "source": [
    "#You need to store LIN28A's coordinates in a bed file in order to run the intersect command \n",
    "## Execute this code block to generate a bed file containing the LIN28A coordinates, including regions 50k \n",
    "## upstream & downstream of the gene \n",
    "\n",
    "#add 50kb to the start and end coordinates \n",
    "startpos_lin28a-=50000\n",
    "endpos_lin28a+=50000\n",
    "\n",
    "outf=open(\"LIN28A.coords.bed\",'w')\n",
    "\n",
    "#convert coordinates to string values in preparation for writing to output file\n",
    "output_line=[str(i) for i in [chrom_lin28a,startpos_lin28a,endpos_lin28a,'lin28a'] ]\n",
    "\n",
    "#write the coordinates to the output file. \n",
    "outf.write('\\t'.join(output_line)+'\\n')\n",
    "\n",
    "#close the output file.\n",
    "outf.close() "
   ]
  },
  {
   "cell_type": "code",
   "execution_count": null,
   "metadata": {},
   "outputs": [],
   "source": [
    "!cat LIN28A.coords.bed"
   ]
  },
  {
   "cell_type": "code",
   "execution_count": null,
   "metadata": {},
   "outputs": [],
   "source": [
    "## Now you can intersect the promoter files with the LIN28A coordinates \n",
    "\n",
    "## promoter peaks \n",
    "!bedtools intersect -wa -a data/ENCSR000DRY_predictions_promoter.bed -b LIN28A.coords.bed \n",
    "\n",
    "print()\n",
    "\n",
    "## you can use the intersectBed shortcut, it will do the same thing \n",
    "!intersectBed -wa -a data/ENCSR000DRY_predictions_promoter.bed -b LIN28A.coords.bed\n",
    "\n",
    "print()\n",
    "\n",
    "##TODO: write a command to intersect the enhancer peak files with LIN28A coordinates \n",
    "## BEGIN SOLUTION \n",
    "## END SOLUTION "
   ]
  },
  {
   "cell_type": "markdown",
   "metadata": {},
   "source": [
    "## Bedtools best practices  <a name='BestPractices' />"
   ]
  },
  {
   "cell_type": "markdown",
   "metadata": {},
   "source": [
    "In your course project, you will find yourself working with large files, such as a file containing all known transcription factor locations in the genome. There are two things we recommend to make bedtools operations on large files faster and more memory efficient: "
   ]
  },
  {
   "cell_type": "markdown",
   "metadata": {},
   "source": [
    "**1) Whenever a BEDTool compares two files of features, the “B” file is loaded into memory. By contrast, the “A” file is processed line by line and compared with the features from B. Therefore to minimize memory usage, one should set the smaller of the two files as the B file.**"
   ]
  },
  {
   "cell_type": "code",
   "execution_count": null,
   "metadata": {},
   "outputs": [],
   "source": [
    "%%timeit\n",
    "!bedtools intersect -wa -a data/ENCSR000DRY_predictions_promoter.bed -b LIN28A.coords.bed "
   ]
  },
  {
   "cell_type": "code",
   "execution_count": null,
   "metadata": {},
   "outputs": [],
   "source": [
    "%%timeit\n",
    "!bedtools intersect -wa -b data/ENCSR000DRY_predictions_promoter.bed -a LIN28A.coords.bed "
   ]
  },
  {
   "cell_type": "markdown",
   "metadata": {},
   "source": [
    "Notice how the second command takes longer to execute. The difference is small for our example, but will quickly increase for much larger files. "
   ]
  },
  {
   "cell_type": "markdown",
   "metadata": {},
   "source": [
    "**2) Using the -sorted option on pre-sorted a & b files will invoke a memory-efficient intersection algorithm and avoid the default sorting of the files on-the-fly.**\n",
    "\n"
   ]
  },
  {
   "cell_type": "code",
   "execution_count": null,
   "metadata": {},
   "outputs": [],
   "source": [
    "#sort our files \n",
    "!bedtools sort -i data/ENCSR000DRY_predictions_promoter.bed > ENCSR000DRY_predictions_promoter.sorted.bed "
   ]
  },
  {
   "cell_type": "code",
   "execution_count": null,
   "metadata": {},
   "outputs": [],
   "source": [
    "%%timeit\n",
    "\n",
    "#run bedtools intersect without the sorted flag \n",
    "!bedtools intersect -wa -a ENCSR000DRY_predictions_promoter.sorted.bed -b LIN28A.coords.bed "
   ]
  },
  {
   "cell_type": "code",
   "execution_count": null,
   "metadata": {},
   "outputs": [],
   "source": [
    "%%timeit\n",
    "\n",
    "#run bedtools intersect with the -sorted flag \n",
    "!bedtools intersect -sorted -wa -a ENCSR000DRY_predictions_promoter.sorted.bed -b LIN28A.coords.bed "
   ]
  },
  {
   "cell_type": "markdown",
   "metadata": {},
   "source": [
    "The genomewide motif file we will use for the course project is \"/data/project/motifs.bed.gz\". You can experiment with the commands below to see if you get a speedup with the two suggestions above. \n",
    "Warning: Using the non-optimized bedtools intersect command may crash  your kernel, so *MAKE SURE YOU SAVE YOUR WORK* before running the below commands. "
   ]
  },
  {
   "cell_type": "code",
   "execution_count": null,
   "metadata": {},
   "outputs": [],
   "source": [
    "%%time\n",
    "#non-optimized \n",
    "!bedtools intersect -a LIN28A.coords.bed -b /data/project/motifs.bed.gz > tmp\n"
   ]
  },
  {
   "cell_type": "code",
   "execution_count": null,
   "metadata": {},
   "outputs": [],
   "source": [
    "%%time \n",
    "#using the smaller file as file -b \n",
    "!bedtools intersect -b LIN28A.coords.bed -a /data/project/motifs.bed.gz > tmp"
   ]
  },
  {
   "cell_type": "code",
   "execution_count": null,
   "metadata": {},
   "outputs": [],
   "source": [
    "%%time \n",
    "#adding the sorted flag \n",
    "!bedtools intersect -sorted -b LIN28A.coords.bed -a /data/project/motifs.bed.gz > tmp"
   ]
  },
  {
   "cell_type": "code",
   "execution_count": null,
   "metadata": {},
   "outputs": [],
   "source": []
  }
 ],
 "metadata": {
  "anaconda-cloud": {},
  "kernelspec": {
   "display_name": "Python 3",
   "language": "python",
   "name": "python3"
  },
  "language_info": {
   "codemirror_mode": {
    "name": "ipython",
    "version": 3
   },
   "file_extension": ".py",
   "mimetype": "text/x-python",
   "name": "python",
   "nbconvert_exporter": "python",
   "pygments_lexer": "ipython3",
   "version": "3.7.10"
  }
 },
 "nbformat": 4,
 "nbformat_minor": 4
}
