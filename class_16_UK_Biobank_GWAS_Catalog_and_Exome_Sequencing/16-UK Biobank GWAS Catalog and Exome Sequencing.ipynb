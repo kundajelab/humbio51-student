{
 "cells": [
  {
   "cell_type": "markdown",
   "metadata": {},
   "source": [
    "## Big Data for Biologists: Exome Sequencing and the UK Biobank - Class 16\n",
    "##  Learning Objectives\n",
    "***Students should be able to***\n",
    " <ol>\n",
    " <li><a href=#2>Use data from the UK Biobank to interpret genome-wide association studies (GWAS) </a></li>\n",
    " <li><a href=#3>Use the Global Biobank Browser to gain insights of phenotype associations of coding and non-coding variants.</a></li>\n",
    " <li><a href=#4>Use data from the GWAS Catalog to interpret genome-wide association studies (GWAS) </a></li>\n",
    " <li><a href=#1>Explain the difference between exome sequencing and whole genome sequencing, and recognize the types of information that can be gained from exome sequencing.</a></li>\n",
    "</ol>\n",
    " "
   ]
  },
  {
   "cell_type": "markdown",
   "metadata": {},
   "source": [
    "## Introduction to the UK Biobank <a name='2'/>"
   ]
  },
  {
   "cell_type": "code",
   "execution_count": 1,
   "metadata": {},
   "outputs": [
    {
     "data": {
      "text/html": [
       "<iframe src=\"https://docs.google.com/presentation/d/e/2PACX-1vSp-IakD3K7_6HGDsypfBf9s3YEOvLpPc3YZ-nDCoN-ZkdwxbWTN9cY1ggLxhNkoLvPYxS7dC94K--w/embed?start=false&loop=false&delayms=60000\" frameborder=\"0\" width=\"960\" height=\"569\" allowfullscreen=\"true\" mozallowfullscreen=\"true\" webkitallowfullscreen=\"true\"></iframe>"
      ],
      "text/plain": [
       "<IPython.core.display.HTML object>"
      ]
     },
     "execution_count": 1,
     "metadata": {},
     "output_type": "execute_result"
    }
   ],
   "source": [
    "import warnings\n",
    "warnings.filterwarnings('ignore')\n",
    "from IPython.display import HTML\n",
    "HTML('<iframe src=\"https://docs.google.com/presentation/d/e/2PACX-1vSp-IakD3K7_6HGDsypfBf9s3YEOvLpPc3YZ-nDCoN-ZkdwxbWTN9cY1ggLxhNkoLvPYxS7dC94K--w/embed?start=false&loop=false&delayms=60000\" frameborder=\"0\" width=\"960\" height=\"569\" allowfullscreen=\"true\" mozallowfullscreen=\"true\" webkitallowfullscreen=\"true\"></iframe>')"
   ]
  },
  {
   "cell_type": "markdown",
   "metadata": {},
   "source": [
    "## The Global Biobank Engine <a name='3'/>"
   ]
  },
  {
   "cell_type": "markdown",
   "metadata": {},
   "source": [
    "Navigate to the Global Biobank Engine: https://biobankengine.stanford.edu/\n",
    "        "
   ]
  },
  {
   "cell_type": "markdown",
   "metadata": {},
   "source": [
    "1) Which variant has the most significant association with skin cancer? What is the p-vaue for this association? \n",
    "\n",
    "Your answer here: "
   ]
  },
  {
   "cell_type": "markdown",
   "metadata": {},
   "source": [
    "2) Is this variant a coding or a non-coding variant? \n",
    "\n",
    "Your answer here: "
   ]
  },
  {
   "cell_type": "markdown",
   "metadata": {},
   "source": [
    "3) In addition to skin cancer, this variant is associated with several other phenotypes? What phenotype shows the most significant association?\n",
    "Hint: the p-value for this association is 1.344e-247\n",
    "\n",
    "Your answer here: "
   ]
  },
  {
   "cell_type": "markdown",
   "metadata": {},
   "source": [
    "4) What is the most significant missense mutation associated with the sking cancer phenotype? \n",
    "\n",
    "Your answer here: \n",
    "\n",
    "5) What is the p-value for this associaion? \n",
    "\n",
    "Your answer here: "
   ]
  },
  {
   "cell_type": "markdown",
   "metadata": {},
   "source": [
    "6) What are the top 3 phenotype associations for the variant at position 1:169519049 ? \n",
    "\n",
    "Your answer here: \n",
    "    "
   ]
  },
  {
   "cell_type": "markdown",
   "metadata": {},
   "source": [
    "7) What is the most significant phenotypic association for the FTO gene? \n",
    "\n",
    "Your answer here: "
   ]
  },
  {
   "cell_type": "markdown",
   "metadata": {},
   "source": [
    "8) What three variants in the FTO gene have the most significant phenotype associations? \n",
    "\n",
    "Your answer here: "
   ]
  },
  {
   "cell_type": "markdown",
   "metadata": {},
   "source": [
    "9) What missense and frameshift variants are found on chromosome 19 between position 19,900,000 and 20,000,000? \n",
    "\n",
    "Your answer here: \n",
    "    \n",
    "10) What genes is each of these variants associated with? "
   ]
  },
  {
   "cell_type": "markdown",
   "metadata": {},
   "source": [
    "## Introduction to the GWAS Catalog <a name='4'/>"
   ]
  },
  {
   "cell_type": "markdown",
   "metadata": {},
   "source": [
    "https://www.ebi.ac.uk/gwas/\n",
    "\n",
    "In the search bar, type a keyword of interest. That could be:\n",
    "\n",
    "* a trait or its synonym (traits are ontology indexed)\n",
    "* a genomic location/region\n",
    "* a variant e.g. rsID\n",
    "* a gene\n",
    "* sample description\n",
    "* publication details e.g. title, (first) author, journal etc\n",
    "\n",
    "Once you have pressed the search button, you will be directed to a results page, which displays summary information divided into main three sections (known as facets):\n",
    "\n",
    "* Studies - displays a summary of the GWAS publications available relating to your query\n",
    "* Associations - displays a summary of the variant-trait associations relating to your query\n",
    "* Catalog traits - displays a summary of the traits and their ontology terms relating to your query\n",
    "\n",
    "Note that there are a number of ways you can further filter the results by using the tab at the left of the page. \n"
   ]
  },
  {
   "cell_type": "markdown",
   "metadata": {},
   "source": [
    "The \"associations\" link for a GWAS Catalog search contains the following information: \n",
    "* SNP - The variant most strongly associated with the trait, reported as the rsID, along with the risk/effect allele. The association may also be with a haplotype or SNPxSNP interaction. The button links out to the Ensembl page with further details about the variant.\n",
    "\n",
    "* RAF - Risk allele frequency - the proportion of the sampled control population carrying the trait-associated variant\n",
    "\n",
    "* p-value - The probability that the variant is associated with the trait that is listed\n",
    "* OR - Odds ratio - the number of times someone is more likely to exhibit the disease/trait if they possess the risk/effect allele\n",
    "* Beta - Regression coefficient to indicate the effect size on the trait of possessing the risk/effect allele\n",
    "* Cl - The 95% confidence interval for the odds ratio or beta (depending on which is reported)\n",
    "* Location - The precise genomic chromosome and base pair location\n",
    "* Functional Class - Functional class of variant i.e. whether it falls in an intron/exon etc\n",
    "* Reported genes - Genes reported by the author as being co-located with the variant\n",
    "* Mapped genes - The gene that the variant is mapped within, or the closest upstream and downstream genes, according to  Ensembl  \n",
    "* Reported trait - A description of the trait examined in the study based on language reported in the publication\n",
    "* Study - Details of the study - first author, PubMed ID and year of publication, with a link out to PubMed Central\n"
   ]
  },
  {
   "cell_type": "markdown",
   "metadata": {},
   "source": [
    "## Introduction to Exome Sequencing <a name='1'/>"
   ]
  },
  {
   "cell_type": "code",
   "execution_count": 2,
   "metadata": {},
   "outputs": [
    {
     "data": {
      "text/html": [
       "<iframe src=\"https://drive.google.com/file/d/1WS-CpjsRZi-s8l94KM34Szi0LeVzwGmJ/preview\" width=\"1000\" height=\"480\"></iframe>"
      ],
      "text/plain": [
       "<IPython.core.display.HTML object>"
      ]
     },
     "execution_count": 2,
     "metadata": {},
     "output_type": "execute_result"
    }
   ],
   "source": [
    "from IPython.display import HTML\n",
    "HTML('<iframe src=\"https://drive.google.com/file/d/1WS-CpjsRZi-s8l94KM34Szi0LeVzwGmJ/preview\" width=\"1000\" height=\"480\"></iframe>')"
   ]
  },
  {
   "cell_type": "code",
   "execution_count": null,
   "metadata": {},
   "outputs": [],
   "source": []
  }
 ],
 "metadata": {
  "anaconda-cloud": {},
  "kernelspec": {
   "display_name": "Python 3",
   "language": "python",
   "name": "python3"
  },
  "language_info": {
   "codemirror_mode": {
    "name": "ipython",
    "version": 3
   },
   "file_extension": ".py",
   "mimetype": "text/x-python",
   "name": "python",
   "nbconvert_exporter": "python",
   "pygments_lexer": "ipython3",
   "version": "3.7.10"
  }
 },
 "nbformat": 4,
 "nbformat_minor": 4
}
