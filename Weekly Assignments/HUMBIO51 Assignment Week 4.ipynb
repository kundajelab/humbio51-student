{
 "cells": [
  {
   "cell_type": "markdown",
   "metadata": {},
   "source": [
    " ## HUMBIO51 Assignment Week 4"
   ]
  },
  {
   "cell_type": "markdown",
   "metadata": {},
   "source": [
    "<ol>\n",
    " <li> <a href=#GeneExpressionIntro>Quantify gene expression and understand units of gene expression levels</a></li>\n",
    " <li> <a href=#GeneExpressionIntro>Interpret a box plot </a></li>\n",
    " <li> <a href=#GeneExpressionIntro>Visualize gene expression variation across cell types and individuals from the GTEx project</a></li>\n",
    " <li><a href=#RNASeqDataFormat>Recognize that data from an RNA-Seq experiment can be processed and stored in a format that can be read into Python</a></li>\n",
    " <li> <a href=#IDHeaderSep>Identify the separator and header in a data table</a></li> \n",
    " <li><a href=#LoadTable> Load a data table in .csv or .tsv format into Python</a></li>\n",
    " <li> <a href=#DataTableDim>Get the dimensions of a data table in Python  </a></li>\n",
    " <li> <a href=#MetaData>Load RNA-Seq metadata for the physiological system of a cell type into Python</a></li> \n",
    " <li> <a href=#Slicing>Slice a data table in Python to select a subset of rows or columns. </a></li> \n",
    " <li> <a href=#Barplot>Make a bar plot from a data table using Python </a></li>\n",
    " <li> <a href=#PCA>Understand what Principal Component analysis is and how it can be used to analyze and visualize variation in large datasets</a></li>\n",
    " <li> <a href=#PCA>Perform prinicipal component analysis to identify clustering patterns in gene expression data </a></li>\n",
    " <li> <a href=#Scatter>Make a scatter plot of the output from principal component analysis</a></li>\n",
    " "
   ]
  },
  {
   "cell_type": "markdown",
   "metadata": {},
   "source": [
    "## QUESTION 1\n",
    "\n",
    "The RNA-Seq data set that we have been using in class (**'/data/datasets/RNAseq/rnaseq_normalized.tsv'**) includes gene expression data for the MYH7 gene. Mutations in MYH7 have been associated with hypertrophic cardiomyopathy, an inherited cardiovascular disase  (more information \n",
    "[here](https://bmccardiovascdisord.biomedcentral.com/articles/10.1186/s12872-020-01807-4)). \n",
    "\n",
    "In this question you will look at the gene expression profile of MYH7 across different samples in the RNA-Seq dataset. \n"
   ]
  },
  {
   "cell_type": "markdown",
   "metadata": {},
   "source": [
    "### QUESTION 1a\n",
    "\n",
    "Fill in the code below to read in the RNA-Seq datatable that we have been using in class into a dataframe using the pandas package. "
   ]
  },
  {
   "cell_type": "code",
   "execution_count": null,
   "metadata": {},
   "outputs": [],
   "source": [
    "#Import the pandas package and read in the RNA-Seq dataset that we have been using in class\n",
    "#Print out the first thirty rows of the dataset to the screen "
   ]
  },
  {
   "cell_type": "markdown",
   "metadata": {},
   "source": [
    "### QUESTION 1b\n",
    "\n",
    "Select the row of '/data/datasets/RNAseq/rnaseq_normalized.tsv' that has the RNA-seq data for MYH7. "
   ]
  },
  {
   "cell_type": "code",
   "execution_count": null,
   "metadata": {},
   "outputs": [],
   "source": [
    "#Select the row of '/data/datasets/RNAseq/rnaseq_normalized.tsv' that has the RNA-seq data for MYH7\n",
    "#The identifier for MYH7 is ENSG00000092054.12\n",
    "#Store the data in a variable that you can refer to for other questions."
   ]
  },
  {
   "cell_type": "markdown",
   "metadata": {},
   "source": [
    "### QUESTION 1c\n",
    "\n",
    "In class we used the plotnine package to make bar graphs for the number of samples in each system. In this question,  use similar code to make a histogram of the gene expression data for MYH7 (ie. the row that you selected in Question 1b) across all of the cell types in the RNA-Seq dataset.   \n",
    "\n",
    "NOTE: To change from a bar plot to a histogram change the geom argument from geom=\"bar\" to geom=\"histogram\". For more information on what is a histogram see this [link](https://help.plot.ly/histogram/). \n",
    "\n",
    "Make sure to provide axes labels. Remember that in the normalization step that the RNA-Seq expression data was converted from TPM to log(TPM). "
   ]
  },
  {
   "cell_type": "code",
   "execution_count": null,
   "metadata": {
    "scrolled": true
   },
   "outputs": [],
   "source": [
    "#Use the plotnine package to make a histogram of the gene expression data for MYH7"
   ]
  },
  {
   "cell_type": "markdown",
   "metadata": {},
   "source": [
    "### QUESTION 1d\n",
    "\n",
    "Look up MYH7 in the GTEX portal at the following [link](https://www.gtexportal.org/home/gene/MYH7). \n",
    "\n",
    "\n",
    "In what tissue was MYH7 most highly expressed in the GTEX project based on the mean TPMs? \n",
    "\n",
    "#### BEGIN ANSWER #### \n",
    "\n",
    "#### END ANSWER ####"
   ]
  },
  {
   "cell_type": "markdown",
   "metadata": {},
   "source": [
    "### QUESTION 1e\n",
    "In what tissue type was the maximum TPM observed for MYH7? \n",
    "\n",
    "#### BEGIN ANSWER #### \n",
    " \n",
    "#### END ANSWER ####"
   ]
  },
  {
   "cell_type": "markdown",
   "metadata": {},
   "source": [
    "### QUESTION 1f\n",
    "What is the median TPM of the samples from the heart- left ventricle?  \n",
    "\n",
    "#### BEGIN ANSWER #### \n",
    "\n",
    "#### END ANSWER ####"
   ]
  },
  {
   "cell_type": "markdown",
   "metadata": {},
   "source": [
    "### QUESTION 1g\n",
    "How many samples from the heart- left ventricle were measured?  \n",
    "\n",
    "#### BEGIN ANSWER #### \n",
    "\n",
    "#### END ANSWER ####\n"
   ]
  },
  {
   "cell_type": "markdown",
   "metadata": {},
   "source": [
    "### QUESTION 1h\n",
    "\n",
    "MYOZ2 is another gene that has been associated with hypertrophic cardiomyopathy in at least one study ( \n",
    "[here](https://academic.oup.com/cardiovascres/article/97/1/44/371393)). \n",
    "\n",
    "In this question you will investigate if there is a correlation between the expression levels of MYH7 (ENSG00000092054.12) and the expression levels of MYOZ2 (ENSG00000172399.5) across cell types.  \n",
    "\n",
    "Select the row of '/data/datasets/RNAseq/rnaseq_normalized.tsv' that has the RNA-seq data for MYOZ2. "
   ]
  },
  {
   "cell_type": "code",
   "execution_count": null,
   "metadata": {},
   "outputs": [],
   "source": [
    "#Select the row of '/data/datasets/RNAseq/rnaseq_normalized.tsv' that has the RNA-seq data for MYOZ2. \n",
    "#The identifier for MYOZ2 is ENSG00000172399.5\n",
    "#Store the data in a variable so you can use it in later questions. "
   ]
  },
  {
   "cell_type": "markdown",
   "metadata": {},
   "source": [
    "### QUESTION 1i\n",
    "\n",
    "Make a scatter plot to look for correlations between the expression levels of MYH7 (ENSG00000092054.12) and the expression levels of MYOZ2 (ENSG00000172399.5) across cell types.  "
   ]
  },
  {
   "cell_type": "code",
   "execution_count": null,
   "metadata": {},
   "outputs": [],
   "source": [
    "#Use the plotnine package to make a scatter plot of the expression data for \n",
    "#MYH7 (ENSG00000092054.12) on the x-axis and MYOZ2 (ENSG00000172399.5) on the y-axis"
   ]
  },
  {
   "cell_type": "markdown",
   "metadata": {},
   "source": [
    "### QUESTION 1j\n",
    "\n",
    "Based on the GTEX portal data for MYH7 above and for MYOZ2 (ENSG00000172399.5) at the following [link](https://www.gtexportal.org/home/gene/MYOZ2) how do the expression profiles of MYH7 and MYOZ2 compare?\n",
    "\n",
    "#### BEGIN ANSWER #### \n",
    "\n",
    "#### END ANSWER ####"
   ]
  },
  {
   "cell_type": "markdown",
   "metadata": {},
   "source": [
    "### QUESTION 1k\n",
    "\n",
    "Do your plot from 1i and observations from 1j provide evidence to support a correlation between the expression levels of MYH7 and MYOZ2 across cell types? Why or why not?\n",
    "\n",
    "#### BEGIN ANSWER #### \n",
    "\n",
    "#### END ANSWER ####"
   ]
  },
  {
   "cell_type": "markdown",
   "metadata": {},
   "source": [
    "## QUESTION 2\n",
    "\n",
    "In this question you will perform principal component analysis on the RNA-Seq dataset using the same dataset that we used in class. For this question, however, you will use the Nervous, Musculoskeletal, Urinary and Skin systems instead of the systems that we used in class. "
   ]
  },
  {
   "cell_type": "markdown",
   "metadata": {},
   "source": [
    "### QUESTION 2a"
   ]
  },
  {
   "cell_type": "code",
   "execution_count": null,
   "metadata": {
    "collapsed": true,
    "jupyter": {
     "outputs_hidden": true
    }
   },
   "outputs": [],
   "source": [
    "# Make a dataframe with a subset of the RNA-Seq dataset we have been using in class \n",
    "# Select the data for the Nervous, Musculoskeletal, Urinary and Skin Systems \n",
    "# Print out the shape of the dataframe subset"
   ]
  },
  {
   "cell_type": "markdown",
   "metadata": {},
   "source": [
    "### QUESTION 2b"
   ]
  },
  {
   "cell_type": "code",
   "execution_count": null,
   "metadata": {
    "collapsed": true,
    "jupyter": {
     "outputs_hidden": true
    }
   },
   "outputs": [],
   "source": [
    "# Perform principal component analysis on the data you defined in question 2a \n",
    "# Decompose the data into 10 principal components"
   ]
  },
  {
   "cell_type": "markdown",
   "metadata": {},
   "source": [
    "### QUESTION 2c\n",
    "\n",
    "Make a Scree plot for the ten principal components "
   ]
  },
  {
   "cell_type": "code",
   "execution_count": null,
   "metadata": {
    "collapsed": true,
    "jupyter": {
     "outputs_hidden": true
    }
   },
   "outputs": [],
   "source": [
    " #Make a Scree plot for the ten principal components"
   ]
  },
  {
   "cell_type": "markdown",
   "metadata": {},
   "source": [
    "### QUESTION 2d\n",
    "\n",
    "What percent of the variance is explained by the first and second components respectively?"
   ]
  },
  {
   "cell_type": "markdown",
   "metadata": {
    "jupyter": {
     "outputs_hidden": true
    }
   },
   "source": [
    "#### BEGIN ANSWER #### \n",
    "\n",
    "#### END ANSWER ####"
   ]
  },
  {
   "cell_type": "markdown",
   "metadata": {},
   "source": [
    "### QUESTION 2e"
   ]
  },
  {
   "cell_type": "code",
   "execution_count": null,
   "metadata": {
    "collapsed": true,
    "jupyter": {
     "outputs_hidden": true
    }
   },
   "outputs": [],
   "source": [
    "#Make a scatter plot of principle component 1 (PC1) vs principle component 2 (PC2)\n",
    "#For the pca_results from question 2b."
   ]
  },
  {
   "cell_type": "markdown",
   "metadata": {},
   "source": [
    "### QUESTION 2f (optional): \n",
    "\n",
    "Comment on the output of the PCA analysis in question 2e"
   ]
  },
  {
   "cell_type": "markdown",
   "metadata": {
    "jupyter": {
     "outputs_hidden": true
    }
   },
   "source": [
    "#### BEGIN ANSWER #### \n",
    "\n",
    "#### END ANSWER ####"
   ]
  }
 ],
 "metadata": {
  "anaconda-cloud": {},
  "kernelspec": {
   "display_name": "Python 3",
   "language": "python",
   "name": "python3"
  },
  "language_info": {
   "codemirror_mode": {
    "name": "ipython",
    "version": 3
   },
   "file_extension": ".py",
   "mimetype": "text/x-python",
   "name": "python",
   "nbconvert_exporter": "python",
   "pygments_lexer": "ipython3",
   "version": "3.7.10"
  }
 },
 "nbformat": 4,
 "nbformat_minor": 4
}
