{
 "cells": [
  {
   "cell_type": "markdown",
   "metadata": {},
   "source": [
    " ##  Learning Objectives\n",
    " ***Students should be able to***\n",
    " <ol>\n",
    " <li>Find and/or set a working directory</li>\n",
    " <li>Identify the absolute or relative path for a file or directory</li>\n",
    " <li>Read a gene sequence into Python and determine the length of the sequence</li>\n",
    " <li>Explain the Central Dogma and what it means for a gene to be expressed</li>\n",
    " <li>Describe what a complementary DNA sequence is</li>\n",
    " <li>Recognize conventions for designating DNA sequence directionality</li>\n",
    " <li>Print a complementary DNA sequence using \"for loops\" and \"if\" statements</li>\n",
    " <li>Find the index of characters in a string variable and slice a string</li>\n",
    " <li>Write out a complementary DNA sequence to a file</li>\n",
    " <li>Write out the RNA transcription product for a DNA sequence.</li>\n",
    " <li>Define RNA splicing, exon and intron</li> \n",
    " <li>Use Python to find possible translation start and stop codons in a mRNA sequence </li>\n",
    " </ol>"
   ]
  },
  {
   "cell_type": "markdown",
   "metadata": {},
   "source": [
    "## QUESTION 1"
   ]
  },
  {
   "cell_type": "markdown",
   "metadata": {},
   "source": [
    "### QUESTION 1a"
   ]
  },
  {
   "cell_type": "code",
   "execution_count": null,
   "metadata": {
    "collapsed": false,
    "jupyter": {
     "outputs_hidden": false
    }
   },
   "outputs": [],
   "source": [
    "#Write out your working directory using Python "
   ]
  },
  {
   "cell_type": "code",
   "execution_count": null,
   "metadata": {},
   "outputs": [],
   "source": [
    "#Write out your working directory using Unix"
   ]
  },
  {
   "cell_type": "markdown",
   "metadata": {},
   "source": [
    "### QUESTION 1b\n",
    "\n",
    "BRAF is a gene that is frequently mutated in patients with melanoma, a type of skin cancer (for more information see [here](https://www.cancer.org/cancer/melanoma-skin-cancer/treating/targeted-therapy.html)).\n",
    "\n",
    "The sequence for the Human-BRAF gene from the NCBI Reference Sequence database is provided in:<br>\n",
    "/home/jovyan/humbio51-student.git/Weekly Assignments/Week_1/data/Human-BRAF-NG_007873.3.txt.  "
   ]
  },
  {
   "cell_type": "code",
   "execution_count": null,
   "metadata": {
    "collapsed": false,
    "jupyter": {
     "outputs_hidden": false
    }
   },
   "outputs": [],
   "source": [
    "#Change your working directory to /home/jovyan/humbio51-student.git/Weekly Assignments/Week_1/"
   ]
  },
  {
   "cell_type": "code",
   "execution_count": null,
   "metadata": {
    "collapsed": false,
    "jupyter": {
     "outputs_hidden": false
    }
   },
   "outputs": [],
   "source": [
    "#List the files in the data directory in /home/jovyan/humbio51-student.git/Weekly Assignments/Week_1/"
   ]
  },
  {
   "cell_type": "markdown",
   "metadata": {},
   "source": [
    "### QUESTION 1c"
   ]
  },
  {
   "cell_type": "code",
   "execution_count": 1,
   "metadata": {
    "collapsed": false,
    "jupyter": {
     "outputs_hidden": false
    }
   },
   "outputs": [],
   "source": [
    "#The first exon of the Human-BRAF gene goes from base pair 1 to 199 (1-based numbering)\n",
    "#Print out the sequence of the first exon of the Human-BRAF gene "
   ]
  },
  {
   "cell_type": "markdown",
   "metadata": {},
   "source": [
    "### QUESTION 1d"
   ]
  },
  {
   "cell_type": "code",
   "execution_count": null,
   "metadata": {
    "collapsed": false,
    "jupyter": {
     "outputs_hidden": false
    }
   },
   "outputs": [],
   "source": [
    "#Write out the primary mRNA transcript encoded for by the first exon of the Human-BRAF gene. \n",
    "#The sequence should use the abbreviations for the base pairs that would be found in an actual RNA molecule. "
   ]
  },
  {
   "cell_type": "markdown",
   "metadata": {},
   "source": [
    "### QUESTION 1e"
   ]
  },
  {
   "cell_type": "code",
   "execution_count": null,
   "metadata": {
    "collapsed": false,
    "jupyter": {
     "outputs_hidden": false
    }
   },
   "outputs": [],
   "source": [
    "#Calculate the length of the entire primary mRNA transcript encoded for by the Human-BRAF gene.  "
   ]
  },
  {
   "cell_type": "markdown",
   "metadata": {},
   "source": [
    "## QUESTION 2\n",
    "\n",
    "The sequence for Human-BRAF mRNA from the NCBI Reference Sequence database is provided in:  \n",
    "/home/jovyan/humbio51-student.git/Weekly Assignments/Week_1/data/Human-BRAF-NM_004333.5.txt.  "
   ]
  },
  {
   "cell_type": "markdown",
   "metadata": {},
   "source": [
    "### QUESTION 2a"
   ]
  },
  {
   "cell_type": "code",
   "execution_count": null,
   "metadata": {
    "collapsed": false,
    "jupyter": {
     "outputs_hidden": false
    }
   },
   "outputs": [],
   "source": [
    "#Calculate the length of the Human-BRAF mRNA sequence in the Human-BRAF-NM_004333.5.txt file"
   ]
  },
  {
   "cell_type": "markdown",
   "metadata": {},
   "source": [
    "### QUESTION 2b\n",
    "\n",
    "Why is the primary mRNA sequence from Question 1d a different length from the processed mRNA sequence in the NCBI Reference Sequence database?"
   ]
  },
  {
   "cell_type": "markdown",
   "metadata": {},
   "source": [
    "No code necessary. PUT YOUR TEXT ANSWER HERE: "
   ]
  },
  {
   "cell_type": "markdown",
   "metadata": {},
   "source": [
    "### QUESTION 2c\n",
    "Print out the potential start codons in the Human-BRAF mRNA sequence. "
   ]
  },
  {
   "cell_type": "code",
   "execution_count": null,
   "metadata": {
    "collapsed": false,
    "jupyter": {
     "outputs_hidden": false
    }
   },
   "outputs": [],
   "source": [
    "#Find potential start codons in the Human-BRAF mRNA sequence "
   ]
  },
  {
   "cell_type": "markdown",
   "metadata": {},
   "source": [
    "## Question 3 "
   ]
  },
  {
   "cell_type": "markdown",
   "metadata": {},
   "source": [
    "There are proteins, called restriction enzymes, that will cut DNA at specific sequences. \n",
    "For experiments, it can be important to determine if your sequence of interest will be cut by the restriction enzyme.  \n",
    "\n",
    "The restriction enzyme SmaI will cut DNA at CCCGGG sites. \n",
    "\n",
    "Write a script to determine if there are any SmaI sites in the Human BRAF gene sequence from question 1. "
   ]
  },
  {
   "cell_type": "code",
   "execution_count": null,
   "metadata": {
    "collapsed": false,
    "jupyter": {
     "outputs_hidden": false
    }
   },
   "outputs": [],
   "source": [
    "#Write a script to find possible SmaI restriction enzyme sites in the Human BRAF gene sequence"
   ]
  },
  {
   "cell_type": "markdown",
   "metadata": {},
   "source": [
    "## Question 4"
   ]
  },
  {
   "cell_type": "markdown",
   "metadata": {},
   "source": [
    "One of the challenges of treating the disease cystic fibrosis is that different mutations in the same protein can lead to the disease. Kalydeco is a drug that is effective in patients in which the glycine (or G) at position 551 has been changed to an aspartic acid (or D). \n",
    "\n",
    "This is noted as a G551D mutation.\n",
    "\n",
    "The sequence for the CFTR protein is provided in /home/jovyan/humbio51-student.git/Weekly Assignments/Week_1/data/Human-CFTR-NP_000483.3.txt. Write a script to read in the protein sequence and change the G at position 551 to a D.  \n",
    "\n",
    "As a check, have the script print the length of both sequences and the amino acid at position 551 both before and after the mutation.\n"
   ]
  },
  {
   "cell_type": "code",
   "execution_count": null,
   "metadata": {
    "collapsed": false,
    "jupyter": {
     "outputs_hidden": false
    }
   },
   "outputs": [],
   "source": [
    "#Write a script to make the G551D substitution in the CFTR protein sequence and write the sequence to a file.\n",
    "#Save the file in the data directory"
   ]
  },
  {
   "cell_type": "markdown",
   "metadata": {},
   "source": [
    "## Question 5"
   ]
  },
  {
   "cell_type": "markdown",
   "metadata": {},
   "source": [
    "Another mutation in the CFTR gene that has been linked to cystic fibrosis is a mutation in which the phenyl alanine (or F) at position 508 has been deleted (F508del). \n",
    "\n",
    "Write a script to read in the protein sequence and delete the F at position 508.   \n",
    "\n",
    "As a check, have the script print the length of both sequences."
   ]
  },
  {
   "cell_type": "code",
   "execution_count": null,
   "metadata": {
    "collapsed": true,
    "jupyter": {
     "outputs_hidden": true
    }
   },
   "outputs": [],
   "source": [
    "#Write a script to make the F508del in the CFTR protein sequence and write the sequence to a file. \n"
   ]
  }
 ],
 "metadata": {
  "anaconda-cloud": {},
  "kernelspec": {
   "display_name": "Python 3",
   "language": "python",
   "name": "python3"
  },
  "language_info": {
   "codemirror_mode": {
    "name": "ipython",
    "version": 3
   },
   "file_extension": ".py",
   "mimetype": "text/x-python",
   "name": "python",
   "nbconvert_exporter": "python",
   "pygments_lexer": "ipython3",
   "version": "3.7.10"
  }
 },
 "nbformat": 4,
 "nbformat_minor": 4
}
