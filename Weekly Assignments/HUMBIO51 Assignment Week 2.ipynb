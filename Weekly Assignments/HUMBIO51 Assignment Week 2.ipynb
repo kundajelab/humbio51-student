{
 "cells": [
  {
   "cell_type": "markdown",
   "metadata": {},
   "source": [
    "## HUMBIO51 Weekly Assignment 2\n",
    " \n",
    " ***Students should be able to***\n",
    "<ol>\n",
    " <li><a href=#Aminoacidsequence>Use the genetic code to determine the amino acid sequence of the protein product of an mRNA sequence </a></li>\n",
    " <li><a href=#PythonDictionary>Make a Python dictionary for the genetic code (also called a look up table)</a> </li>\n",
    " <li><a href=#DefineFunction>Define and call a function in a Python script </a></li>\n",
    " <li><a href=#PredictProteinSequence>Predict a protein sequence from a processed mRNA sequence using a Python dictionary</a></li>\n",
    " <li><a href=#SaveFunction>Save functions to a .py file so they can be used in other programs </a></li> \n",
    "  <li><a href=#ReferenceGenome>Explain what a reference genome is </a></li>\n",
    " <li><a href=#GenomicCoordinates>Explain how genomic coordinates are used to designate the position of a gene or feature in the human reference genome </a></li>\n",
    " <li><a href=#BEDformat>Use genomic coordinates to make a file in BED format </a></li>\n",
    " <li><a href=#makeFASTAfromBED>Use the genomic analysis package Bedtools to make an mRNA sequence with exons from a gene sequence</a></li>\n",
    " <li><a href=#SeqAlignIntro>Identify ways that DNA sequence alignments can provide insights into human biology</a></li>\n",
    " <li><a href=#Import>Import a module into a Python script</a></li>\n",
    " <li><a href=#Package>Explain what a Python package is and how to import modules from a package </a></li>\n",
    "<li><a href=#Align2>Align two sequences using modules from the BioPython package </a></li>\n",
    "</ol>"
   ]
  },
  {
   "cell_type": "markdown",
   "metadata": {},
   "source": [
    "## QUESTION 1 "
   ]
  },
  {
   "cell_type": "markdown",
   "metadata": {},
   "source": [
    "For the first question in this assignment, you will investigate the conservation of KRAS, a gene that is commonly mutated in human cancers. Researchers have been studied for many years, but developing inhibitors has been challenging. The first FDA approved drug targeting the KRAS protein for the treatment of lung cancers was just approved last year ([Jaber, N., National Cancer Institute](https://www.cancer.gov/news-events/cancer-currents-blog/2021/fda-sotorasib-lung-cancer-kras)).  \n",
    "\n",
    "Below are links to processed mRNA sequences (transcripts) for <i>KRAS</i> from <i>Homo sapiens</i> (humans), <i> M. musculus (mice)</i> and <i>Drosophila meloanogaster </i>(fruit flies). \n",
    "\n",
    "The three files that you will need as a starting point (after you change your working directory to /home/jovyan/humbio51-student.git/Weekly Assignments/Week_2) are: \n",
    "\n",
    "- 'data/NM_033360.4_Human_KRAS.txt' coding sequence: 191-760\n",
    "- 'data/NM_021284.7_Mouse_KRAS.txt' coding sequence: 203-769\n",
    "- 'data/NM_057351.5_Drosophila_KRAS.txt' coding sequence: 442-1011\n",
    "\n",
    "Note: the positions of the coding sequences are given in 1-based numbering like you would typically see in genome databases.  "
   ]
  },
  {
   "cell_type": "markdown",
   "metadata": {},
   "source": [
    "### QUESTION 1a"
   ]
  },
  {
   "cell_type": "code",
   "execution_count": 1,
   "metadata": {
    "collapsed": false,
    "jupyter": {
     "outputs_hidden": false
    }
   },
   "outputs": [],
   "source": [
    "#Change your working directory to /home/jovyan/humbio51/Weekly Assignments/Week_2\n"
   ]
  },
  {
   "cell_type": "markdown",
   "metadata": {},
   "source": [
    "### QUESTION 1b"
   ]
  },
  {
   "cell_type": "code",
   "execution_count": 8,
   "metadata": {
    "collapsed": false,
    "jupyter": {
     "outputs_hidden": false
    }
   },
   "outputs": [],
   "source": [
    "# 1) Use the helper functions that we defined in class (or your own version) to find the protein sequence produced \n",
    "# from the KRAS human transcript. Store this protein sequence in a variable called \"KRAS_protein_human\"\n",
    "\n",
    "# 2) Print the protein sequence \n"
   ]
  },
  {
   "cell_type": "markdown",
   "metadata": {},
   "source": [
    "### QUESTION 1c"
   ]
  },
  {
   "cell_type": "code",
   "execution_count": null,
   "metadata": {
    "collapsed": true,
    "jupyter": {
     "outputs_hidden": true
    }
   },
   "outputs": [],
   "source": [
    "# 1) Use the helper functions that we defined in class (or your own version) to find the protein sequence produced \n",
    "# from the KRAS mouse transcript. Store this protein sequence in a variable called \"KRAS_protein_mouse\"\n",
    "\n",
    "# 2) Print the protein sequence "
   ]
  },
  {
   "cell_type": "markdown",
   "metadata": {},
   "source": [
    "### QUESTION 1d"
   ]
  },
  {
   "cell_type": "code",
   "execution_count": 4,
   "metadata": {
    "collapsed": true,
    "jupyter": {
     "outputs_hidden": true
    }
   },
   "outputs": [],
   "source": [
    "# 1) Use the helper functions that we defined in class (or your own version) to find the protein sequence produced \n",
    "# from the KRAS Drosophila transcript. Store this protein sequence in a variable called \"KRAS_protein_fly\"\n",
    "\n",
    "# 2) Print the protein sequence "
   ]
  },
  {
   "cell_type": "markdown",
   "metadata": {},
   "source": [
    "### QUESTION 1e"
   ]
  },
  {
   "cell_type": "code",
   "execution_count": 14,
   "metadata": {
    "collapsed": true,
    "jupyter": {
     "outputs_hidden": true
    }
   },
   "outputs": [],
   "source": [
    "#Write the code to run a pairwise sequence alignment between the protein sequence that is produced from\n",
    "#the human KRAS protein and the mouse KRAS protein \n",
    "#Print out the alignment and score using the sequence alignment helper functions."
   ]
  },
  {
   "cell_type": "markdown",
   "metadata": {},
   "source": [
    "### QUESTION 1f"
   ]
  },
  {
   "cell_type": "code",
   "execution_count": null,
   "metadata": {
    "collapsed": true,
    "jupyter": {
     "outputs_hidden": true
    }
   },
   "outputs": [],
   "source": [
    "#Write the code to run a pairwise sequence alignment between the protein sequence that is produced from\n",
    "#the human KRAS protein and the Drosophila KRAS protein \n",
    "#Print out the alignment and score using the sequence alignment helper functions."
   ]
  },
  {
   "cell_type": "markdown",
   "metadata": {},
   "source": [
    "### QUESTION 1g\n",
    "\n",
    "Would the mouse and fly be possible candidate model organisms for learning about human KRAS? Why or why not? "
   ]
  },
  {
   "cell_type": "markdown",
   "metadata": {},
   "source": [
    "## QUESTION 2\n",
    "\n",
    "The NRAS and HRAS genes in humans are releated to the KRAS gene. We have downloaded the NRAS and HRAS gene sequences from NCBI to these files: \n",
    "\n",
    "* data/NRAS_human.txt \n",
    "* data/HRAS_human.txt "
   ]
  },
  {
   "cell_type": "code",
   "execution_count": 38,
   "metadata": {
    "collapsed": true,
    "jupyter": {
     "outputs_hidden": true
    }
   },
   "outputs": [],
   "source": [
    "#1)Write the code to read the data/NRAS_human.txt and data/HRAS_human.txt FASTA sequences \n",
    "# into Python using the BioPython SeqIO package\n",
    "#2)Have the script print out the identifier and the first 50 bases of the nucleotide sequence for each gene. \n",
    "#3)Have the script print Which gene is longer, HRAS or NRAS and by how many bases. "
   ]
  },
  {
   "cell_type": "markdown",
   "metadata": {},
   "source": [
    "## QUESTION 3"
   ]
  },
  {
   "cell_type": "markdown",
   "metadata": {},
   "source": [
    "p21 is a protein that can inhibit cell division. \n",
    "In the hg19/GRCh37 reference genome, the CDKN1A gene which codes for p21 has three exons with the following start and stop sites: \n",
    "\n",
    "- 36,646,491..36,646,575\n",
    "- 36,651,874..36,652,323\n",
    "- 36,653,528..36,655,109\n",
    "\n",
    "The coding sequence for p21 is on two exons from:\n",
    "- 36,651,879..36,652,323\n",
    "- 36,653,528..36,653,577\n",
    "\n",
    "Before beginning this question find the chromosome where CDKN1A is found in the \"Genomic context\" subsection of the NCBI entry for CDKN1A (https://www.ncbi.nlm.nih.gov/gene/1026). It is listed in the column \"Chr\". "
   ]
  },
  {
   "cell_type": "markdown",
   "metadata": {},
   "source": [
    "### QUESTION 3a"
   ]
  },
  {
   "cell_type": "code",
   "execution_count": null,
   "metadata": {
    "collapsed": true,
    "jupyter": {
     "outputs_hidden": true
    }
   },
   "outputs": [],
   "source": [
    "#Write a BED format file that can be used to obtain all of the p21 exons from the hg19/GRCh37 human reference genome. Make sure to include the strand. "
   ]
  },
  {
   "cell_type": "markdown",
   "metadata": {},
   "source": [
    "### QUESTION 3b"
   ]
  },
  {
   "cell_type": "code",
   "execution_count": null,
   "metadata": {},
   "outputs": [],
   "source": [
    "#Write a BED format file that can be used to obtain the p21 coding sequence from the hg19/GRCh37 human reference genome. Make sure to include the strand. "
   ]
  },
  {
   "cell_type": "markdown",
   "metadata": {},
   "source": [
    "### QUESTION 3c"
   ]
  },
  {
   "cell_type": "code",
   "execution_count": null,
   "metadata": {},
   "outputs": [],
   "source": [
    "#Write the BEDtools commands to obtain the coding sequence for p21 from the hg19/GRCh37 human reference genome \n",
    "#(Note: As an optional step to check your work you can translate the sequence to a protein and make sure that it starts with ATG and ends at a stop codon) )"
   ]
  },
  {
   "cell_type": "markdown",
   "metadata": {},
   "source": [
    "## QUESTION 4"
   ]
  },
  {
   "cell_type": "markdown",
   "metadata": {},
   "source": [
    "Make a dictionary that will map the gene names below as keys to GENEIDs as values.\n",
    "\n",
    "| GENE  | GENEID |\n",
    "|-------|--------|\n",
    "| INS   | 3630   |\n",
    "| IGF1  | 3479   |\n",
    "| INSR  | 3643   |\n",
    "| IGF1R | 3480   |"
   ]
  },
  {
   "cell_type": "code",
   "execution_count": null,
   "metadata": {},
   "outputs": [],
   "source": [
    "#Make a dictionary mapping the gene names above to their corresponding gene ids.\n",
    "#Demonstrate that the dictionary works by using it to print out the gene id for IGF1R. "
   ]
  }
 ],
 "metadata": {
  "anaconda-cloud": {},
  "kernelspec": {
   "display_name": "Python 3",
   "language": "python",
   "name": "python3"
  },
  "language_info": {
   "codemirror_mode": {
    "name": "ipython",
    "version": 3
   },
   "file_extension": ".py",
   "mimetype": "text/x-python",
   "name": "python",
   "nbconvert_exporter": "python",
   "pygments_lexer": "ipython3",
   "version": "3.7.10"
  }
 },
 "nbformat": 4,
 "nbformat_minor": 4
}
