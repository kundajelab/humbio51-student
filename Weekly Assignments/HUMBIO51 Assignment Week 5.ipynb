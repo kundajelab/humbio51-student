{
 "cells": [
  {
   "cell_type": "markdown",
   "metadata": {},
   "source": [
    " ## HUMBIO51 Assignment Week 5"
   ]
  },
  {
   "cell_type": "markdown",
   "metadata": {},
   "source": [
    "<ol>\n",
    " <li> <a href=#wc>Use unix commands to count the number of lines in a file. </a></li>\n",
    " <li> <a href=#GORilla>Use GORilla to perform GO-term enrichment analysis. </a></li>\n",
    " <li> <a href=#GeneExpressionIntro>Visualize gene expression variation across cell types and individuals from the GTEx project</a></li>\n",
    " <li><a href=#RNASeqDataFormat>Use unix \"head\" and \"cat\" commands to merge and split files.</a></li>\n",
    " <li><a href=#RNASeqDataFormat>Construct contingency tables to compute GO-term enrichment likelihoods.</a></li>\n",
    " <li><a href=#RNASeqDataFormat>Write a Python expression for Fisher's exact test.</a></li>\n",
    " <li><a href=#RNASeqDataFormat>Apply Fisher's exact test to compute the probability of observing a particular contingency table.</a></li>\n"
   ]
  },
  {
   "cell_type": "code",
   "execution_count": null,
   "metadata": {},
   "outputs": [],
   "source": [
    "## Run this box of code to import the helpers\n",
    "%%capture\n",
    "\n",
    "%matplotlib inline\n",
    "from sklearn.cluster import KMeans\n",
    "\n",
    "import warnings\n",
    "warnings.filterwarnings('ignore')\n",
    "\n",
    "import sys\n",
    "sys.path.append('/home/jovyan/humbio51-student.git/helpers')\n",
    "from kmeans_helpers import * "
   ]
  },
  {
   "cell_type": "code",
   "execution_count": null,
   "metadata": {},
   "outputs": [],
   "source": [
    "#Change your working directory to Week_5\n",
    "import os\n",
    "os.chdir('Week_5')"
   ]
  },
  {
   "cell_type": "markdown",
   "metadata": {},
   "source": [
    "## Question 1\n",
    "We would like to see how the expression of genes associated with GO term \"[GO:0006915](http://amigo.geneontology.org/amigo/term/GO:0006915)\" varies across different organs. We will use kmeans clustering to examine this. "
   ]
  },
  {
   "cell_type": "markdown",
   "metadata": {},
   "source": [
    "### Question 1a\n",
    "Load the RNAseq data expression values stored in file **/data/datasets/RNAseq/rnaseq_normalized.tsv** to the variable **rnaseq_data**."
   ]
  },
  {
   "cell_type": "code",
   "execution_count": null,
   "metadata": {},
   "outputs": [],
   "source": [
    "## YOUR CODE HERE"
   ]
  },
  {
   "cell_type": "markdown",
   "metadata": {},
   "source": [
    "### Question 1b\n",
    "\n",
    "Recall that the rnaseq_data matrix has gene ids (rather than gene names) in the columns. We have converted the gene names in the file **GO_0006915.txt** to gene id's in the file **GO_0006915.ids.txt**. Extract the rows corresponding to the gene list in **GO_0006915.ids.txt** from **rnaseq_data** and store the subset of gene expression values in the variable **rnaseq_data_subset**. "
   ]
  },
  {
   "cell_type": "code",
   "execution_count": null,
   "metadata": {},
   "outputs": [],
   "source": [
    "## YOUR CODE HERE \n",
    "## HINT: read the gene ids in the file \"GO_0006915.ids.txt\" into a list. \n",
    "## This can be done opening the file using the .read().strip().split('\\n') command. \n",
    "## HINT user the \".loc\" command on the rnaseq_data object to extract the list of gene ids  "
   ]
  },
  {
   "cell_type": "markdown",
   "metadata": {},
   "source": [
    "### Question 1c \n",
    "Perform k-means clustering on **rnaseq_data_subset** along the samples axis \n",
    "\n",
    "(hint: consider whether or not the matrix should be transposed to perform clustering along the samples)\n",
    "\n",
    "Try values of k= 2,3,4. \n",
    "Which value of k is most effective in separating samples from clusters? "
   ]
  },
  {
   "cell_type": "code",
   "execution_count": null,
   "metadata": {},
   "outputs": [],
   "source": [
    "## YOUR CODE HERE\n"
   ]
  },
  {
   "cell_type": "markdown",
   "metadata": {},
   "source": [
    "### Question 1d \n",
    "Draw a heatmap of the rnaseq_data_subset. "
   ]
  },
  {
   "cell_type": "code",
   "execution_count": null,
   "metadata": {},
   "outputs": [],
   "source": [
    "import seaborn as sns \n",
    "sns.set(color_codes=False)\n",
    "\n",
    "## YOUR CODE HERE ## (Hint: follow example from class 9)\n"
   ]
  },
  {
   "cell_type": "markdown",
   "metadata": {},
   "source": [
    "Does the GO term split the samples into distinct clusters? \n",
    "\n",
    "ANSWER: \n",
    "    "
   ]
  },
  {
   "cell_type": "markdown",
   "metadata": {},
   "source": [
    "## Question 2\n",
    "\n",
    "We will take a close look in this question at how the p-values for GO-term enrichments are calculated by filling in a contingency table. Refer to the slides from class 10 for helpful tips on generating contingency tables and calculating p-values.\n"
   ]
  },
  {
   "cell_type": "markdown",
   "metadata": {},
   "source": [
    "### QUESTION 2a \n",
    "We have downloaded the list of genes associated with GO term [GO:0008380](http://amigo.geneontology.org/amigo/term/GO:0008380). \n",
    "These are located in the Week_5 directory as GO_0008380.txt. \n",
    "\n",
    "These wil be the \"Genes in GO term set\" for the contingency table. \n",
    "\n",
    "Write out the number of genes that are in the G0_0008380 text file using unix commands."
   ]
  },
  {
   "cell_type": "code",
   "execution_count": null,
   "metadata": {},
   "outputs": [],
   "source": [
    "##YOUR CODE HERE"
   ]
  },
  {
   "cell_type": "markdown",
   "metadata": {},
   "source": [
    "### QUESTION 2b\n",
    "\n",
    "To make a file for the \"Genes in User set\", we are going to add two hundred randomly selected genes (n = 200) to half of the GO term set.   \n",
    "\n",
    "First use unix commands to print the first half of **GO_0008380.txt** (round down if there are an odd number of genes). Save the genes to a file called: \n",
    "**GO_0008380_half.txt** "
   ]
  },
  {
   "cell_type": "code",
   "execution_count": null,
   "metadata": {},
   "outputs": [],
   "source": [
    "##YOUR CODE HERE "
   ]
  },
  {
   "cell_type": "markdown",
   "metadata": {},
   "source": [
    "### QUESTION 2c\n",
    "\n",
    "Now we will add 200 random genes to the file that was created in 2b. Below, we have defined the **add_random_genes** function: "
   ]
  },
  {
   "cell_type": "code",
   "execution_count": null,
   "metadata": {},
   "outputs": [],
   "source": [
    "def add_random_genes(target_gene_list,background_gene_list,n,outf): \n",
    "    \"\"\"\n",
    "    target_gene_list is a list containing the genes in your gene set of interest \n",
    "    background_gene_list is a list containing the genes in the background (i.e. hg19.names.txt)\n",
    "    n is the number of genes from the background that should be randomly inserted into the target_gene_list \n",
    "    outf is the name of the output file for the gene set with the additional random genes \n",
    "    \"\"\"\n",
    "    #We import the numpy random  library to create a random number generator for selecting random genes from the background\n",
    "    from numpy import random\n",
    "    \n",
    "    random.seed(1234)\n",
    "    \n",
    "    #select n random genes from the background gene_list, without replacement \n",
    "    randomized=random.choice(background_gene_list,n,replace=False)\n",
    "\n",
    "    #create a new target gene list by adding the random genes to the target gene list \n",
    "    import itertools \n",
    "    randomized_list=itertools.chain(target_gene_list,randomized )\n",
    "    \n",
    "    #open the output file\n",
    "    out=open(outf,'w')\n",
    "    \n",
    "    #write the randomized target list to the output file \n",
    "    out.write('\\n'.join(randomized_list))\n",
    "    "
   ]
  },
  {
   "cell_type": "markdown",
   "metadata": {},
   "source": [
    "Run the add_random_genes function on **GO_0008380_half.txt** with n = 200. For the background gene list you can use the hg19.names.txt file. \n",
    "\n",
    "Hint: To run the function, you will need to open the GO_0008380_half.txt and hg19.names.txt files. Instead of removing linebreaks like we have in the past, split the file at line breaks using .split('/n') eg:  \n",
    "\n",
    "file=open(filename,'r').read().split('\\n')\n",
    "\n",
    "Save the resulting gene set in the file **randomized_genes.txt** "
   ]
  },
  {
   "cell_type": "code",
   "execution_count": null,
   "metadata": {},
   "outputs": [],
   "source": [
    "## YOUR CODE HERE "
   ]
  },
  {
   "cell_type": "markdown",
   "metadata": {},
   "source": [
    "### Question 2d\n",
    "\n",
    "For question 2e, you will fill in a contingency table using: \n",
    "\n",
    "* GO_0008380.txt as the \"Genes in GO term set\". \n",
    "* randomized_genes.txt  as the \"Genes in User set\" \n",
    " \n",
    "We have written the function below to help you calculate the intersection of \"Genes not in User's Gene Set\" and \"Genes not in GO Term set\". This function uses Python [sets](https://docs.python.org/2/library/sets.html), which are similar to lists, but differ in two ways: \n",
    "* the elements in a set are not ordered \n",
    "* all elements in a set are unique \n",
    "\n",
    "Use the \"get_genes_not_in_user_set_or_go_term_set\" function to calculate the number at the intersection of \"Genes not in User's Gene Set\" and \"Genes not in GO Term set\". Store this number in the variable \"genes_not_in_either_set\"\n",
    "\n",
    "Remember that you will need to start off by opening the three files:\n",
    "* GO_0008380.txt    \n",
    "* randomized_genes.txt \n",
    "* hg19.names.txt \n",
    "\n",
    "It will be helpful to use the split command similarily to in question 2c above. "
   ]
  },
  {
   "cell_type": "code",
   "execution_count": null,
   "metadata": {},
   "outputs": [],
   "source": [
    "def get_genes_not_in_user_set_or_go_term_set(genes_in_go_term_set,genes_in_user_set,genes_in_background):\n",
    "    \"\"\"\n",
    "    genes_in_go_term_set is a list containing names of genes associated with the GO term. \n",
    "    genes_in_user_set is a list containing the names of genes in the user's set. \n",
    "    genes_in_background is a list containing the names of genes in the background set. \n",
    "    \"\"\"\n",
    "    #convert all lists to sets to remove duplicated elements \n",
    "    genes_go=set(genes_in_go_term_set)\n",
    "    genes_user=set(genes_in_user_set)\n",
    "    genes_background=set(genes_in_background)\n",
    "    \n",
    "    #subtract the set of genes in the GO term set from the set of genes in the background \n",
    "    background_minus_go=genes_background - genes_go \n",
    "    \n",
    "    #subtract the set of genes in the user set from \"background_minus_go\" \n",
    "    background_minus_go_minus_user=background_minus_go - genes_user \n",
    "    \n",
    "    #return a list containing \"background_minus_go_minus_user\" \n",
    "    return list(background_minus_go_minus_user)\n",
    "\n"
   ]
  },
  {
   "cell_type": "code",
   "execution_count": null,
   "metadata": {},
   "outputs": [],
   "source": [
    "#Use get_genes_not_in_user_set_or_go_term_set to calculate the intersection of \n",
    "#\"Genes not in User's Gene Set\" and \"Genes not in GO Term set\".\n",
    "\n",
    "##YOUR CODE HERE ##"
   ]
  },
  {
   "cell_type": "markdown",
   "metadata": {},
   "source": [
    "### Question 2e\n",
    "Now, use the value you obtained in the cell above to help fill in the contingency table: "
   ]
  },
  {
   "cell_type": "markdown",
   "metadata": {},
   "source": [
    "|    Contingency Table     | Genes in User's Gene Set | Genes not in User's Gene Set | Total       |\n",
    "|--------------------------|--------------------------|------------------------------|-------------|\n",
    "| Genes in GO Term set     | YOUR ANSWER              | YOUR ANSWER                  | YOUR ANSWER |\n",
    "| Genes not in GO Term set | YOUR ANSWER              | YOUR ANSWER                  | YOUR ANSWER |\n",
    "| Total                    | YOUR ANSWER              | YOUR ANSWER                  | YOUR ANSWER |"
   ]
  },
  {
   "cell_type": "markdown",
   "metadata": {},
   "source": [
    "### Question 2f \n",
    "\n",
    "Recall from class 10 that Fischer's exact test can be used to calculate the probability of observing a given arrangement of numbers in a contingency table: \n",
    "\n",
    "![Fisher's exact test](../Images/HW_5_FishersTest.png)\n",
    "\n",
    "Fill in the skeleton code below to derive a formula for Fisher's exact test. \n",
    "Hint: We provide a helper function **n_choose_k** that you should incorporate in your code. "
   ]
  },
  {
   "cell_type": "code",
   "execution_count": null,
   "metadata": {},
   "outputs": [],
   "source": [
    "import math\n",
    "def n_choose_k(n,k): \n",
    "    \"\"\"\n",
    "    n = total number of possible outcomes \n",
    "    k = number of outcomes to select at random \n",
    "    \"\"\"\n",
    "    from decimal import Decimal\n",
    "    #We use the Decimal class to help us compute with very large numbers. \n",
    "    #Factorials get very big quickly! \n",
    "    f=math.factorial \n",
    "    return Decimal(f(n))/Decimal(f(k))/Decimal(f(n-k))\n",
    "\n",
    "\n",
    "#Complete this function with your code \n",
    "def fishers_exact_test(genes_in_users_gene_set,\n",
    "                      genes_in_users_gene_set_and_go_term,\n",
    "                      genes_not_in_users_gene_set,\n",
    "                      genes_not_in_users_gene_set_and_in_go_term,\n",
    "                      total,\n",
    "                      genes_in_go_term): \n",
    "    p_value=None \n",
    "    genes_in_users_gene_set=1.0*genes_in_users_gene_set #we convert the integer to a double\n",
    "    #FILL IN THE CODE HERE TO COMPUTE THE PVALUE\n",
    "    \n",
    "    return p_value "
   ]
  },
  {
   "cell_type": "code",
   "execution_count": null,
   "metadata": {},
   "outputs": [],
   "source": [
    "## Execute the fishers_exact_test function to compute the probability of \n",
    "## observing the arrangement of values in your contingency table. \n",
    "## NOTE: The code is computing with very large numbers, so it may take up to 1 minute to run. \n",
    "\n",
    "## YOUR CODE HERE "
   ]
  },
  {
   "cell_type": "markdown",
   "metadata": {},
   "source": [
    "### QUESTION 3"
   ]
  },
  {
   "cell_type": "markdown",
   "metadata": {},
   "source": [
    "### QUESTION 3a\n",
    "\n",
    "Use the [GORilla tool](http://cbl-gorilla.cs.technion.ac.il/) to identify Biological Process terms that are significantly enriched for the GO:0008380 GO-term gene list in the GO_0008380.txt file.\n",
    "\n",
    "* The background gene set is the set of all human genes, stored in: hg19.names.txt in the Week_5 assignment folder*. \n",
    "* We consider a GO term to be significantly enriched if the FDR q-value is less than 0.05 \n",
    "\n",
    "What description matches the GO term \"GO:0008380\"? \n",
    "\n",
    "ANSWER: \n",
    "\n",
    "\n",
    "What is the corrected p-value (FDR q-value) for this GO term? \n",
    "\n",
    "ANSWER:\n"
   ]
  },
  {
   "cell_type": "markdown",
   "metadata": {},
   "source": [
    "### QUESTION 3b"
   ]
  },
  {
   "cell_type": "markdown",
   "metadata": {},
   "source": [
    "Let's now find the enriched set of GO terms programmatically using a Python script. This approach should be less tedious than uploading multiple lists of genes to GORilla for analysis in the browser. \n",
    "\n",
    "To perform the analysis programatically, we will use the [goatools](https://github.com/tanghaibao/goatools) Python library. The goatools library provides a script called **find_enrichments.py** to find enriched GO terms in a list of genes. Let's examine the syntax of this script: "
   ]
  },
  {
   "cell_type": "code",
   "execution_count": null,
   "metadata": {},
   "outputs": [],
   "source": [
    "from goatools import * "
   ]
  },
  {
   "cell_type": "code",
   "execution_count": null,
   "metadata": {},
   "outputs": [],
   "source": [
    "!find_enrichment.py"
   ]
  },
  {
   "cell_type": "markdown",
   "metadata": {},
   "source": [
    "There are 3 required arguments for the script: \n",
    "    \n",
    "    1. The dataset (list of genes in Week_5/GO_0008380.txt) \n",
    "    2. The background (list of genes in Week_5/hg19.names.txt) \n",
    "    3. A file that associates gene names to GO terms (Week_5/hg19.assocs). We generated this file in advance -- It contains gene names in column 1 and GO terms associated with this gene in column 2. \n",
    "\n",
    "There are also 2 optional inputs to the script that we will find useful: \n",
    "    1. --outfile\n",
    "    The output file to save enriched GO terms \n",
    "    2. --pval_field=fdr_bh \n",
    "    This argument indicates that the script should only return GO Terms enriched with false discovery rate < 0.05. \n",
    "    \n",
    "Use this information to execute the script **find_enrichment.py** and store the output in a file **Week_5/GO_0008380.enrichments.tsv**\n",
    "\n",
    "To execute the find_enrichment.py script you can use !find_enrichment.py followed by the arguments. "
   ]
  },
  {
   "cell_type": "code",
   "execution_count": null,
   "metadata": {},
   "outputs": [],
   "source": [
    "#Execute the find_enrichment.py script for G0_0008380\n"
   ]
  },
  {
   "cell_type": "markdown",
   "metadata": {},
   "source": [
    "Use the Unix head command to examine the format of the file \"GO_0008380.enrichments.tsv\""
   ]
  },
  {
   "cell_type": "code",
   "execution_count": null,
   "metadata": {},
   "outputs": [],
   "source": [
    "## YOUR CODE HERE ## "
   ]
  },
  {
   "cell_type": "markdown",
   "metadata": {},
   "source": [
    "Use the unix grep command to search for the GO term \"GO:0008380\" in the file GO_0008380.enrichments.tsv"
   ]
  },
  {
   "cell_type": "code",
   "execution_count": null,
   "metadata": {},
   "outputs": [],
   "source": [
    "## YOUR CODE HERE ## "
   ]
  },
  {
   "cell_type": "markdown",
   "metadata": {},
   "source": [
    "What is the FDR value of GO:0008380? (Hint: the FDR value is stored in the column \"p_fdr_h\", you should be able to see the order of the columns in the ouput from the head command)\n",
    "\n",
    "ANSWER:"
   ]
  },
  {
   "cell_type": "markdown",
   "metadata": {},
   "source": [
    "### QUESTION 3c \n",
    "What would happen to the p-values in the GO term enrichment analysis if only half of the genes in the gene set were available? Let's do this experiment and find out! "
   ]
  },
  {
   "cell_type": "markdown",
   "metadata": {},
   "source": [
    "Run the goatools analysis for GO_0008380_half.txt and store the output in a file **Week_5/GO_0008380_half.enrichments.tsv**"
   ]
  },
  {
   "cell_type": "code",
   "execution_count": null,
   "metadata": {},
   "outputs": [],
   "source": [
    "## YOUR CODE HERE ## "
   ]
  },
  {
   "cell_type": "markdown",
   "metadata": {},
   "source": [
    "Use the unix grep command to search for the GO term \"GO:0008380\" in the file GO_0008380_half.enrichments.tsv"
   ]
  },
  {
   "cell_type": "code",
   "execution_count": null,
   "metadata": {},
   "outputs": [],
   "source": [
    "## YOUR CODE HERE ## "
   ]
  },
  {
   "cell_type": "markdown",
   "metadata": {},
   "source": [
    "What is the FDR value of GO:0008380 in this new gene set?  (Hint: the FDR value is stored in the column \"p_fdr_h\", you should be able to see the order of the columns in the ouput from the head command)\n",
    "    \n",
    "ANSWER: \n",
    "    "
   ]
  },
  {
   "cell_type": "markdown",
   "metadata": {},
   "source": [
    "### QUESTION 3d\n",
    "\n",
    "What will happen if we merge the two gene lists together? Will that change the p-values for the enriched GO terms? \n",
    "\n",
    "Use the unix **cat** command to create a file in called \"merged_gene_lists.txt\" that contains all the genes in \"GO_0008380.txt\" and \"GO_0006915.txt\". \n",
    "\n"
   ]
  },
  {
   "cell_type": "code",
   "execution_count": null,
   "metadata": {},
   "outputs": [],
   "source": [
    "## YOUR CODE HERE ## "
   ]
  },
  {
   "cell_type": "markdown",
   "metadata": {},
   "source": [
    "Re-run the goatools analysis for the merged file using the **find_enrichment.py** script. "
   ]
  },
  {
   "cell_type": "code",
   "execution_count": null,
   "metadata": {},
   "outputs": [],
   "source": [
    "## YOUR CODE HERE ## "
   ]
  },
  {
   "cell_type": "markdown",
   "metadata": {},
   "source": [
    "Run the unix grep command to search for GO terms \"GO:0008380\" in the output file from the find_enrichment.py script that you ran for the merged_gene_lists.txt. "
   ]
  },
  {
   "cell_type": "code",
   "execution_count": null,
   "metadata": {},
   "outputs": [],
   "source": [
    "## YOUR CODE HERE ## "
   ]
  },
  {
   "cell_type": "markdown",
   "metadata": {},
   "source": [
    "### QUESTION 3e\n",
    "\n",
    "What would happen if we added random genes from the human genome to the gene set? \n",
    "\n",
    "Re-run the GORilla analysis for randomized_genes.txt using the **find_enrichment.py** script. Run the grep command to search for GO term \"GO:0008380\"\n"
   ]
  },
  {
   "cell_type": "code",
   "execution_count": null,
   "metadata": {},
   "outputs": [],
   "source": [
    "## YOUR CODE HERE ##  "
   ]
  },
  {
   "cell_type": "markdown",
   "metadata": {},
   "source": [
    "What is the FDR p-value for GO term \"GO:0008380\"? \n",
    "\n",
    "ANSWER: \n",
    "\n"
   ]
  }
 ],
 "metadata": {
  "kernelspec": {
   "display_name": "Python 3",
   "language": "python",
   "name": "python3"
  },
  "language_info": {
   "codemirror_mode": {
    "name": "ipython",
    "version": 3
   },
   "file_extension": ".py",
   "mimetype": "text/x-python",
   "name": "python",
   "nbconvert_exporter": "python",
   "pygments_lexer": "ipython3",
   "version": "3.7.10"
  }
 },
 "nbformat": 4,
 "nbformat_minor": 4
}
