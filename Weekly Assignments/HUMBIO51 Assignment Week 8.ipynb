{
 "cells": [
  {
   "cell_type": "markdown",
   "metadata": {},
   "source": [
    "## HUMBIO51 Assignment Week 8"
   ]
  },
  {
   "cell_type": "markdown",
   "metadata": {},
   "source": [
    "##  Learning Objectives\n",
    "***Students should be able to*** \n",
    "\n",
    "<li> <a href=#LD>Find variants in linkage disequilibrium (LD) with a target variant using tabix and PLINK.</a></li>\n",
    "<li> <a href=#LoadTable> Load a data table in .csv format into Python</a></li>\n",
    "<li> <a href=#Scatter>Make a scatter plot in Python </a></li>\n",
    "<li> <a href=#GWAS> Interpret data from a genome wide association study (GWAS)</a></li>\n",
    " \n"
   ]
  },
  {
   "cell_type": "markdown",
   "metadata": {},
   "source": [
    "## Question 1"
   ]
  },
  {
   "cell_type": "markdown",
   "metadata": {},
   "source": [
    "This question is based on data from a study in which  researchers performed genome wide association studies (GWAS) on six different types of erythrocyte traits. Erythrocytes are a type of blood cell and the traits were being studied to look for markers of hematological disorders. \n",
    "\n",
    "The reference is Ganesh et al. Nature Genetics 41, 1191–1198 (2009) [doi:10.1038/ng.466](https://www.nature.com/articles/ng.466). \n",
    "\n",
    "\n",
    "\n",
    "The question will focus on SNP:  rs4895441"
   ]
  },
  {
   "cell_type": "markdown",
   "metadata": {},
   "source": [
    "For this quesion you will need the variant files from class for the 1000 Genomes Project in the PLINK binary format: \n",
    "    \n",
    "* **/data/project/1kg_phase1_all.bed** -- binary encoding of subject genotypes (do not be fooled by the file extension, this is NOT the 4-column bed file format we have been using). \n",
    "\n",
    "* **/data/project/1kg_phase1_all.bim** -- list of all variants in the subject population \n",
    "* **/data/project/1kg_phase1_all.fam** -- list of all subject id's in the 1000's genome project"
   ]
  },
  {
   "cell_type": "markdown",
   "metadata": {},
   "source": [
    "NOTE: Your notes from class 7 on working with pandas dataframes may be helpful for this assignment. "
   ]
  },
  {
   "cell_type": "markdown",
   "metadata": {},
   "source": [
    "### Question 1a"
   ]
  },
  {
   "cell_type": "code",
   "execution_count": null,
   "metadata": {},
   "outputs": [],
   "source": [
    "import warnings\n",
    "warnings.filterwarnings('ignore')\n",
    "\n",
    "#change your working directory to Week_8 \n",
    "## BEGIN SOLUTION\n",
    "## END SOLUTION"
   ]
  },
  {
   "cell_type": "markdown",
   "metadata": {},
   "source": [
    "### Question 1b"
   ]
  },
  {
   "cell_type": "code",
   "execution_count": null,
   "metadata": {},
   "outputs": [],
   "source": [
    "#Identify the variants that are in linkage disequilibrium with rs4895441 using the -r2 flag and an \n",
    "#--ld-window size of 10000\n",
    "\n",
    "## BEGIN SOLUTION\n",
    "## END SOLUTION"
   ]
  },
  {
   "cell_type": "markdown",
   "metadata": {},
   "source": [
    "### Question 1c"
   ]
  },
  {
   "cell_type": "code",
   "execution_count": null,
   "metadata": {},
   "outputs": [],
   "source": [
    "#Display the SNPs that are in linkage disequilibrium with rs4895441 using R2 coefficients. \n",
    "## BEGIN SOLUTION\n",
    "## END SOLUTION"
   ]
  },
  {
   "cell_type": "markdown",
   "metadata": {},
   "source": [
    "### Question 1d "
   ]
  },
  {
   "cell_type": "code",
   "execution_count": null,
   "metadata": {},
   "outputs": [],
   "source": [
    "#We created a file r.for.rs4895441 with variants that are in linkage disequilibrium with rs4895441 using the -r flag \n",
    "#and an --ld-window size of 10000\n",
    "\n",
    "#Display the r.for.rs4895441 file with the SNPs that are in linkage disequilibrium with rs4895441 using R coefficients. \n",
    "#Print only the first 20 rows of this file.\n",
    "## BEGIN SOLUTION\n",
    "## END SOLUTION"
   ]
  },
  {
   "cell_type": "markdown",
   "metadata": {},
   "source": [
    "### Question 1e \n",
    "\n",
    "What do you notice in comparing the -r analysis with the -r2 analysis? Specifically, what filtering threshold is the -r2 analysis applying by default? \n",
    "\n",
    "\n",
    "**ANSWER:**"
   ]
  },
  {
   "cell_type": "markdown",
   "metadata": {},
   "source": [
    "### Question 1f"
   ]
  },
  {
   "cell_type": "code",
   "execution_count": 1,
   "metadata": {},
   "outputs": [],
   "source": [
    "#Read the list of SNPs in linkage disequilibrium with rs4895441 using R2 coefficients into a dataframe in Python \n",
    "#and print out the top of the dataframe.\n",
    "#HINT: When reading in the dataframe use the delim_whitespace=True argument. \n",
    "## BEGIN SOLUTION\n",
    "## END SOLUTION"
   ]
  },
  {
   "cell_type": "markdown",
   "metadata": {},
   "source": [
    "### Question 1g"
   ]
  },
  {
   "cell_type": "code",
   "execution_count": null,
   "metadata": {},
   "outputs": [],
   "source": [
    "#Use a for loop to print out a list of SNPs in linkage disequilibrium with rs4895441 \n",
    "#with an R^2 value greater than .8\n",
    "## BEGIN SOLUTION\n",
    "## END SOLUTION "
   ]
  },
  {
   "cell_type": "markdown",
   "metadata": {},
   "source": [
    "### Question 1h"
   ]
  },
  {
   "cell_type": "code",
   "execution_count": null,
   "metadata": {},
   "outputs": [],
   "source": [
    "# Sort the dataframe from 1g so the highest R2 value is on the first row\n",
    "# Use the .head() command to print out the top ten rows of the dataframe\n",
    "## BEGIN SOLUTION\n",
    "## END SOLUTION "
   ]
  },
  {
   "cell_type": "markdown",
   "metadata": {},
   "source": [
    "### Question 1i"
   ]
  },
  {
   "cell_type": "markdown",
   "metadata": {},
   "source": [
    "Generate a scatterplot with base pairs (BP_B) along the x-axis and the correlation coefficient (R^2) along the y-axis. \n",
    "\n",
    "Label the point with the maximum R^2 value with the rs id number for the variant. \n",
    "\n",
    "To label just a single point on the plot with the maximum value: \n",
    "<li>Define variables (x_subset, y_subset) to be the x and y-coordinates for the point with the maximum R^2value. </li>\n",
    "<li>Define a variable (label_subset) to be the rs # for the maximum R^2value </li>\n",
    "<li>Fill in the appropriate x, y, xlab (x-axis label), ylab (y-axis label) in the template below and run the code to make the plot.</li> \n",
    "<li>Optional- adjust the size, color, position (ha, va) and angle of the label to make it more visible.</li>\n",
    " "
   ]
  },
  {
   "cell_type": "code",
   "execution_count": null,
   "metadata": {},
   "outputs": [],
   "source": [
    "from plotnine import *\n",
    "## BEGIN SOLUTION ## \n",
    "\n",
    "x_subset= \n",
    "y_subset= \n",
    "label_subset= \n",
    "\n",
    "print(qplot(x= ,\n",
    "      y=,\n",
    "      xlab= ,\n",
    "      ylab= )\n",
    "      + annotate('text',x=x_subset, y=y_subset, label=label_subset, size=7, color='blue', va='bottom', ha='left', angle=0)\n",
    "       )\n",
    "## END SOLUTION ## "
   ]
  },
  {
   "cell_type": "markdown",
   "metadata": {},
   "source": [
    "## Question 2\n",
    "\n",
    "In your Week_8 directory there is a file called 'Ganesh_Nat. Genetics_2009_PMID_19862010_ng.466-S2.csv'. \n",
    "\n",
    "The file is from the Supplementary Material published in Ganesh et al. Nature Genetics 41, 1191–1198 (2009) doi:10.1038/ng.46. \n",
    "\n",
    "The file contains a table of p-values for SNPs that were identified in the GWAS association studies for different traits.\n",
    "\n",
    "The third column of the file contains the locus or chromosome number. "
   ]
  },
  {
   "cell_type": "markdown",
   "metadata": {},
   "source": [
    "### Question 2a"
   ]
  },
  {
   "cell_type": "code",
   "execution_count": null,
   "metadata": {},
   "outputs": [],
   "source": [
    "#Read the .csv file from the Ganesh paper into a pandas dataframe. \n",
    "#HINT: MAKE SURE YOU ARE READING IN A CSV FILE NOT A TSV FILE. \n",
    "## BEGIN SOLUTION\n",
    "## END SOLUTION"
   ]
  },
  {
   "cell_type": "markdown",
   "metadata": {},
   "source": [
    "### Question 2b"
   ]
  },
  {
   "cell_type": "code",
   "execution_count": null,
   "metadata": {},
   "outputs": [],
   "source": [
    "#view the dataframe from 3a so you can see the header and columns\n",
    "## BEGIN SOLUTION\n",
    "## END SOLUTION"
   ]
  },
  {
   "cell_type": "markdown",
   "metadata": {},
   "source": [
    "### Question 2c"
   ]
  },
  {
   "cell_type": "code",
   "execution_count": null,
   "metadata": {},
   "outputs": [],
   "source": [
    "#Now that you have viewed the .csv file, adjust the skiprows and the header argument to make\n",
    "#the row with locus#, SNIPID, Chr ... the header and to skip any rows above that. \n",
    "## BEGIN SOLUTION\n",
    "## END SOLUTION"
   ]
  },
  {
   "cell_type": "markdown",
   "metadata": {},
   "source": [
    "### Question 2d"
   ]
  },
  {
   "cell_type": "code",
   "execution_count": null,
   "metadata": {},
   "outputs": [],
   "source": [
    "#view the dataframe from 3c so you can see the header and columns\n",
    "## BEGIN SOLUTION\n",
    "## END SOLUTION"
   ]
  },
  {
   "cell_type": "markdown",
   "metadata": {},
   "source": [
    "### Question 2e"
   ]
  },
  {
   "cell_type": "code",
   "execution_count": null,
   "metadata": {},
   "outputs": [],
   "source": [
    "#Make a subset of the dataframe from question 3d with just the SNPs in locus# 9 \n",
    "## BEGIN SOLUTION\n",
    "## END SOLUTION"
   ]
  },
  {
   "cell_type": "markdown",
   "metadata": {},
   "source": [
    "### Question 2f"
   ]
  },
  {
   "cell_type": "code",
   "execution_count": null,
   "metadata": {},
   "outputs": [],
   "source": [
    "#View the output of 3f \n",
    "## BEGIN SOLUTION\n",
    "## END SOLUTION"
   ]
  },
  {
   "cell_type": "markdown",
   "metadata": {},
   "source": [
    "### Question 2g"
   ]
  },
  {
   "cell_type": "code",
   "execution_count": null,
   "metadata": {},
   "outputs": [],
   "source": [
    "#Make a subset of the dataframe from question 3e with just the mcv trait. \n",
    "#MAKE SURE YOU ARE USING THE OUTPUT OF 3e not the original dataframe. \n",
    "\n",
    "## BEGIN SOLUTION\n",
    "## END SOLUTION"
   ]
  },
  {
   "cell_type": "markdown",
   "metadata": {},
   "source": [
    "### Question 2h"
   ]
  },
  {
   "cell_type": "code",
   "execution_count": null,
   "metadata": {},
   "outputs": [],
   "source": [
    "#Use the template code below to add a new column to the data frame with the -log of the p-values. \n",
    "#First select the column withe the P-values and store it in a variable named y\n",
    "#In the next line, replace 'df' with the name of your dataframe \n",
    "# Use the .head() command to print out the top ten rows of the dataframe with the additional column\n",
    "## BEGIN SOLUTION ## \n",
    "import numpy \n",
    "y=\n",
    "df.loc[:,'-logPvalue']=-numpy.log10(y)\n",
    "df.head()\n",
    "## END SOLUTION ## "
   ]
  },
  {
   "cell_type": "markdown",
   "metadata": {},
   "source": [
    "### Question 2i"
   ]
  },
  {
   "cell_type": "code",
   "execution_count": null,
   "metadata": {},
   "outputs": [],
   "source": [
    "#Use the ggplot function to make a scatter plot of physical position (PhysPos) on the x-axis versus the -log10 p-value \n",
    "#for the SNPs in locus 9 that were associated with the mcv trait  \n",
    "#Include axis labels, but points will be labled in the next question. \n",
    "\n",
    "## BEGIN SOLUTION ## \n",
    "(ggplot(locus_9_mcv,aes(x=\"PhysPos\",y=\"-logPvalue\"))+\n",
    " geom_point()+\n",
    " xlab(\"PhysPos\")+\n",
    " ylab(\"P.value\"))    \n",
    "## END SOLUTION ## "
   ]
  },
  {
   "cell_type": "markdown",
   "metadata": {},
   "source": [
    "### Question 2j\n",
    "\n",
    "Now you will add labels to the plot from 3i. To avoid overlapping labels, identify a region from your plot in 3i to zoom in on. Use the template code below to zoom in on a region and add labels. \n",
    "\n",
    "Substitute in the following variables in the template below: \n",
    "\n",
    "df= the name of your data frame  \n",
    "x column= the name of the column in your dataframe that has the x values for your plot\n",
    "y column= the name of the column in your dataframe that has the y values for your plot\n",
    "label column= the name of the colum in your dataframe that has the labels\n",
    "xmin= minimum x value\n",
    "xmax= maximum y value\n",
    "\n",
    "Optional- adjust the size, color, position (ha, va) and angle of the labels to make them more visible. \n"
   ]
  },
  {
   "cell_type": "code",
   "execution_count": null,
   "metadata": {},
   "outputs": [],
   "source": [
    "## BEGIN SOLUTION ## \n",
    "(ggplot(df, aes('x column','y column', label='label column')) \n",
    " + geom_point()\n",
    " + xlab()\n",
    " + ylab() \n",
    " + geom_text(angle=45,size=10,va='bottom')\n",
    " + xlim(xmin,xmax)\n",
    " + ylim(ymin,ymaz))\n",
    " ## END SOLUTION ## "
   ]
  },
  {
   "cell_type": "markdown",
   "metadata": {},
   "source": [
    "### Question 2k\n",
    "\n",
    "Which SNP has the lowest p-value?\n",
    "\n",
    "Hint: the pandas sort_values() function may be helpful. "
   ]
  },
  {
   "cell_type": "code",
   "execution_count": 1,
   "metadata": {},
   "outputs": [],
   "source": [
    "## BEGIN SOLUTION\n",
    "## END SOLUTION"
   ]
  },
  {
   "cell_type": "markdown",
   "metadata": {},
   "source": [
    "**YOUR ANSWER HERE**: "
   ]
  },
  {
   "cell_type": "markdown",
   "metadata": {},
   "source": [
    "## A NOTE ON THE COURSE PROJECT\n",
    "\n",
    "We set up a folder called Course Project and added a Course Project Notebook. You can use the Course Project notebook to start working on the code to analyze the variants that you have been assigned. "
   ]
  }
 ],
 "metadata": {
  "kernelspec": {
   "display_name": "Python 3",
   "language": "python",
   "name": "python3"
  },
  "language_info": {
   "codemirror_mode": {
    "name": "ipython",
    "version": 3
   },
   "file_extension": ".py",
   "mimetype": "text/x-python",
   "name": "python",
   "nbconvert_exporter": "python",
   "pygments_lexer": "ipython3",
   "version": "3.7.10"
  }
 },
 "nbformat": 4,
 "nbformat_minor": 4
}
