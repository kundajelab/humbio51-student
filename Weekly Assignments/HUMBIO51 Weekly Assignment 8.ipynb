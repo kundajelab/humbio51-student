{
 "cells": [
  {
   "cell_type": "markdown",
   "metadata": {},
   "source": [
    "## HUMBIO51 Assignment Week 8"
   ]
  },
  {
   "cell_type": "markdown",
   "metadata": {},
   "source": [
    "##  Learning Objectives\n",
    "***Students should be able to*** \n",
    "\n",
    "<li> <a href=#LD>Find variants in linkage disequilibrium (LD) with a target variant using tabix and PLINK.</a></li>\n",
    "<li> <a href=#LoadTable> Load a data table in .csv format into Python</a></li>\n",
    "<li> <a href=#Scatter>Make a scatter plot in Python </a></li>\n",
    "<li> <a href=#GWAS> Interpret data from a genome wide association study (GWAS)</a></li>\n",
    " \n"
   ]
  },
  {
   "cell_type": "markdown",
   "metadata": {},
   "source": [
    "## Question 1"
   ]
  },
  {
   "cell_type": "markdown",
   "metadata": {},
   "source": [
    "This question is based off of data from a study in which  researchers performed genome wide association studies (GWAS) on six different types of erythrocyte traits. Erythrocytes are a type of blood cell and the traits were being studied to look for markers of hematological disorders. \n",
    "\n",
    "The reference is Ganesh et al. Nature Genetics 41, 1191–1198 (2009) [doi:10.1038/ng.466](https://www.nature.com/articles/ng.466). \n",
    "\n",
    "\n",
    "\n",
    "The question will focus on SNP:  rs4895441"
   ]
  },
  {
   "cell_type": "markdown",
   "metadata": {},
   "source": [
    "For this quesion you will need the variant files from class for the 1000 Genomes Project in the PLINK binary format: \n",
    "    \n",
    "* **/data/project/1kg_phase1_all.bed** -- binary encoding of subject genotypes (do not be fooled by the file extension, this is NOT the 4-column bed file format we have been using). \n",
    "\n",
    "* **/data/project/1kg_phase1_all.bim** -- list of all variants in the subject population \n",
    "* **/data/project/1kg_phase1_all.fam** -- list of all subject id's in the 1000's genome project"
   ]
  },
  {
   "cell_type": "markdown",
   "metadata": {},
   "source": [
    "NOTE: Your notes from class 7 on working with pandas dataframes may be helpful for this assignment. "
   ]
  },
  {
   "cell_type": "markdown",
   "metadata": {},
   "source": [
    "### Question 1a"
   ]
  },
  {
   "cell_type": "code",
   "execution_count": null,
   "metadata": {},
   "outputs": [],
   "source": [
    "import warnings\n",
    "warnings.filterwarnings('ignore')\n",
    "\n",
    "#change your working directory to Week_8 \n",
    "## BEGIN SOLUTION\n",
    "## END SOLUTION"
   ]
  },
  {
   "cell_type": "markdown",
   "metadata": {},
   "source": [
    "### Question 1b"
   ]
  },
  {
   "cell_type": "code",
   "execution_count": null,
   "metadata": {},
   "outputs": [],
   "source": [
    "#Identify the variants that are in linkage disequilibrium with rs4895441 using the -r2 flag and an \n",
    "#--ld-window size of 10000\n",
    "\n",
    "## BEGIN SOLUTION\n",
    "## END SOLUTION"
   ]
  },
  {
   "cell_type": "markdown",
   "metadata": {},
   "source": [
    "### Question 1c"
   ]
  },
  {
   "cell_type": "code",
   "execution_count": null,
   "metadata": {},
   "outputs": [],
   "source": [
    "#Display the SNPs that are in linkage disequilibrium with rs4895441 using R2 coefficients. \n",
    "## BEGIN SOLUTION\n",
    "## END SOLUTION"
   ]
  },
  {
   "cell_type": "markdown",
   "metadata": {},
   "source": [
    "### Question 1d "
   ]
  },
  {
   "cell_type": "code",
   "execution_count": null,
   "metadata": {},
   "outputs": [],
   "source": [
    "#We created a file r.for.rs4895441.ld with variants that are in linkage disequilibrium with rs4895441 using the -r flag \n",
    "#and an --ld-window size of 10000\n",
    "\n",
    "#Display the r.for.rs4895441.ld file with the SNPs that are in linkage disequilibrium with rs4895441 using R coefficients. \n",
    "#Print only the first 20 rows of this file. \n",
    "## BEGIN SOLUTION\n",
    "## END SOLUTION"
   ]
  },
  {
   "cell_type": "markdown",
   "metadata": {},
   "source": [
    "### Question 1e \n",
    "\n",
    "What do you notice in comparing the -r analysis with the -r2 analysis? Specifically, what filtering threshold is the -r2 analysis applying by default? \n",
    "\n",
    "\n",
    "**ANSWER:**"
   ]
  },
  {
   "cell_type": "markdown",
   "metadata": {},
   "source": [
    "### Question 1f"
   ]
  },
  {
   "cell_type": "code",
   "execution_count": null,
   "metadata": {},
   "outputs": [],
   "source": [
    "#Read the list of SNPs in linkage disequilibrium with rs4895441 using R2 coefficients into a dataframe in Python \n",
    "#and print out the top of the dataframe.\n",
    "#HINT: When reading in the dataframe use the delim_whitespace=True argument. \n",
    "## BEGIN SOLUTION\n",
    "## END SOLUTION"
   ]
  },
  {
   "cell_type": "markdown",
   "metadata": {},
   "source": [
    "### Question 1g"
   ]
  },
  {
   "cell_type": "code",
   "execution_count": null,
   "metadata": {},
   "outputs": [],
   "source": [
    "#Use a for loop to print out a list of SNPs in linkage disequilibrium with rs4895441 \n",
    "#with an R^2 value greater than .8\n",
    "## BEGIN SOLUTION\n",
    "## END SOLUTION "
   ]
  },
  {
   "cell_type": "markdown",
   "metadata": {},
   "source": [
    "## Question 2\n",
    "\n",
    "Import the plotnine package for plotting"
   ]
  },
  {
   "cell_type": "code",
   "execution_count": null,
   "metadata": {},
   "outputs": [],
   "source": [
    "%%capture\n",
    "\n",
    "## %%capture Suppresses all outputs from this cell, including warnings\n",
    "\n",
    "## BEGIN SOLUTION\n",
    "## END SOLUTION"
   ]
  },
  {
   "cell_type": "markdown",
   "metadata": {},
   "source": [
    "Generate a scatterplot with base pairs (BP_B) along the x-axis and the correlation coefficient (R) along the y-axis. Add the rs text labels to the plot for R^2 above 0.7. (hint: see Class 14 notebook, make sure to use the R^2 column as input instead of R). "
   ]
  },
  {
   "cell_type": "code",
   "execution_count": null,
   "metadata": {},
   "outputs": [],
   "source": [
    "## BEGIN SOLUTION\n",
    "## END SOLUTION"
   ]
  },
  {
   "cell_type": "markdown",
   "metadata": {},
   "source": [
    "## Question 3\n",
    "\n",
    "In your Week_8 directory there is a file called 'Ganesh_Nat. Genetics_2009_PMID_19862010_ng.466-S2.csv'. \n",
    "\n",
    "The file is from the Supplementary Material published in Ganesh et al. Nature Genetics 41, 1191–1198 (2009) doi:10.1038/ng.46. \n",
    "\n",
    "The file contains a table of p-values for SNPs that were identified in the GWAS association studies for different traits.\n",
    "\n",
    "The third column of the file contains the locus or chromosome number. "
   ]
  },
  {
   "cell_type": "markdown",
   "metadata": {},
   "source": [
    "### Question 3a"
   ]
  },
  {
   "cell_type": "code",
   "execution_count": null,
   "metadata": {},
   "outputs": [],
   "source": [
    "#Read the .csv file from the Ganesh paper into a pandas dataframe. \n",
    "#HINT: MAKE SURE YOU ARE READING IN A CSV FILE NOT A TSV FILE. \n",
    "## BEGIN SOLUTION\n",
    "## END SOLUTION"
   ]
  },
  {
   "cell_type": "markdown",
   "metadata": {},
   "source": [
    "### Question 3b"
   ]
  },
  {
   "cell_type": "code",
   "execution_count": null,
   "metadata": {},
   "outputs": [],
   "source": [
    "#view the dataframe from 3a so you can see the header and columns\n",
    "## BEGIN SOLUTION\n",
    "## END SOLUTION"
   ]
  },
  {
   "cell_type": "markdown",
   "metadata": {},
   "source": [
    "### Question 3c"
   ]
  },
  {
   "cell_type": "code",
   "execution_count": null,
   "metadata": {},
   "outputs": [],
   "source": [
    "#Now that you have viewed the .csv file, adjust the skiprows and the header argument to make\n",
    "#the row with locus#, SNIPID, Chr ... the header and to skip any rows above that. \n",
    "## BEGIN SOLUTION\n",
    "## END SOLUTION"
   ]
  },
  {
   "cell_type": "markdown",
   "metadata": {},
   "source": [
    "### Question 3d"
   ]
  },
  {
   "cell_type": "code",
   "execution_count": null,
   "metadata": {},
   "outputs": [],
   "source": [
    "#view the dataframe from 3c so you can see the header and columns\n",
    "## BEGIN SOLUTION\n",
    "## END SOLUTION"
   ]
  },
  {
   "cell_type": "markdown",
   "metadata": {},
   "source": [
    "### Question 3e"
   ]
  },
  {
   "cell_type": "code",
   "execution_count": null,
   "metadata": {},
   "outputs": [],
   "source": [
    "#Make a subset of the dataframe from question 3d with just the SNPs in locus# 9 \n",
    "## BEGIN SOLUTION\n",
    "## END SOLUTION"
   ]
  },
  {
   "cell_type": "markdown",
   "metadata": {},
   "source": [
    "### Question 3f"
   ]
  },
  {
   "cell_type": "code",
   "execution_count": null,
   "metadata": {},
   "outputs": [],
   "source": [
    "#View the output of 3f \n",
    "## BEGIN SOLUTION\n",
    "## END SOLUTION"
   ]
  },
  {
   "cell_type": "markdown",
   "metadata": {},
   "source": [
    "### Question 3g"
   ]
  },
  {
   "cell_type": "code",
   "execution_count": null,
   "metadata": {},
   "outputs": [],
   "source": [
    "#Make a subset of the dataframe from question 3e with just the mcv trait. \n",
    "#MAKE SURE YOU ARE USING THE OUTPUT OF 3e not the original dataframe. \n",
    "\n",
    "## BEGIN SOLUTION\n",
    "## END SOLUTION"
   ]
  },
  {
   "cell_type": "markdown",
   "metadata": {},
   "source": [
    "### Question 3h"
   ]
  },
  {
   "cell_type": "markdown",
   "metadata": {},
   "source": [
    "For this question, you can take the -log of a dataframe in pandas using the following code:"
   ]
  },
  {
   "cell_type": "code",
   "execution_count": null,
   "metadata": {},
   "outputs": [],
   "source": [
    "import numpy"
   ]
  },
  {
   "cell_type": "code",
   "execution_count": null,
   "metadata": {},
   "outputs": [],
   "source": [
    "y=-numpy.log10(df[\"column name\"])\n",
    "#note: replace 'df' with the name of your dataframe and \"column name\" with the name of your column of interest "
   ]
  },
  {
   "cell_type": "code",
   "execution_count": null,
   "metadata": {},
   "outputs": [],
   "source": [
    "#you might find the following function helpful\n",
    "def get_labels_generic(thresh,data,metric_column=\"R\",snp_column=\"SNP_B\",base_column=\"BP_B\",text_offset=0.15): \n",
    "    '''\n",
    "    thresh -- the threshold of the metric to show labels for \n",
    "    data -- pandas dataframe with plink  output \n",
    "    metric_column -- column name in the pandas dataframe where metric values are stored (i.e. R, R2,P.value)\n",
    "    snp_column -- column name in the pandas dataframe where SNP is stored (i.e. SNP_B or SNPID)\n",
    "    base_column -- column name where base pair information is stored (i.e. BP_B)\n",
    "    '''\n",
    "    labels=[]\n",
    "    x=[]\n",
    "    y=[]\n",
    "    offset=0\n",
    "    for index,row in data.iterrows(): \n",
    "        if row[metric_column]>=thresh:\n",
    "            labels.append(row[snp_column])\n",
    "            x.append(row[base_column])\n",
    "            y.append(row[metric_column]+offset)\n",
    "            offset=offset+text_offset\n",
    "        else: \n",
    "            labels.append('')\n",
    "            x.append(row[base_column])\n",
    "            y.append(row[metric_column])\n",
    "    return x,y,labels"
   ]
  },
  {
   "cell_type": "code",
   "execution_count": null,
   "metadata": {},
   "outputs": [],
   "source": [
    "#Make a scatter plot of the physical position (column name: 'PhysPos') on the x-axis versus \n",
    "# and the -log10 of the p-value (column name:'P.value') for the SNPs in locus 9 on the y-axis. \n",
    "#Make sure to label your axes correctly. \n",
    "#Label the points with -log10(P.value)>55 \n",
    "#hint: you might have to add the -log10(Pvalue) data to your dataframe to apply the get_labels_generic function. \n",
    "\n",
    "## BEGIN SOLUTION\n",
    "## END SOLUTION"
   ]
  },
  {
   "cell_type": "markdown",
   "metadata": {},
   "source": [
    "### Question 3i\n",
    "\n",
    "Which SNP has the lowest p-value?\n",
    "\n",
    "Hint: the pandas sort_values() function may be helpful. "
   ]
  },
  {
   "cell_type": "code",
   "execution_count": null,
   "metadata": {},
   "outputs": [],
   "source": [
    "## BEGIN SOLUTION\n",
    "## END SOLUTION"
   ]
  },
  {
   "cell_type": "markdown",
   "metadata": {},
   "source": [
    "**YOUR ANSWER HERE**: "
   ]
  },
  {
   "cell_type": "markdown",
   "metadata": {},
   "source": [
    "## A NOTE ON THE COURSE PROJECT\n",
    "\n",
    "We set up a folder called Course Project and added a Course Project Notebook. You can use this to start working on the code to analyze the variants that you have been assigned. "
   ]
  },
  {
   "cell_type": "code",
   "execution_count": null,
   "metadata": {},
   "outputs": [],
   "source": []
  }
 ],
 "metadata": {
  "kernelspec": {
   "display_name": "Python 3",
   "language": "python",
   "name": "python3"
  },
  "language_info": {
   "codemirror_mode": {
    "name": "ipython",
    "version": 3
   },
   "file_extension": ".py",
   "mimetype": "text/x-python",
   "name": "python",
   "nbconvert_exporter": "python",
   "pygments_lexer": "ipython3",
   "version": "3.7.10"
  }
 },
 "nbformat": 4,
 "nbformat_minor": 4
}
