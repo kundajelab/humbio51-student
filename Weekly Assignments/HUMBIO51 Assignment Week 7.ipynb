{
 "cells": [
  {
   "cell_type": "markdown",
   "metadata": {},
   "source": [
    " ## HUMBIO51 Assignment Week 7"
   ]
  },
  {
   "cell_type": "markdown",
   "metadata": {},
   "source": [
    "##  Learning Objectives\n",
    "***Students should be able to***\n",
    "\n",
    "### How to represent a transcription factor's binding motif and scan sequences for matches \n",
    "\n",
    "<ol> \n",
    "<li>  <a href=#TFMotif>Explain what a transcription factor binding motif is</a> </li>\n",
    "<li> <a href=#ChIPseq>Understand what is a ChIP-seq experiment and how it can be used to identify transcription factor binding genome-wide</a> </li>\n",
    "<li><a href=#Regulator> Explain what a regulatory element is </a></li>\n",
    "<li> <a href=#PromotersEnhancers>Explain what promoters and enhancers are</a></li>\n",
    "<li> <a href=#PSSM>Make a position-specific score matrices (PSSM) from a PWM to use for transcription factor motif-scanning  </a></li>\n",
    " <li><a href=#Scan>Motif scanning along a DNA sequence </a></li>\n",
    " <li> <a href=#Biopython>Become familiar with Biopython functions module: Motif</a> </li>\n",
    " <li> <a href=#Sort>Use bedtools commands to sort ChiP-seq peak files by genome coordinates.</a></li>\n",
    "<li> <a href=#Intersect>Use bedtools commands to intersect regions from multiple bed files.</a></li>\n",
    "<li> <a href=#Dict>Use python dictionaries to generate frequencies of transcription factors in active enhancers.</a></li>\n",
    "<li> <a href=#Plot>Generate Bar graphs to visualize the most over-represented transcription factors in GM12878.</a></li>\n",
    "</ol> "
   ]
  },
  {
   "cell_type": "markdown",
   "metadata": {},
   "source": [
    "## Question 1: Finding Transcription factor binding sites"
   ]
  },
  {
   "cell_type": "markdown",
   "metadata": {},
   "source": [
    "PDX1 is a transcription factor involved in pancreas development. A [study from 2018](https://www.ncbi.nlm.nih.gov/pmc/articles/PMC5870105/) conducted an analysis to identify PDX1 binding sites in samples from different stages of pancreatic development. Several PDX1 targets that were identified are also transcription factors including **PDX1** itself, **RFX6**, **HNF1B** and **MEIS1**. Our goal in this question is to determine if the promoter region of NKX2-2 (note: referred to as NKX2_2 in code), a gene that has been implicated in pancreatic deveopment, contains binding motifs for any of these transcription factors.   "
   ]
  },
  {
   "cell_type": "markdown",
   "metadata": {},
   "source": [
    "### Question 1a \n",
    "Run the code in the box below to generate a file called NKX2_2.promoter.bed that includes a region 2kb upstream from the start of the NKX2-2 gene. Use the Unix cat command to check the format of the file. "
   ]
  },
  {
   "cell_type": "code",
   "execution_count": null,
   "metadata": {},
   "outputs": [],
   "source": [
    "with open('Week_7/NKX2_2.promoter.bed', 'w') as file:\n",
    "    file.write(\"chr20\\t21494307\\t21496307\\tNKX2-2promoter\\t.\\t-\") "
   ]
  },
  {
   "cell_type": "markdown",
   "metadata": {},
   "source": [
    "Use the fastaFromBed command to extract the genetic sequence that corresponds to the positions in NKX2_2.promoter.bed  Store the sequence in a file called **NKX2_2_promoter.fa**. Use the Unix cat command to check the file. "
   ]
  },
  {
   "cell_type": "code",
   "execution_count": null,
   "metadata": {},
   "outputs": [],
   "source": [
    "## BEGIN SOLUTION\n",
    "\n",
    "## END SOLUTION"
   ]
  },
  {
   "cell_type": "markdown",
   "metadata": {},
   "source": [
    "### Question 1b\n",
    "Read in the sequence into a Sequence object using the Biopython SeqIO package (see Class 4 notes). Store the \".seq\" attribute of the object in the variable **NKX2_2_promoter**"
   ]
  },
  {
   "cell_type": "code",
   "execution_count": null,
   "metadata": {},
   "outputs": [],
   "source": [
    "## BEGIN SOLUTION\n",
    "\n",
    "## END SOLUTION"
   ]
  },
  {
   "cell_type": "markdown",
   "metadata": {},
   "source": [
    "### Question 1c\n",
    "We have downloaded the positions weight matrices (PWM's) for the three motifs of interest from the [HOMER motif database](http://homer.ucsd.edu/homer/motif/HomerMotifDB/homerResults.html). These are stored in the files: \n",
    "\n",
    "* Week_7/rfx6.motif\n",
    "\n",
    "* Week_7/hnf1b.motif\n",
    "\n",
    "* Week_7/pdx1.motif\n",
    "\n",
    "* Week_7/meis1.motif\n",
    "\n",
    "Use the unix *cat* command to examine the contents of these files. \n"
   ]
  },
  {
   "cell_type": "code",
   "execution_count": null,
   "metadata": {},
   "outputs": [],
   "source": [
    "## BEGIN SOLUTION\n",
    "\n",
    "## END SOLUTION"
   ]
  },
  {
   "cell_type": "markdown",
   "metadata": {},
   "source": [
    "### Question 1d\n",
    "Next, we will load these files into Biopython Motif objects. We will do this using the **Biopython.motifs.read** function. Note that our motif files are stored in the \"pfm\" (i.e. position frequency matrix) format. First, import the motifs package and use the \"help\" command to determine the syntax of the Biopython.motifs.read function"
   ]
  },
  {
   "cell_type": "code",
   "execution_count": null,
   "metadata": {},
   "outputs": [],
   "source": [
    "## BEGIN SOLUTION\n",
    "\n",
    "## END SOLUTION "
   ]
  },
  {
   "cell_type": "markdown",
   "metadata": {},
   "source": [
    "### Question 1e\n",
    "Follow the example in the help documentation for the function to read in the motif files for rfx6, pdx1, and hnf1b into variables. Hint: The syntax in the documentation for the \"motifs/SRF.pfm\" example is very close to the syntax you will need. "
   ]
  },
  {
   "cell_type": "code",
   "execution_count": null,
   "metadata": {},
   "outputs": [],
   "source": [
    "## BEGIN SOLUTION\n",
    "\n",
    "## END SOLUTION "
   ]
  },
  {
   "cell_type": "markdown",
   "metadata": {},
   "source": [
    "### Question 1f\n",
    "Check that the motif files were read in correctly in 1d by printing out the consensus motifs for each of the three transcription factors. Hint: m.consensus prints out the consensus motif for the example in the help file."
   ]
  },
  {
   "cell_type": "code",
   "execution_count": null,
   "metadata": {},
   "outputs": [],
   "source": [
    "## BEGIN SOLUTION\n",
    "\n",
    "## END SOLUTION "
   ]
  },
  {
   "cell_type": "markdown",
   "metadata": {},
   "source": [
    "### Question 1g\n",
    "Before we can scan the promoter sequence of NKX2-2 for the three motifs, we will need to transform the motifs from the PWM (also known as PFM) format to the PSSM format. \n",
    "\n",
    "What does PSSM stand for? \n",
    "\n",
    "**BEGIN ANSWER**: \n",
    "\n",
    "**END ANSWER**\n",
    "\n",
    "Why do we need to use the PSSM format rather than the PWM format when scanning for a motif in a genome sequence? \n",
    "\n",
    "**BEGIN ANSWER**: \n",
    "\n",
    "**END ANSWER**\n"
   ]
  },
  {
   "cell_type": "markdown",
   "metadata": {},
   "source": [
    "### Question 1h\n",
    "Print the pssm for the rfx6 motif. \n",
    "Hint: the pssm is an attribute of a Motif object in Biopython, so you shouldn't have to write much additional code \n"
   ]
  },
  {
   "cell_type": "code",
   "execution_count": null,
   "metadata": {},
   "outputs": [],
   "source": [
    "## BEGIN SOLUTION\n",
    "\n",
    "## END SOLUTION "
   ]
  },
  {
   "cell_type": "markdown",
   "metadata": {},
   "source": [
    "### Question 1i\n",
    "Scan the sequence you stored in the variable **NKX2_2_promoter** for each of the three motifs. See \"Motif Scanning with Biopython\" section in class 11. We consider the motif a match to the sequence if it has an alignment score greater than 10. Recall that you can specify the alignment score threshold with the \"threshold\" parameter.  \n",
    "\n"
   ]
  },
  {
   "cell_type": "markdown",
   "metadata": {},
   "source": [
    "Search for the rfx6 motif in the NKX2-2 promoter region. Rather than printing the values out on the screen like we did in class, store the search result in the variable \"rfx6_hits\". \n"
   ]
  },
  {
   "cell_type": "code",
   "execution_count": null,
   "metadata": {},
   "outputs": [],
   "source": [
    "##BEGIN SOLUTION\n",
    "\n",
    "###END SOLUTION"
   ]
  },
  {
   "cell_type": "markdown",
   "metadata": {},
   "source": [
    "Repeat the steps above to search for the Pdx1 motif in the NKX2_2_promoter sequence and store the result in the variable pdx1_hits. "
   ]
  },
  {
   "cell_type": "code",
   "execution_count": null,
   "metadata": {},
   "outputs": [],
   "source": [
    "##BEGIN SOLUTION\n",
    "\n",
    "###END SOLUTION"
   ]
  },
  {
   "cell_type": "markdown",
   "metadata": {},
   "source": [
    "Repeat the steps above to search for the hnf1b motif in the NKX2_2_promoter and store the result in the variable hnf1b_hits. "
   ]
  },
  {
   "cell_type": "code",
   "execution_count": null,
   "metadata": {},
   "outputs": [],
   "source": [
    "##BEGIN SOLUTION\n",
    "\n",
    "###END SOLUTION"
   ]
  },
  {
   "cell_type": "markdown",
   "metadata": {},
   "source": [
    "### Question 1j\n",
    "\n",
    "The helper function below iterates through every [position,score] value in the output from the   search from 1i. Fill in the rest of the helper function so it identifies the highest alignment score and the corresponding position. \n",
    "\n",
    "The function returns a default score of -100 and a position of \"None\" if there is no quality alignment of the motif to the sequence. \n"
   ]
  },
  {
   "cell_type": "code",
   "execution_count": null,
   "metadata": {},
   "outputs": [],
   "source": [
    "def get_best_alignment(hits): \n",
    "    best_alignment_score=-100\n",
    "    best_alignment_position=None\n",
    "    for [position,score] in hits: \n",
    "        \n",
    "        ###BEGIN SOLUTION\n",
    "        \n",
    "        ###END SOLUTION  \n",
    "\n",
    "    return best_alignment_score,best_alignment_position"
   ]
  },
  {
   "cell_type": "markdown",
   "metadata": {},
   "source": [
    "### Question 1k\n",
    "\n",
    "Execute the get_best_alignment function to find the best alignment position and score for the Rfx6, Pdx1 and Hnf1b motifs. Make sure its clear which position and score go with which transcription factor. \n"
   ]
  },
  {
   "cell_type": "code",
   "execution_count": null,
   "metadata": {},
   "outputs": [],
   "source": [
    "###BEGIN SOLUTION\n",
    "\n",
    "###END SOLUTION "
   ]
  },
  {
   "cell_type": "markdown",
   "metadata": {},
   "source": [
    "### Question 1l \n",
    "Which of the transcription factor binding motifs, if any, are in the promoter region of the NKX2.2 gene? \n",
    "\n",
    "**BEGIN ANSWER** \n",
    "\n",
    "\n",
    "**BEGIN ANSWER** "
   ]
  },
  {
   "cell_type": "markdown",
   "metadata": {},
   "source": [
    "## Question 2: Exploring CHIP-Seq Data"
   ]
  },
  {
   "cell_type": "markdown",
   "metadata": {},
   "source": [
    "We have sampled 10000 regions from the human reference genome at random. At each of these regions, we have data from a CHIP-Seq experiment within the GM12878 cell (blood cell line) measuring the strength of 5 histone markers: \n",
    "\n",
    "* H3K4me3, \n",
    "* H3K4me1, \n",
    "* H3K36me3, \n",
    "* H3K9me3,\n",
    "* H3K27me3. \n",
    "\n",
    "The regions are denoted with the chromosome number, start position and end position. \n",
    "\n",
    "The data is stored as a table in a file in your Week_7 folder called **region_x_chrom_mark.tsv**"
   ]
  },
  {
   "cell_type": "markdown",
   "metadata": {},
   "source": [
    "### Question 2a. \n",
    "Read in the CHIP-Seq data into a pandas dataframe."
   ]
  },
  {
   "cell_type": "code",
   "execution_count": null,
   "metadata": {},
   "outputs": [],
   "source": [
    "##BEGIN SOLUTION\n",
    "\n",
    "###END SOLUTION"
   ]
  },
  {
   "cell_type": "markdown",
   "metadata": {},
   "source": [
    "### Question 2b. \n",
    "\n",
    "Print out the number of rows and number of columns in the CHIP-seq data. Make sure it is clear which value refers to rows and which to columns. "
   ]
  },
  {
   "cell_type": "code",
   "execution_count": null,
   "metadata": {},
   "outputs": [],
   "source": [
    "##BEGIN SOLUTION\n",
    "\n",
    "###END SOLUTION"
   ]
  },
  {
   "cell_type": "markdown",
   "metadata": {},
   "source": [
    "### Question 2c. \n",
    "\n",
    "Print out just the line for chr3_76581600_76582000. "
   ]
  },
  {
   "cell_type": "code",
   "execution_count": null,
   "metadata": {},
   "outputs": [],
   "source": [
    "##BEGIN SOLUTION\n",
    "\n",
    "###END SOLUTION"
   ]
  },
  {
   "cell_type": "markdown",
   "metadata": {},
   "source": [
    "Which of the five histone markers is present in chr3_76581600_76582000?<br>\n",
    "\n",
    "**BEGIN ANSWER**: \n",
    "\n",
    "**END ANSWER**"
   ]
  },
  {
   "cell_type": "markdown",
   "metadata": {},
   "source": [
    "### Question 2d. \n",
    "\n",
    "Import the plotnine package for plotting"
   ]
  },
  {
   "cell_type": "code",
   "execution_count": null,
   "metadata": {},
   "outputs": [],
   "source": [
    "%%capture \n",
    "\n",
    "## %%capture Suppresses all outputs from this cell, including warnings\n",
    "\n",
    "##BEGIN SOLUTION\n",
    "\n",
    "##END SOLUTION"
   ]
  },
  {
   "cell_type": "markdown",
   "metadata": {},
   "source": [
    "Make a histogram of the H3K4me1 column to get a sense for the distribution of the range of values for the histone markers."
   ]
  },
  {
   "cell_type": "code",
   "execution_count": null,
   "metadata": {},
   "outputs": [],
   "source": [
    "import warnings\n",
    "warnings.filterwarnings('ignore')\n",
    "\n",
    "##BEGIN SOLUTION\n",
    "\n",
    "###END SOLUTION"
   ]
  },
  {
   "cell_type": "markdown",
   "metadata": {},
   "source": [
    "## Question 3: Exploring CHIP-Seq Data"
   ]
  },
  {
   "cell_type": "markdown",
   "metadata": {},
   "source": [
    "The ENCODE project has aggregated data from multiple transcription factor ChIP-seq experiments performed on the GM12878 lymphoblastoid cell line [(over 150 such experiments)!](https://www.encodeproject.org/search/?type=Experiment&replicates.library.biosample.donor.organism.scientific_name=Homo+sapiens&biosample_type=immortalized+cell+line&organ_slims=blood&assembly=hg19&assay_title=ChIP-seq&biosample_term_name=GM12878&assay_title=ChIP-seq). We have downloaded and merged the peak calls from these experiments in the file **Week_7/GM12878_allTFBS.bed**. This is a standard bed file with columns for \n",
    "\n",
    "* Chromosome \n",
    "* Start of peak \n",
    "* End of peak \n",
    "* Name of TF (transcription factor) that binds to this site in the genome. \n",
    "\n",
    "Additionally, we have downloaded the ENCODE [active enhancers for the GM12878 cell line.](https://www.encodeproject.org/annotations/ENCSR580CJW/) These were obtained by analyzing H3K27ac ChIP-seq peaks throughout the genome, which are indicative of active enhancer regions. The annotations are stored in the bed file **Week_7/GM12878_enhancer_regions.bed**. \n",
    "\n",
    "\n",
    "Your mission is to identify the transcription factor motifs that are most enriched within the GM12878 active enhancer regions. "
   ]
  },
  {
   "cell_type": "markdown",
   "metadata": {},
   "source": [
    "### Question 3a \n",
    "\n",
    "Write commands to view the first ten lines of both the GM12878_enhancer_regions.bed file and the GM12878_allTFBS.bed. file. "
   ]
  },
  {
   "cell_type": "code",
   "execution_count": null,
   "metadata": {},
   "outputs": [],
   "source": [
    "## BEGIN SOLUTION\n",
    "\n",
    "## END SOLUTION"
   ]
  },
  {
   "cell_type": "markdown",
   "metadata": {},
   "source": [
    "### Question 3b \n",
    "\n",
    "Use the bedtools [sort command](https://bedtools.readthedocs.io/en/latest/content/tools/sort.html) to sort both the Week_7/GM12878_enhancer_regions.bed file and the Week_7/GM12878_allTFBS.bed file.  Store the sorted files as \"Week_7/GM12878.enh.sorted.bed\" and \"Week_7/GM12878.TFBS.sorted.bed\"."
   ]
  },
  {
   "cell_type": "code",
   "execution_count": null,
   "metadata": {},
   "outputs": [],
   "source": [
    "## BEGIN SOLUTION\n",
    "\n",
    "## END SOLUTION"
   ]
  },
  {
   "cell_type": "markdown",
   "metadata": {},
   "source": [
    "### Question 3c.\n",
    "\n",
    "Use bedtools to identify all TF (transcription factor) binding sites that overlap an enhancer region in GM12878. Store these TF binding sites in a file called **Week_7/TFBS.enh.intersection.bed**.  Examine the contents of file Week_7/TFBS.enh.intersection.bed by viewing the first ten lines of the file. <a name='intersect'>"
   ]
  },
  {
   "cell_type": "code",
   "execution_count": null,
   "metadata": {},
   "outputs": [],
   "source": [
    "## BEGIN SOLUTION\n",
    "\n",
    "## END SOLUTION"
   ]
  },
  {
   "cell_type": "markdown",
   "metadata": {},
   "source": [
    "### Question 3d\n",
    "\n",
    "Generate a dictionary called \"TF_count_dict\" with the following fields: <a name='dict'>\n",
    "\n",
    "* Keys are the TF's that bind to enhancer regions within GM12878 (i.e. Pol2, Cmyc, Mxi1, ...) \n",
    "* Values are the number of times that each TF appears in a peak. \n"
   ]
  },
  {
   "cell_type": "code",
   "execution_count": null,
   "metadata": {},
   "outputs": [],
   "source": [
    "def tally_TF_counts(TF_file_name): \n",
    "    #read in the TF_file_name and store the file lines in a list called 'data'\n",
    "    ###BEGIN SOLUTION\n",
    "    data=# Your code here\n",
    "    ###END SOLUTION\n",
    "    tally_dict=dict() \n",
    "    #iterate through each line in data, split the string contained in each line by the '\\t' delimiter \n",
    "    for line in data: \n",
    "        tokens=line.split('\\t')\n",
    "         ###BEGIN SOLUTION\n",
    "            \n",
    "         #Step 1: check whether the 4th value in the list tokens (i.e. the TF that binds this site in the genome) \n",
    "         # already exists in tally_dict. \n",
    "         \n",
    "        \n",
    "         #Step 2: if it doesn't exist, create an entry for it in tally_dict, with key = TF and value =1 \n",
    "         \n",
    "        \n",
    "         #Step 3: if it does exist, increment the count for the TF in the dictionary\n",
    "\n",
    "         ###END SOLUTION\n",
    "    return tally_dict \n",
    "\n",
    "## Execute the function tally_TF_counts on the file that contains the intersection of peaks and known TF binding sites.\n",
    "## Store the dictionary it returns as TF_count_dict\n",
    "\n",
    "###BEGIN SOLUTION\n",
    "\n",
    "###END SOLUTION"
   ]
  },
  {
   "cell_type": "markdown",
   "metadata": {},
   "source": [
    "### Question 3e.  \n",
    "\n",
    "Use the function pandas.DataFrame.from_dict to convert your tally_dict into a pandas data frame so it can be sorted.  \n",
    "\n",
    "Use \"help(pd.DataFrame.from_dict) to learn about the inputs and outputs of this function. "
   ]
  },
  {
   "cell_type": "code",
   "execution_count": null,
   "metadata": {},
   "outputs": [],
   "source": [
    "## BEGIN SOLUTION\n",
    "\n",
    "## END SOLUTION "
   ]
  },
  {
   "cell_type": "markdown",
   "metadata": {},
   "source": [
    "Now, execute the function, passing \"tally_dict\" as the input and setting orient=\"index\" \n",
    "Store the data frame in variable \"df\""
   ]
  },
  {
   "cell_type": "code",
   "execution_count": null,
   "metadata": {},
   "outputs": [],
   "source": [
    "###BEGIN SOLUTION\n",
    " \n",
    "###END SOLUTION "
   ]
  },
  {
   "cell_type": "markdown",
   "metadata": {},
   "source": [
    "### Question 3f.  \n",
    "\n",
    "Sort the TFs in your dictionary so that the TF that appears the largest number of times is at the top of the file, while the TF that appears the smallest number of times is at the bottom. \n",
    "\n",
    "You may find that the pandas.DataFrame.sort_values function is useful.\n",
    "\n",
    "Sort the dataframe by column 0 (i.e. this column contains the counts for each TF)\n",
    "\n",
    "Make sure you sort in *descending* order so that the most common TF's can be found with the head command. \n"
   ]
  },
  {
   "cell_type": "code",
   "execution_count": null,
   "metadata": {},
   "outputs": [],
   "source": [
    "###BEGIN SOLUTION\n",
    " \n",
    "###END SOLUTION "
   ]
  },
  {
   "cell_type": "markdown",
   "metadata": {},
   "source": [
    "### Question 3g. \n",
    "\n",
    "What are the five most common transcription factors that bind in GM12878 ? \n",
    "\n",
    "**BEGIN ANSWER:** <br><br>\n",
    "**END ANSWER:**\n"
   ]
  },
  {
   "cell_type": "markdown",
   "metadata": {},
   "source": [
    "### Question 3h\n",
    "\n",
    "Generate a bar graph representing the frequency of the 30 most common TF's. The x-axis should contain the name of the TF, and the y-axis should contain the number of times it occurs within an active enhancer in GM12878. <a name='plot'>"
   ]
  },
  {
   "cell_type": "code",
   "execution_count": null,
   "metadata": {},
   "outputs": [],
   "source": [
    "## hint: The TF names from the sorted_df data frame are stored in the .index attribute of the data frame object. \n",
    "\n",
    "## hint: To make the TF names and corresponding counts into a list instead of a pandas dataframe \n",
    "## you can use the .tolist() function. \n",
    " \n",
    "## hint: by default, the geom=\"bar\" argument to qplot generates a histogram. To make it generate a bar graph with \n",
    "## pre-specified x and y values, add the argument stat=\"identity\" to the qplot function. \n",
    "\n",
    "## hint: you might need to flip the x and y coordinates to make the bar graph axis labels legible\n",
    "\n",
    "###BEGIN SOLUTION\n",
    " \n",
    "###END SOLUTION "
   ]
  },
  {
   "cell_type": "code",
   "execution_count": null,
   "metadata": {},
   "outputs": [],
   "source": []
  }
 ],
 "metadata": {
  "anaconda-cloud": {},
  "kernelspec": {
   "display_name": "Python 3",
   "language": "python",
   "name": "python3"
  },
  "language_info": {
   "codemirror_mode": {
    "name": "ipython",
    "version": 3
   },
   "file_extension": ".py",
   "mimetype": "text/x-python",
   "name": "python",
   "nbconvert_exporter": "python",
   "pygments_lexer": "ipython3",
   "version": "3.7.10"
  }
 },
 "nbformat": 4,
 "nbformat_minor": 4
}
