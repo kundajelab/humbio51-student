{
 "cells": [
  {
   "cell_type": "markdown",
   "metadata": {},
   "source": [
    "# Big Data for Biologists: Decoding Genomic Function- Class 1\n",
    "\n",
    "## What is a gene and how can we read a DNA sequence into Python?\n",
    "\n",
    "##  Learning Objectives\n",
    " ***Students should be able to***\n",
    " <ol>\n",
    " <li><a href=#dna>Describe the structure of DNA</a></li>\n",
    " <li><a href=#whatisagene>Explain what a gene is</a></li>\n",
    " <li><a href=#commandline>Identify the command line in a Jupyter notebook and enter commands</a></li>\n",
    " <li><a href=#workingdirectory>Find and set a working directory </a></li>\n",
    " <li><a href=#path>Determine the absolute and relative address (path) of a directory or file</a></li>\n",
    " <li><a href=#genesequence>Download a gene sequence from a genome database</a></li>\n",
    " <li><a href=#sequencelength>Read a gene sequence using the Python programming language</a></li>\n",
    " <li><a href=#sequencelength>Determine the length of the gene sequence using Python</a></li>\n",
    " </ol>\n",
    " \n",
    "**Note: For additional background on DNA and the Central Dogma see [Khan Academy video on DNA](https://www.khanacademy.org/science/biology/classical-genetics/molecular-basis-of-genetics-tutorial/v/dna-deoxyribonucleic-acid) or [Khan Academy video on Central Dogma](https://www.khanacademy.org/test-prep/mcat/biomolecules/amino-acids-and-proteins1/v/central-dogma-of-molecular-biology-2). \n",
    "Slides for lecture 1 of the course:"
   ]
  },
  {
   "cell_type": "code",
   "execution_count": 1,
   "metadata": {
    "collapsed": false,
    "jupyter": {
     "outputs_hidden": false
    },
    "scrolled": true
   },
   "outputs": [
    {
     "data": {
      "text/html": [
       "\n",
       "        <iframe\n",
       "            width=\"960\"\n",
       "            height=\"749\"\n",
       "            src=\"https://docs.google.com/presentation/d/e/2PACX-1vSewhZ-q8odgDLaYDglBTyHpbUDU_82bHEEEUbeiortznYFiKyFrjmIPl8CEuPgn1dqUpmjTfjK7qz_/embed?start=false&loop=false\"\n",
       "            frameborder=\"0\"\n",
       "            allowfullscreen\n",
       "        ></iframe>\n",
       "        "
      ],
      "text/plain": [
       "<IPython.lib.display.IFrame at 0x7f4880394c10>"
      ]
     },
     "execution_count": 1,
     "metadata": {},
     "output_type": "execute_result"
    }
   ],
   "source": [
    "#DAY 1 SLIDES POSTED SEPARATELY\n",
    "from IPython.display import IFrame\n",
    "\n",
    "IFrame(\"https://docs.google.com/presentation/d/e/2PACX-1vSewhZ-q8odgDLaYDglBTyHpbUDU_82bHEEEUbeiortznYFiKyFrjmIPl8CEuPgn1dqUpmjTfjK7qz_/embed?start=false&loop=false\",height=749,width=960)"
   ]
  },
  {
   "cell_type": "markdown",
   "metadata": {},
   "source": [
    "## What is DNA? <a name='dna' />\n",
    "\n",
    "If you open up a recent science news website there's a good chance that you'll find some kind of article talking about the lastest study having to do with genes. \n",
    " \n",
    "But what is a gene? \n",
    "\n",
    "To define the term gene, we first need to define Deoxyribonucleic acid (DNA). \n",
    "\n",
    "**DNA** is the molecule in cells that enables the transmission of genetic information from one generation to the next. \n",
    "\n",
    "Pioneering work by James Watson, Francis Crick and Rosalind Franklin in the 1950s revealed the structure of DNA and laid the foundations for elucidating the mechanism by which DNA can be reliably replicated when one cell divides to become two. \n",
    "\n",
    "DNA is made up of units (or monomers) called nucleotides. Each nucleotide consists of a sugar, a phophosphate group and one of four bases: \n",
    "\n",
    "* **Adenine (A)**   \n",
    "* **Cytosine (C)** \n",
    "* **Guanine (G)** \n",
    "* **Thymine (T)**   \n",
    "\n",
    "\n",
    "The figure below shows the structure of a nucleotide (top) and how the base pairs come together (bottom). The base pairs are held together by a type of bond called hydrogen bonds.  \n",
    "\n",
    "* **Adenine (A) pairs with Thymine (T)**\n",
    "* **Guanine (G) pairs with Cytosine (C)**\n",
    "\n",
    "<br>\n",
    "\n",
    "<img src=\"../Images/1-DNAMonomer.png\" style=\"width: 65%; height: 20%\" align=\"center\"/>\n",
    "\n",
    "\n",
    "<br>\n",
    "<br>\n",
    "<br>\n",
    "\n",
    "Inside a cell, the DNA nucleotides link together in two strands and form a double helix (see figures below). \n",
    "\n",
    "Note that the end of a DNA strand with the phosphate group is called the 5' end and the end with the OH group is called the 3' end. We'll talk more about the directionality of the DNA strands in later classes. \n",
    "\n",
    "<br>\n",
    "\n",
    "<img src=\"../Images/1-DNABuildingBlocks.png\" style=\"width: 85%; height: 20%\" align=\"center\"/>\n",
    "\n",
    "\n",
    "<img src=\"../Images/1-DNAHelix.png\" style=\"width: 75%; height: 20%\" align=\"center\"/>\n"
   ]
  },
  {
   "cell_type": "code",
   "execution_count": 2,
   "metadata": {
    "collapsed": true,
    "jupyter": {
     "outputs_hidden": true
    }
   },
   "outputs": [
    {
     "name": "stderr",
     "output_type": "stream",
     "text": [
      "/opt/conda/lib/python3.7/site-packages/IPython/core/display.py:724: UserWarning: Consider using IPython.display.IFrame instead\n",
      "  warnings.warn(\"Consider using IPython.display.IFrame instead\")\n"
     ]
    },
    {
     "data": {
      "text/html": [
       "<iframe width=\"560\" height=\"315\"        src=\"https://www.youtube.com/embed/o_-6JXLYS-k\" frameborder=\"0\" allowfullscreen></iframe>"
      ],
      "text/plain": [
       "<IPython.core.display.HTML object>"
      ]
     },
     "execution_count": 2,
     "metadata": {},
     "output_type": "execute_result"
    }
   ],
   "source": [
    "#Press SHIFT+ENTER to view a cool video about the structure of DNA!\n",
    "from IPython.display import HTML\n",
    "\n",
    "HTML('<iframe width=\"560\" height=\"315\" \\\n",
    "       src=\"https://www.youtube.com/embed/o_-6JXLYS-k\" frameborder=\"0\" allowfullscreen></iframe>')\n"
   ]
  },
  {
   "cell_type": "markdown",
   "metadata": {},
   "source": [
    "## **What is a gene**? <a name='whatisagene' />\n",
    "\n",
    "**Genes** are segments of DNA that code for RNA and proteins, which are critical molecules for carrying out cellular function. \n",
    "\n",
    "RNA that is transcribed from DNA but does not get translated into protein is referred to as **non-coding RNA**.  \n",
    "\n",
    "There are approximately 21,000 protein-coding genes in the human genome and an estimated 15,000-21,000 non-protein coding genes ([Willyard, Nature 558, 354-355 (2018)](https://www.nature.com/articles/d41586-018-05462-w)).\n",
    "\n",
    "Unraveling the function of non-coding DNA and RNA, is an active area of research. You will learn a lot more about non-coding DNA later in this class. \n",
    "\n",
    "\n",
    "<img src=\"../Images/1-GeneExpression.png\" style=\"width: 80%; height: 80%\" align=\"center\">"
   ]
  },
  {
   "cell_type": "markdown",
   "metadata": {},
   "source": [
    "\n",
    "## **Using the command line** <a name='commandline' />\n",
    "\n",
    "Being able to work with DNA sequences in a computer program is a core skill that you will learn in this class.  \n",
    "\n",
    "Before we can start using a computer to work with DNA and gene sequences, we first need to get started with a programming language. For this course we will primarily use **Python**, which is one of the programming languages commonly used by biologists. \n",
    "\n",
    "We will also teach you **Unix** commands which can be very helpful for navigating to directories and folders. \n",
    "\n",
    "Python is what is known as a \"scripting language\" which means that its a type of programming language that is ready to use after it is installed and you can start entering commands, or you can write a set of commands, in what is known as **\"a script\"**. \n",
    "\n",
    "A lot of the principles we are introducing will also help you if you need to use other types of programs that are commonly used by biologists and in biomedical research such as **R or MATLAB**. \n",
    "\n",
    "Unlike a windows or graphical user interface (GUI) environment like you may be used to, Python and other scripting languages have what is known as \"command line\".  \n",
    "\n",
    "**\"Command line\"** is a location where you can enter code to give a computer program an instruction. \n",
    "\n",
    "When you are first starting, it is often helpful to use the command line, but often as you become more comfortable using programs you can assemble your code into scripts, like we mentioned above, that will initiate a series of commands all at once without the user \n",
    "\n",
    "In programming classes one of the first commands that you often learn is to ask the computer to write out the phrase \"Hello World\". For example: \n"
   ]
  },
  {
   "cell_type": "code",
   "execution_count": 1,
   "metadata": {
    "collapsed": true,
    "jupyter": {
     "outputs_hidden": true
    },
    "scrolled": true
   },
   "outputs": [
    {
     "name": "stdout",
     "output_type": "stream",
     "text": [
      "Hello World\n"
     ]
    }
   ],
   "source": [
    "print ('Hello World')"
   ]
  },
  {
   "cell_type": "markdown",
   "metadata": {},
   "source": [
    "Since this is a biology course we are going to have the computer print out the four types of DNA bases. \n",
    "\n",
    "Try running the command in the next box by clicking on the box and clicking enter while holding down the shift key. \n"
   ]
  },
  {
   "cell_type": "code",
   "execution_count": 2,
   "metadata": {
    "collapsed": true,
    "jupyter": {
     "outputs_hidden": true
    }
   },
   "outputs": [
    {
     "ename": "SyntaxError",
     "evalue": "invalid syntax (<ipython-input-2-28b11cef8a3d>, line 1)",
     "output_type": "error",
     "traceback": [
      "\u001b[0;36m  File \u001b[0;32m\"<ipython-input-2-28b11cef8a3d>\"\u001b[0;36m, line \u001b[0;32m1\u001b[0m\n\u001b[0;31m    print(DNA makes RNA makes Protein)\u001b[0m\n\u001b[0m                  ^\u001b[0m\n\u001b[0;31mSyntaxError\u001b[0m\u001b[0;31m:\u001b[0m invalid syntax\n"
     ]
    }
   ],
   "source": [
    "print(DNA makes RNA makes Protein)"
   ]
  },
  {
   "cell_type": "markdown",
   "metadata": {},
   "source": [
    "Why didn't that work? \n",
    "\n",
    "One of the challenges that beginners at coding quickly learn is that computers are very literal. Details such as quotation marks, spaces, capital letters versus upper case letters all matter. \n",
    "\n",
    "The first lesson from this exercise is to pay attention to quotes, spaces and caps when you are coding. \n",
    "\n",
    "Fortunately, many coding interfaces help give you feedback (or error messages) to help you debug your code. \n",
    "\n",
    "In the box below, try editing the line from above to fix the errors. \n"
   ]
  },
  {
   "cell_type": "code",
   "execution_count": 3,
   "metadata": {
    "collapsed": true,
    "jupyter": {
     "outputs_hidden": true
    }
   },
   "outputs": [
    {
     "name": "stdout",
     "output_type": "stream",
     "text": [
      "DNA makes RNA makes Protein\n"
     ]
    }
   ],
   "source": [
    "###BEGIN SOLUTION\n",
    "###END SOLUTION"
   ]
  },
  {
   "cell_type": "markdown",
   "metadata": {},
   "source": [
    "## How do I find my working directory? <a name='workingdirectory' />\n",
    "\n",
    "Scripts or computer programs can get very complex, but at its most basic, a computer program reads an input, does something with the input and then writes an output.\n",
    "\n",
    "<img src=\"../Images/1-Working Directories.png\" style=\"width: 55%; height: 30%\" align=\"center\"/>\n",
    "\n",
    "The question in red in the figure above repesents a key part of writing a functioning program. \n",
    "\n",
    "How you organize your input and output files is also essential for building well-organized functioning projects. We'll have some more tips on that later.  \n",
    "\n",
    "You can think of your computer storage as a hierarchy with many branches, somewhat like this: \n",
    "\n",
    "<img src=\"../Images/FileHierarchy2.jpg\" style=\"width: 50%; height: 33%\" align=\"center\"/>\n",
    "\n",
    "When you start Python the directory where you start the program becomes, by default, what is known as your working directory. \n",
    "\n",
    "The **working directory** is where a computer program will look for inputs and write outputs unless you instruct it to do so otherwise. \n",
    "\n",
    "It is often helpful, or necessary, to identify the working directory. In Python, you can find the working directory that you are using with the series of commands below. \n",
    "\n",
    "In the commands, import os sets up a way to use functions that may be dependent on your operating system (ie. are you using a Mac OSX, a PC or some other environment). \n",
    "\n",
    "The getcwd command is \"get current working directory\". "
   ]
  },
  {
   "cell_type": "code",
   "execution_count": 4,
   "metadata": {
    "collapsed": true,
    "jupyter": {
     "outputs_hidden": true
    }
   },
   "outputs": [
    {
     "data": {
      "text/plain": [
       "'/home/jovyan/humbio51/class_01_Gene_Sequences'"
      ]
     },
     "execution_count": 4,
     "metadata": {},
     "output_type": "execute_result"
    }
   ],
   "source": [
    "#import os allows the Jupyter notebook to interact with the operating system.\n",
    "\n",
    "import os\n",
    "\n",
    "#gets the current working directory\n",
    "os.getcwd()"
   ]
  },
  {
   "cell_type": "markdown",
   "metadata": {},
   "source": [
    "Note that the concept of a working directory is not unique to Python. In Unix you can get your working directory with the command pwd. To run Unix commands in a Python notebook you need to start the line with an !. "
   ]
  },
  {
   "cell_type": "code",
   "execution_count": 5,
   "metadata": {
    "collapsed": true,
    "jupyter": {
     "outputs_hidden": true
    }
   },
   "outputs": [
    {
     "name": "stdout",
     "output_type": "stream",
     "text": [
      "/home/jovyan/humbio51/class_01_Gene_Sequences\n"
     ]
    }
   ],
   "source": [
    "!pwd"
   ]
  },
  {
   "cell_type": "markdown",
   "metadata": {},
   "source": [
    "## How can I set my working directory using an absolute or relative path?<a name='path' />\n",
    "\n",
    "The output of the os.getcwd() command gives what is known as the **absolute path** of the current working directory, or the exact location of the current working directory on the computer.  \n",
    "\n",
    "When you are telling a program where to find inputs or to write outputs it is essential to be able to tell the computer where they are. You can do this by telling the computer either the absolute path or relative path. \n",
    "\n",
    "The **relative path** indicates where a file or directory is with respect to the working directory. \n",
    "\n",
    "A helpful trick to define the path to go up one directory is to use the \"..\" command. \n",
    "\n",
    "For example, if you want to change your working directory to:\n",
    "\n",
    "'/home/jovyan/humbio51.git/'\n",
    "\n",
    "You could use the comand with the absolute path: \n",
    "os.chdir('/home/jovyan/humbio51.git/')\n",
    "\n",
    "Or, you can run the command below.    "
   ]
  },
  {
   "cell_type": "code",
   "execution_count": 6,
   "metadata": {
    "collapsed": true,
    "jupyter": {
     "outputs_hidden": true
    }
   },
   "outputs": [
    {
     "name": "stdout",
     "output_type": "stream",
     "text": [
      "/home/jovyan/humbio51\n"
     ]
    }
   ],
   "source": [
    "import os\n",
    "\n",
    "#changes directory back to the parent directory\n",
    "#two periods('..') stands for the parent directory\n",
    "\n",
    "os.chdir('..') \n",
    "\n",
    "print(os.getcwd())"
   ]
  },
  {
   "cell_type": "markdown",
   "metadata": {},
   "source": [
    "What do you think the command would be to go up two directories? "
   ]
  },
  {
   "cell_type": "markdown",
   "metadata": {},
   "source": [
    "If you want to go back down to a subdirectory, you can just give the name of the directory. \n",
    "\n",
    "For example to go from: \n",
    "\n",
    "'/home/jovyan/humbio51.git'\n",
    "\n",
    "Back to: \n",
    "\n",
    "'/home/jovyan/humbio51.git/class_01_Gene_Sequences'"
   ]
  },
  {
   "cell_type": "code",
   "execution_count": 7,
   "metadata": {
    "collapsed": true,
    "jupyter": {
     "outputs_hidden": true
    }
   },
   "outputs": [
    {
     "name": "stdout",
     "output_type": "stream",
     "text": [
      "/home/jovyan/humbio51/class_01_Gene_Sequences\n"
     ]
    }
   ],
   "source": [
    "import os\n",
    "\n",
    "os.chdir('class_01_Gene_Sequences')\n",
    "print(os.getcwd())\n"
   ]
  },
  {
   "cell_type": "markdown",
   "metadata": {},
   "source": [
    "It also can be helpful to list the names of the files that are in working directory.\n",
    "\n",
    "Try it below and see whats there. "
   ]
  },
  {
   "cell_type": "code",
   "execution_count": 8,
   "metadata": {
    "collapsed": true,
    "jupyter": {
     "outputs_hidden": true
    }
   },
   "outputs": [
    {
     "data": {
      "text/plain": [
       "['.DS_Store',\n",
       " 'sequences',\n",
       " 'Introduction_to_Jupyter_notebooks.ipynb',\n",
       " '1-Reading in a gene sequence.ipynb',\n",
       " 'data',\n",
       " '_DS_Store',\n",
       " '.ipynb_checkpoints']"
      ]
     },
     "execution_count": 8,
     "metadata": {},
     "output_type": "execute_result"
    }
   ],
   "source": [
    "import os\n",
    "\n",
    "#lists files in the current directory\n",
    "#a single period (.)  stands for the current directory \n",
    "\n",
    "os.listdir('.')\n"
   ]
  },
  {
   "cell_type": "markdown",
   "metadata": {},
   "source": [
    "What command could you use if you want to change the directory to: \n",
    "\n",
    "/home/jovyan/humbio51/class_01_Gene_Sequences/data\n",
    "\n",
    "Without looking below, try writing the code using both the absolute and relative paths in the boxes below. \n",
    "\n",
    "We've given you some guidance in comment lines which are denoted by a #. You'll see comment lines used a lot throughout the class. Adding comments is a helpful way to help you and others follow your code! "
   ]
  },
  {
   "cell_type": "code",
   "execution_count": 9,
   "metadata": {
    "collapsed": true,
    "jupyter": {
     "outputs_hidden": true
    }
   },
   "outputs": [],
   "source": [
    "#Write the commands to change the current working directory using relative paths\n",
    "#Print the working directory so you can check your work. \n",
    "###BEGIN SOLUTION\n",
    "###END SOLUTION"
   ]
  },
  {
   "cell_type": "markdown",
   "metadata": {},
   "source": [
    "Now change your working directory using absolute paths back to /home/jovyan/humbio51/class_01_Gene_Sequences"
   ]
  },
  {
   "cell_type": "code",
   "execution_count": 10,
   "metadata": {
    "collapsed": true,
    "jupyter": {
     "outputs_hidden": true
    }
   },
   "outputs": [],
   "source": [
    "#Write the commands to change the current working directory using absolute paths\n",
    "#Print the working directory so you can check your work. \n",
    "###BEGIN SOLUTION\n",
    "###END SOLUTION "
   ]
  },
  {
   "cell_type": "markdown",
   "metadata": {},
   "source": [
    "The basic navigation commands that we have introduced above also have similar commands in Unix. For example: \n",
    "\n",
    "* Change to a parent directory: cd .. \n",
    "* Change to sub-directory class_01_Gene_Seuences: cd class_01_Gene_Sequences  \n",
    "* List files in directory: ls "
   ]
  },
  {
   "cell_type": "markdown",
   "metadata": {},
   "source": [
    "With these basic navigation commands we are now ready to apply what we've learned to an example from biology. \n",
    "\n",
    "For the rest of the class we are going to apply what we've covered to this point and show how to use it to read a gene sequence into a program and calculate the length of the sequence.\n",
    "\n",
    "<img src=\"../Images/1-ReadWriteGeneSequence.png\" style=\"width: 50%; height:70%\" align=\"center\"/>\n"
   ]
  },
  {
   "cell_type": "markdown",
   "metadata": {},
   "source": [
    "## **How can I download a gene sequence from a genome database**?<a name='genesequence' />\n",
    "\n",
    "\n",
    "The first step for our project today is finding a gene sequence. \n",
    "\n",
    "Many, many gene sequences have been collected in publicly available on-line databases from genome sequencing research projects or smaller scale research projects to determine the sequence of single genes or sets of genes.  \n",
    "\n",
    "Three commonly used databases to obtain gene or genome sequence information are:\n",
    "   \n",
    "   [NCBI Gene](https://www.ncbi.nlm.nih.gov/gene)  \n",
    "   [Ensemble](http://uswest.ensembl.org/index.html)  \n",
    "   [UCSC Genome Browser](https://genome.ucsc.edu/)  \n",
    "\n",
    "We aren't going to go into detail now about the differences between these three sites, but an important point is that there are several large scale collaborative efforts that have created very organized sites to collect genome sequences from the research community. \n",
    "\n",
    "These sites include genome sequences not only from humans (or, more technically *Homo Sapiens*) ranging from bacteria like *E.Coli* to large organisms like elephants (*Loxodonta africana*). \n",
    "\n",
    "To see what a gene sequence looks like in a genome browser, visit the entry in the NCBI Gene database for [human insulin](https://www.ncbi.nlm.nih.gov/nuccore/NG_007114.1?from=4986&to=6416&report=fasta)\n",
    "\n",
    "If you have extra time, look for any gene of interest to see what you find. \n",
    "\n",
    "Computer programs may need gene sequences in a particular format.  You will want to make sure that the format for your input file matches the format that you need for the program. \n",
    "\n",
    "Today we will use \"FASTA\" format. You can download sequences in FASTA format directly from the NCBI database.   \n",
    "\n",
    "In **FASTA format** the first line of the file starts with a > followed by an identifier describing the nucleotide sequence. You can see an example of what the FASTA sequence for a gene in the NCBI database looks like below. \n",
    "\n",
    "<img src=\"../Images/1-Gene Sequence.png\" style=\"width: 60%; height: 40%\" align=\"center\"/>\n",
    "\n",
    "To get the gene of interest into a file, you can copy it into a text file using a textfile editor and save the file. As you become more advanced and more comfortable with programming, you can also write code to direcly instruct a computer program to access the web and \"scrape\" information from a website to load into a computer.\n",
    "\n",
    "For this activity, we already did the following steps. \n",
    "\n",
    "1. Made a directory in the Class_1 working directory called data. \n",
    "2. Visited the entry in the NCBI Gene database for [human insulin](https://www.ncbi.nlm.nih.gov/nuccore/NG_007114.1?from=4986&to=6416&report=fasta) \n",
    "3. Opened up a text editor and pasted the sequence into a file. \n",
    "4. Saved the human insulin sequence into a file called Human-Insulin-NG_007114.1.txt in the data directory. \n",
    "\n",
    "For practice go ahead and make a new directory with a name of your choice in the box below. "
   ]
  },
  {
   "cell_type": "code",
   "execution_count": 11,
   "metadata": {
    "collapsed": true,
    "jupyter": {
     "outputs_hidden": true
    }
   },
   "outputs": [
    {
     "ename": "FileExistsError",
     "evalue": "[Errno 17] File exists: 'sequences'",
     "output_type": "error",
     "traceback": [
      "\u001b[0;31m---------------------------------------------------------------------------\u001b[0m",
      "\u001b[0;31mFileExistsError\u001b[0m                           Traceback (most recent call last)",
      "\u001b[0;32m<ipython-input-11-9627b1ff5184>\u001b[0m in \u001b[0;36m<module>\u001b[0;34m\u001b[0m\n\u001b[1;32m      1\u001b[0m \u001b[0;31m#make a subdirectory in the working directory\u001b[0m\u001b[0;34m\u001b[0m\u001b[0;34m\u001b[0m\u001b[0;34m\u001b[0m\u001b[0m\n\u001b[1;32m      2\u001b[0m \u001b[0;31m###BEGIN SOLUTION\u001b[0m\u001b[0;34m\u001b[0m\u001b[0;34m\u001b[0m\u001b[0;34m\u001b[0m\u001b[0m\n\u001b[0;32m----> 3\u001b[0;31m \u001b[0mos\u001b[0m\u001b[0;34m.\u001b[0m\u001b[0mmkdir\u001b[0m\u001b[0;34m(\u001b[0m\u001b[0;34m'sequences'\u001b[0m\u001b[0;34m)\u001b[0m\u001b[0;34m\u001b[0m\u001b[0;34m\u001b[0m\u001b[0m\n\u001b[0m\u001b[1;32m      4\u001b[0m \u001b[0;31m###END SOLUTION\u001b[0m\u001b[0;34m\u001b[0m\u001b[0;34m\u001b[0m\u001b[0;34m\u001b[0m\u001b[0m\n",
      "\u001b[0;31mFileExistsError\u001b[0m: [Errno 17] File exists: 'sequences'"
     ]
    }
   ],
   "source": [
    "#make a subdirectory in the working directory \n",
    "###BEGIN SOLUTION\n",
    "###END SOLUTION"
   ]
  },
  {
   "cell_type": "markdown",
   "metadata": {},
   "source": [
    "To see the list of directories and files in the folder you can use the os.listdir command"
   ]
  },
  {
   "cell_type": "code",
   "execution_count": 12,
   "metadata": {
    "collapsed": true,
    "jupyter": {
     "outputs_hidden": true
    }
   },
   "outputs": [
    {
     "data": {
      "text/plain": [
       "['.DS_Store',\n",
       " 'sequences',\n",
       " 'Introduction_to_Jupyter_notebooks.ipynb',\n",
       " '1-Reading in a gene sequence.ipynb',\n",
       " 'data',\n",
       " '_DS_Store',\n",
       " '.ipynb_checkpoints']"
      ]
     },
     "execution_count": 12,
     "metadata": {},
     "output_type": "execute_result"
    }
   ],
   "source": [
    "#lists the subdirectories in the working directory \n",
    "\n",
    "os.listdir()"
   ]
  },
  {
   "cell_type": "markdown",
   "metadata": {},
   "source": [
    "To see the list of directories and files in a subdirectory you can use the os.listdir command and specify the sub directory as in the example below.  "
   ]
  },
  {
   "cell_type": "code",
   "execution_count": 13,
   "metadata": {
    "collapsed": true,
    "jupyter": {
     "outputs_hidden": true
    }
   },
   "outputs": [
    {
     "data": {
      "text/plain": [
       "['.DS_Store', 'Human-Insulin-NG_007114.1.txt', 'Human-Insulin NM_000207.2.txt']"
      ]
     },
     "execution_count": 13,
     "metadata": {},
     "output_type": "execute_result"
    }
   ],
   "source": [
    "#lists the subdirectories in the working directory \n",
    "\n",
    "os.listdir('data')"
   ]
  },
  {
   "cell_type": "markdown",
   "metadata": {},
   "source": [
    "## How can I read a gene sequence into Python and determine the length of the sequence?<a name='sequencelength' />\n",
    "\n",
    "Now that we are set up with the data that we need as input, we are ready to start writing the program to read in the sequence into Python and calculate the length of the sequence. \n",
    "\n",
    "Think for a moment about how you might set this up and then we'll look at the example we've provided below. "
   ]
  },
  {
   "cell_type": "code",
   "execution_count": 14,
   "metadata": {
    "collapsed": true,
    "jupyter": {
     "outputs_hidden": true
    }
   },
   "outputs": [
    {
     "name": "stdout",
     "output_type": "stream",
     "text": [
      ">NG_007114.1:4986-6416 Homo sapiens insulin (INS), RefSeqGene on chromosome 11\n",
      "AGCCCTCCAGGACAGGCTGCATCAGAAGAGGCCATCAAGCAGGTCTGTTCCAAGGGCCTTTGCGTCAGGT\n",
      "GGGCTCAGGATTCCAGGGTGGCTGGACCCCAGGCCCCAGCTCTGCAGCAGGGAGGACGTGGCTGGGCTCG\n",
      "TGAAGCATGTGGGGGTGAGCCCAGGGGCCCCAAGGCAGGGCACCTGGCCTTCAGCCTGCCTCAGCCCTGC\n",
      "CTGTCTCCCAGATCACTGTCCTTCTGCCATGGCCCTGTGGATGCGCCTCCTGCCCCTGCTGGCGCTGCTG\n",
      "GCCCTCTGGGGACCTGACCCAGCCGCAGCCTTTGTGAACCAACACCTGTGCGGCTCACACCTGGTGGAAG\n",
      "CTCTCTACCTAGTGTGCGGGGAACGAGGCTTCTTCTACACACCCAAGACCCGCCGGGAGGCAGAGGACCT\n",
      "GCAGGGTGAGCCAACTGCCCATTGCTGCCCCTGGCCGCCCCCAGCCACCCCCTGCTCCTGGCGCTCCCAC\n",
      "CCAGCATGGGCAGAAGGGGGCAGGAGGCTGCCACCCAGCAGGGGGTCAGGTGCACTTTTTTAAAAAGAAG\n",
      "TTCTCTTGGTCACGTCCTAAAAGTGACCAGCTCCCTGTGGCCCAGTCAGAATCTCAGCCTGAGGACGGTG\n",
      "TTGGCTTCGGCAGCCCCGAGATACATCAGAGGGTGGGCACGCTCCTCCCTCCACTCGCCCCTCAAACAAA\n",
      "TGCCCCGCAGCCCATTTCTCCACCCTCATTTGATGACCGCAGATTCAAGTGTTTTGTTAAGTAAAGTCCT\n",
      "GGGTGACCTGGGGTCACAGGGTGCCCCACGCTGCCTGCCTCTGGGCGAACACCCCATCACGCCCGGAGGA\n",
      "GGGCGTGGCTGCCTGCCTGAGTGGGCCAGACCCCTGTCGCCAGGCCTCACGGCAGCTCCATAGTCAGGAG\n",
      "ATGGGGAAGATGCTGGGGACAGGCCCTGGGGAGAAGTACTGGGATCACCTGTTCAGGCTCCCACTGTGAC\n",
      "GCTGCCCCGGGGCGGGGGAAGGAGGTGGGACATGTGGGCGTTGGGGCCTGTAGGTCCACACCCAGTGTGG\n",
      "GTGACCCTCCCTCTAACCTGGGTCCAGCCCGGCTGGAGATGGGTGGGAGTGCGACCTAGGGCTGGCGGGC\n",
      "AGGCGGGCACTGTGTCTCCCTGACTGTGTCCTCCTGTGTCCCTCTGCCTCGCCGCTGTTCCGGAACCTGC\n",
      "TCTGCGCGGCACGTCCTGGCAGTGGGGCAGGTGGAGCTGGGCGGGGGCCCTGGTGCAGGCAGCCTGCAGC\n",
      "CCTTGGCCCTGGAGGGGTCCCTGCAGAAGCGTGGCATTGTGGAACAATGCTGTACCAGCATCTGCTCCCT\n",
      "CTACCAGCTGGAGAACTACTGCAACTAGACGCAGCCCGCAGGCAGCCCCACACCCGCCGCCTCCTGCACC\n",
      "GAGAGAGATGGAATAAAGCCCTTGAACCAGC\n",
      "\n"
     ]
    }
   ],
   "source": [
    "#Open a file and create a file object \n",
    "#The 'r' means that the file is readable.'w' would mean the file is writable.  \n",
    "FASTAgenesequence=open('data/Human-Insulin-NG_007114.1.txt','r')\n",
    "\n",
    "#Read the sequence file contents and print them \n",
    "print(FASTAgenesequence.read())"
   ]
  },
  {
   "cell_type": "markdown",
   "metadata": {},
   "source": [
    "Give yourself a chance to think about the code above. \n",
    "What do you think the first line did? What do you think the second line did?\n",
    "\n",
    "If you want to calculate the length of the sequence what do you think you will need to do next?\n",
    "\n",
    "There is a command \"len\" in Python that will allow you to calculate the length of a variable that is made up of letters like the gene sequence that we read in. \n",
    "\n",
    "However, if you used the length command on the sequence variable as is, what would be one of the problems?\n"
   ]
  },
  {
   "cell_type": "markdown",
   "metadata": {},
   "source": [
    "To calculate the number of base pairs in the file, we will need to take out the first line. \n",
    "\n",
    "You will see a lot of examples in this class when it may be helpful to look at only part of a file. \n",
    "\n",
    "Fortunately, Python (and other scripting languages) can help as you'll see in the next example. \n",
    "\n",
    "This time rather than read in the whole sequence at once using the read command we will use the readlines command which reads one line at a time. "
   ]
  },
  {
   "cell_type": "code",
   "execution_count": 15,
   "metadata": {
    "collapsed": true,
    "jupyter": {
     "outputs_hidden": true
    }
   },
   "outputs": [
    {
     "name": "stdout",
     "output_type": "stream",
     "text": [
      "['AGCCCTCCAGGACAGGCTGCATCAGAAGAGGCCATCAAGCAGGTCTGTTCCAAGGGCCTTTGCGTCAGGT\\n', 'GGGCTCAGGATTCCAGGGTGGCTGGACCCCAGGCCCCAGCTCTGCAGCAGGGAGGACGTGGCTGGGCTCG\\n', 'TGAAGCATGTGGGGGTGAGCCCAGGGGCCCCAAGGCAGGGCACCTGGCCTTCAGCCTGCCTCAGCCCTGC\\n', 'CTGTCTCCCAGATCACTGTCCTTCTGCCATGGCCCTGTGGATGCGCCTCCTGCCCCTGCTGGCGCTGCTG\\n', 'GCCCTCTGGGGACCTGACCCAGCCGCAGCCTTTGTGAACCAACACCTGTGCGGCTCACACCTGGTGGAAG\\n', 'CTCTCTACCTAGTGTGCGGGGAACGAGGCTTCTTCTACACACCCAAGACCCGCCGGGAGGCAGAGGACCT\\n', 'GCAGGGTGAGCCAACTGCCCATTGCTGCCCCTGGCCGCCCCCAGCCACCCCCTGCTCCTGGCGCTCCCAC\\n', 'CCAGCATGGGCAGAAGGGGGCAGGAGGCTGCCACCCAGCAGGGGGTCAGGTGCACTTTTTTAAAAAGAAG\\n', 'TTCTCTTGGTCACGTCCTAAAAGTGACCAGCTCCCTGTGGCCCAGTCAGAATCTCAGCCTGAGGACGGTG\\n', 'TTGGCTTCGGCAGCCCCGAGATACATCAGAGGGTGGGCACGCTCCTCCCTCCACTCGCCCCTCAAACAAA\\n', 'TGCCCCGCAGCCCATTTCTCCACCCTCATTTGATGACCGCAGATTCAAGTGTTTTGTTAAGTAAAGTCCT\\n', 'GGGTGACCTGGGGTCACAGGGTGCCCCACGCTGCCTGCCTCTGGGCGAACACCCCATCACGCCCGGAGGA\\n', 'GGGCGTGGCTGCCTGCCTGAGTGGGCCAGACCCCTGTCGCCAGGCCTCACGGCAGCTCCATAGTCAGGAG\\n', 'ATGGGGAAGATGCTGGGGACAGGCCCTGGGGAGAAGTACTGGGATCACCTGTTCAGGCTCCCACTGTGAC\\n', 'GCTGCCCCGGGGCGGGGGAAGGAGGTGGGACATGTGGGCGTTGGGGCCTGTAGGTCCACACCCAGTGTGG\\n', 'GTGACCCTCCCTCTAACCTGGGTCCAGCCCGGCTGGAGATGGGTGGGAGTGCGACCTAGGGCTGGCGGGC\\n', 'AGGCGGGCACTGTGTCTCCCTGACTGTGTCCTCCTGTGTCCCTCTGCCTCGCCGCTGTTCCGGAACCTGC\\n', 'TCTGCGCGGCACGTCCTGGCAGTGGGGCAGGTGGAGCTGGGCGGGGGCCCTGGTGCAGGCAGCCTGCAGC\\n', 'CCTTGGCCCTGGAGGGGTCCCTGCAGAAGCGTGGCATTGTGGAACAATGCTGTACCAGCATCTGCTCCCT\\n', 'CTACCAGCTGGAGAACTACTGCAACTAGACGCAGCCCGCAGGCAGCCCCACACCCGCCGCCTCCTGCACC\\n', 'GAGAGAGATGGAATAAAGCCCTTGAACCAGC\\n']\n"
     ]
    }
   ],
   "source": [
    "#Open a file and create a file object \n",
    "FASTAgenesequence=open('data/Human-Insulin-NG_007114.1.txt','r')\n",
    "\n",
    "#Read the lines of the sequence and trim the first line\n",
    "#The numbering of lines or characters in Python starts with 0, so the fist line is line 0. \n",
    "\n",
    "genesequence=(FASTAgenesequence.readlines()[1:])\n",
    "\n",
    "print(genesequence)"
   ]
  },
  {
   "cell_type": "markdown",
   "metadata": {},
   "source": [
    "What are the '\\n' values that you see?\n",
    "\n",
    "The \\n that you see are linebreaks, remember, we used the readlines command.\n",
    "\n",
    "The linebreaks will also get in the way of calcuating the length of the gene sequence because they themselves take up extra space. \n",
    "\n",
    "We can get rid of them, however, using the join and replace command. \n",
    "\n",
    "We first will join all the lines together using the join command. \n",
    "\n",
    "We then will use the replace command to substitute '\\n' with nothing or ''. "
   ]
  },
  {
   "cell_type": "code",
   "execution_count": 2,
   "metadata": {},
   "outputs": [
    {
     "name": "stdout",
     "output_type": "stream",
     "text": [
      "AGCCCTCCAGGACAGGCTGCATCAGAAGAGGCCATCAAGCAGGTCTGTTCCAAGGGCCTTTGCGTCAGGT\n",
      "GGGCTCAGGATTCCAGGGTGGCTGGACCCCAGGCCCCAGCTCTGCAGCAGGGAGGACGTGGCTGGGCTCG\n",
      "TGAAGCATGTGGGGGTGAGCCCAGGGGCCCCAAGGCAGGGCACCTGGCCTTCAGCCTGCCTCAGCCCTGC\n",
      "CTGTCTCCCAGATCACTGTCCTTCTGCCATGGCCCTGTGGATGCGCCTCCTGCCCCTGCTGGCGCTGCTG\n",
      "GCCCTCTGGGGACCTGACCCAGCCGCAGCCTTTGTGAACCAACACCTGTGCGGCTCACACCTGGTGGAAG\n",
      "CTCTCTACCTAGTGTGCGGGGAACGAGGCTTCTTCTACACACCCAAGACCCGCCGGGAGGCAGAGGACCT\n",
      "GCAGGGTGAGCCAACTGCCCATTGCTGCCCCTGGCCGCCCCCAGCCACCCCCTGCTCCTGGCGCTCCCAC\n",
      "CCAGCATGGGCAGAAGGGGGCAGGAGGCTGCCACCCAGCAGGGGGTCAGGTGCACTTTTTTAAAAAGAAG\n",
      "TTCTCTTGGTCACGTCCTAAAAGTGACCAGCTCCCTGTGGCCCAGTCAGAATCTCAGCCTGAGGACGGTG\n",
      "TTGGCTTCGGCAGCCCCGAGATACATCAGAGGGTGGGCACGCTCCTCCCTCCACTCGCCCCTCAAACAAA\n",
      "TGCCCCGCAGCCCATTTCTCCACCCTCATTTGATGACCGCAGATTCAAGTGTTTTGTTAAGTAAAGTCCT\n",
      "GGGTGACCTGGGGTCACAGGGTGCCCCACGCTGCCTGCCTCTGGGCGAACACCCCATCACGCCCGGAGGA\n",
      "GGGCGTGGCTGCCTGCCTGAGTGGGCCAGACCCCTGTCGCCAGGCCTCACGGCAGCTCCATAGTCAGGAG\n",
      "ATGGGGAAGATGCTGGGGACAGGCCCTGGGGAGAAGTACTGGGATCACCTGTTCAGGCTCCCACTGTGAC\n",
      "GCTGCCCCGGGGCGGGGGAAGGAGGTGGGACATGTGGGCGTTGGGGCCTGTAGGTCCACACCCAGTGTGG\n",
      "GTGACCCTCCCTCTAACCTGGGTCCAGCCCGGCTGGAGATGGGTGGGAGTGCGACCTAGGGCTGGCGGGC\n",
      "AGGCGGGCACTGTGTCTCCCTGACTGTGTCCTCCTGTGTCCCTCTGCCTCGCCGCTGTTCCGGAACCTGC\n",
      "TCTGCGCGGCACGTCCTGGCAGTGGGGCAGGTGGAGCTGGGCGGGGGCCCTGGTGCAGGCAGCCTGCAGC\n",
      "CCTTGGCCCTGGAGGGGTCCCTGCAGAAGCGTGGCATTGTGGAACAATGCTGTACCAGCATCTGCTCCCT\n",
      "CTACCAGCTGGAGAACTACTGCAACTAGACGCAGCCCGCAGGCAGCCCCACACCCGCCGCCTCCTGCACC\n",
      "GAGAGAGATGGAATAAAGCCCTTGAACCAGC\n",
      "\n"
     ]
    }
   ],
   "source": [
    "#Read in the sequence and trim the first line\n",
    "FASTAgenesequence=open('data/Human-Insulin-NG_007114.1.txt','r')\n",
    "genesequence=(FASTAgenesequence.readlines()[1:])\n",
    "\n",
    "#joins the lines in genesequence into a single string\n",
    "genesequence=''.join(genesequence)\n",
    "\n",
    "#print(genesequence)\n",
    "print(genesequence)"
   ]
  },
  {
   "cell_type": "code",
   "execution_count": 17,
   "metadata": {
    "collapsed": true,
    "jupyter": {
     "outputs_hidden": true
    }
   },
   "outputs": [
    {
     "name": "stdout",
     "output_type": "stream",
     "text": [
      "1431\n"
     ]
    }
   ],
   "source": [
    "#Read in the sequence and trim the first line\n",
    "FASTAgenesequence=open('data/Human-Insulin-NG_007114.1.txt','r')\n",
    "genesequence=(FASTAgenesequence.readlines()[1:])\n",
    "\n",
    "#joins the lines in genesequence into a single string\n",
    "genesequence=''.join(genesequence)\n",
    "\n",
    "#removes the linebreaks\n",
    "genesequence=genesequence.replace('\\n','')\n",
    "\n",
    "#calculates the length of the genesequence\n",
    "print(len(genesequence))"
   ]
  },
  {
   "cell_type": "markdown",
   "metadata": {},
   "source": [
    "Congratulations! We've covered a lot today, but everything that we've covered you'll see for a lot more practice as the quarter continues. \n",
    "\n",
    "See you next time where we'll start looking at transcription, the next step in gene expression!  "
   ]
  }
 ],
 "metadata": {
  "anaconda-cloud": {},
  "kernelspec": {
   "display_name": "Python 3",
   "language": "python",
   "name": "python3"
  },
  "language_info": {
   "codemirror_mode": {
    "name": "ipython",
    "version": 3
   },
   "file_extension": ".py",
   "mimetype": "text/x-python",
   "name": "python",
   "nbconvert_exporter": "python",
   "pygments_lexer": "ipython3",
   "version": "3.7.10"
  }
 },
 "nbformat": 4,
 "nbformat_minor": 4
}
