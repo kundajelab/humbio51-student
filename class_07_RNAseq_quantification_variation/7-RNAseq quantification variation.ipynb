{
 "cells": [
  {
   "cell_type": "markdown",
   "metadata": {},
   "source": [
    "# Big Data for Biologists: Decoding Genomic Function- Class 7\n",
    "\n",
    "## How do you quantify gene expression and visualize similarities and differences of gene expression profiles across cell types? Part I\n",
    " \n",
    "##  Learning Objectives\n",
    "***Students should be able to***\n",
    " <ol>\n",
    " <li> <a href=#GeneExpressionIntro>Quantify gene expression and understand units of gene expression levels</a></li>\n",
    " <li> <a href=#GeneExpressionIntro>Understand what a box plot is</a></li>\n",
    " <li> <a href=#GeneExpressionIntro>Visualize gene expression variation across cell types and individuals from the GTEx project</a></li>\n",
    " <li><a href=#RNASeqDataFormat>Recognize that data from an RNA-Seq experiment can be processed and stored in a format that can be read into Python</a></li>\n",
    " <li> <a href=#IDHeaderSep>Identify the separator and header in a data table</a></li> \n",
    " <li><a href=#LoadTable> Load a data table in .csv or .tsv format into Python</a></li>\n",
    " <li> <a href=#DataTableDim>Get the dimensions of a data table in Python  </a></li>\n",
    " <li> <a href=#MetaData>Load RNA-Seq metadata for the physiological system of a cell type into Python</a></li> \n",
    " <li> <a href=#Slicing>Slice a data table in Python to select a subset of rows or columns. </a></li> \n",
    " <li> <a href=#Barplot>Make a bar plot from a data table using Python </a></li>\n",
    " <li> <a href=#Transpose>Transpose a matrix using Python </a></li>\n",
    " <li> <a href=#Merge>Merge two matrices using Python </a></li>\n",
    " <li> <a href=#BinaryIndex>Use binary indexing to select elements from a dataframe. </a></li>\n",
    " "
   ]
  },
  {
   "cell_type": "markdown",
   "metadata": {},
   "source": [
    "## How do you quantify gene expression?"
   ]
  },
  {
   "cell_type": "code",
   "execution_count": null,
   "metadata": {},
   "outputs": [],
   "source": [
    "from IPython.display import HTML\n",
    "HTML('<iframe src=\"https://drive.google.com/file/d/0B_ssVVyXv8ZSdFBNSkN5RFZDc00/preview\" width=\"1000\" height=\"600\"></iframe>')"
   ]
  },
  {
   "cell_type": "markdown",
   "metadata": {},
   "source": [
    "## How does gene expression change across cell types and individuals? "
   ]
  },
  {
   "cell_type": "markdown",
   "metadata": {},
   "source": [
    "Gene expression varies not only across cell types and tissues but also between healthy individuals and between health and diseased individuals.\n",
    "\n",
    "The aim of the Genotype - Tissue Expression (GTEx) Project is to increase our understanding of how changes in our genes contribute to common human diseases, in order to improve health care for future generations.\n",
    "\n",
    "Launched by the National Institutes of Health (NIH) in September 2010 (See: NIH launches Genotype-Tissue Expression project), GTEx has created a resource that researchers can use to study how inherited changes in genes lead to common diseases.  It has established a database and a tissue bank that can be used by many researchers around the world for future studies.\n",
    "\n",
    "\n",
    "GTEx portal is at https://www.gtexportal.org/home/"
   ]
  },
  {
   "cell_type": "code",
   "execution_count": null,
   "metadata": {},
   "outputs": [],
   "source": [
    "HTML('<iframe src=\"https://drive.google.com/file/d/0B_ssVVyXv8ZSV2xYRnlHSDJMUTA/preview\" width=\"1000\" height=\"480\"></iframe>')"
   ]
  },
  {
   "cell_type": "markdown",
   "metadata": {},
   "source": [
    "Boxplots are a type of graph that is often used to visualize changes in gene expression, as in the GTEx examples below. We will use a python library called [plotnine](https://plotnine.readthedocs.io/en/stable/) to generate boxplots that illustrated changes in gene expression. "
   ]
  },
  {
   "cell_type": "markdown",
   "metadata": {},
   "source": [
    "Let's revisit the genes that we examined in the Washu Browser in the last tutorial. Click on the link next to each gene to navigate to the GTEx entry for the gene. \n",
    "\n",
    "* MYOD1 - muscle https://www.gtexportal.org/home/gene/MYOD1\n",
    "* NEUROD1 - neurons https://www.gtexportal.org/home/gene/NEUROD1\n",
    "* SPI1 - blood https://www.gtexportal.org/home/gene/SPI1\n",
    "* HNF4A - Liver and related https://www.gtexportal.org/home/gene/HNF4A\n",
    "* GTF2B - Ubiquitous gene https://www.gtexportal.org/home/gene/GTF2B\n"
   ]
  },
  {
   "cell_type": "markdown",
   "metadata": {},
   "source": [
    "## How is data from an RNA-Seq experiment processed and stored in a format that can be read into Python? <a name='RNASeqDataFormat' />\n",
    "\n",
    "We are now going to look at processed and normalized data from the ENCODE portal. 410 RNA-seq samples were collected across multiple tissues and cell types. We begin by looking at the number of sequence reads that align to each gene. The data is stored in a matrix format, with each row corresponding to a gene in the human genome and each column corresponding to an RNA-seq experiment. The values in the matrix are read counts -- specifically the number of reads that align to a given gene. We normalize the data to \"counts per million\". \n",
    "![alt text](../Images/7-StartingDataFiles.png)\n",
    "\n",
    "To start analyzing the data from the RNA-Seq experiment one of the first steps is reading the data into a program that can be used for the analysis. \n",
    "\n",
    "We'll be using Python and will need to first cover some general information about working with datatables. "
   ]
  },
  {
   "cell_type": "markdown",
   "metadata": {},
   "source": [
    "# Identify the separator and header in a data table  <a name='IDHeaderSep' />\n",
    "\n",
    "Two common formats for data tables are comma separated values (**.csv**) files or tab separated values (**.tsv**) files.\n",
    "\n",
    "In order to read a data table into a program, you often need to know the format of the file. One way to check the format is to look at the files in a text editor. In the figure below, you can see the differences between a file saved in .csv or .tsv format. \n",
    "\n",
    "Also, when you read a data table into Python (or R) you often need to specify which row of the file has the column labels. This row is referred to as a **header**.\n",
    "\n",
    "Sometimes a file has extra lines above the header, so you may need to tell the program not to read that row since the extra lines may not have the same number of columns as the rest of the table and they can mess up the formatting. \n",
    "![alt text](../Images/6-Tables-CSV-TSV.png)\n"
   ]
  },
  {
   "cell_type": "markdown",
   "metadata": {},
   "source": [
    "# Load a data table in .csv or .tsv format into Python <a name='LoadTable' />\n",
    "\n",
    "To read our RNA-Seq data table into Python, we are going to be using the <i>pandas</i> package. \n",
    "\n",
    "<i>Pandas</i> adds functionality to working with data in Python. You can learn more about <i>pandas</i> at the following [link](http://pandas.pydata.org/). In particular, <i>pandas</i> introduces a variable type called dataframes which are a convient way of working with tables.\n",
    "\n",
    "After we have imported the <i>pandas</i> package into Python, we can load a .csv or .tsv file with the read_csv or read_table command. \n",
    "\n",
    "The RNA-Seq data that we will be using is a .tsv file.\n",
    "\n",
    "Note that the read command also asks for you to specify the row number for the header which in our case is the first line, denoted zero in Python. \n",
    "\n",
    "Take a look at reading in a file in the example below. "
   ]
  },
  {
   "cell_type": "code",
   "execution_count": null,
   "metadata": {},
   "outputs": [],
   "source": [
    "# load the pandas package and define an abbreviation (or alias) \n",
    "import pandas as pd   \n",
    "\n",
    "# read_table loads a tabular data file into python with tab as the default separator\n",
    "# read_csv loads a tabular data file into python with comma as the deafault separator\n",
    "# header gives the number of the row that will be used for column names\n",
    "\n",
    "#Step 1: Read in the normalized data. \n",
    "rnaseq_data = pd.read_table(\n",
    "      filepath_or_buffer='/data/datasets/RNAseq/rnaseq_normalized.tsv', \n",
    "      header=0,\n",
    "      index_col=0)"
   ]
  },
  {
   "cell_type": "markdown",
   "metadata": {},
   "source": [
    "Thought questions: \n",
    "\n",
    "* What would you change the code above to read in a .csv file?\n",
    "* How would you need to change the code if your column names were in the third row? "
   ]
  },
  {
   "cell_type": "markdown",
   "metadata": {},
   "source": [
    "# How do I know how many genes and cell types I have in my data set (aka. Get the dimensions of a data table in Python)<a name='DataTableDim' />\n",
    "  \n",
    "Once you've read your data set into Python, there are just a couple of commands that you need to look at the size of your dataset. \n"
   ]
  },
  {
   "cell_type": "code",
   "execution_count": null,
   "metadata": {},
   "outputs": [],
   "source": [
    "#Use the 'head' command to examine the structure of your data matrix. \n",
    "rnaseq_data.head()"
   ]
  },
  {
   "cell_type": "code",
   "execution_count": null,
   "metadata": {},
   "outputs": [],
   "source": [
    "#Use the shape command to calculate the dimensions of your data matrix \n",
    "#shape[0] gives the number of rows, shape [1] gives the number of columns. \n",
    "\n",
    "num_genes=rnaseq_data.shape[0] \n",
    "num_samples=rnaseq_data.shape[1] \n",
    "\n",
    "#use the print command to print the variables you generated above \n",
    "print(num_genes)\n",
    "print(num_samples)"
   ]
  },
  {
   "cell_type": "code",
   "execution_count": null,
   "metadata": {},
   "outputs": [],
   "source": [
    "rnaseq_data.shape"
   ]
  },
  {
   "cell_type": "markdown",
   "metadata": {},
   "source": [
    "Thought questions:\n",
    "How many genes were measured in this experiment?\n",
    "How many samples were measured?"
   ]
  },
  {
   "cell_type": "markdown",
   "metadata": {},
   "source": [
    " # Load RNA-Seq metadata for the physiological system of a cell type into Python<a name='MetaData' />"
   ]
  },
  {
   "cell_type": "markdown",
   "metadata": {},
   "source": [
    "In our example today, we want to compare cell types in different organ systems such as the Nervous system, Musculoskeletal system or Blood. \n",
    "\n",
    "We have a file that lists the System, Organ and Cell Type for each Sample in the RNA-Seq experiment. This separate file with information about the samples is referred to as **metadata**. \n",
    "\n",
    "The metadata is stored in a file called: **'/data/datasets/RNAseq/rnaseq_metadata.txt'**. \n",
    "\n",
    "Since the name of the metadata table does not tell you, how can you check if the file is in .csv or .tsv format? \n",
    "\n",
    "Using what you learned yesterday about reading detatables into Python, write the code to read in the metadata file and to view the top of the file. "
   ]
  },
  {
   "cell_type": "code",
   "execution_count": null,
   "metadata": {},
   "outputs": [],
   "source": [
    "!head /data/datasets/RNAseq/rnaseq_metadata.txt"
   ]
  },
  {
   "cell_type": "code",
   "execution_count": null,
   "metadata": {},
   "outputs": [],
   "source": [
    "#Step 2: Load the metadata file that provides metadata annotations for each sample \n",
    "#(hint: this will be very similar to the code we wrote to load the data table)\n",
    "###BEGIN SOLUTION\n",
    "###END SOLUTION "
   ]
  },
  {
   "cell_type": "code",
   "execution_count": null,
   "metadata": {},
   "outputs": [],
   "source": [
    "num_samples=metadata.shape[0] \n",
    "num_cols=metadata.shape[1] \n",
    "\n",
    "#use the print command to print the variables you generated above \n",
    "print(num_samples)\n",
    "print(num_cols)"
   ]
  },
  {
   "cell_type": "markdown",
   "metadata": {},
   "source": [
    "## Slice a data table in Python to select a subset of rows or columns. <a name='Slicing' />\n",
    "\n",
    "To answer the question <i>\"Do cell types from the same organ system have similar gene expression profiles?</i>, we are particularly interested in the column labeled System. \n",
    "\n",
    "Selecting part of a table is called slicing. It is very common in data analysis work to need to slice a table to select, for example, one column, one row or a set of rows and/or columns. \n",
    "\n",
    "Using the <i>pandas</i> package, there are a few ways that you can select rows and columns. Below is a table from the pandas [website](https://pandas.pydata.org/pandas-docs/stable/dsintro.html), that summarizes how you can select rows and columns.  For a more complete description and set of examples see this [link](https://pandas.pydata.org/pandas-docs/stable/indexing.html).\n",
    "\n",
    "<img src=\"../Images/7-Indexing_Selecting Rows and Columns 2.png\" style=\"width: 60%; height: 60%\" align=\"center\"/>\n",
    "\n",
    "In our example, let's look first at how we would select the System column.  \n",
    "\n"
   ]
  },
  {
   "cell_type": "code",
   "execution_count": null,
   "metadata": {},
   "outputs": [],
   "source": [
    "#Use the 'head' command to examine the structure of your data matrix. \n",
    "###BEGIN SOLUTION\n",
    "###END SOLUTION"
   ]
  },
  {
   "cell_type": "code",
   "execution_count": null,
   "metadata": {},
   "outputs": [],
   "source": [
    "x=metadata['System']\n",
    "print(x)"
   ]
  },
  {
   "cell_type": "code",
   "execution_count": null,
   "metadata": {},
   "outputs": [],
   "source": [
    "#Write the code to make a variable x with the Cell Type instead of the System. \n",
    "###BEGIN SOLUTION\n",
    "###END SOLUTION"
   ]
  },
  {
   "cell_type": "code",
   "execution_count": null,
   "metadata": {},
   "outputs": [],
   "source": [
    "#Write the code to make a variable x with the first five rows of metadata \n",
    "#(remember to use Python zero-based numbering!). \n",
    "###BEGIN SOLUTION\n",
    "###END SOLUTION"
   ]
  },
  {
   "cell_type": "markdown",
   "metadata": {},
   "source": [
    "Notice that the second to last option in the table above indicates that you can specify the location with a Boolean vector. Boolean variables usually are variables that can take on two values, True or False. \n",
    "\n",
    "Using this syntax, we can write a criteria for the rows that we want to select. For example, if we want to select the rows from only the respiratory system we could specify the condition that System=='Respiratory'"
   ]
  },
  {
   "cell_type": "code",
   "execution_count": null,
   "metadata": {},
   "outputs": [],
   "source": [
    "metadata_subset=metadata.loc[metadata.System=='Respiratory']\n",
    "print(metadata_subset)"
   ]
  },
  {
   "cell_type": "markdown",
   "metadata": {},
   "source": [
    "In the example below, we are going to want to select multiple Systems. To do this, we can use the \"|\" operator "
   ]
  },
  {
   "cell_type": "code",
   "execution_count": null,
   "metadata": {},
   "outputs": [],
   "source": [
    "metadata_subset=metadata.loc[(metadata.System=='Respiratory') | (metadata.System=='Embryonic')]\n",
    "print(metadata_subset)"
   ]
  },
  {
   "cell_type": "markdown",
   "metadata": {},
   "source": [
    "A more compact way, however, to select a list of cell types is to define a variable for the list of cell types and then use the <i>pandas</i> isin function.  "
   ]
  },
  {
   "cell_type": "code",
   "execution_count": null,
   "metadata": {},
   "outputs": [],
   "source": [
    "#define the list of cell types\n",
    "systems_subset=[\"Blood\",\"Embryonic\",\"Immune\",\"Respiratory\"]\n",
    "\n",
    "#select the rows in metadata for which the System is one of the \n",
    "metadata_subset=metadata.loc[metadata['System'].isin(systems_subset)]\n",
    "\n",
    "print(metadata_subset)"
   ]
  },
  {
   "cell_type": "markdown",
   "metadata": {},
   "source": [
    "Row and column indices can be combined to select subsets of a dataframe. For example, if we'd like to get the System for the sample \"ENCSR051GPK.Ganglion_Eminence_derived_primary_cultured_neurospheres.UCSF_Costello\". The syntax for row and column selection is combined to: \n",
    "\n",
    "![alt_text](../Images/7-GeneSampleSelect.png)\n"
   ]
  },
  {
   "cell_type": "code",
   "execution_count": null,
   "metadata": {},
   "outputs": [],
   "source": [
    "#First, select the column of interest. Next, use the loc command to select the row name of interest. \n",
    "example_gene_expression=metadata[\"System\"].loc[\"ENCSR051GPK.Ganglion_Eminence_derived_primary_cultured_neurospheres.UCSF_Costello\"]\n",
    "print(example_gene_expression)"
   ]
  },
  {
   "cell_type": "code",
   "execution_count": null,
   "metadata": {},
   "outputs": [],
   "source": [
    "#or, we want to get the system of the 10th sample: \n",
    "example_gene_expression=metadata[\"System\"].iloc[9]\n",
    "print(example_gene_expression)"
   ]
  },
  {
   "cell_type": "code",
   "execution_count": null,
   "metadata": {},
   "outputs": [],
   "source": [
    "tpm=rnaseq_data[\"ENCSR051GPK.Ganglion_Eminence_derived_primary_cultured_neurospheres.UCSF_Costello\"].iloc[29999]\n",
    "print(tpm)"
   ]
  },
  {
   "cell_type": "markdown",
   "metadata": {},
   "source": [
    "## Make a bar plot from a data table using Python<a name='Barplot' />\n",
    "\n",
    "Now that we know how to select specific columns from a table, we are going to make a bar plot to look at the number of samples in each of the organ systems. \n",
    "\n",
    "Specifically, since we have limited computational resources we are going to focus on only four systems today. We want to ensure that we are selecting systems that have a sufficient number of samples. \n",
    "\n",
    "There are several different packages that can be used to make plots in Python. We will be using the [plotnine](https://plotnine.readthedocs.io/en/stable/api.html) package. \n"
   ]
  },
  {
   "cell_type": "code",
   "execution_count": null,
   "metadata": {},
   "outputs": [],
   "source": [
    "from plotnine import * "
   ]
  },
  {
   "cell_type": "code",
   "execution_count": null,
   "metadata": {},
   "outputs": [],
   "source": [
    "x=metadata['System']\n",
    "qplot(x=x,\n",
    "      geom=\"bar\",\n",
    "      xlab=\"System\",\n",
    "      ylab=\"Samples\")+coord_flip()"
   ]
  },
  {
   "cell_type": "markdown",
   "metadata": {},
   "source": [
    "## Transpose a matrix using Python<a name='Transpose' />"
   ]
  },
  {
   "cell_type": "markdown",
   "metadata": {},
   "source": [
    "It's not very convenient to have to select metadata characteristics from one dataframe and gene names from another. Merging the sample dataframe and the metadata dataframe into a single dataframe will make slicing and selecting rows and columns more straightforward. \n",
    "\n",
    "The first step to generate this merged dataframe is to transpose the rows and columns of \"rnaseq_data\". Transposition is an operation that flips the rows and columns in a matrix, like in the example below. \n",
    "![alt_text](../Images/7-transpose.png)\n",
    "\n",
    "\n",
    "Currently the genes in the rnaseq_dataframe are along the row axis, while sample names are along the column axis. Transposing the matrix will place the genes along the column axis and the sample names along the row axis: \n",
    "\n",
    "\n",
    "![alt_text](../Images/7-transposeRNA.png)"
   ]
  },
  {
   "cell_type": "code",
   "execution_count": null,
   "metadata": {},
   "outputs": [],
   "source": [
    "transposed_rnaseq_data=rnaseq_data.transpose()\n",
    "transposed_rnaseq_data.head()"
   ]
  },
  {
   "cell_type": "markdown",
   "metadata": {},
   "source": [
    "## Merge two matrices using Python<a name='Merge' />"
   ]
  },
  {
   "cell_type": "markdown",
   "metadata": {},
   "source": [
    "Now that the rnaseq_data frame has the sample names along the row axis, same as the metadata tables, the dataframes can be merged together. This will form one matrix with the sample names as rows and the Gene Names, System, Organ and CellType as columns. The merge operation is performed on the sample name column, which is shared across both tables. "
   ]
  },
  {
   "cell_type": "markdown",
   "metadata": {},
   "source": [
    "![alt_text](../Images/7_merging_merge_on_key.png)\n",
    "<img src=\"../Images/7-RNASeq_merged.png\" style=\"width: 80%; height: 80%\" align=\"center\"/>"
   ]
  },
  {
   "cell_type": "code",
   "execution_count": null,
   "metadata": {},
   "outputs": [],
   "source": [
    "#merge the metadata and gene expression data into a single data frame \n",
    "\n",
    "merged_rnaseq_metadata=pd.merge(transposed_rnaseq_data, metadata, left_index=True,right_index=True)\n",
    "merged_rnaseq_metadata.head()"
   ]
  },
  {
   "cell_type": "markdown",
   "metadata": {},
   "source": [
    "###  Using binary indexing to extract elements in a matrix. <a name='BinaryIndex' />"
   ]
  },
  {
   "cell_type": "markdown",
   "metadata": {},
   "source": [
    "For the rest of our analysis, we want to focus on 4 Systems and check for differential gene expression among them. In the next block of code we will select these four systems.   "
   ]
  },
  {
   "cell_type": "code",
   "execution_count": null,
   "metadata": {},
   "outputs": [],
   "source": [
    "#Pick out the samples in the merged dataframe that contain the samples from the systems of interest \n",
    "systems_subset=[\"Blood\",\"Embryonic\",\"Immune\",\"Respiratory\"]\n",
    "rnaseq_data_subset=merged_rnaseq_metadata.loc[merged_rnaseq_metadata['System'].isin(systems_subset)]\n",
    "rnaseq_data_subset.head()"
   ]
  },
  {
   "cell_type": "markdown",
   "metadata": {},
   "source": [
    "In the code above to select the rows in rnaseq_data for each of the four organ systems we executed the line of code: \n",
    "\n",
    "```\n",
    "rnaseq_data_subset=merged_df.loc[merged_df['System'].isin(systems_subset)]\n",
    "```\n",
    "Let's break down what this line of code is doing. \n",
    "First, we find all positions in `merged_df[\"System\"]` that have a specific name. For example:  "
   ]
  },
  {
   "cell_type": "code",
   "execution_count": null,
   "metadata": {},
   "outputs": [],
   "source": [
    "name='Blood'\n",
    "print(name)\n",
    "merged_rnaseq_metadata['System']==name"
   ]
  },
  {
   "cell_type": "markdown",
   "metadata": {},
   "source": [
    "Note that `merged_rnaseq_metadata['System']==name` returns a value of \"True\" or \"False\" at each position in the` merged_rnaseq_metadata['System']` array. This is referred to as binary indexing. \n",
    "\n",
    "Next, we identify the rows with a value of \"True\", and select them from `merged_df.loc`. \n",
    "This is done with the command: "
   ]
  },
  {
   "cell_type": "code",
   "execution_count": null,
   "metadata": {},
   "outputs": [],
   "source": [
    "merged_rnaseq_metadata.loc[merged_rnaseq_metadata[\"System\"]==name]"
   ]
  },
  {
   "cell_type": "markdown",
   "metadata": {},
   "source": [
    "This has allowed us to create positional indices from the binary True/False indices. "
   ]
  },
  {
   "cell_type": "code",
   "execution_count": null,
   "metadata": {},
   "outputs": [],
   "source": [
    "#Lets now check the row & column numbers in rnaseq_data_subset \n",
    "print(rnaseq_data_subset.shape[0])#prints number of rows -- this is the gene axis \n",
    "print(rnaseq_data_subset.shape[1])#prints number of columns \n"
   ]
  },
  {
   "cell_type": "markdown",
   "metadata": {},
   "source": [
    "Earlier the size of the matrix was:\n",
    "\n",
    "55667 <br>\n",
    "410 \n",
    "\n",
    "Thought question: What is the difference between the rnaseq_data_subset matrix that we just made and the original rnaseq_data matrix?"
   ]
  },
  {
   "cell_type": "code",
   "execution_count": null,
   "metadata": {},
   "outputs": [],
   "source": [
    "#Now, we create a barplot with just our 4 organ systems of interest \n",
    "x=rnaseq_data_subset['System']\n",
    "qplot(x=x,\n",
    "      geom=\"bar\",\n",
    "      xlab=\"System\",\n",
    "      ylab=\"Samples\")"
   ]
  },
  {
   "cell_type": "markdown",
   "metadata": {},
   "source": [
    "As a final step in preparing the dataframe, we are only interested in genes that are differentially expressed across samples, so we can exclude genes that have 0 TPM\n",
    "in all samples -- these are not of interest. We can use the sum command to find such genes \n"
   ]
  },
  {
   "cell_type": "code",
   "execution_count": null,
   "metadata": {},
   "outputs": [],
   "source": [
    "#Selects rows in the datafile subset for which the sum of the columns is not = to zero. \n",
    "rnaseq_data_subset=rnaseq_data_subset.loc[:,rnaseq_data_subset.sum(axis=0)!=0]"
   ]
  },
  {
   "cell_type": "code",
   "execution_count": null,
   "metadata": {},
   "outputs": [],
   "source": [
    "#Lets now check the row & column numbers in rnaseq_data_subset \n",
    "print(rnaseq_data_subset.shape[0])#prints number of rows -- this is the gene axis \n",
    "print(rnaseq_data_subset.shape[1])#prints number of columns "
   ]
  },
  {
   "cell_type": "markdown",
   "metadata": {},
   "source": [
    "Thought question: How many genes had TPM of 0 in all samples?"
   ]
  }
 ],
 "metadata": {
  "anaconda-cloud": {},
  "kernelspec": {
   "display_name": "Python 3",
   "language": "python",
   "name": "python3"
  },
  "language_info": {
   "codemirror_mode": {
    "name": "ipython",
    "version": 3
   },
   "file_extension": ".py",
   "mimetype": "text/x-python",
   "name": "python",
   "nbconvert_exporter": "python",
   "pygments_lexer": "ipython3",
   "version": "3.7.10"
  }
 },
 "nbformat": 4,
 "nbformat_minor": 4
}
