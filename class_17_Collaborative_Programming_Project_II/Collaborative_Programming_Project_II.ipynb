{
 "cells": [
  {
   "cell_type": "markdown",
   "metadata": {},
   "source": [
    "## Big Data for Biologists: Replication of GWAS studies in different  populations? - Class 16\n",
    "##  Learning Objectives\n",
    "***Students should be able to***\n",
    " <ol>\n",
    " <li> <a href=#LD>Find variants in linkage disequilibrium (LD) with a target variant using tabix and PLINK.</a></li>\n",
    " <li> <a href=#GeneCards>Use GeneCards to find out information about a gene.</a></li>\n",
    " <li><a href=#projectFiles>Use reference datasets of genome and epigenome information to investigate function of coding and non-coding variants.</a></li>\n",
    " \n"
   ]
  },
  {
   "cell_type": "markdown",
   "metadata": {},
   "source": [
    "## Linkage Disequilibrium Example with Tabix and PLINK <a name ='LD'>"
   ]
  },
  {
   "cell_type": "markdown",
   "metadata": {},
   "source": [
    "[An article in the New England Journal of Medicine](http://www.nejm.org/doi/full/10.1056/NEJMoa1502214?rss=searchAndBrowse&#t=article) presented a GWAS in 52 participants  who were homozygous for the risk allele for the tag variant rs1558902. This variant occurs in an intron of the FTO gene, which has previously been linked to obesity. However, since a strong GWAS association of a variant with a phenotype is insufficient to deterimne causation, the authors checked whether other variants were in strong linkage disequilibrium with rs1558902 and are thus also potentially causal variants in obesity. \n",
    "\n",
    "We will examine below how the PLINK tool can be used to perform such a linkage disequilibrium analysis. \n"
   ]
  },
  {
   "cell_type": "markdown",
   "metadata": {},
   "source": [
    "We have downloaded variant files for the 1000 Genomes Project in the PLINK binary format: \n",
    "    \n",
    "* **/opt/data/1kg_phase1_all.bed** -- binary encoding of subject genotypes (do not be fooled by the file extension, this is NOT the 4-column bed file format we have been using). \n",
    "\n",
    "* **/opt/data/1kg_phase1_all.bim** -- list of all variants in the subject population \n",
    "* **/opt/data/1kg_phase1_all.fam** -- list of all subject id's in the 1000's genome project"
   ]
  },
  {
   "cell_type": "code",
   "execution_count": null,
   "metadata": {},
   "outputs": [],
   "source": [
    "#This syntax will identify all variants that are in linkage disequilibrium with our tagged SNP rs1558902\n",
    "!plink --bfile /opt/data/1kg_phase1_all --r  --ld-snp rs1558902 --threads 10 --out r.for.rs1558902 \n"
   ]
  },
  {
   "cell_type": "markdown",
   "metadata": {},
   "source": [
    "The SNPs that are in linkage disequilibrium with our tagged SNP were saved to the file **r.for.rs1558902.ld**. Let's examine the contents of this file: "
   ]
  },
  {
   "cell_type": "code",
   "execution_count": null,
   "metadata": {},
   "outputs": [],
   "source": [
    "!cat r.for.rs1558902.ld"
   ]
  },
  {
   "cell_type": "markdown",
   "metadata": {},
   "source": [
    "PLINK also allows us to compute the r^2 value for linkage disequilibrium. The command is the same as what we ran above, but replace \"r\" with \"r^2\"."
   ]
  },
  {
   "cell_type": "code",
   "execution_count": null,
   "metadata": {},
   "outputs": [],
   "source": [
    "!plink  --bfile /opt/data/1kg_phase1_all --r2  --ld-snp rs1558902 --threads 10 --out r2.for.rs1558902\n"
   ]
  },
  {
   "cell_type": "code",
   "execution_count": null,
   "metadata": {},
   "outputs": [],
   "source": [
    "!cat r2.for.rs1558902.ld"
   ]
  },
  {
   "cell_type": "markdown",
   "metadata": {},
   "source": [
    "The New England Journal article mentions that variant rs1421085 was found to be associated with rs1558902. The authors found that rs1421085 disrupted an ARID5B repressor motif, and was thus the most likely causal variant.\n"
   ]
  },
  {
   "cell_type": "code",
   "execution_count": null,
   "metadata": {},
   "outputs": [],
   "source": [
    "## Create a scatterplot with BP_B along the x-axis and R along the y-axis. \n",
    "## Include labels from column SNP_B so we know which SNPs have the highest LD with our target \n",
    "\n",
    "## Load the LD file from PLINK:\n",
    "## We use a new delimiter argument: delim_whitespace=True to handle the case when there may be variable \n",
    "## number of spaces between the columns in a data frame. \n",
    "import pandas as pd\n",
    "from plotnine import * \n",
    "data=pd.read_table(\"r.for.rs1558902.ld\",delim_whitespace=True) \n",
    "data.head()\n",
    "\n",
    "x=data['BP_B']\n",
    "y=data['R']\n",
    "label=data['SNP_B']\n",
    "print(qplot(x=x,\n",
    "      y=y,\n",
    "      label=label,\n",
    "      geom=[\"point\",\"text\"],\n",
    "      xlab=\"BP_B\",\n",
    "      ylab=\"R\"))"
   ]
  },
  {
   "cell_type": "markdown",
   "metadata": {},
   "source": [
    "## Use Gene Cards to find out information about a gene <a name ='GeneCards'>\n",
    "\n",
    "[Gene Cards](http://www.genecards.org/) is a database of information about human genes. It provides information about gene function, tissue-specific expression, as well as journal articles where a given gene is mentioned. \n",
    "\n",
    "Look up the following genes in gene cards. What is the function of each gene? \n",
    "\n",
    " * IRX5 \n",
    " * FTO "
   ]
  },
  {
   "cell_type": "markdown",
   "metadata": {},
   "source": [
    "## Overview of Course Project Files <a name='projectFiles'>"
   ]
  },
  {
   "cell_type": "markdown",
   "metadata": {},
   "source": [
    "All project files can be found in the folder **/opt/data**\n",
    "\n",
    "* /opt/data/1kg_phase1_all*   -- binary variant files\n",
    "* /opt/data/gene_coords_hg19.bed -- bed file of gene coordinates \n",
    "* /opt/data/gencode.hg19.annotation.gtf -- gene annotation file \n",
    "* /opt/data/motifs.bed -- coordinates of all transcription factor-binding motifs in the genome. \n",
    "* /opt/data/active_promoters_across_cell_type.bed \n",
    "* /opt/data/active_enhancers_across_cell_type.bed \n"
   ]
  },
  {
   "cell_type": "markdown",
   "metadata": {},
   "source": [
    "### Binary variant files\n",
    "\n",
    "* /opt/data/1kg_phase1_all*   -- binary variant files\n",
    "\n",
    "These files store the genotypes of all subjects in phase 1 of the 1000 genomes project in a compressed binary format. You can use these with the PLINK tool to identify variants in linkage disequilibrium with your variant of interest. "
   ]
  },
  {
   "cell_type": "code",
   "execution_count": null,
   "metadata": {},
   "outputs": [],
   "source": [
    "## Use the plink --r command to identify all the variants in linkage disequilibrium with target variant rs150021059. \n",
    "\n",
    "## How many such variants are there? \n"
   ]
  },
  {
   "cell_type": "code",
   "execution_count": null,
   "metadata": {},
   "outputs": [],
   "source": [
    "#! cat r.for.150021059.ld"
   ]
  },
  {
   "cell_type": "markdown",
   "metadata": {},
   "source": [
    "### Gene coordinate file \n",
    "* /opt/data/gene_coords_hg19.txt -- bed file of gene coordinates \n",
    "\n",
    "Use this files to find the closest gene to a variant of interest. "
   ]
  },
  {
   "cell_type": "code",
   "execution_count": null,
   "metadata": {},
   "outputs": [],
   "source": [
    "!head -n20 /opt/data/gene_coords_hg19.txt"
   ]
  },
  {
   "cell_type": "code",
   "execution_count": null,
   "metadata": {},
   "outputs": [],
   "source": [
    "## What are the coordinates of gene 'FTO'? \n",
    "##Hint: use the grep command. "
   ]
  },
  {
   "cell_type": "markdown",
   "metadata": {},
   "source": [
    "### Gene annotation file \n",
    "* /opt/data/gencode.hg19.annotations.gtf -- gene annotation file \n",
    "Use this file to identify exons and transcription start sites of genes. "
   ]
  },
  {
   "cell_type": "code",
   "execution_count": null,
   "metadata": {},
   "outputs": [],
   "source": [
    "!head -n20  /opt/data/gencode.hg19.annotations.gtf "
   ]
  },
  {
   "cell_type": "code",
   "execution_count": null,
   "metadata": {},
   "outputs": [],
   "source": [
    "## How many exons are there in the FTO gene? \n",
    "## Hint: grep is useful here too! "
   ]
  },
  {
   "cell_type": "markdown",
   "metadata": {},
   "source": [
    "### Motif coordinates file\n",
    "\n",
    "* /opt/data/motifs.bed \n",
    "\n",
    "Use this file to find the motif that is present at a particular region in the genome."
   ]
  },
  {
   "cell_type": "code",
   "execution_count": null,
   "metadata": {},
   "outputs": [],
   "source": [
    "!head -n20 /opt/data/motifs.bed\n"
   ]
  },
  {
   "cell_type": "code",
   "execution_count": null,
   "metadata": {},
   "outputs": [],
   "source": [
    "## What motif is present at coordinates chr1\t53495\t53504\t? \n",
    "!echo \"chr1\\t53495\\t53504\" > region_for_motif.bed \n",
    "\n",
    "## Hint use the bedtools intersect command to find the motif "
   ]
  },
  {
   "cell_type": "markdown",
   "metadata": {},
   "source": [
    "### Active promoters and enhancers across cell type \n",
    "* /opt/data/active_promoters_across_cell_type.bed \n",
    "* /opt/data/active_enhancers_across_cell_type.bed \n",
    "\n",
    "Use these files to determine whether your variant of interest is in an active enhancer or promoter region "
   ]
  },
  {
   "cell_type": "code",
   "execution_count": null,
   "metadata": {},
   "outputs": [],
   "source": [
    "!head -n20 /opt/data/active_enhancers_across_cell_type.bed "
   ]
  },
  {
   "cell_type": "markdown",
   "metadata": {},
   "source": [
    "From our linkage disequilibrium analysis above, we know that variant rs1558902 is at position: \n",
    "\n",
    "    chr16 53803574\n",
    "\n",
    "We generate a bed file for this SNP: \n"
   ]
  },
  {
   "cell_type": "code",
   "execution_count": null,
   "metadata": {},
   "outputs": [],
   "source": [
    "! echo \"chr16\\t53803574\\t53803575\" > rs1558902.bed"
   ]
  },
  {
   "cell_type": "code",
   "execution_count": null,
   "metadata": {},
   "outputs": [],
   "source": [
    "!cat rs1558902.bed"
   ]
  },
  {
   "cell_type": "markdown",
   "metadata": {},
   "source": [
    "We can now use bedtools intersect to check whether the variant falls into an active promoter or enhancer in any cell type. "
   ]
  },
  {
   "cell_type": "code",
   "execution_count": null,
   "metadata": {},
   "outputs": [],
   "source": [
    "## Use the bedtools intersect command to check whether the variant above falls into an active promoter or enhancer region. "
   ]
  }
 ],
 "metadata": {
  "anaconda-cloud": {},
  "kernelspec": {
   "display_name": "Python 3",
   "language": "python",
   "name": "python3"
  },
  "language_info": {
   "codemirror_mode": {
    "name": "ipython",
    "version": 3
   },
   "file_extension": ".py",
   "mimetype": "text/x-python",
   "name": "python",
   "nbconvert_exporter": "python",
   "pygments_lexer": "ipython3",
   "version": "3.7.10"
  }
 },
 "nbformat": 4,
 "nbformat_minor": 4
}
