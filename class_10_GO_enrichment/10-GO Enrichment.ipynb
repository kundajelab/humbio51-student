{
 "cells": [
  {
   "cell_type": "markdown",
   "metadata": {},
   "source": [
    "# Big Data for Biologists: Decoding Genomic Function- Class 10\n",
    "\n",
    "## What is GO term enrichment analysis ?\n",
    "\n",
    "##  Learning Objectives\n",
    "***Students should be able to***\n",
    "\n",
    "<ol>\n",
    "<li> <a href=#catwc> Use the Unix command wc (word count) to count the lines in a file.</a> </li>\n",
    " <li> <a href=#GOtermIntro> Describe how the Gene Ontology is organized and what a \"GO term\" means. </a> </li>\n",
    " <li> <a href=#GOtermenrichment> Explain what GO term enrichment is </a></li>\n",
    " <li> <a href=#GeneIDtoName> Convert GeneIDs to gene names using the unix grep command </a></li>\n",
    " <li> <a href=#GOrilla> Use the GOrilla website to identify GOterms enriched in a set of genes </a></li>\n",
    " </ol>"
   ]
  },
  {
   "cell_type": "markdown",
   "metadata": {},
   "source": [
    "### Load data and import helper functions"
   ]
  },
  {
   "cell_type": "code",
   "execution_count": null,
   "metadata": {},
   "outputs": [],
   "source": [
    "%%capture\n",
    "\n",
    "#Imports helper functions for loading RNA_Seq data and kmeans algorithm \n",
    "\n",
    "%matplotlib inline\n",
    "%load_ext autoreload\n",
    "%autoreload 2\n",
    "import warnings\n",
    "warnings.filterwarnings('ignore')\n",
    "import matplotlib.pyplot as plt\n",
    "import sys\n",
    "sys.path.append('../helpers')\n",
    "from kmeans_helpers import * \n",
    "from RNAseq_helpers import * "
   ]
  },
  {
   "cell_type": "markdown",
   "metadata": {},
   "source": [
    "## RNA-seq analysis workflow \n",
    "<img src=\"../Images/10-RNApipeline.png\" alt=\"RNA pipeline\" width=\"300\" height=\"200\"/>\n"
   ]
  },
  {
   "cell_type": "markdown",
   "metadata": {},
   "source": [
    "## Use the Unix command wc (word count) to count the lines in a file.<a name='catwc' />"
   ]
  },
  {
   "cell_type": "markdown",
   "metadata": {},
   "source": [
    "In the previous session, we ran K-means clustering on the gene-by-sample RNA-seq matrix. Here, we examine the functional enrichment of Gene Ontology terms in each cluster. \n",
    ". \n",
    "First, we calculate the number of genes in each cluster.\n",
    "We can also use the wc (word count) command to quickly count the lines in a file.\n",
    "The `wc -l` command prints the number of new lines in the file. Other flags can be used to print the number of words or characters."
   ]
  },
  {
   "cell_type": "markdown",
   "metadata": {},
   "source": [
    "We can use the `--help` argument to learn how a unix command is used: "
   ]
  },
  {
   "cell_type": "code",
   "execution_count": null,
   "metadata": {},
   "outputs": [],
   "source": [
    "!wc --help"
   ]
  },
  {
   "cell_type": "code",
   "execution_count": null,
   "metadata": {},
   "outputs": [],
   "source": [
    "#Count the number of genes in each cluster \n",
    "#Cluster 0 \n",
    "!wc -l 0.txt"
   ]
  },
  {
   "cell_type": "code",
   "execution_count": null,
   "metadata": {},
   "outputs": [],
   "source": [
    "#Count the number of genes in clusters 1, 2 and 3\n",
    "!wc -l 1.txt\n",
    "!wc -l 2.txt \n",
    "!wc -l 3.txt"
   ]
  },
  {
   "cell_type": "markdown",
   "metadata": {},
   "source": [
    "## How is the gene ontology organized and what is a GO term? <a name='GOtermIntro' />\n",
    "\n",
    "An ontology represents knowledge about some subject domain. An ontology consists of two parts: \n",
    "* Well-defined terms \n",
    "* Relationships between the terms. \n",
    "\n",
    "[The Gene Onotology](http://www.geneontology.org/)  provides a way to annotate known information about genes. The gene ontology seeks to answer three questions about each gene: \n",
    "\n",
    "\n",
    "* Which functions does the gene product exert? ( **Molecular Function**) \n",
    "\n",
    "* With which biological process is the gene product associated ( **Biological Process** ) \n",
    "\n",
    "* Where and when is a particular gene product involved (cell part, cell type, body part, development stage)? (**Cellular Component**)\n",
    "\n",
    "\n",
    "![GO Explanation](../Images/9-GOexplanation.png)\n",
    "\n",
    "(figure credit: Rachel Huntley, \"Introduction to the Gene Ontology and GO annotation resources\", http://slideplayer.com/slide/7009132/)\n",
    "\n",
    "Gene Ontology terms are organized in a hierarchy of 7 levels. The structure of GO can be described in terms of a graph, where each GO term is a node, and the relationships between the terms are edges between the nodes. GO is loosely hierarchical, with 'child' terms being more specialized than their 'parent' terms, but unlike a strict hierarchy, a term may have more than one parent term. \n",
    "\n",
    "For example: \n",
    "![GO Example](../Images/9-GOexample.png)"
   ]
  },
  {
   "cell_type": "markdown",
   "metadata": {},
   "source": [
    "## What is GO term enrichment?  <a name='GOtermenrichment' />"
   ]
  },
  {
   "cell_type": "code",
   "execution_count": null,
   "metadata": {},
   "outputs": [],
   "source": [
    "from IPython.display import HTML\n",
    "HTML('<iframe src=\"https://docs.google.com/presentation/d/e/2PACX-1vRqyb_exm8Yzfe8_PfhCLGl5FwFLNerBoYJD7JVIsfnbNbEhu2_F8efs8UJCY9jTyB9SOTaw6a7eJWn/embed?start=false&loop=false&delayms=60000\" frameborder=\"0\" width=\"800\" height=\"749\" allowfullscreen=\"true\" mozallowfullscreen=\"true\" webkitallowfullscreen=\"true\"></iframe>')"
   ]
  },
  {
   "cell_type": "markdown",
   "metadata": {},
   "source": [
    "[GOrilla](http://cbl-gorilla.cs.technion.ac.il/) is a tool for identifying and visualizing enriched GO terms in ranked lists of genes.\n",
    "It can be run in one of two modes:\n",
    "\n",
    "*    Searching for enriched GO terms that appear densely at the top of a ranked list of genes or\n",
    "*    Searching for enriched GO terms in a target list of genes compared to a background list of genes. We will use this mode to identify GO terms that are enriched in the set of 1543 differential genes identified in our four tissues of interest, compared with the background of all genes in the hg19 reference genome. "
   ]
  },
  {
   "cell_type": "markdown",
   "metadata": {},
   "source": [
    "First, we will run all 1543 differentially expressed genes through GORilla to determine if there are any significantly enriched GO terms as compared to the background of all genes in the hg19 reference genome. We have written the differential genes to an output file called 'differential_gene_ids.txt'. The file 'hg19.txt' contains a list of all gene id's and gene names in the hg19 reference genome.  \n",
    "\n",
    "GORilla uses a hypergeometric test (Fisher's Exact test) to identify enriched GO terms. "
   ]
  },
  {
   "cell_type": "code",
   "execution_count": null,
   "metadata": {},
   "outputs": [],
   "source": [
    "!head differential_gene_ids.txt"
   ]
  },
  {
   "cell_type": "markdown",
   "metadata": {},
   "source": [
    "## Convert GeneIDs to Gene Names <a name='GeneIDtoName' />\n",
    "\n",
    "GOrilla expects gene names, rather than gene id's as the input, so we must convert from the ENSEMBL id's to the official gene symbols. The code below will perform this conversion. "
   ]
  },
  {
   "cell_type": "code",
   "execution_count": null,
   "metadata": {},
   "outputs": [],
   "source": [
    "!wc -l gene_id_to_gene_name.txt"
   ]
  },
  {
   "cell_type": "code",
   "execution_count": null,
   "metadata": {},
   "outputs": [],
   "source": [
    "#The file \"gene_id_to_gene_name.txt\" maps gene id's to gene names. Examine the contents of this file: \n",
    "!head gene_id_to_gene_name.txt"
   ]
  },
  {
   "cell_type": "code",
   "execution_count": null,
   "metadata": {},
   "outputs": [],
   "source": [
    "#We iterate through the gene id's in our list and find the corresponding gene names. \n",
    "!grep -f differential_gene_ids.txt gene_id_to_gene_name.txt > tmp.txt\n",
    "#let's examine the output of the grep command: \n",
    "!head tmp.txt "
   ]
  },
  {
   "cell_type": "code",
   "execution_count": null,
   "metadata": {},
   "outputs": [],
   "source": [
    "#select the second column from the grep output\n",
    "!cut -f2 tmp.txt > differential_gene_names.txt\n",
    "\n",
    "#Examine the first 10 lines in the resulting file.\n",
    "!head -n10 differential_gene_names.txt"
   ]
  },
  {
   "cell_type": "code",
   "execution_count": null,
   "metadata": {},
   "outputs": [],
   "source": [
    "# cut the second column from the file hg19.txt to get the names (rather than ENSEMBL id's) of all genes in hg19. \n",
    "! cut -f2 hg19.txt >  hg19.names.txt \n",
    "!head -n10 hg19.names.txt"
   ]
  },
  {
   "cell_type": "markdown",
   "metadata": {},
   "source": [
    "In the next section, we will be using a web browser for the GO term analysis. \n",
    "\n",
    "To access the differential_gene_names.txt and hg19.names.txt files from the browser you will need to download these files from the cloud server to your computer. \n",
    "\n",
    "To download the files, click File under the jupyter icon and then download. Make sure to download the file from within the Jupyter notebook window and not from the browser window. If you use the browser window the file will downlad as an .html instead of a .txt file which will not work for the next steps. "
   ]
  },
  {
   "cell_type": "markdown",
   "metadata": {},
   "source": [
    "## Use the GOrilla website to identify GOterms enriched in a set of genes <a name='GOrilla' />\n",
    "\n",
    "We are now ready to use GOrilla to check for enriched GO terms. \n",
    "First, navigate to the GOrilla portal: <a href=\"http://cbl-gorilla.cs.technion.ac.il/\">http://cbl-gorilla.cs.technion.ac.il/</a>\n",
    "\n",
    "Follow these steps in the GOrilla portal: \n",
    "* select \"Homo sapiens\" for \"Choose organism\" \n",
    "* Select \"Two unranked lists of genes\" from \"Choose running mode\" \n",
    "* Upload the file \"differential_genes_names.txt\" for the Target set. \n",
    "* Upload the file \"hg19.names.txt\" for the Background set. \n",
    "* Select \"All\" under \"Choose an ontology\". \n",
    "* Click on \"Search Enriched GO terms\"  \n",
    "* Examine the output by clicking on \"Process\", \"Function\", and \"Cellular Component\" tabs.  \n",
    "\n"
   ]
  },
  {
   "cell_type": "markdown",
   "metadata": {},
   "source": [
    "The top hits for Process should be: \n",
    "![Process](../Images/10_process_go_allgenes.png)\n",
    "\n",
    "The top hits for Function should be: \n",
    "![Function](../Images/10_function_go_allgenes.png)\n",
    "\n",
    "The top hits for Cellular Component should be:\n",
    "![Cellular_Component](../Images/10_component_go_allgenes.png)\n",
    "\n",
    "GOrilla also generates the graph of inter-related GO terms, color-coding them by significance."
   ]
  },
  {
   "cell_type": "markdown",
   "metadata": {},
   "source": [
    "Re-run the GORilla analysis with each cluster of genes (upload 0.txt, 1.txt, 2.txt, and 3.txt to GORilla to compare the significant Process, Function, and Cellular Component GO terms that are returned.)"
   ]
  },
  {
   "cell_type": "markdown",
   "metadata": {},
   "source": [
    "## Cluster 0 \n",
    "From the heatmap, Cluster 0 appears to contain genes that are downregulated in Blood and up-regulated in Embryonic cells. \n",
    "\n",
    "### Process: \n",
    "![0_process](../Images/10_0_process.png)\n",
    "### Function: \n",
    "![0_function](../Images/10_0_function.png)\n",
    "### Cellular Component:\n",
    "![0_component](../Images/10_0_component.png)"
   ]
  },
  {
   "cell_type": "markdown",
   "metadata": {},
   "source": [
    "## Cluster 1 \n",
    "From the heatmap, Cluster 1 contains genes that are moderately upregulated in Blood and the Immune system. \n",
    "\n",
    "### Process: \n",
    "![1.process](../Images/10_1_process.png)\n",
    "### Function: \n",
    "![1.function](../Images/10_1_function.png)\n",
    "### Cellular Component:\n",
    "![1.component](../Images/10_1_component.png)"
   ]
  },
  {
   "cell_type": "markdown",
   "metadata": {},
   "source": [
    "## Cluster 2 \n",
    "From the heatmap, Cluster 2 contains genes that are strongly upregulated in Blood and the Immune system. \n",
    "\n",
    "\n",
    "### Process: \n",
    "![2.process](../Images/10_2_process.png)\n",
    "### Function: \n",
    "![2.function](../Images/10_2_function.png) \n",
    "#### Cellular Component:\n",
    "![2.component](../Images/10_2_component.png) "
   ]
  },
  {
   "cell_type": "markdown",
   "metadata": {},
   "source": [
    "## Cluster 3\n",
    "\n",
    "From the heatmap, cluster 3 contains genes that are upregulated in the Respiratory system and Embryonic samples. \n",
    "\n",
    "### Process: \n",
    "![3.process](../Images/10_3_process.png) \n",
    "#### Function: \n",
    "![3.function](../Images/10_3_function.png) \n",
    "#### Cellular Component:\n",
    "![3.component](../Images/10_3_component.png)\n"
   ]
  },
  {
   "cell_type": "markdown",
   "metadata": {},
   "source": [
    "## Use the goattools Python module to run gene enrichment <a name='Goattools' />"
   ]
  },
  {
   "cell_type": "markdown",
   "metadata": {},
   "source": [
    "Web-based tools such as GOrilla are convenient to use for small numbers of queries. However, you may often perform a more complex analysis with dozens of clusters instead of just 4. "
   ]
  },
  {
   "cell_type": "markdown",
   "metadata": {},
   "source": [
    "For multiple queries, it can be helpful to perform the analysis programmatically. Python has a libary called [goatools](https://github.com/tanghaibao/goatools)that can be used for this purpose. \n",
    "\n",
    "The goatools library provides a script called **find_enrichments.py** to find enriched GO terms in a list of genes. Let's examine the syntax of this script: "
   ]
  },
  {
   "cell_type": "code",
   "execution_count": null,
   "metadata": {},
   "outputs": [],
   "source": [
    "from goatools import * "
   ]
  },
  {
   "cell_type": "code",
   "execution_count": null,
   "metadata": {},
   "outputs": [],
   "source": [
    "!find_enrichment.py"
   ]
  },
  {
   "cell_type": "markdown",
   "metadata": {},
   "source": [
    "There are 3 required arguments for the script: \n",
    "    \n",
    "    1. The dataset (list of genes in differential_gene_names.txt) \n",
    "    2. The background (list of genes in hg19.names.txt) \n",
    "    3. A file that associates gene names to GO terms (hg19.assocs). We generated this file in advance -- It contains gene names in column 1 and GO terms associated with this gene in column 2. \n",
    "\n",
    "There are also 2 optional inputs to the script that we will find useful: \n",
    "    1. --outfile\n",
    "    The output file to save enriched GO terms \n",
    "    2. --pval_field=fdr_bh \n",
    "    This argument indicates that the script should only return GO Terms enriched with false discovery rate < 0.05. \n",
    "    \n",
    "The module can be run using the following command. \n",
    "    "
   ]
  },
  {
   "cell_type": "code",
   "execution_count": null,
   "metadata": {},
   "outputs": [],
   "source": [
    "! find_enrichment.py 0.txt hg19.names.txt ../Weekly\\ Assignments/Week_5/hg19.assocs --outfile differential_genes_enrichments.tsv --pval_field=fdr_bh"
   ]
  },
  {
   "cell_type": "markdown",
   "metadata": {},
   "source": [
    "### ***This concludes our analysis of RNA-seq data. Next we will transition to discussing the mechanisms that regulate gene expression, starting with transcription factors which are proteins that control the rate of gene expression.***"
   ]
  },
  {
   "cell_type": "code",
   "execution_count": null,
   "metadata": {},
   "outputs": [],
   "source": []
  }
 ],
 "metadata": {
  "anaconda-cloud": {},
  "kernelspec": {
   "display_name": "Python 3",
   "language": "python",
   "name": "python3"
  },
  "language_info": {
   "codemirror_mode": {
    "name": "ipython",
    "version": 3
   },
   "file_extension": ".py",
   "mimetype": "text/x-python",
   "name": "python",
   "nbconvert_exporter": "python",
   "pygments_lexer": "ipython3",
   "version": "3.7.10"
  }
 },
 "nbformat": 4,
 "nbformat_minor": 4
}
