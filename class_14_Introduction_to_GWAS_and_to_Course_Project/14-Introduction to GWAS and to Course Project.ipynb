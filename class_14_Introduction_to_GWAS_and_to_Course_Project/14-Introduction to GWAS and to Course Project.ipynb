{
 "cells": [
  {
   "cell_type": "markdown",
   "metadata": {},
   "source": [
    "## Big Data for Biologists: Decoding Genomic Function - Class 14\n",
    "\n",
    "##  Learning Objectives\n",
    "***Students should be able to***\n",
    "<ol>\n",
    "     <li><a href=#geneticVariation> Identify  different types of genetic variation that can occur across individuals of a species</a></li>\n",
    "    <li> <a href=#GWAS>Describe the experimental setup for a typical GWAS study.</a> </li>\n",
    "<li> <a href=#GWAS>Explain why linkage disequilibrium (LD) analysis may be necessary for identifying causal SNPs from GWAS studies </a></li>\n",
    "<li> <a href=#GWAS>Interpret a plot or table with p-values (or -log<sub>10</sub>p-values) for SNPs to identify which SNPs may be associated with a disease </a></li>\n",
    "    <li> <a href=\"Manhattan\">Visualize GWAS P-values and LD scores with a Manhattan Plot</a></li>\n",
    "<li> <a href=#GWAS>Discuss how GWAS studies can be used to identify candidate causal variants for a disease </a></li> \n",
    "<li> <a href=#GWAS>Recognize the limitations of identifying causal variants from GWAS studies </a></li> \n",
    "<li> <a href=#Workflow>Participate in a collaborative programming project to gain insights into the workflow for computational projects.</a></li>\n",
    "<li> <a href=#Roles>Experience different roles in a computational project including code implementer and documentation provider.</a></li>\n",
    "<li> <a href=#LD>Find variants in linkage disequilibrium (LD) with a target variant using tabix and PLINK.</a></li>\n",
    "<li> <a href=#Dataanalysis> Apply data analysis methods from the course to new problems </a></li> \n",
    "</ol>"
   ]
  },
  {
   "cell_type": "markdown",
   "metadata": {},
   "source": [
    "## What is Genetic Variation across individuals of a species <a name ='geneticVariation'>"
   ]
  },
  {
   "cell_type": "code",
   "execution_count": null,
   "metadata": {},
   "outputs": [],
   "source": [
    "import warnings\n",
    "warnings.filterwarnings('ignore')\n",
    "from IPython.display import HTML\n",
    "\n",
    "HTML('<iframe src=\"https://drive.google.com/file/d/0B_ssVVyXv8ZSSkJ1SktQTnk2MUU/preview\" width=\"1000\" height=\"480\"></iframe>')"
   ]
  },
  {
   "cell_type": "markdown",
   "metadata": {},
   "source": [
    "## Introduction to GWAS  <a name='GWAS'>"
   ]
  },
  {
   "cell_type": "code",
   "execution_count": null,
   "metadata": {},
   "outputs": [],
   "source": [
    "from IPython.display import HTML\n",
    "HTML('<iframe src=\"https://drive.google.com/file/d/1zGkSZom9fB63QaHDPHkWSD6aoVn2nk3O/preview\" width=\"1000\" height=\"480\"></iframe>')"
   ]
  },
  {
   "cell_type": "markdown",
   "metadata": {},
   "source": [
    "WashU Browser link for FTO gene: http://epigenomegateway.wustl.edu/browser/?genome=hg19&session=EnEB3ADZOF&statusId=276059485"
   ]
  },
  {
   "cell_type": "markdown",
   "metadata": {},
   "source": [
    "## Introduction to Course Project  <a name ='Workflow'> <a name ='Roles'> "
   ]
  },
  {
   "cell_type": "markdown",
   "metadata": {},
   "source": [
    "\n",
    "The course project will have three main steps.  \n",
    "\n",
    "I.  You will be given the SNP identifiers (rs ids) for two variants in the human genome. For each of these variants you will: \n",
    "\n",
    "* write the code using the notebook guidelines below. \n",
    "* analyze the output of the code \n",
    "* create an initial draft of a report including:  \n",
    "   <ol>\n",
    "    <li> the likely causal variants </li>\n",
    "    <li> explanation of reasoning for why they are the likely causal variants</li>\n",
    "    <li> what you have learned about how the variant acts(ie. through what type of mutation in a coding region or what type of element in a non-coding region)</li>\n",
    "\n",
    "II. You will proofreading and check your teammates work. \n",
    "* Switch variants and run through code.\n",
    "* The outputs of your files should be identical.\n",
    "* Add comments to annotate any code that may need clarification. \n",
    "\n",
    "III. Writing up the report (see rubric for guidelines). \n",
    "\n",
    "Deliverables: \n",
    "* Jupyter notebook with code \n",
    "* Writeup document with summary\n",
    "\n",
    "### Grading Rubric: \n",
    "\n",
    "Will be posted on Canvas with the Assignment\n",
    "\n",
    "### Project files: \n",
    "All project files can be found in the folder **/data/project**\n",
    "\n",
    "* /data/project/1kg_phase1_all*   -- binary variant files\n",
    "* /data/project/gene_coords_hg19.bed.gz -- bed file of gene coordinates \n",
    "* /data/project/gencode.hg19.annotation.gtf -- gene annotation file \n",
    "* /data/project/motifs.bed.gz -- coordinates of all transcription factor-binding motifs in the genome. \n",
    "* /data/project/active_promoters_across_cell_type.bed.gz\n",
    "* /data/project/active_enhancers_across_cell_type.bed.gz\n",
    "\n",
    "### General Suggestions: \n",
    "\n",
    "You will be working with some large files for your course project. Please use the !head command to examine these files rather than the !cat command to avoid printing very large amounts of text to your notebook. \n",
    "\n",
    "Some of the files we have provided are zipped in the gzip format (these end with the .gz suffix). To examine these files use the combination of zcat and head coommands, as below: \n",
    "\n",
    "```\n",
    "!zcat /data/project/gene_coords_hg19.bed.gz | head \n",
    "```"
   ]
  },
  {
   "cell_type": "markdown",
   "metadata": {},
   "source": [
    "## STEP 1:  Are either of the candidate causal variants in protein coding regions?  <a name ='Dataanalysis'>"
   ]
  },
  {
   "cell_type": "markdown",
   "metadata": {},
   "source": [
    "Your first task is to determine whether any of the candidate variants are in protein coding regions. That is, do they overlap a known protein coding region? \n",
    "\n",
    "We have provided an hg19 gene annotation file here: \n",
    "\n",
    "* **/data/project/gencode.hg19.annotation.gtf**\n",
    "\n",
    "The annotations for CDS regions in this file  include the text \"CDS\".You should use the \"grep\" command to extract CDS regions from this file.  You should use a flag for the grep command that ensures you limit the output to lines with \"CDS\" only as a whole word. Otherwise lines with CDS embedded in other fields may also appear (see !grep --help for a list of flags). "
   ]
  },
  {
   "cell_type": "code",
   "execution_count": null,
   "metadata": {},
   "outputs": [],
   "source": [
    "#BEGIN SOLUTION \n",
    "#END SOLUTION"
   ]
  },
  {
   "cell_type": "markdown",
   "metadata": {},
   "source": [
    "Next, you will use the output from above to make a file in bed format. Examine what columns you will need and make a file in bed format. "
   ]
  },
  {
   "cell_type": "code",
   "execution_count": null,
   "metadata": {},
   "outputs": [],
   "source": [
    "#BEGIN SOLUTION \n",
    "#END SOLUTION "
   ]
  },
  {
   "cell_type": "markdown",
   "metadata": {},
   "source": [
    "You should find that one of your variants is in a coding region. For this variant, you do NOT need to investigate it's linked variants, because the variant likely directly affecting the sequence of the protien that the gene encodes. You can complete STEP 2 only for the coding variant. The coding variant should also be considered in STEP 11. \n",
    "\n",
    "For the variant that is in a non-coding portion of the genome, it's linked SNPs must  be examined to determine the variant's most likely mechanism of action. Proceed to STEPS 3 to STEPS 11 for the variant that is in a non-coding region. "
   ]
  },
  {
   "cell_type": "markdown",
   "metadata": {},
   "source": [
    "## STEP 2: Has the coding variant been linked to a disease? If so, which one?  What is known about how the variant could affect transcription or translation?\n",
    "\n",
    "\n",
    "The [GWAS Catalog](https://www.ebi.ac.uk/gwas/) is a curated database of GWAS studies. Look up known variant-phenotype associations in the GWAS Catalog. \n",
    "\n",
    "We also recommend looking up the variant in the [Global Biobank Engine](https://biobankengine.stanford.edu/).\n",
    "\n",
    "Analyze what you have observed in the GWAS Catalog and Global Biobank Engine. Include any diseases that the variant has been linked to and how it could affect transcription or translation. \n",
    "\n",
    "**ANSWER HERE:**\n"
   ]
  },
  {
   "cell_type": "markdown",
   "metadata": {},
   "source": [
    "## STEP 3: Given a target non-coding variant that has been linked to a disease, what are the candidate causal variants in LD with the target variant?   "
   ]
  },
  {
   "cell_type": "code",
   "execution_count": null,
   "metadata": {},
   "outputs": [],
   "source": [
    "#Find all single nucleotide polymorhphisms (SNPs)  in linkage disequilibrium (LD)  with your target variants.\n",
    "#BEGIN SOLUTION \n",
    "#END SOLUTION "
   ]
  },
  {
   "cell_type": "markdown",
   "metadata": {},
   "source": [
    "### Note: To ensure the highest likelihood of discovering the causal SNP, please investigate multiple variants in LD with your non-coding SNP and discuss them in your writeup. If you find that your non-coding SNP has high LD with more than five SNPs, please discuss the five SNPs with the highest  r^2 LD score. \n",
    "    "
   ]
  },
  {
   "cell_type": "markdown",
   "metadata": {},
   "source": [
    "## Linkage Disequilibrium Example with Tabix and PLINK <a name ='LD'>"
   ]
  },
  {
   "cell_type": "markdown",
   "metadata": {},
   "source": [
    "[An article in the New England Journal of Medicine](http://www.nejm.org/doi/full/10.1056/NEJMoa1502214?rss=searchAndBrowse&#t=article) performs experiments to decipher the causal variant in a GWAS locus associated with obesity. They focus on one specific locus with a tag variant rs1558902 that falls in the intron of a gene called FTO. However, since a strong GWAS association of a variant with a phenotype is insufficient to deterimne causation, the authors checked whether other variants were in strong linkage disequilibrium with rs1558902 and are thus also potentially causal variants in obesity. \n",
    "\n",
    "We will examine below how the PLINK tool can be used to perform such a linkage disequilibrium analysis. \n"
   ]
  },
  {
   "cell_type": "markdown",
   "metadata": {},
   "source": [
    "We have downloaded variant files for the 1000 Genomes Project in the PLINK binary format: \n",
    "    \n",
    "* **/data/project/1kg_phase1_all.bed** -- binary encoding of subject genotypes (do not be fooled by the file extension, this is NOT the 4-column bed file format we have been using). \n",
    "\n",
    "* **/data/project/1kg_phase1_all.bim** -- list of all variants in the subject population \n",
    "* **/data/project/1kg_phase1_all.fam** -- list of all subject id's in the 1000's genome project"
   ]
  },
  {
   "cell_type": "code",
   "execution_count": null,
   "metadata": {},
   "outputs": [],
   "source": [
    "#This syntax will identify all variants that are in linkage disequilibrium with our tagged SNP rs1558902\n",
    "!plink  --bfile /data/project/1kg_phase1_all --r  --ld-snp rs1558902 --ld-window 10000 --out r.for.rs1558902 --threads 10\n"
   ]
  },
  {
   "cell_type": "markdown",
   "metadata": {},
   "source": [
    "The SNPs that are in linkage disequilibrium with our tagged SNP were saved to the file **r.for.rs1558902.ld**. Let's examine the contents of this file: "
   ]
  },
  {
   "cell_type": "code",
   "execution_count": null,
   "metadata": {},
   "outputs": [],
   "source": [
    "!head r.for.rs1558902.ld"
   ]
  },
  {
   "cell_type": "markdown",
   "metadata": {},
   "source": [
    "PLINK also allows us to compute the r^2 value for linkage disequilibrium. The command is the same as what we ran above, but replace \"r\" with \"r^2\"."
   ]
  },
  {
   "cell_type": "code",
   "execution_count": null,
   "metadata": {},
   "outputs": [],
   "source": [
    "!plink  --bfile /data/project/1kg_phase1_all --r2  --ld-snp rs1558902 --ld-window 10000 --threads 10 --out r2.for.rs1558902\n"
   ]
  },
  {
   "cell_type": "code",
   "execution_count": null,
   "metadata": {},
   "outputs": [],
   "source": [
    "!head r2.for.rs1558902.ld"
   ]
  },
  {
   "cell_type": "markdown",
   "metadata": {},
   "source": [
    "## Visualizing GWAS associations with Manhattan Plots  <a name ='Manhattan'>"
   ]
  },
  {
   "cell_type": "markdown",
   "metadata": {},
   "source": [
    "A Manhattan plot is a type of scatter plot that is often used to visualize GWAS results. The x-axis shows each base pair position along the genome, while the y-axis shows the -10\\*log10(P-value) from the GWAS analysis. The plots are said to resemble the skyline of Manhattan, for example: \n",
    "\n",
    "![Manhattan Plot](../Images/14_Manhattan_Plot.png)"
   ]
  },
  {
   "cell_type": "markdown",
   "metadata": {},
   "source": [
    "We look for towers in a Manhattan plot, as these indicate loci with high GWAS P-values. SNPs that are in strong LD with each other will show up in the same tower.\n",
    "\n",
    "For example, the New England Journal article has a figure like this for the FTO locus: \n",
    "\n",
    "![NEJM_PVAL](../Images/14_FTO_locus_manhattan.png)\n",
    "\n",
    "\n",
    "Variations of the Manhattan Plot can also be used to examine the strength of linkage disequilibrium in a given locus. To illustrate this, NEJM has this figure: \n",
    "\n",
    "![NEJM_LD](../Images/14_FTO_LD.png)\n",
    "\n",
    "We will generate our own version of the LD plot using the output from PLINK. "
   ]
  },
  {
   "cell_type": "code",
   "execution_count": null,
   "metadata": {},
   "outputs": [],
   "source": [
    "%%capture\n",
    "\n",
    "## import pandas and plotnine \n",
    "import pandas as pd \n",
    "from plotnine import * "
   ]
  },
  {
   "cell_type": "code",
   "execution_count": null,
   "metadata": {},
   "outputs": [],
   "source": [
    "## Load the LD file from PLINK:\n",
    "## We use a new delimiter argument: delim_whitespace=True to handle the case when there may be variable \n",
    "## number of spaces between the columns in a data frame. \n",
    "data=pd.read_table(\"r.for.rs1558902.ld\",delim_whitespace=True) \n",
    "data.head()"
   ]
  },
  {
   "cell_type": "code",
   "execution_count": null,
   "metadata": {},
   "outputs": [],
   "source": [
    "## Create a scatterplot with BP_B along the x-axis and R along the y-axis. \n",
    "## Include labels from column SNP_B so we know which SNPs have the highest LD with our target \n",
    "x=data['BP_B']\n",
    "y=data['R']\n",
    "(ggplot(data,aes(x='BP_B',y='R'))+\n",
    " geom_point()+\n",
    " xlab(\"BP_B\")+\n",
    " ylab(\"R\"))\n"
   ]
  },
  {
   "cell_type": "code",
   "execution_count": null,
   "metadata": {},
   "outputs": [],
   "source": [
    "def get_labels(r_thresh,data,r_column=\"R\",snp_b_column=\"SNP_B\",text_offset=0.15): \n",
    "    '''\n",
    "    r_thresh -- the threshold of r (or r^2) to show labels for \n",
    "    data -- pandas dataframe with plink  output \n",
    "    r_column -- column name in the pandas dataframe where r (or r^2) values are stored. usually this is 'R'\n",
    "    snp_b_column -- column name in the pandas dataframe where SNP_B is stored. Usually this is 'SNP_B'\n",
    "    '''\n",
    "    labels=[]\n",
    "    x=[]\n",
    "    y=[]\n",
    "    offset=0\n",
    "    for index,row in data.iterrows(): \n",
    "        if row[r_column]>=r_thresh:\n",
    "            labels.append(row[snp_b_column])\n",
    "            x.append(row['BP_B'])\n",
    "            y.append(row['R']+offset)\n",
    "            offset=offset+text_offset\n",
    "        else: \n",
    "            labels.append('')\n",
    "            x.append(row['BP_B'])\n",
    "            y.append(row['R'])\n",
    "    return x,y,labels"
   ]
  },
  {
   "cell_type": "code",
   "execution_count": null,
   "metadata": {},
   "outputs": [],
   "source": [
    "## Include labels from column SNP_B so we know which SNPs have the highest LD with our target \n",
    "## To keep the plot readable, we only plot labels for SNPs with R > 0.98\n",
    "x=data['BP_B']\n",
    "y=data['R']\n",
    "label_x,label_y,label_text=get_labels(0.98,data)\n",
    "(ggplot(data,aes(x='BP_B',y='R'))+\n",
    " geom_point()+\n",
    " geom_text(mapping=aes(x=label_x,y=label_y,label=label_text))+\n",
    " xlab(\"BP_B\")+\n",
    " ylab(\"R\"))\n"
   ]
  },
  {
   "cell_type": "markdown",
   "metadata": {},
   "source": [
    "The New England Journal article mentions that variant rs1421085 was found to be associated with rs1558902. The authors found that rs1421085 disrupted an ARID5B repressor motif, and was thus the most likely causal variant. "
   ]
  },
  {
   "cell_type": "markdown",
   "metadata": {},
   "source": [
    "## STEP 4:  Are any of the variants in high LD with a non-coding SNP located within an exon? "
   ]
  },
  {
   "cell_type": "markdown",
   "metadata": {},
   "source": [
    "Repeat the step 1 analysis, but this time examine the SNPs in high LD with your non-coding SNP. "
   ]
  },
  {
   "cell_type": "code",
   "execution_count": null,
   "metadata": {},
   "outputs": [],
   "source": [
    "## BEGIN SOLUTION \n",
    "## END SOLUTION "
   ]
  },
  {
   "cell_type": "markdown",
   "metadata": {},
   "source": [
    "## STEP 5:  Are there any variants from Step 4 that are in protein coding regions? If so, have then been linked to a disease? Which one?  What is known about how the variant could affect transcription or translation?"
   ]
  },
  {
   "cell_type": "markdown",
   "metadata": {},
   "source": [
    "Similarily to STEP 3 above, it might help to visualize any protein coding variants in the [GWAS Catalog](https://www.ebi.ac.uk/gwas/) and  [Global Biobank Engine](https://biobankengine.stanford.edu/). \n",
    "\n",
    "Analyze what you have observed in the GWAS Catalog and Global Biobank Engine. Include any diseases that the variant has been linked to and how it could affect transcription or translation. \n",
    "\n",
    "**ANSWER HERE:**"
   ]
  },
  {
   "cell_type": "markdown",
   "metadata": {},
   "source": [
    "## STEP 6: Is the original non-coding variant or are any of the SNPs in high LD with the non-coding variant located within a promoter region, if so, what are the relevant cell types?  \n",
    "\n",
    "\n",
    "\n",
    "You may find the file **/data/projects/active_promoters_across_cell_type.bed.gz** useful in performing the tasks below. "
   ]
  },
  {
   "cell_type": "code",
   "execution_count": null,
   "metadata": {},
   "outputs": [],
   "source": [
    "#Determine if any of the candidate variants are in promoter regions  \n",
    "#BEGIN SOLUTION \n",
    "#END SOLUTION "
   ]
  },
  {
   "cell_type": "code",
   "execution_count": null,
   "metadata": {},
   "outputs": [],
   "source": [
    "#List the cell types where the candidate variants are in active promoters\n",
    "#BEGIN SOLUTION \n",
    "#END SOLUTION "
   ]
  },
  {
   "cell_type": "markdown",
   "metadata": {},
   "source": [
    "## STEP 7: Is the original non-coding variant or are any of the SNPs in high LD with the non-coding variant located in an enhancer, if so, what are the relevant cell types? \n",
    "\n",
    "You may find the file **/data/projects/active_enhancers_across_cell_type.bed.gz** useful in performing the tasks below. "
   ]
  },
  {
   "cell_type": "code",
   "execution_count": null,
   "metadata": {},
   "outputs": [],
   "source": [
    "#Determine if any of the candidate variants are in enhancer regions  \n",
    "#BEGIN SOLUTION \n",
    "#END SOLUTION "
   ]
  },
  {
   "cell_type": "code",
   "execution_count": null,
   "metadata": {},
   "outputs": [],
   "source": [
    "#List the cell types where the candidate variants are in active enhancers\n",
    "#BEGIN SOLUTION \n",
    "#END SOLUTION "
   ]
  },
  {
   "cell_type": "markdown",
   "metadata": {},
   "source": [
    "## STEP 8: What Transcription Factors motifs overlap with the original non-coding variant or any SNPs of interest in high LD with the non-coding variant?\n",
    "\n",
    "\n",
    "You may find the  file **/opt/data/motifs.bed** useful for performing the task below. \n",
    "\n",
    "Note: If you don't fine any transcription factors overlap with the specific SNP, you can expand the search to include transcription factors that overlap with the active promoters/enhancers from steps 6 and 7. "
   ]
  },
  {
   "cell_type": "code",
   "execution_count": null,
   "metadata": {},
   "outputs": [],
   "source": [
    "#Determine which transcription factor motifs overlap with the SNPs.\n",
    "\n",
    "#BEGIN SOLUTION \n",
    "#END SOLUTION \n"
   ]
  },
  {
   "cell_type": "markdown",
   "metadata": {},
   "source": [
    "## STEP 9: Look up the Transcription Factor(s) identified in Step 8 in Gene Cards or another browser. What is known about the transcription factor(s)?  "
   ]
  },
  {
   "cell_type": "markdown",
   "metadata": {},
   "source": [
    "### Introduction to Gene Cards \n",
    "\n",
    "[Gene Cards](http://www.genecards.org/) is a database of information about human genes. It provides information about gene function, tissue-specific expression, as well as journal articles where a given gene is mentioned. \n",
    "Look up the following genes in gene cards. What is the function of each gene? \n",
    "\n",
    " * IRX5 \n",
    " * FTO "
   ]
  },
  {
   "cell_type": "markdown",
   "metadata": {},
   "source": [
    "## STEP 10 Identify candidate target genes (genes that are in the vicinity of the variant).\n"
   ]
  },
  {
   "cell_type": "markdown",
   "metadata": {},
   "source": [
    "You may find the file **/data/project/gene_coords_hg19.bed.gz** useful. "
   ]
  },
  {
   "cell_type": "code",
   "execution_count": null,
   "metadata": {},
   "outputs": [],
   "source": [
    "## BEGIN SOLUTION \n",
    "## END SOLUTION "
   ]
  },
  {
   "cell_type": "markdown",
   "metadata": {},
   "source": [
    "Look up the function of these genes in [Gene Cards](http://www.genecards.org/)"
   ]
  },
  {
   "cell_type": "markdown",
   "metadata": {},
   "source": [
    "Visualize your variant in the [WashU Browser](http://epigenomegateway.wustl.edu/browser/) to determine which genes lie nearby. How near is each SNP to a candidate gene? \n",
    "\n",
    "To export screenshots from the WashU Browser, go to **Tracks** in the menu bar and select **Screenshot**\n",
    "![WashU Screenshot](../Images/15_BrowserScreenshot.png)"
   ]
  },
  {
   "cell_type": "markdown",
   "metadata": {},
   "source": [
    "Select **show track name** and click on **Take screenshot**.\n",
    "![Browser Screenshot 2](../Images/15_BrowserScreenshot2.png)"
   ]
  },
  {
   "cell_type": "markdown",
   "metadata": {},
   "source": [
    "## STEP 11: Using all of the information together select your top 5 most likely causal variants. "
   ]
  },
  {
   "cell_type": "code",
   "execution_count": null,
   "metadata": {},
   "outputs": [],
   "source": []
  }
 ],
 "metadata": {
  "anaconda-cloud": {},
  "kernelspec": {
   "display_name": "Python 3",
   "language": "python",
   "name": "python3"
  },
  "language_info": {
   "codemirror_mode": {
    "name": "ipython",
    "version": 3
   },
   "file_extension": ".py",
   "mimetype": "text/x-python",
   "name": "python",
   "nbconvert_exporter": "python",
   "pygments_lexer": "ipython3",
   "version": "3.7.10"
  }
 },
 "nbformat": 4,
 "nbformat_minor": 4
}
