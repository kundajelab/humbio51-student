{
 "cells": [
  {
   "cell_type": "markdown",
   "metadata": {},
   "source": [
    "## Big Data for Biologists: Decoding Genomic Function\n",
    "\n",
    "##  Learning Objectives\n",
    "***Students should be able to***\n",
    "<ol>\n",
    "<li> <a href=#Workflow>Participate in a collaborative programming project to gain insights into the workflow for computational projects.</a></li>\n",
    "<li> <a href=#Roles>Experience different roles in a computational project including code implementer and documentation provider.</a></li>\n",
    "<li> <a href=#Dataanalysis> Apply data analysis methods from the course to new problems </a></li> \n",
    "</ol>\n"
   ]
  },
  {
   "cell_type": "markdown",
   "metadata": {},
   "source": [
    "## Introduction to Course Project "
   ]
  },
  {
   "cell_type": "markdown",
   "metadata": {},
   "source": [
    "The course project will have three main steps.  \n",
    "\n",
    "I.  You will be given the SNP identifiers (rs ids) for two variants in the human genome. For each of these variants you will: \n",
    "\n",
    "* write the code using the notebook guidelines below. \n",
    "* analyze the output of the code \n",
    "* create an initial draft of a report including:  \n",
    "   <ol>\n",
    "    <li> the likely causal variants </li>\n",
    "    <li> explanation of reasoning for why they are the likely causal variants</li>\n",
    "    <li> what you have learned about how the variant acts(ie. through what type of mutation in a coding region or what type of element in a non-coding region)</li>\n",
    "\n",
    "II. You will proofreading and check your teammates work. \n",
    "* Switch variants and run through code.\n",
    "* The outputs of your files should be identical.\n",
    "* Add comments to annotate any code that may need clarification. \n",
    "\n",
    "III. Writing up the report (see rubric for guidelines). \n",
    "\n",
    "Deliverables: \n",
    "* Jupyter notebook with code \n",
    "* Writeup document with summary\n",
    "\n",
    "### Grading Rubric: \n",
    "\n",
    "Will be posted on Canvas with the Assignment\n",
    "\n",
    "### Project files: \n",
    "All project files can be found in the folder **/data/project**\n",
    "\n",
    "* /data/project/1kg_phase1_all*   -- binary variant files\n",
    "* /data/project/gene_coords_hg19.bed.gz -- bed file of gene coordinates \n",
    "* /data/project/gencode.hg19.annotation.gtf -- gene annotation file \n",
    "* /data/project/motifs.bed.gz -- coordinates of all transcription factor-binding motifs in the genome. \n",
    "* /data/project/active_promoters_across_cell_type.bed.gz\n",
    "* /data/project/active_enhancers_across_cell_type.bed.gz\n",
    "\n",
    "### General Suggestions: \n",
    "\n",
    "You will be working with some large files for your course project. Please use the !head command to examine these files rather than the !cat command to avoid printing very large amounts of text to your notebook. \n",
    "\n",
    "Some of the files we have provided are zipped in the gzip format (these end with the .gz suffix). To examine these files use the combination of zcat and head coommands, as below: \n",
    "\n",
    "```\n",
    "!zcat /data/project/gene_coords_hg19.bed.gz | head \n",
    "    \n",
    "```\n",
    "\n",
    "To make your code easier to follow, you may find it helpful to add additional comments in the code boxes. You can decide which comments will be helpful to include. \n"
   ]
  },
  {
   "cell_type": "markdown",
   "metadata": {},
   "source": [
    "## STEP 1:  Are either of the candidate causal variants in protein coding regions?  <a name ='Dataanalysis'>"
   ]
  },
  {
   "cell_type": "markdown",
   "metadata": {},
   "source": [
    "Your first task is to determine whether any of the candidate variants are in protein coding regions. That is, do they overlap a known protein coding region? \n",
    "\n",
    "We have provided an hg19 gene annotation file here: \n",
    "\n",
    "* **/data/project/gencode.hg19.annotation.gtf**\n",
    "\n",
    "The annotations for CDS regions in this file  include the text \"CDS\".You should use the \"grep\" command to extract CDS regions from this file.  You should use a flag for the grep command that ensures you limit the output to lines with \"CDS\" only as a whole word. Otherwise lines with CDS embedded in other fields may also appear (see !grep --help for a list of flags). "
   ]
  },
  {
   "cell_type": "code",
   "execution_count": 9,
   "metadata": {},
   "outputs": [],
   "source": [
    "#BEGIN SOLUTION\n",
    "#END SOLUTION"
   ]
  },
  {
   "cell_type": "markdown",
   "metadata": {},
   "source": [
    "Next, you will use the output from above to make a file in bed format. Examine what columns you will need and make a file in bed format. "
   ]
  },
  {
   "cell_type": "code",
   "execution_count": 20,
   "metadata": {},
   "outputs": [],
   "source": [
    "#BEGIN SOLUTION\n",
    "#END SOLUTION"
   ]
  },
  {
   "cell_type": "markdown",
   "metadata": {},
   "source": [
    "Now, you will use one of the bedtools commands we have discussed to overlap the CDS file with the coordinates of your assigned variants. "
   ]
  },
  {
   "cell_type": "code",
   "execution_count": null,
   "metadata": {},
   "outputs": [],
   "source": [
    "#BEGIN SOLUTION  \n",
    "#END SOLUTION "
   ]
  },
  {
   "cell_type": "markdown",
   "metadata": {},
   "source": [
    "You should find that one of your variants is in a coding region. For this variant, you do NOT need to investigate it's linked variants, because the variant likely directly affecting the sequence of the protien that the gene encodes. You only need to complete STEP 2 for the coding variant. The coding variant should also be considered in STEP 11. \n",
    "\n",
    "For the variant that is in a non-coding portion of the genome, it's linked SNPs must  be examined to determine the variant's most likely mechanism of action. Proceed to STEPS 3 to STEPS 11 for the variant that is in a non-coding region. "
   ]
  },
  {
   "cell_type": "markdown",
   "metadata": {},
   "source": [
    "## STEP 2:  Has the coding variant been linked to a disease? If so, which one?  What is known about how the variant could affect transcription or translation?\n",
    "\n",
    "\n",
    "The [GWAS Catalog](https://www.ebi.ac.uk/gwas/) is a curated database of GWAS studies. Look up known variant-phenotype associations in the GWAS Catalog. \n",
    "\n",
    "We also recommend looking up the variant in the [Global Biobank Engine](https://biobankengine.stanford.edu/).\n",
    "\n",
    "Analyze what you have observed in the GWAS Catalog and Global Biobank Engine. Include any diseases that the variant has been linked to and how it could affect transcription or translation. \n",
    "\n",
    "**ANSWER HERE:**\n",
    "\n"
   ]
  },
  {
   "cell_type": "markdown",
   "metadata": {},
   "source": [
    "## STEP 3: Given a target non-coding variant that has been linked to a disease, what are the candidate causal variants in LD with the target variant?   "
   ]
  },
  {
   "cell_type": "markdown",
   "metadata": {},
   "source": [
    "To ensure the highest likelihood of discovering the causal SNP, please investigate multiple variants in LD with your non-coding SNP and discuss them in your writeup. If you find that your non-coding SNP has high LD with more than five SNPs, please investigate and discuss the five SNPs with the highest  r^2 LD score. \n",
    "    "
   ]
  },
  {
   "cell_type": "code",
   "execution_count": null,
   "metadata": {},
   "outputs": [],
   "source": [
    "#Find all single nucleotide polymorhphisms (SNPs)  in linkage disequilibrium (LD)  with your target variants.\n",
    "\n",
    "#BEGIN SOLUTION \n",
    "#END SOLUTION "
   ]
  },
  {
   "cell_type": "markdown",
   "metadata": {},
   "source": [
    "Generate a Manhattan plot with SNP position along the x-axis and r^2 of all LD SNPs along the y-axis. "
   ]
  },
  {
   "cell_type": "code",
   "execution_count": null,
   "metadata": {},
   "outputs": [],
   "source": [
    "#BEGIN SOLUTION \n",
    "#END SOLUTION"
   ]
  },
  {
   "cell_type": "markdown",
   "metadata": {},
   "source": [
    "## STEP 4:  Are any of the variants in high LD with the non-coding SNP located within an exon? "
   ]
  },
  {
   "cell_type": "markdown",
   "metadata": {},
   "source": [
    "Repeat the step 1 analysis, but this time search for EXONS and examine the SNPs in high LD with your non-coding SNP. "
   ]
  },
  {
   "cell_type": "code",
   "execution_count": null,
   "metadata": {},
   "outputs": [],
   "source": [
    "## BEGIN SOLUTION \n",
    "## END SOLUTION "
   ]
  },
  {
   "cell_type": "markdown",
   "metadata": {},
   "source": [
    "## STEP 5:  Are any variants from Step 4 in protein coding regions? If so, have they been linked to a disease? Which one?  What is known about how the variant could affect transcription or translation?"
   ]
  },
  {
   "cell_type": "code",
   "execution_count": null,
   "metadata": {},
   "outputs": [],
   "source": [
    "#Determine if any of the SNPs in LD with the non-coding variant are in protein coding regions\n",
    "#BEGIN SOLUTION \n",
    "#END SOLUTION "
   ]
  },
  {
   "cell_type": "markdown",
   "metadata": {},
   "source": [
    "Similarily to STEP 3 above, it might help to visualize any protein coding variants in the [GWAS Catalog](https://www.ebi.ac.uk/gwas/) and  [Global Biobank Engine](https://biobankengine.stanford.edu/). \n",
    "\n",
    "Analyze what you have observed in the GWAS Catalog and Global Biobank Engine. Include any diseases that the variant has been linked to and how it could affect transcription or translation. \n",
    "\n",
    "**ANSWER HERE:**"
   ]
  },
  {
   "cell_type": "markdown",
   "metadata": {},
   "source": [
    "## STEP 6: Is the original non-coding variant or are any of the SNPs in high LD with the non-coding variant located within a promoter region, if so, what are the relevant cell types?  \n",
    "\n",
    "You may find the file **/data/project/active_promoters_across_cell_type.bed.gz** useful in performing the tasks below. "
   ]
  },
  {
   "cell_type": "code",
   "execution_count": null,
   "metadata": {},
   "outputs": [],
   "source": [
    "#Determine if any of the candidate variants are in promoter regions  \n",
    "#BEGIN SOLUTION \n",
    "#END SOLUTION "
   ]
  },
  {
   "cell_type": "code",
   "execution_count": null,
   "metadata": {},
   "outputs": [],
   "source": [
    "#List the cell types where the candidate variants are in active promoters\n",
    "#BEGIN SOLUTION \n",
    "#END SOLUTION "
   ]
  },
  {
   "cell_type": "markdown",
   "metadata": {},
   "source": [
    "## STEP 7: Is the original non-coding variant or are any of the SNPs in high LD with the non-coding variant located in an enhancer, if so, what are the relevant cell types? \n",
    "\n",
    "You may find the file **/data/project/active_enhancers_across_cell_type.bed.gz** useful in performing the tasks below. "
   ]
  },
  {
   "cell_type": "code",
   "execution_count": null,
   "metadata": {},
   "outputs": [],
   "source": [
    "#Determine if any of the candidate variants are in enhancer regions  \n",
    "#BEGIN SOLUTION \n",
    "#END SOLUTION "
   ]
  },
  {
   "cell_type": "code",
   "execution_count": null,
   "metadata": {},
   "outputs": [],
   "source": [
    "#List the cell types where the candidate variants are in active enhancers\n",
    "#BEGIN SOLUTION \n",
    "#END SOLUTION "
   ]
  },
  {
   "cell_type": "markdown",
   "metadata": {},
   "source": [
    "## STEP 8: What Transcription Factors motifs overlap with the original non-coding variant or any SNPs of interest in high LD with the non-coding variant?\n",
    "\n",
    "You may find the  file **/data/project/motifs.bed.gz** useful for performing the task below. \n",
    "\n",
    "Note: If you don't fine any transcription factors overlap with the specific SNP, you can expand the search to include transcription factors that overlap with the active promoters/enhancers from steps 6 and 7. "
   ]
  },
  {
   "cell_type": "code",
   "execution_count": null,
   "metadata": {},
   "outputs": [],
   "source": [
    "#Determine which transcription factor motifs overlap with the SNPs.\n",
    "#BEGIN SOLUTION \n",
    "#END SOLUTION "
   ]
  },
  {
   "cell_type": "markdown",
   "metadata": {},
   "source": [
    "## STEP 9: Look up the Transcription Factor(s) identified in Step 8 in Gene Cards or another browser. What is known about the transcription factor(s)?  "
   ]
  },
  {
   "cell_type": "markdown",
   "metadata": {},
   "source": [
    "### Introduction to Gene Cards \n",
    "\n",
    "[Gene Cards](http://www.genecards.org/) is a database of information about human genes. It provides information about gene function, tissue-specific expression, as well as journal articles where a given gene is mentioned. \n",
    "Look up relevant genes in gene cards. What is the function of each gene? \n"
   ]
  },
  {
   "cell_type": "markdown",
   "metadata": {},
   "source": [
    "## STEP 10 Identify candidate target genes (genes that are in the vicinity of the variant).\n"
   ]
  },
  {
   "cell_type": "markdown",
   "metadata": {},
   "source": [
    "You may find the file **/data/project/gene_coords_hg19.bed.gz** useful. "
   ]
  },
  {
   "cell_type": "code",
   "execution_count": null,
   "metadata": {},
   "outputs": [],
   "source": [
    "## BEGIN SOLUTION \n",
    "## END SOLUTION "
   ]
  },
  {
   "cell_type": "markdown",
   "metadata": {},
   "source": [
    "Look up the function of these genes in [Gene Cards](http://www.genecards.org/)"
   ]
  },
  {
   "cell_type": "markdown",
   "metadata": {},
   "source": [
    "Visualize your variant in the [WashU Browser](http://epigenomegateway.wustl.edu/browser/) to determine which genes lie nearby. How near is each SNP to a candidate gene? \n",
    "\n",
    "To export screenshots from the WashU Browser, go to **Tracks** in the menu bar and select **Screenshot**\n",
    "![WashU Screenshot](../Images/15_BrowserScreenshot.png)"
   ]
  },
  {
   "cell_type": "markdown",
   "metadata": {},
   "source": [
    "Select **show track name** and click on **Take screenshot**.\n",
    "![Browser Screenshot 2](../Images/15_BrowserScreenshot2.png)"
   ]
  },
  {
   "cell_type": "markdown",
   "metadata": {},
   "source": [
    "## STEP 11: Using all of the information together select your top 5 most likely causal variants. "
   ]
  }
 ],
 "metadata": {
  "kernelspec": {
   "display_name": "Python 3",
   "language": "python",
   "name": "python3"
  },
  "language_info": {
   "codemirror_mode": {
    "name": "ipython",
    "version": 3
   },
   "file_extension": ".py",
   "mimetype": "text/x-python",
   "name": "python",
   "nbconvert_exporter": "python",
   "pygments_lexer": "ipython3",
   "version": "3.7.10"
  }
 },
 "nbformat": 4,
 "nbformat_minor": 4
}
