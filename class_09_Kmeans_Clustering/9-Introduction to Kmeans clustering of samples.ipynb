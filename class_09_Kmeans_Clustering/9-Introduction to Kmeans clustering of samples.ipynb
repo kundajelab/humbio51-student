{
 "cells": [
  {
   "cell_type": "markdown",
   "metadata": {},
   "source": [
    "# Big Data for Biologists: Decoding Genomic Function- Class 9\n",
    "\n",
    "## How do you visualize similarities and differences of gene expression profiles across cell types? Part III\n",
    "\n",
    "##  Learning Objectives\n",
    "***Students should be able to***\n",
    " <ol>\n",
    " <li> <a href=#Introkmeans>Explain what the k-means clustering algorithm is </a></li>\n",
    " <li> <a href=#Runkmeans>Perform k-means clustering to examine groups of samples from an RNA-Seq experiment.</a></li>\n",
    " <li> <a href=#Whileloop>Use a while loop to assess when the k-means clustering assignments are no longer changing.</a></li>\n",
    " <li> <a href=#heatmap>Interpret gene expression data in a heatmap </li>\n",
    " <li> <a href=#KmeansGenes> Perform k-means clustering to examine groups of genes from an RNA-Seq experiment. </a> </li>"
   ]
  },
  {
   "cell_type": "markdown",
   "metadata": {},
   "source": [
    "# What is the K-means clustering algorithm?<a name='Introkmeans' />"
   ]
  },
  {
   "cell_type": "code",
   "execution_count": null,
   "metadata": {},
   "outputs": [],
   "source": [
    "import warnings\n",
    "warnings.filterwarnings('ignore')\n",
    "from IPython.display import HTML\n",
    "HTML('<iframe width=\"560\" height=\"315\" src=\"https://www.youtube.com/embed/4b5d3muPQmA\" frameborder=\"0\" allow=\"autoplay; encrypted-media\" allowfullscreen></iframe>')"
   ]
  },
  {
   "cell_type": "markdown",
   "metadata": {},
   "source": [
    "\n",
    "\n",
    "For this class we have prepared a number of helper functions in a file in **../helpers/kmeans_helpers.py** .\n",
    "\n",
    "One of the helper functions makes scatter plots using code that is similar to what we saw in the last class. It adds some functionality to plot different styles of points or to change colors. \n",
    "\n",
    "We have also added a helper functions for importing RNA_Seq data in **../helpers/RNAseq_helpers.py**\n",
    "\n",
    "You can take a look at either of the files by going into the helpers file or using the cat command to see what is there. "
   ]
  },
  {
   "cell_type": "code",
   "execution_count": null,
   "metadata": {},
   "outputs": [],
   "source": [
    "!cat ../helpers/RNAseq_helpers.py"
   ]
  },
  {
   "cell_type": "code",
   "execution_count": null,
   "metadata": {},
   "outputs": [],
   "source": [
    "!cat ../helpers/kmeans_helpers.py"
   ]
  },
  {
   "cell_type": "code",
   "execution_count": null,
   "metadata": {},
   "outputs": [],
   "source": [
    "%%capture\n",
    "\n",
    "#Imports helper functions for loading RNA_Seq data and kmeans algorithm \n",
    "\n",
    "%matplotlib inline\n",
    "%load_ext autoreload\n",
    "%reload_ext autoreload\n",
    "\n",
    "%autoreload 2\n",
    "import sys\n",
    "sys.path.append('../helpers')\n",
    "from kmeans_helpers import * \n",
    "from RNAseq_helpers import * \n",
    "warnings.filterwarnings('ignore')"
   ]
  },
  {
   "cell_type": "code",
   "execution_count": null,
   "metadata": {},
   "outputs": [],
   "source": [
    "#Step 1: Generate a dataset in 2 dimensions with 150 datapoints \n",
    "x,y=generate_random_data(150)"
   ]
  },
  {
   "cell_type": "code",
   "execution_count": null,
   "metadata": {},
   "outputs": [],
   "source": [
    "len(x)"
   ]
  },
  {
   "cell_type": "code",
   "execution_count": null,
   "metadata": {},
   "outputs": [],
   "source": [
    "len(y)"
   ]
  },
  {
   "cell_type": "markdown",
   "metadata": {},
   "source": [
    "We plot the data:"
   ]
  },
  {
   "cell_type": "code",
   "execution_count": null,
   "metadata": {},
   "outputs": [],
   "source": [
    "plot(x,y)"
   ]
  },
  {
   "cell_type": "markdown",
   "metadata": {},
   "source": [
    "Thought question: Why can we use the simple command plot to make this plot rather than the long list of commands that we used in the last class? "
   ]
  },
  {
   "cell_type": "markdown",
   "metadata": {},
   "source": [
    "Based on a visual inspection of the data, we decide that we would like 3 clusters. It looks like all the data points fall in the range of [-5,5]."
   ]
  },
  {
   "cell_type": "code",
   "execution_count": null,
   "metadata": {},
   "outputs": [],
   "source": [
    "k=3\n",
    "min_val=-5\n",
    "max_val=5 "
   ]
  },
  {
   "cell_type": "markdown",
   "metadata": {},
   "source": [
    "The first step in the algorithm is to randomly initialize the cluster centroids. We can do this with the **initialize_centroids** function that was imported from kmeans_helpers. First, let's use the **help()** function to examine the **initialize_centroids** function. "
   ]
  },
  {
   "cell_type": "code",
   "execution_count": null,
   "metadata": {},
   "outputs": [],
   "source": [
    "help(initialize_centroids)"
   ]
  },
  {
   "cell_type": "code",
   "execution_count": null,
   "metadata": {},
   "outputs": [],
   "source": [
    "x_centroids,y_centroids=initialize_centroids(k,min_val,max_val)"
   ]
  },
  {
   "cell_type": "markdown",
   "metadata": {},
   "source": [
    "Thought question: Where could you find the code for the initialize_centroids function either to understand each step or to view if your code needed debugging?  "
   ]
  },
  {
   "cell_type": "markdown",
   "metadata": {},
   "source": [
    "Plot the cluster centroids that we initialized above:"
   ]
  },
  {
   "cell_type": "code",
   "execution_count": null,
   "metadata": {},
   "outputs": [],
   "source": [
    "plot(x,\n",
    "     y,\n",
    "     x_centroids=x_centroids,\n",
    "     y_centroids=y_centroids)"
   ]
  },
  {
   "cell_type": "markdown",
   "metadata": {},
   "source": [
    "We would like to find the closest centroid to each point. To do this, we will calculate the Euclidean distance from each point to each centroid. Euclidean distance can be found with the formula below: \n",
    "![euclidean distance formula](../Images/euclidean_distance.png)\n"
   ]
  },
  {
   "cell_type": "code",
   "execution_count": null,
   "metadata": {},
   "outputs": [],
   "source": [
    "help(distance)"
   ]
  },
  {
   "cell_type": "code",
   "execution_count": null,
   "metadata": {},
   "outputs": [],
   "source": [
    "#Calculate the distance of each point to each centroid. \n",
    "distances=[] \n",
    "for cluster_index in range(k): \n",
    "    cluster_distance=distance(x,\n",
    "                              y,\n",
    "                              x_centroids[cluster_index],\n",
    "                              y_centroids[cluster_index])\n",
    "    distances.append(cluster_distance)\n",
    "\n",
    "print(\"length of distances: \"+ str(len(distances)))\n",
    "print(distances[0][0:10])\n",
    "print (\"length of distances each cluster: \"+str(len(distances[1])))"
   ]
  },
  {
   "cell_type": "markdown",
   "metadata": {},
   "source": [
    "Thought questions: \n",
    "\n",
    "Why is the length of distances 3? What does each sublist represent? \n",
    "\n",
    "The variable distances is defined as \"distances=[ ]\"in the code above and it is also defined as \"distances=[ ]\" as the first line in the distance helper function defined in kmeans_helpers.py. Why do the distances for each centroid get appended to distances instead of getting erased each time the for loop gets called for a new centroid?"
   ]
  },
  {
   "cell_type": "code",
   "execution_count": null,
   "metadata": {},
   "outputs": [],
   "source": [
    "#Assign each point to the cluster corresponding to the nearest centroid. \n",
    "num_points=len(x)\n",
    "print(len(x))\n",
    "cluster_assignments=assign_cluster(distances,num_points)"
   ]
  },
  {
   "cell_type": "code",
   "execution_count": null,
   "metadata": {},
   "outputs": [],
   "source": [
    "print(cluster_assignments)"
   ]
  },
  {
   "cell_type": "code",
   "execution_count": null,
   "metadata": {},
   "outputs": [],
   "source": [
    "#plot the data with cluster assignments --red indicates points in cluster 0, blue in cluster 1 and green in cluster 2. \n",
    "plot(x,\n",
    "     y,\n",
    "     x_centroids=x_centroids,\n",
    "     y_centroids=y_centroids,\n",
    "     cluster_assignments=cluster_assignments)"
   ]
  },
  {
   "cell_type": "markdown",
   "metadata": {},
   "source": [
    "Now, we re-calculate the centroid positions so that the centroids are at the mid-point of each cluster. We use the helper function 'update_centroids' that is defined in helpers/kmeans_helpers.py"
   ]
  },
  {
   "cell_type": "code",
   "execution_count": null,
   "metadata": {},
   "outputs": [],
   "source": [
    "#call the function to update the centroids \n",
    "x_centroids,y_centroids=update_centroids(x,y,cluster_assignments,k)\n",
    "print(\"updated x_centroids:\"+str(x_centroids))\n",
    "print(\"updated y_centroids:\"+str(y_centroids))\n",
    "plot(x,\n",
    "    y,\n",
    "    cluster_assignments=cluster_assignments,\n",
    "    x_centroids=x_centroids,\n",
    "    y_centroids=y_centroids)"
   ]
  },
  {
   "cell_type": "code",
   "execution_count": null,
   "metadata": {},
   "outputs": [],
   "source": [
    "# We repeat this cycle of assigning points to cluster and updating the cluster centroids. \n",
    "# At each iteration, you should observe an improved separation of the datapoints. \n",
    "\n",
    "\n",
    "#We combine the functions we have written above to produce a full iteration of the k-means clustering algorithm. \n",
    "def iterate(x,y,x_centroids,y_centroids,k): \n",
    "    num_points=len(x)\n",
    "    \n",
    "    #calculate centroid distances \n",
    "    distances=[] \n",
    "    for cluster_index in range(k): \n",
    "        distances.append(distance(x,y,x_centroids[cluster_index],y_centroids[cluster_index]))\n",
    "        \n",
    "    #Assign each point to the cluster corresponding to the nearest centroid. \n",
    "    cluster_assignments=assign_cluster(distances,num_points)\n",
    "\n",
    "    #update the centroid assignments \n",
    "    x_centroids,y_centroids=update_centroids(x,y,cluster_assignments,k)\n",
    "    \n",
    "    #generate a plot \n",
    "    print(plot(x,\n",
    "        y,\n",
    "        x_centroids=x_centroids,\n",
    "        y_centroids=y_centroids,\n",
    "        cluster_assignments=cluster_assignments))\n",
    "    \n",
    "    #return the new cluster assignments and centroid values \n",
    "    return cluster_assignments,x_centroids,y_centroids"
   ]
  },
  {
   "cell_type": "code",
   "execution_count": null,
   "metadata": {},
   "outputs": [],
   "source": [
    "#run an iteration of the algorithm \n",
    "#run this code block several times to observe progress improvements in cluster assignments \n",
    "cluster_assignments,x_centroids,y_centroids=iterate(x,y,x_centroids,y_centroids,k)"
   ]
  },
  {
   "cell_type": "markdown",
   "metadata": {},
   "source": [
    " ## Use a while loop to assess when the k-means clustering assignments are no longer changing.<a name='Whileloop' />"
   ]
  },
  {
   "cell_type": "code",
   "execution_count": null,
   "metadata": {},
   "outputs": [],
   "source": [
    "#Finally, we define the end-criteria -- the algorithm is complete when the cluster assignments are no longer changing. \n",
    "def check_finished(old_cluster_assignments,new_cluster_assignments): \n",
    "    for i in range(len(old_cluster_assignments)): \n",
    "        if old_cluster_assignments[i]!=new_cluster_assignments[i]: \n",
    "            return False \n",
    "    return True "
   ]
  },
  {
   "cell_type": "code",
   "execution_count": null,
   "metadata": {},
   "outputs": [],
   "source": [
    "#We put all the steps above together to define the full k-means clustering algorithm \n",
    "def k_means(x,y,k): \n",
    "    min_val=min(x+y)\n",
    "    max_val=max(x+y)\n",
    "    x_centroids,y_centroids=initialize_centroids(k,min_val,max_val)\n",
    "    cluster_assignments,x_centroids,y_centroids=iterate(x,y,x_centroids,y_centroids,k)\n",
    "    finished=False \n",
    "    while (finished==False): \n",
    "        new_assignments,x_centroids,y_centroids=iterate(x,y,x_centroids,y_centroids,k)\n",
    "        finished=check_finished(cluster_assignments,new_assignments)\n",
    "        cluster_assignments=new_assignments\n",
    "    return cluster_assignments"
   ]
  },
  {
   "cell_type": "code",
   "execution_count": null,
   "metadata": {},
   "outputs": [],
   "source": [
    "#Let's run the full algorithm on our toy dataset \n",
    "cluster_assignments=k_means(x,y,3)"
   ]
  },
  {
   "cell_type": "markdown",
   "metadata": {},
   "source": [
    "What would happen if you chose a different value of k (number of clusters)? \n"
   ]
  },
  {
   "cell_type": "code",
   "execution_count": null,
   "metadata": {},
   "outputs": [],
   "source": [
    "#Use the k_means function defined above to run k-means clustering \n",
    "#on x,y for k=2 and k=4. \n",
    "\n",
    "## BEGIN SOLUTION ## \n",
    "## END SOLUTION ## \n",
    "\n",
    "#Which value of k (2,3, or 4) gives the best separation of the datapoints into cohesive clusters? \n",
    "## BEGIN SOLUTION ## \n",
    "## END SOLUTION ## "
   ]
  },
  {
   "cell_type": "markdown",
   "metadata": {},
   "source": [
    "# Using K-means clustering to examine groups of samples from an RNA-Seq experiment. <a name='Runkmeans' />"
   ]
  },
  {
   "cell_type": "markdown",
   "metadata": {},
   "source": [
    "We will now use kmeans clustering to cluster our samples across the four organ systems: \n",
    "\n",
    "* Blood \n",
    "* Embryonic\n",
    "* Immune \n",
    "* Respiratory "
   ]
  },
  {
   "cell_type": "code",
   "execution_count": null,
   "metadata": {},
   "outputs": [],
   "source": [
    "import pandas as pd \n",
    "systems_subset=[\"Blood\",\"Embryonic\",\"Immune\",\"Respiratory\"]\n",
    "rnaseq_data,metadata=load_rnaseq_data(systems_subset=systems_subset,rnaseq_data='/data/datasets/RNAseq/diff_genes_top.tsv',\n",
    "                              metadata='/data/datasets/RNAseq/rnaseq_metadata.txt')\n",
    "rnaseq_data_transposed=rnaseq_data.transpose()\n",
    "\n",
    "#Write a line of code to check the top few lines of the rnaseq_data_transposed matrix.  \n",
    "## BEGIN SOLUTION ##\n",
    "## END SOLUTION ## "
   ]
  },
  {
   "cell_type": "code",
   "execution_count": null,
   "metadata": {},
   "outputs": [],
   "source": [
    "rnaseq_data_transposed.shape"
   ]
  },
  {
   "cell_type": "markdown",
   "metadata": {},
   "source": [
    "Note that our matrix has 1543 columns (1 per gene) and 116 rows (1 per sample). Why do we examine only 1543 genes from the original set of 55,000 genes in the human genome? These 1543 genes were found to have different levels of expression across the four organ systems in **systems_subset**. The remaining genes did not show a significant difference in expression across the blood, embryonic, immune, and respiratory systems. "
   ]
  },
  {
   "cell_type": "markdown",
   "metadata": {},
   "source": [
    "In the example above, we wrote the k-means clustering code \"from scratch\". However, python already has a KMeans clustering function in the scikit learn library, which is more efficient for clustering large datasets than the function that we wrote above. We will use the built-in KMeans function in our further data analysis. "
   ]
  },
  {
   "cell_type": "code",
   "execution_count": null,
   "metadata": {},
   "outputs": [],
   "source": [
    "from sklearn.cluster import KMeans"
   ]
  },
  {
   "cell_type": "code",
   "execution_count": null,
   "metadata": {},
   "outputs": [],
   "source": [
    "#use the help command to learn more about the KMeans clustering function. \n",
    "#Uncomment the following line of code to run the \"help\" function \n",
    "## BEGIN SOLUTION ## \n",
    "## END SOLUTION ## "
   ]
  },
  {
   "cell_type": "code",
   "execution_count": null,
   "metadata": {},
   "outputs": [],
   "source": [
    "#use the help command to learn more about the scikit_PCAandkmeans helper function. \n",
    "## BEGIN SOLUTION ## \n",
    "## END SOLUTION ## "
   ]
  },
  {
   "cell_type": "code",
   "execution_count": null,
   "metadata": {},
   "outputs": [],
   "source": [
    "#Run the kmeans clustering algorithm on the data with four clusters\n",
    "## BEGIN SOLUTION ## \n",
    "## END SOLUTION ## "
   ]
  },
  {
   "cell_type": "markdown",
   "metadata": {},
   "source": [
    "We would like a way to determine how well the k-means clustering has separated the data. One way to assess the performance of the clustering algorithm is to compare inter-cluster distance to intra-cluster distance. We would like points in the same cluster to be near each other, and points that are in different clusters to be far apart: \n",
    "![Inter-cluster and intra-cluster distance](../Images/inter_cluster_vs_intra_cluster.png)\n",
    "\n",
    "**Silhouette analysis** allows us to compute the ratio of inter-cluster distance to intra-cluster distance for each cluster. This measure has a range of [-1, 1]. We see above that the clustering analysis yields a silhouette score of 0.66, suggesting that the data is fairly well-separated by four clusters. \n"
   ]
  },
  {
   "cell_type": "markdown",
   "metadata": {},
   "source": [
    "# Interpreting gene expression data in a heatmap <a name='heatmap' />"
   ]
  },
  {
   "cell_type": "code",
   "execution_count": null,
   "metadata": {},
   "outputs": [],
   "source": [
    "from IPython.display import HTML\n",
    "HTML('<iframe width=\"560\" height=\"315\" src=\"https://www.youtube.com/embed/oMtDyOn2TCc\" frameborder=\"0\" allow=\"autoplay; encrypted-media\" allowfullscreen></iframe>')"
   ]
  },
  {
   "cell_type": "markdown",
   "metadata": {},
   "source": [
    "We can visualize the 116 clustered samples in a heatmap, with samples along the y-axis and genes along the x-axis.  Note how we can see four distinct clusters  in the data. The heatmap values correspond to gene expression levels for each gene in each sample."
   ]
  },
  {
   "cell_type": "code",
   "execution_count": null,
   "metadata": {},
   "outputs": [],
   "source": [
    "plot_heatmap(rnaseq_data_transposed)"
   ]
  },
  {
   "cell_type": "markdown",
   "metadata": {},
   "source": [
    "Thought questions: \n",
    "* What does each box in the heatmap represent?\n",
    "* What does each column represent?\n",
    "* What does each row represent?  "
   ]
  },
  {
   "cell_type": "markdown",
   "metadata": {},
   "source": [
    "## Perform k-means clustering to examine groups of genes from an RNA-Seq experiment <a name='KmeansGenes' />\n",
    "\n",
    "Previously, we performed k-means clustering on the samples. Now, we are interested in identifying groups of genes with similar patterns of expression across organ systems. To perfom clustering on the genes, we will reverse the axis (switch the rows and columns) in the input dataset.\n",
    "\n",
    "Let's begin with 4 clusters (k=4). \n",
    "\n",
    "Above, when we read in our dataset, we used a command **data.transpose()** to put the sample names as the rows and the genes as the columns. \n",
    "\n",
    "Now, we want to use the original data matrix with 1543 rows (which corresponds to the number of genes) and 116 columns (corresponding to the number of samples). "
   ]
  },
  {
   "cell_type": "code",
   "execution_count": null,
   "metadata": {},
   "outputs": [],
   "source": [
    "#Fill in the code below to run the k-means clustering on the genes. \n",
    "## BEGIN SOLUTION ## \n",
    "## END SOLUTION ## "
   ]
  },
  {
   "cell_type": "code",
   "execution_count": null,
   "metadata": {},
   "outputs": [],
   "source": [
    "#To see what the output of the kmeans clustering looks like, print the first ten lines\n",
    "print(clusters[0:10])"
   ]
  },
  {
   "cell_type": "code",
   "execution_count": null,
   "metadata": {},
   "outputs": [],
   "source": [
    "# Plot a heatmap of the data \n",
    "plot_heatmap(rnaseq_data)"
   ]
  },
  {
   "cell_type": "markdown",
   "metadata": {},
   "source": [
    "We now obtain the list of genes associated with each cluster using the 'get_genes_from_cluster' function in ../helpers/kmeans_helpers.py"
   ]
  },
  {
   "cell_type": "code",
   "execution_count": null,
   "metadata": {},
   "outputs": [],
   "source": [
    "get_genes_from_clusters(rnaseq_data,clusters,k,filename='gene_id_to_gene_name.txt')"
   ]
  },
  {
   "cell_type": "markdown",
   "metadata": {},
   "source": [
    "This will generate files 0.txt, 1.txt, 2.txt, and 3.txt -- listing the genes associated with each cluster. \n"
   ]
  },
  {
   "cell_type": "code",
   "execution_count": null,
   "metadata": {},
   "outputs": [],
   "source": [
    "#Examine the first 10 lines in the file 0.txt\n",
    "! head 0.txt"
   ]
  },
  {
   "cell_type": "code",
   "execution_count": null,
   "metadata": {},
   "outputs": [],
   "source": []
  }
 ],
 "metadata": {
  "anaconda-cloud": {},
  "kernelspec": {
   "display_name": "Python 3",
   "language": "python",
   "name": "python3"
  },
  "language_info": {
   "codemirror_mode": {
    "name": "ipython",
    "version": 3
   },
   "file_extension": ".py",
   "mimetype": "text/x-python",
   "name": "python",
   "nbconvert_exporter": "python",
   "pygments_lexer": "ipython3",
   "version": "3.7.10"
  }
 },
 "nbformat": 4,
 "nbformat_minor": 4
}
