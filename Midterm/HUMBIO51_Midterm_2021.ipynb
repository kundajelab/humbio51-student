{
 "cells": [
  {
   "cell_type": "markdown",
   "metadata": {},
   "source": [
    " ## HUMBIO51 Midterm\n",
    " \n",
    "This is an open note take-home midterm exam. You may refer to class notes and any on-line references you find helpful. \n",
    "\n",
    "You may copy code from your notes or previous assignments as a starting template for the questions. You can also use helper functions that we wrote in class. \n",
    "\n",
    "The exam is subject to the honor code and you may not discuss the assignment with others.\n",
    "\n",
    "You can contact the instructors for clarifications on the questions. \n",
    "\n",
    "Partial credit will be given, so make sure to complete as much of the code as possible. \n",
    "  "
   ]
  },
  {
   "cell_type": "markdown",
   "metadata": {},
   "source": [
    "## QUESTION 1\n",
    "\n",
    "Researchers have identified several mechanisms that can modify RNA after transcription. While some RNA modifications are thought to have important functions ([Ontiveros et al., 2019](https://pubmed.ncbi.nlm.nih.gov/31028151/)), RNA modifications have also been associated with various types of cancer ([Haruehanroengra et al., 2020](https://pubmed.ncbi.nlm.nih.gov/31994439/)). \n",
    "\n",
    "One RNA modification that can occur is Adenine (A) can be modified to become Innosine (I). When it's incorporated into RNA, Innosine (I) preferentially binds to cytosine (C) base pairs in codons.   \n",
    "\n",
    "An A-to-I RNA modification in the ras homologue family member Q (RHOQ) protein was identified as having a higher incidence in collrectal tumor cells than in healthy tissue ([Han et al., 2014](https://www.ncbi.nlm.nih.gov/pmc/articles/PMC3978269/). \n",
    "\n",
    "This question will investigate this modification as well as the relationship between RHOQ and KRAS, a protein that is frequently mutated in human cancers ([Cox et al., 2014](https://www.ncbi.nlm.nih.gov/pmc/articles/PMC4355017/)). \n"
   ]
  },
  {
   "cell_type": "markdown",
   "metadata": {},
   "source": [
    "## 1a)\n",
    "\n",
    "The FASTA sequence for the RHOQ mRNA is in the data/RHOQ_NM_012249.4.txt file. Define a variable with the RNA sequence (using Uracils(U)) with an A to I mutation at position 964 (1-based numbering). Print out the sequence between basepairs 951 to 981. \n",
    "First define a helper function to write a DNA sequence from an RNA sequence"
   ]
  },
  {
   "cell_type": "code",
   "execution_count": null,
   "metadata": {},
   "outputs": [],
   "source": [
    "## BEGIN SOLUTION## \n",
    "\n",
    "## END SOLUTION ##"
   ]
  },
  {
   "cell_type": "markdown",
   "metadata": {},
   "source": [
    "## 1b)\n",
    "\n",
    "Edit the helper fuction below to allow you to translate the RNA sequence defined in question 1a into a protein. Rename both the function and the dictionary. \n",
    "\n",
    "You do not need to make a dictionary that is generalizable for all possible codons with I, you just need to add the three codons that would be possible (depending on the reading frame) for the sequence from 1a. \n",
    "\n",
    "Remember that I (like G) preferentially binds to Cytosine (C). "
   ]
  },
  {
   "cell_type": "code",
   "execution_count": null,
   "metadata": {},
   "outputs": [],
   "source": [
    "def write_protein_1_letter_aa_from_RNA(RNAsequence):\n",
    "\n",
    "#defines the python dictionary for the one letter genetic code \n",
    "    geneticcode1let={'UUU':'F','UUC':'F','UUA':'L','UUG':'L',\n",
    "     'CUU':'L','CUC':'L','CUA':'L','CUG':'L',\n",
    "     'AUU':'I','AUC':'I','AUA':'I','AUG':'M',\n",
    "     'GUU':'V','GUC':'V','GUA':'V','GUG':'V',\n",
    "     'UCU':'S','UCC':'S','UCA':'S','UCG':'S',\n",
    "     'CCU':'P','CCC':'P','CCA':'P','CCG':'P',\n",
    "     'ACU':'T','ACC':'T','ACA':'T','ACG':'T',\n",
    "     'GCU':'A','GCC':'A','GCA':'A','GCG':'A',\n",
    "     'UAU':'Y','UAC':'Y','UAA':'*','UAG':'*',\n",
    "     'CAU':'H','CAC':'H','CAA':'Q','CAG':'Q',\n",
    "     'AAU':'N','AAC':'N','AAA':'K','AAG':'K',\n",
    "     'GAU':'D','GAC':'D','GAA':'E','GAG':'E',\n",
    "     'UGU':'C','UGC':'C','UGA':'*','UGG':'W',\n",
    "     'CGU':'R','CGC':'R','CGA':'R','CGG':'R',\n",
    "     'AGU':'S','AGC':'S','AGA':'R','AGG':'R',\n",
    "     'GGU':'G','GGC':'G','GGA':'G','GGG':'G'}\n",
    "\n",
    "#defines the string variable proteinseq\n",
    "    proteinseq=''\n",
    "\n",
    "#range command (start,stop(not included),step)\n",
    "\n",
    "    for i in range(0,len(RNAsequence),3): \n",
    "        proteinseq=proteinseq+str(geneticcode1let[RNAsequence[i:i+3]])\n",
    "    return (proteinseq)"
   ]
  },
  {
   "cell_type": "code",
   "execution_count": null,
   "metadata": {},
   "outputs": [],
   "source": [
    "## BEGIN SOLUTION ##\n",
    "\n",
    "## END SOLUTION ##"
   ]
  },
  {
   "cell_type": "markdown",
   "metadata": {},
   "source": [
    "## 1c)\n",
    "\n",
    "The coding sequence for RHOQ is from basepairs 558 to 1175 (1-based numbering). Write out the protein sequencing using the modified RNA sequence from Question 1a and the function from 1b. "
   ]
  },
  {
   "cell_type": "code",
   "execution_count": null,
   "metadata": {},
   "outputs": [],
   "source": [
    "## BEGIN SOLUTION ##\n",
    "\n",
    "## END SOLUTION ##"
   ]
  },
  {
   "cell_type": "markdown",
   "metadata": {},
   "source": [
    "## 1d)\n",
    "\n",
    "The RNA sequence for KRAS is in the KRAS_NM_001369786.1.txt file in the data directory.  Use the SeqIO and pairwise2 alignment packages from BioPython to align the KRAS mRNA sequence with the RHOQ mRNA sequence.  (*Note: Use the sequence from the file, not the modified sequence from the questions above*). \n",
    "\n",
    "We have modified the sequence alignment helper module to include a function called format_alignment_linebreak_withnumbering. Use the sequence alignment helper functions to print out the alignment between KRAS and RHOQ mRNA. Use format_alignment_linebreak_withnumbering instead of format_alignment_linebreak. The output should include the range of base pairs in each row. "
   ]
  },
  {
   "cell_type": "code",
   "execution_count": null,
   "metadata": {},
   "outputs": [],
   "source": [
    "## BEGIN SOLUTION ##\n",
    "\n",
    "## END SOLUTION ##"
   ]
  },
  {
   "cell_type": "markdown",
   "metadata": {},
   "source": [
    "## 1e)\n",
    "\n",
    "Find the interval between positions 951 and 981 (inclusive, on both ends) in RHOQ in the aligned sequences. Note that this is the region from <b>1a</b>.\n",
    "\n",
    "How many gaps are in the alignment between 951 and 981 in the RHOQ sequence?\n",
    "\n",
    "#### BEGIN ANSWER #### \n",
    "\n",
    "#### END ANSWER ####\n",
    "\n",
    "How many gaps are in the KRAS sequence in the region that aligns to positions 951 to 981 in RHOQ?\n",
    "\n",
    "#### BEGIN ANSWER #### \n",
    "\n",
    "#### END ANSWER ####"
   ]
  },
  {
   "cell_type": "markdown",
   "metadata": {},
   "source": [
    "### 1f)\n",
    "\n",
    "The data/Ras_family.fa file contains several memebers of the Ras protein family from the human genome. Run a multiple sequence alignment of these proteins and print out the output. \n",
    "  "
   ]
  },
  {
   "cell_type": "code",
   "execution_count": null,
   "metadata": {},
   "outputs": [],
   "source": [
    "## BEGIN SOLUTION ## \n",
    "\n",
    "## END SOLUTION ## "
   ]
  },
  {
   "cell_type": "markdown",
   "metadata": {},
   "source": [
    "### 1g)\n",
    "\n",
    "Is RHOQ (P17081) or HRAS(P01112) more closely related to KRAS(P01116)?\n",
    "\n",
    "#### BEGIN ANSWER\n",
    "\n",
    "#### END ANSWER\n"
   ]
  },
  {
   "cell_type": "markdown",
   "metadata": {},
   "source": [
    "## QUESTION 2 \n",
    "\n",
    "We would like to learn what genes are most highly expressed in certain mouse organs. To do this, we will use RNAseq data from ENCODE (http://chromosome.sdsc.edu/mouse/download.html). \n",
    "\n",
    "We have pre-processed the data into a gene expression matrix (data/mm9.rnaseq.fpkm.tsv). The sample names are in the columns and the genes (labeled with their NCBI identifiers) are in the rows. There is also a corresponding metadata file (data/mm9.rnaseq.metadata.tsv). \n",
    "\n",
    "Note the gene expression data is in the units of FPKM instead of TPMs. \n"
   ]
  },
  {
   "cell_type": "markdown",
   "metadata": {},
   "source": [
    "## 2a)\n",
    "Read in the RNA-Seq datatable \"data/mm9.rnaseq.fpkm.tsv\" into a dataframe using the pandas package. Print the first 10 lines of the dataframe."
   ]
  },
  {
   "cell_type": "code",
   "execution_count": null,
   "metadata": {},
   "outputs": [],
   "source": [
    "# use the variable rnaseq to store the pandas dataframe\n",
    "## BEGIN SOLUTION ##\n",
    "\n",
    "## END SOLUTION ## "
   ]
  },
  {
   "cell_type": "markdown",
   "metadata": {},
   "source": [
    "## 2b)\n",
    "Transpose the rnaseq dataframe and save the transposed dataframe in a variable called <b>rnaseq_transposed</b>. "
   ]
  },
  {
   "cell_type": "code",
   "execution_count": null,
   "metadata": {},
   "outputs": [],
   "source": [
    "#Transpose dataframe\n",
    "## BEGIN SOLUTION\n",
    "\n",
    "## END SOLUTION"
   ]
  },
  {
   "cell_type": "markdown",
   "metadata": {},
   "source": [
    "## 2c)\n",
    "Use the code provided below to scale the data in the rnaseq_transposed matrix. Fill in the code to perform principle component analysis on the <b>samples</b> in the scaled transposed matrix (<b>rnaseq_transposed_scaled</b>). Decompose the data into 5 principle components. "
   ]
  },
  {
   "cell_type": "code",
   "execution_count": null,
   "metadata": {},
   "outputs": [],
   "source": [
    "import warnings\n",
    "warnings.filterwarnings('ignore')\n",
    "from sklearn import preprocessing\n",
    "\n",
    "#Note: we will scale our RNA-seq data to have a mean of 0 and a variance of 1. By making sure all sample values \n",
    "# are on the same scale, our PCA plot will provide a more informative visualization. \n",
    "rnaseq_transposed.index.name='Sample'\n",
    "rnaseq_transposed_scaled = preprocessing.scale(rnaseq_transposed, axis=1)\n",
    "#use the rnaseq_transposed_scaled variable as input for your PCA \n",
    "\n",
    "warnings.filterwarnings('ignore')\n",
    "#PCA\n",
    "## BEGIN SOLUTION ##\n",
    "\n",
    "## END SOLUTION ##"
   ]
  },
  {
   "cell_type": "markdown",
   "metadata": {},
   "source": [
    "## 2d)\n",
    "Generate a scree plot of the variance explained by the first 5 principal components. "
   ]
  },
  {
   "cell_type": "code",
   "execution_count": null,
   "metadata": {},
   "outputs": [],
   "source": [
    "## BEGIN SOLUTION ## \n",
    "\n",
    "## END SOLUTION ## "
   ]
  },
  {
   "cell_type": "markdown",
   "metadata": {},
   "source": [
    "## 2e)\n",
    "How much variance is explained by PC1? "
   ]
  },
  {
   "cell_type": "markdown",
   "metadata": {},
   "source": [
    "#### BEGIN ANSWER #### \n",
    "\n",
    "#### END ANSWER ####"
   ]
  },
  {
   "cell_type": "markdown",
   "metadata": {},
   "source": [
    "## 2f)\n",
    "Read in the metadata for the mouse rnaseq dataset from: data/mm9.rnaseq.metadata.tsv\n",
    "\n",
    "Generate a scatterplot of PC1 vs PC2. Color the scatterplot by the Organ column from \"mm9.rnaseq.metadata.tsv\"."
   ]
  },
  {
   "cell_type": "code",
   "execution_count": null,
   "metadata": {},
   "outputs": [],
   "source": [
    "## BEGIN SOLUTION ## \n",
    "\n",
    "## END SOLUTION ## "
   ]
  },
  {
   "cell_type": "markdown",
   "metadata": {},
   "source": [
    "## 2g)\n",
    "\n",
    "Merge the transposed dataframe in <b>rnaseq_transposed</b> with the metadata dataframe using the common index of Samples. Print the first 10 lines of the merged dataframe"
   ]
  },
  {
   "cell_type": "code",
   "execution_count": null,
   "metadata": {},
   "outputs": [],
   "source": [
    "# Merge dataframes\n",
    "## BEGIN SOLUTION ##\n",
    "\n",
    "## END SOLUTION ##"
   ]
  },
  {
   "cell_type": "markdown",
   "metadata": {},
   "source": [
    "## 2h)\n",
    "Subset the merged dataframe to only samples from the Heart as indicated in the Organ column. "
   ]
  },
  {
   "cell_type": "code",
   "execution_count": null,
   "metadata": {},
   "outputs": [],
   "source": [
    "## BEGIN SOLUTION ##\n",
    "\n",
    "## END SOLUTION ##"
   ]
  },
  {
   "cell_type": "markdown",
   "metadata": {},
   "source": [
    "## 2i)\n",
    "\n",
    "Then, drop the <b>System</b> and <b>Organ</b> columns, sum the expression of the genes across all Heart samples, and sort the genes by the sum of their expression.\n",
    "\n",
    "HINT: In class we summed the columns and asked if they were >0 to create a Boolean variable. If you drop the >0 criteria the sums can be stored in a variable. <br>\n",
    "\n",
    "HINT: You can use the sort function which has the format: x=x.sort_values(ascending=False) "
   ]
  },
  {
   "cell_type": "code",
   "execution_count": null,
   "metadata": {},
   "outputs": [],
   "source": [
    "## BEGIN SOLUTION ##\n",
    "\n",
    "## END SOLUTION ##"
   ]
  },
  {
   "cell_type": "markdown",
   "metadata": {},
   "source": [
    "### Which gene (using the NM_ identifier) has the highest sum of expression in these Heart samples?\n",
    "\n",
    "#### BEGIN ANSWER\n",
    "\n",
    "#### END ANSWER"
   ]
  },
  {
   "cell_type": "markdown",
   "metadata": {},
   "source": [
    "## 2j)\n",
    "\n",
    "Load the browser session with RNA-seq data: http://epigenomegateway.wustl.edu/legacy/?genome=hg19&session=PO8GgRDita\n",
    "\n",
    "Navigate to the gene you found in <b>3i</b>.   "
   ]
  },
  {
   "cell_type": "markdown",
   "metadata": {},
   "source": [
    "What is the name of the gene?\n",
    "\n",
    "#### BEGIN ANSWER\n",
    "\n",
    "\n",
    "#### END ANSWER\n",
    "\n",
    "Which chromsome is it located in?\n",
    "\n",
    "#### BEGIN ANSWER\n",
    "\n",
    "\n",
    "#### END ANSWER\n",
    "\n",
    "Which tissues is it expressed in (as visualized in the browser session)?\n",
    "\n",
    "#### BEGIN ANSWER\n",
    "\n",
    "\n",
    "#### END ANSWER\n",
    "\n",
    "Is it on the + or - strand?\n",
    "\n",
    "#### BEGIN ANSWER\n",
    "\n",
    "\n",
    "#### END ANSWER\n"
   ]
  },
  {
   "cell_type": "markdown",
   "metadata": {},
   "source": [
    "## QUESTION 3"
   ]
  },
  {
   "cell_type": "markdown",
   "metadata": {},
   "source": [
    "Hypoxia-inducible factor-1 (HIF-1) is a transcription factor that is activated in response to hypoxia. HIF-1 has a number of target genes, one of which is erythropoietin (EPO), an important protein for the production of red blood cells. \n",
    "\n",
    "Schodel et al., performed a study to experimentally identify HIF binding sites: [High-resolution genome-wide mapping of HIF-binding sites by ChIP-seq](https://www.ncbi.nlm.nih.gov/pmc/articles/PMC3374576/). \n",
    "\n",
    "In this question, we will investigate the results of their study. \n",
    "\n",
    "The results of the Schodel et al. study includes a table of HIF-1 binding sites. A copy of the table with the genome coordinates updated to the hg19 version of the human genome is stored in the file Midterm/HIF TF binding sites hg19.csv. The genome locations were updated using the [LiftGenome software](https://genome.ucsc.edu/cgi-bin/hgLiftOver)"
   ]
  },
  {
   "cell_type": "markdown",
   "metadata": {},
   "source": [
    "## 3a)\n",
    "\n",
    "Read in the table as a pandas dataframe. Include a header. "
   ]
  },
  {
   "cell_type": "code",
   "execution_count": null,
   "metadata": {},
   "outputs": [],
   "source": [
    "## BEGIN SOLUTION ## \n",
    "\n",
    "## END SOLUTION ## "
   ]
  },
  {
   "cell_type": "markdown",
   "metadata": {},
   "source": [
    "## 3b)\n",
    "\n",
    "To prepare to write out a BED file. Make a new pandas dataframe with just the Chromosome, Start, End columns from Quesiton 4a. "
   ]
  },
  {
   "cell_type": "code",
   "execution_count": null,
   "metadata": {},
   "outputs": [],
   "source": [
    "## BEGIN SOLUTION ## \n",
    "\n",
    "## END SOLUTION ## "
   ]
  },
  {
   "cell_type": "markdown",
   "metadata": {},
   "source": [
    "## 3c)\n",
    "\n",
    "In this question you will write out the bed file from 4b. We have provided a template for the code. Fill in where it says df with the name of your dataframe from 4b. Fill in a filename of your choice where it says filename. "
   ]
  },
  {
   "cell_type": "code",
   "execution_count": null,
   "metadata": {},
   "outputs": [],
   "source": [
    "# df.to_csv(\"data/filename.bed\", sep=\"\\t\", index=False, header=False)\n",
    "# !cat filename.bed"
   ]
  },
  {
   "cell_type": "code",
   "execution_count": null,
   "metadata": {},
   "outputs": [],
   "source": [
    "## BEGIN SOLUTION ## \n",
    "\n",
    "## END SOLUTION ## "
   ]
  },
  {
   "cell_type": "markdown",
   "metadata": {},
   "source": [
    "## 3d)\n",
    "Use bedtools to make a file with fasta sequences for the regions in the human genome in the bed file from 4c. Note that the hg19 fasta file is here: /data/hg19.genome.fa"
   ]
  },
  {
   "cell_type": "code",
   "execution_count": null,
   "metadata": {},
   "outputs": [],
   "source": [
    "## BEGIN SOLUTION ## \n",
    "\n",
    "## END SOLUTION ## "
   ]
  },
  {
   "cell_type": "markdown",
   "metadata": {},
   "source": [
    "## 3e)\n",
    "\n",
    "The consensus DNA sequences (ie. transcription factor motifs) that HIF1 binds to is A/GCGTG. Using just the first region in the fasta file from 4d, identify the position (or positions) of the HIF1 binding motifs. \n",
    "\n",
    "In other words, print out the positions of the 'GCGTG' or 'ACGTG' for the sequence in line 1 (note line 0 has the identifier for the first region). \n",
    "\n",
    "Include a string that clearly identifies what is being printed (ie. a 'GCGTG' or 'ACGTG' transcription factor binding site). \n"
   ]
  },
  {
   "cell_type": "code",
   "execution_count": null,
   "metadata": {},
   "outputs": [],
   "source": [
    "##BEGIN SOLUTION\n",
    "\n",
    "##END SOLUTION"
   ]
  },
  {
   "cell_type": "markdown",
   "metadata": {},
   "source": [
    "## 3f)\n",
    "\n",
    "Now write a loop that prints out the positions of the 'GCGTG' or 'ACGTG' for all of the sequences in the fasta file from Question 4d.\n",
    "\n",
    "For each iteration of the loop include a string with the sequence identifier from the fasta file (it will have the format chr1:10000000-1001000). \n",
    "\n",
    "Like in question 4e include a string that identifies what is being printed (ie. a 'GCGTG' or 'ACGTG' transcription factor binding site). "
   ]
  },
  {
   "cell_type": "code",
   "execution_count": null,
   "metadata": {},
   "outputs": [],
   "source": [
    "##BEGIN SOLUTION\n",
    "\n",
    "##END SOLUTION"
   ]
  },
  {
   "cell_type": "markdown",
   "metadata": {},
   "source": [
    "## 3g)\n",
    "\n",
    "Write out a file with the list of genes from the <b>Nearest gene locus</b> column from the original HIF-1 binding sites table to use as the foreground set for GO term enrichment analysis."
   ]
  },
  {
   "cell_type": "code",
   "execution_count": null,
   "metadata": {},
   "outputs": [],
   "source": [
    "### BEGIN SOLUTION\n",
    "\n",
    "### END SOLUTION"
   ]
  },
  {
   "cell_type": "markdown",
   "metadata": {},
   "source": [
    "## 3h)\n",
    "\n",
    "Use goattools to find the set of enriched GO terms for these genes"
   ]
  },
  {
   "cell_type": "code",
   "execution_count": null,
   "metadata": {},
   "outputs": [],
   "source": [
    "### BEGIN SOLUTION\n",
    "\n",
    "### END SOLUTION"
   ]
  }
 ],
 "metadata": {
  "kernelspec": {
   "display_name": "Python 3",
   "language": "python",
   "name": "python3"
  },
  "language_info": {
   "codemirror_mode": {
    "name": "ipython",
    "version": 3
   },
   "file_extension": ".py",
   "mimetype": "text/x-python",
   "name": "python",
   "nbconvert_exporter": "python",
   "pygments_lexer": "ipython3",
   "version": "3.7.10"
  }
 },
 "nbformat": 4,
 "nbformat_minor": 4
}
