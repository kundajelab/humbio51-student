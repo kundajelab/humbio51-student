{
 "cells": [
  {
   "cell_type": "markdown",
   "metadata": {},
   "source": [
    " ## HUMBIO51 Midterm\n",
    " \n",
    "This is an open note take-home midterm exam. You may refer to class notes and any on-line references you find helpful. \n",
    "\n",
    "You may copy code from your notes or previous assignments as a starting template for the questions. You can also use helper functions that we wrote in class. \n",
    "\n",
    "The exam is subject to the honor code and you may not discuss the assignment with others.\n",
    "\n",
    "You can contact the instructors for clarifications on the questions. \n",
    "\n",
    "Partial credit will be given, so make sure to complete as much of the code as possible. \n",
    "  "
   ]
  },
  {
   "cell_type": "markdown",
   "metadata": {},
   "source": [
    "## QUESTION 1\n",
    "\n",
    "Myc is a protein that is central to regulating a number of cellular processes, including cell division. Myc is a transcription factor and is frequently dysregulated in human cancers (reviewed in [Mullard, A., 2022](https://www.nature.com/articles/d41573-022-00192-1)). Since Myc plays such a central role in the cell, it is a difficult protein to target therapeutically, but researchers in companies and academic labs continue to work on ways to target Myc to help with treatment of cancers. In the human genome there are three members of the Myc protein family Myc, l-Myc and n-Myc. In this question you will use the tools from class to learn about the Myc family of genes and proteins.  \n",
    " "
   ]
  },
  {
   "cell_type": "markdown",
   "metadata": {},
   "source": [
    "## 1a)\n",
    "\n",
    "We have provided a bed file in the data directory called Myc.bed with the exon boundaries for the genes MYC, LMYC and NMYC. The bed file does not indicate which lines correspond to which gene. Using the ([WashU Genome Browser](https://epigenomegateway.wustl.edu/)) determine which lines refer to each gene and  replace the Xs with line numbers in the box below. Give the line numbers using zero-based numbering. \n",
    " "
   ]
  },
  {
   "cell_type": "markdown",
   "metadata": {},
   "source": [
    "#### <b> BEGIN SOLUTION </b> ## \n",
    "\n",
    "<l>MYC:  Lines X-X  </l>  \n",
    "<l>LMYC: Lines X-X  </l>   \n",
    "<l>NMYC: Lines X-X </l> \n",
    "\n",
    "#### <b> END SOLUTION </b> ##"
   ]
  },
  {
   "cell_type": "markdown",
   "metadata": {},
   "source": [
    "## 1b)\n",
    "\n",
    "Using the bed file and the information you worked out in Question 1a obtain the exon sequences for NMYC from the hg19 human reference genome and paste the exon sequences together into a single nucleotide sequence. Have the code print out the nucelotide sequence. \n",
    "\n",
    "You can use the bed file that is given to extract  all the sequences at once and then select the lines that are relevant to make the mRNA sequence or you can write a new bed file.  "
   ]
  },
  {
   "cell_type": "code",
   "execution_count": null,
   "metadata": {},
   "outputs": [],
   "source": [
    "## BEGIN SOLUTION ##\n",
    "## END SOLUTION ##"
   ]
  },
  {
   "cell_type": "markdown",
   "metadata": {},
   "source": [
    "## 1c)\n",
    "The coding sequence for NMyc is positions 38-799 (1-based numbering) in the processed mRNA transcript written in the 5' to 3' direction (ie. the sequence that was obtained in Question 1b). Using this information and the sequence from Question 1b, write out the NMyc protein sequence using the helper functions that we defined in class. "
   ]
  },
  {
   "cell_type": "code",
   "execution_count": null,
   "metadata": {},
   "outputs": [],
   "source": [
    "## BEGIN SOLUTION ##\n",
    "## END SOLUTION ## "
   ]
  },
  {
   "cell_type": "markdown",
   "metadata": {},
   "source": [
    "## 1d)\n",
    "\n",
    "The coding sequence for LMYC is positions 30-1214 (1-based numbering) in the processed mRNA transcript written in the 5' to 3' direction. Obtain the exon sequences for LMYC from the hg19 human reference genome and paste the exon sequences together into a single nucleotide sequence written in the 5' to 3' direction. Using this information and the sequence from Question 1b, write out the LMYC protein sequence using the helper functions that we defined in class. "
   ]
  },
  {
   "cell_type": "code",
   "execution_count": null,
   "metadata": {},
   "outputs": [],
   "source": [
    "## BEGIN SOLUTION ##\n",
    "## END SOLUTION ##"
   ]
  },
  {
   "cell_type": "markdown",
   "metadata": {},
   "source": [
    "## 1e)\n",
    "\n",
    "The coding sequence for MYC is positions 1161:2522 (1-based numbering) in the processed mRNA transcript written in the 5' to 3' direction. Obtain the exon sequences for MYC from the hg19 human reference genome and paste the exon sequences together into a single nucleotide sequence written in the 5' to 3' direction. Using this information and the sequence from Question 1b, write out the MYC protein sequence using the helper functions that we defined in class. \n",
    " \n",
    "Note that although protein translation typically starts at AUG codons there are known examples of non-AUG translation initiation (if you are curious to learn more see [Andreev, D. et al., 2022](https://genomebiology.biomedcentral.com/articles/10.1186/s13059-022-02674-2))  the MYC sequence from the reference genome has a CTG instead of an ATG as a start codon. Make sure that the protein sequence you obtain starts with the amino acid encoded for by CTG. \n",
    "\n"
   ]
  },
  {
   "cell_type": "code",
   "execution_count": null,
   "metadata": {},
   "outputs": [],
   "source": [
    "## BEGIN SOLUTION ##\n",
    "## END SOLUTION ##"
   ]
  },
  {
   "cell_type": "markdown",
   "metadata": {},
   "source": [
    "## 1f) \n",
    "\n",
    "Write out a file with the sequences for the Myc, l-Myc and n-Myc proteins into one file in FASTA format. You will need to write the identifiers for each sequence (eg. you can add a line with >Myc for the Myc sequence). While we haven't written out sequences in this way you can use a similar approach as we have used for writing out BED files. Please include a line to view the file after its saved. "
   ]
  },
  {
   "cell_type": "code",
   "execution_count": null,
   "metadata": {},
   "outputs": [],
   "source": [
    "## BEGIN SOLUTION ##\n",
    "## END SOLUTION ##"
   ]
  },
  {
   "cell_type": "markdown",
   "metadata": {},
   "source": [
    "### 1g)\n",
    "\n",
    "Run a multiple sequence alignment of the MYC, l-MYC and n-MYC proteins. Have the code display the alignmnet. \n",
    "  "
   ]
  },
  {
   "cell_type": "code",
   "execution_count": null,
   "metadata": {},
   "outputs": [],
   "source": [
    "## BEGIN SOLUTION ## \n",
    "## END SOLUTION ## "
   ]
  },
  {
   "cell_type": "markdown",
   "metadata": {},
   "source": [
    "### 1h) \n",
    "Calculate the length of the MYC, n-Myc and l-Myc proteins. Have the code display the lengths making it clear which lenght corresponds to which protein. \n"
   ]
  },
  {
   "cell_type": "code",
   "execution_count": null,
   "metadata": {},
   "outputs": [],
   "source": [
    "## BEGIN SOLUTION ## \n",
    "## END SOLUTION ## "
   ]
  },
  {
   "cell_type": "markdown",
   "metadata": {},
   "source": [
    "### 1i) \n",
    "The multiple sequence alignment output writes out ~60 basepairs per line. Based on the sequence alignment you were working on for designing a molecule that would inhibit all members of the Myc family, which range of amino acids would you choose and why? "
   ]
  },
  {
   "cell_type": "markdown",
   "metadata": {},
   "source": [
    "#### <b>BEGIN SOLUTION</b>## \n",
    "\n",
    "#### <b>END SOLUTION</b> ##"
   ]
  },
  {
   "cell_type": "markdown",
   "metadata": {},
   "source": [
    "## QUESTION 2\n",
    "\n",
    "Small molecules that target GSPT1 for degradation are being investigated as therapies that will also reduce levels of Myc.  GSPT1 is a type of protein known as a translation termination factor. GSPT1 has recently been reported to prevent proper termination of Myc translation in a meeting abstract [Nishida, Y., 2022](https://ashpublications.org/blood/article/140/Supplement%201/483/490013/C-MYC-Targeting-By-Degradation-Novel-Dual-c-Myc) and publicly available company presentation [Monte Rosa Therapeutics, 2022](https://ir.monterosatx.com/static-files/1a2e5cf0-00c0-489f-ad2f-dd5a8c615af9). "
   ]
  },
  {
   "cell_type": "markdown",
   "metadata": {},
   "source": [
    "## 2a) \n",
    "\n",
    "Read in the RNAseq data in the file /data/datasets/RNAseq/rnaseq_normalized.tsv and the metadata in the /data/datasets/RNAseq/rnaseq_metadata.txt file that we have been working with in class so we can investigate GSPT1 and MYC gene expression levels. "
   ]
  },
  {
   "cell_type": "code",
   "execution_count": null,
   "metadata": {},
   "outputs": [],
   "source": [
    "## BEGIN SOLUTION ## \n",
    "## END SOLUTION ##"
   ]
  },
  {
   "cell_type": "markdown",
   "metadata": {},
   "source": [
    "## 2b)\n",
    "\n",
    "Make a dictionary with the gene identifiers (ie. the ENSG... numbers) as keys and the gene names as values for the following: </br>\n",
    "<li> Myc: 'ENSG00000136997.10' </li>\n",
    "<li> NMYC: 'ENSG00000134323.10' </li>\n",
    "<li> LMYC: 'ENSG00000116990.9' </li>\n",
    "<li> GSPT1: 'ENSG00000103342.8' </li>\n"
   ]
  },
  {
   "cell_type": "code",
   "execution_count": null,
   "metadata": {},
   "outputs": [],
   "source": [
    "## BEGIN SOLUTION ## \n",
    "## END SOLUTION ##"
   ]
  },
  {
   "cell_type": "markdown",
   "metadata": {},
   "source": [
    "## 2c)\n",
    "\n",
    "In the code box below we have given you a list with the gene identifiers for MYC, LMYC and NMYC. \n",
    "\n",
    "Write a loop that will generate scatter plots of the expression of each Myc gene vs. GSPT1 expression across cell types. Make sure each plot has a correct axis label with the <b>gene name</b> that is being expressed. \n",
    "\n",
    "Color the points by System. \n",
    "\n",
    "To get the plots to print out when they are in a loop you will need to put the qplot command within a print statement. \n"
   ]
  },
  {
   "cell_type": "code",
   "execution_count": null,
   "metadata": {},
   "outputs": [],
   "source": [
    "MYC_geneids=['ENSG00000136997.10','ENSG00000134323.10','ENSG00000116990.9']\n",
    "\n",
    "## BEGIN SOLUTION ##\n",
    "## END SOLUTION ##"
   ]
  },
  {
   "cell_type": "markdown",
   "metadata": {},
   "source": [
    "## 2d) \n",
    "Briefly comment on what you observe from the plots above. Do you see any strong correlations? Do you see anything you might follow-up on? Given that GSPT1 regulates translation of Myc, why might you not expect to see a correlation? \n"
   ]
  },
  {
   "cell_type": "markdown",
   "metadata": {},
   "source": [
    "#### <b>BEGIN SOLUTION</b>## \n",
    "\n",
    "#### <b>END SOLUTION</b> ##"
   ]
  },
  {
   "cell_type": "markdown",
   "metadata": {},
   "source": [
    "## 2e) \n",
    "We have provided the human GSPT1 sequence in FASTA format in a file data/GSPT1.fa. Read in the sequence using the SeqIO package from BioPython"
   ]
  },
  {
   "cell_type": "code",
   "execution_count": null,
   "metadata": {},
   "outputs": [],
   "source": [
    "## BEGIN SOLUTION ##\n",
    "## END SOLUTION ##"
   ]
  },
  {
   "cell_type": "markdown",
   "metadata": {},
   "source": [
    "## 2f) \n",
    "\n",
    "Studies of protein structures have shown that small molecules that can promote the degradation of GSPT1 (and reduction in levels of Myc) interact with amino acids in positions 570 to 577 in the protein sequence (1-based numbering) ([Matyskiela, M., 2016](https://www.nature.com/articles/nature18611)) . \n",
    "\n",
    "For this question imagine you are preparing for an experiment (actual or computational!) in which you want to systematically mutate each amino acid from position 570 to 577 to an alanine. \n",
    "\n",
    "Write a for loop that 1) systematically mutates each amino acid from 570-577 to an alanine and 2) writes the mutated sequence into a separate file \n",
    "\n",
    "In other words, the first time through the loop the code should output a file that has the original sequence, but with amino acid 570 (1-based) mutated to an alanine. The second time through the loop the output file should have the original sequence but with amino acid 571 (1-based) mutated to an alanine. \n",
    "\n",
    "Make sure each output file has a name that makes it clear which amino acid was mutated. \n",
    "\n",
    "Each file should also be in FASTA format and have the amino acid that is being mutated at the top. For example the first file could have a header with something like: >570 \n"
   ]
  },
  {
   "cell_type": "code",
   "execution_count": null,
   "metadata": {},
   "outputs": [],
   "source": [
    "## BEGIN SOLUTION ##\n",
    "## END SOLUTION ##"
   ]
  },
  {
   "cell_type": "markdown",
   "metadata": {},
   "source": [
    "## 2g) \n",
    "\n",
    "To check the output from 2e, read in the FASTA files with the mutation at position 570 and the mutation at position 577 and run a pairwise alignment. \n",
    "\n",
    "So you can more easily see the amino acid numbers for each line, We have modified the sequence alignment helper module to include a function called format_alignment_linebreak_withnumbering. \n",
    "\n",
    "Use format_alignment_linebreak_withnumbering instead of format_alignment_linebreak. The output should include the range of base pairs in each row. \n",
    "\n",
    "Confirm that the files you output in 2e contain the correct mutations. "
   ]
  },
  {
   "cell_type": "code",
   "execution_count": null,
   "metadata": {},
   "outputs": [],
   "source": [
    "## BEGIN SOLUTION ##\n",
    "## END SOLUTION ##"
   ]
  },
  {
   "cell_type": "markdown",
   "metadata": {},
   "source": [
    "## QUESTION 3 \n",
    "\n",
    "We would like to learn what genes are most highly expressed in certain mouse organs. To do this, we will use RNAseq data from ENCODE\n",
    "\n",
    "We have pre-processed the data into a gene expression matrix (data/mm9.rnaseq.fpkm.tsv). The sample names are in the columns and the genes (labeled with their NCBI identifiers) are in the rows. There is also a corresponding metadata file (data/mm9.rnaseq.metadata.tsv). \n",
    "\n",
    "Note the gene expression data is in the units of FPKM instead of TPMs."
   ]
  },
  {
   "cell_type": "markdown",
   "metadata": {},
   "source": [
    "## 3a)\n",
    "Read in the RNA-Seq datatable \"data/mm9.rnaseq.fpkm.tsv\" into a dataframe using the pandas package. Print the first 10 lines of the dataframe."
   ]
  },
  {
   "cell_type": "code",
   "execution_count": null,
   "metadata": {},
   "outputs": [],
   "source": [
    "# use the variable rnaseq to store the pandas dataframe\n",
    "## BEGIN SOLUTION ##\n",
    "## END SOLUTION ## "
   ]
  },
  {
   "cell_type": "markdown",
   "metadata": {},
   "source": [
    "## 3b)\n",
    "\n",
    "Which gene is expressed most highly in the mESC-zy27 cell type? You can select the column from the data frame and then use the sort function.  \n",
    "\n",
    "The sort function has the format: x.sort_values(ascending=False)"
   ]
  },
  {
   "cell_type": "code",
   "execution_count": null,
   "metadata": {},
   "outputs": [],
   "source": [
    "## BEGIN SOLUTION ##\n",
    "## END SOLUTION ## "
   ]
  },
  {
   "cell_type": "markdown",
   "metadata": {},
   "source": [
    "## 3c)\n",
    "Transpose the rnaseq dataframe and save the transposed dataframe in a variable called <b>rnaseq_transposed</b>. Use the .head command to view the data. "
   ]
  },
  {
   "cell_type": "code",
   "execution_count": null,
   "metadata": {},
   "outputs": [],
   "source": [
    "#Transpose dataframe\n",
    "## BEGIN SOLUTION\n",
    "## END SOLUTION"
   ]
  },
  {
   "cell_type": "markdown",
   "metadata": {},
   "source": [
    "## 3d)\n",
    "Run the code box provided below to scale the data in the rnaseq_transposed matrix. Once the code box has completed then use the scikit_PCAandkmeans helper function to run PCA and kmeans clustering using 5 clusters.  "
   ]
  },
  {
   "cell_type": "code",
   "execution_count": null,
   "metadata": {},
   "outputs": [],
   "source": [
    "import warnings\n",
    "warnings.filterwarnings('ignore')\n",
    "from sklearn import preprocessing\n",
    "\n",
    "import kmeans_helpers\n",
    "from kmeans_helpers import * \n",
    "\n",
    "#Note: we will scale our RNA-seq data to have a mean of 0 and a variance of 1. By making sure all sample values \n",
    "# are on the same scale, our PCA plot will provide a more informative visualization. \n",
    "rnaseq_transposed.index.name='Sample'\n",
    "rnaseq_transposed_scaled = preprocessing.scale(rnaseq_transposed, axis=1)\n",
    "#use the rnaseq_transposed_scaled variable as input for your PCA \n",
    "print(rnaseq_transposed_scaled[1:10])"
   ]
  },
  {
   "cell_type": "code",
   "execution_count": null,
   "metadata": {},
   "outputs": [],
   "source": [
    "## BEGIN SOLUTION ##\n",
    "## END SOLUTION ##"
   ]
  },
  {
   "cell_type": "markdown",
   "metadata": {},
   "source": [
    "## 3e)\n",
    "\n",
    "We have written a new helper function that will perform PCA and kmeans on the data and output a silhouette_score, but will not plot the data. This helper function also allows you to vary the number of principle components used for the PCA. \n",
    "\n",
    "The helper requires three inputs: (data,n_clusters,n_components) \n",
    "\n",
    "In the code box below use the new scikit_PCAandkmeans_silhouette helper to see how the silouette score varies with the number of clusters ranging from 2 to 6 and number of components ranging from 2 to 6.  "
   ]
  },
  {
   "cell_type": "code",
   "execution_count": null,
   "metadata": {},
   "outputs": [],
   "source": [
    "##BEGIN SOLUTION       \n",
    "##END SOLUTION"
   ]
  }
 ],
 "metadata": {
  "kernelspec": {
   "display_name": "Python 3",
   "language": "python",
   "name": "python3"
  },
  "language_info": {
   "codemirror_mode": {
    "name": "ipython",
    "version": 3
   },
   "file_extension": ".py",
   "mimetype": "text/x-python",
   "name": "python",
   "nbconvert_exporter": "python",
   "pygments_lexer": "ipython3",
   "version": "3.7.10"
  }
 },
 "nbformat": 4,
 "nbformat_minor": 4
}
