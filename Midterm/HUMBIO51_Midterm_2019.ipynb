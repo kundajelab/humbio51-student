{
 "cells": [
  {
   "cell_type": "markdown",
   "metadata": {},
   "source": [
    " ## HUMBIO51 Midterm\n",
    " \n",
    "This is an open note take-home midterm exam. You may refer to class notes and any on-line references you find helpful. \n",
    "\n",
    "You may copy code from your notes or previous assignments as a starting template for the questions. You can also use helper functions that we wrote in class. \n",
    "\n",
    "The exam is subject to the honor code and you may not discuss the assignment with others.\n",
    "\n",
    "You can contact the instructors for clarifications on the questions. \n",
    "\n",
    "Partial credit will be given, so make sure to complete as much of the code as possible. \n",
    "  "
   ]
  },
  {
   "cell_type": "markdown",
   "metadata": {},
   "source": [
    "### QUESTION 1a \n",
    "\n",
    "As we learned in class, DNA usually codes for RNA which gets translated into protein. However, there are some viruses, called retroviruses, that can make DNA from RNA. Human immunodeficiency virus (HIV) is an example of a retrovirus. \n",
    "\n",
    "This question will look at the HIV sequence from NCBI. \n",
    "\n",
    "First define a helper function to write a DNA sequence from an RNA sequence"
   ]
  },
  {
   "cell_type": "code",
   "execution_count": null,
   "metadata": {},
   "outputs": [],
   "source": [
    "## BEGIN SOLUTION ##\n",
    "## END SOLUTION ##"
   ]
  },
  {
   "cell_type": "markdown",
   "metadata": {},
   "source": [
    "### QUESTION 1b\n",
    "\n",
    "The HIV1 RNA sequence has been saved in the file: data/NC_001802_HIV1_RNA.txt  \n",
    "\n",
    "Read the FASTA RNA sequence for HIV1 into Python. \n",
    "\n",
    "Use the helper function defined in question 1a to define a variable in Python with the HIV1 DNA sequence.\n"
   ]
  },
  {
   "cell_type": "code",
   "execution_count": null,
   "metadata": {},
   "outputs": [],
   "source": [
    "## BEGIN SOLUTION ##\n",
    "## END SOLUTION ##"
   ]
  },
  {
   "cell_type": "markdown",
   "metadata": {},
   "source": [
    "### QUESTION 1c\n",
    "\n",
    "Print the first 70 characters of the variable for the HIV1 DNA sequence \n",
    "Remember to use zero-based numbering "
   ]
  },
  {
   "cell_type": "code",
   "execution_count": null,
   "metadata": {},
   "outputs": [],
   "source": [
    "## BEGIN SOLUTION ##\n",
    "## END SOLUTION ##"
   ]
  },
  {
   "cell_type": "markdown",
   "metadata": {},
   "source": [
    "### QUESTION 1d\n",
    "\n",
    "How many open reading frames (bases between the start and stop codon pairs) are there in the HIV1_DNA sequence that have a length of > 300 base pairs? \n",
    "\n",
    "Write a block of code that prints out ONLY the following string: \"The number of open reading frames with >300 base pairs is: \" followed by the number of open reading frames >300 base pairs.  "
   ]
  },
  {
   "cell_type": "code",
   "execution_count": null,
   "metadata": {},
   "outputs": [],
   "source": [
    "## BEGIN SOLUTION ##\n",
    "## END SOLUTION ##"
   ]
  },
  {
   "cell_type": "markdown",
   "metadata": {},
   "source": [
    "### QUESTION 1e\n",
    "\n",
    "The gene in HIV-1 RNA that gets translated into the gag protein which is required for virus assembly is from position 336 to 1838 (1-based numbering) in the RNA sequence.\n",
    "\n",
    "Write out the protein sequence for the gag protein.\n"
   ]
  },
  {
   "cell_type": "code",
   "execution_count": null,
   "metadata": {},
   "outputs": [],
   "source": [
    "## BEGIN SOLUTION ##\n",
    "## END SOLUTION ##"
   ]
  },
  {
   "cell_type": "markdown",
   "metadata": {},
   "source": [
    "### QUESTION 1f\n",
    "\n",
    "The A431V and I437V mutations in the gag protein can affect resistance to protease inhibitors which are used to treat HIV (see more [here](https://www.ncbi.nlm.nih.gov/pubmed/19300491)). Make the gag protein sequence with both mutations. \n",
    "\n",
    "Write out the gag protein sequence with BOTH the A431V and I437V mutations to a file.  "
   ]
  },
  {
   "cell_type": "code",
   "execution_count": null,
   "metadata": {},
   "outputs": [],
   "source": [
    "## BEGIN SOLUTION ##\n",
    "## END SOLUTION ##"
   ]
  },
  {
   "cell_type": "markdown",
   "metadata": {},
   "source": [
    "### QUESTION 1g\n",
    "\n",
    "Double stranded DNA that is made from RNA in retroviruses can integrate into genomes and can cause recurrent infections. \n",
    "\n",
    "Researchers have identified position 33059398 on Chromosome 7 in the hg19 version of the human genome as a common location where the HIV viral sequence will integrate into the human genome (see link [here](https://www.ncbi.nlm.nih.gov/pmc/articles/PMC4836361/) for more information.) \n",
    "\n",
    "Look up the site in the [WashU Epigenome Browser ](http://epigenomegateway.wustl.edu/legacy/). "
   ]
  },
  {
   "cell_type": "markdown",
   "metadata": {},
   "source": [
    "What gene is 33059398 on Chromosome 7 in? "
   ]
  },
  {
   "cell_type": "markdown",
   "metadata": {},
   "source": [
    "#### BEGIN ANSWER #### \n",
    "#### END ANSWER ####  "
   ]
  },
  {
   "cell_type": "markdown",
   "metadata": {},
   "source": [
    "Is insertion of the viral genome at 33059398 on Chromosome 7 in the human genome likely to affect translation of the gene from the question above? Why or why not?"
   ]
  },
  {
   "cell_type": "markdown",
   "metadata": {},
   "source": [
    "#### BEGIN ANSWER #### \n",
    "#### END ANSWER ####  "
   ]
  },
  {
   "cell_type": "markdown",
   "metadata": {},
   "source": [
    "## QUESTION 2\n",
    "\n",
    "We are interested in examining the evolutionary behavior and expression patterns of two genes, GENE1 and GENE2. We have found the coordinates of both genes in the hg19 (human) and mm9 (mouse) reference assemblies. These coordinates are provided in the following bed files: \n",
    "\n",
    "* data/GENE1.hg19.exons.bed \n",
    "* data/GENE2.hg19.exons.bed \n",
    "* data/GENE1.mm9.exons.bed \n",
    "* data/GENE2.mm9.exons.bed \n",
    "\n"
   ]
  },
  {
   "cell_type": "markdown",
   "metadata": {},
   "source": [
    "### 2a) \n",
    "Write a block of code to view the contents of one or more of the BED files"
   ]
  },
  {
   "cell_type": "code",
   "execution_count": null,
   "metadata": {},
   "outputs": [],
   "source": [
    "## BEGIN SOLUTION ##\n",
    "## END SOLUTION ##"
   ]
  },
  {
   "cell_type": "markdown",
   "metadata": {},
   "source": [
    "### 2b) \n",
    "Extract the fasta DNA sequence for each human gene. Store the fasta sequences in the files: \n",
    "\n",
    "* data/GENE1.hg19.exons.fa\n",
    "* data/GENE2.hg19.exons.fa\n",
    "* data/GENE1.mm9.exons.fa  --> We have already generated this file for you. \n",
    "* data/GENE2.mm9.exons.fa --> We have already generated this file for you. \n",
    "\n",
    "Hint: You can find the reference hg19 assembly in /data/hg19.genome.fa"
   ]
  },
  {
   "cell_type": "code",
   "execution_count": null,
   "metadata": {},
   "outputs": [],
   "source": [
    "## BEGIN SOLUTION ## \n",
    "## END SOLUTION ## "
   ]
  },
  {
   "cell_type": "markdown",
   "metadata": {},
   "source": [
    "## 2c) \n",
    "Write a function to convert a fasta format DNA file to a file with a single string of DNA bases. \n",
    "For example: \n",
    "```    \n",
    ">seq1\n",
    "AAAAA\n",
    ">seq2\n",
    "TTTT\n",
    "```\n",
    "would be converted to: \n",
    "```\n",
    "AAAATTTT\n",
    "```\n",
    "Run the function on the four fasta files from question 2b "
   ]
  },
  {
   "cell_type": "code",
   "execution_count": null,
   "metadata": {},
   "outputs": [],
   "source": [
    "def fasta_to_string(input_fasta_file,output_string_file): \n",
    "## BEGIN SOLUTION  \n",
    "## END SOLUTION "
   ]
  },
  {
   "cell_type": "code",
   "execution_count": null,
   "metadata": {},
   "outputs": [],
   "source": [
    "#Check one of the files to ensure your fasta-to-string conversion is working properly"
   ]
  },
  {
   "cell_type": "markdown",
   "metadata": {},
   "source": [
    "### 2d) \n",
    "Use the helper functions we defined in class to extract the RNA sequence for each of the 4 genes. \n",
    "Hint: We have added a new function called \"reverse_complement\" in the central_dogma_helpers help file. This function computes the reverse complement sequence. An example use case is below: \n"
   ]
  },
  {
   "cell_type": "code",
   "execution_count": null,
   "metadata": {},
   "outputs": [],
   "source": [
    "import sys \n",
    "sys.path.append(\"../helpers/\")\n",
    "\n",
    "import central_dogma_helpers\n",
    "from central_dogma_helpers import * \n",
    "\n",
    "reverse_complement(\"ACT\")"
   ]
  },
  {
   "cell_type": "code",
   "execution_count": null,
   "metadata": {},
   "outputs": [],
   "source": [
    "#Uses the variables gene1_hg19_rna, gene2_hg19_rna, gene1_mm9_rna, gene2_mm9_rna to store the RNA sequences. \n",
    "## BEGIN SOLUTION\n",
    "## END SOLUTION "
   ]
  },
  {
   "cell_type": "markdown",
   "metadata": {},
   "source": [
    "## 2e) \n",
    "Use the helper functions we defined in class to extract the 1-letter amino acid sequence for each gene. \n"
   ]
  },
  {
   "cell_type": "code",
   "execution_count": null,
   "metadata": {},
   "outputs": [],
   "source": [
    "#Uses the variables gene1_hg19_aa, gene2_hg19_aa, gene1_mm9_aa, gene2_mm9_aa to store the 1-letter amino acid sequences. \n",
    "\n",
    "## BEGIN SOLUTION ## \n",
    "## END SOLUTION ##\n",
    "\n",
    "print(\"gene1_hg19_aa:\")\n",
    "print(gene1_hg19_aa)\n",
    "\n",
    "print(\"gene1_mm9_aa:\")\n",
    "print(gene1_mm9_aa)\n",
    "\n",
    "print(\"gene2_hg19_aa\")\n",
    "print(gene2_hg19_aa)\n",
    "\n",
    "print(\"gene2_mm9_aa\")\n",
    "print(gene2_mm9_aa)"
   ]
  },
  {
   "cell_type": "markdown",
   "metadata": {},
   "source": [
    "## 2f) \n",
    "\n",
    "Use the pairwise2.align module to perform pairwise-sequence alignment between  gene1_hg19_aa and gene1_mm9_aa "
   ]
  },
  {
   "cell_type": "code",
   "execution_count": null,
   "metadata": {},
   "outputs": [],
   "source": [
    "import sequence_alignment_helpers\n",
    "from sequence_alignment_helpers import *\n",
    "from Bio import pairwise2 "
   ]
  },
  {
   "cell_type": "code",
   "execution_count": null,
   "metadata": {},
   "outputs": [],
   "source": [
    "## BEGIN SOLUTION ## \n",
    "## END SOLUTION ## "
   ]
  },
  {
   "cell_type": "markdown",
   "metadata": {},
   "source": [
    "## 2g) \n",
    "Use the pairwise2.align module to perform pairwise-sequence alignment between gene2_hg19_aa and gene2_mm9_aa "
   ]
  },
  {
   "cell_type": "code",
   "execution_count": null,
   "metadata": {},
   "outputs": [],
   "source": [
    "## BEGIN SOLUTION ## \n",
    "## END SOLUTION ## "
   ]
  },
  {
   "cell_type": "markdown",
   "metadata": {},
   "source": [
    "## 2h) \n",
    "Which gene is more conserved between humans and mice, GENE1 or GENE2? How can you tell? \n",
    "\n"
   ]
  },
  {
   "cell_type": "markdown",
   "metadata": {},
   "source": [
    "#### BEGIN ANSWER #### \n",
    "#### END ANSWER #### "
   ]
  },
  {
   "cell_type": "markdown",
   "metadata": {},
   "source": [
    "## QUESTION 3 \n",
    "\n",
    "We would like to learn what organ system GENE1 and GENE2 are most highly expressed in within the mouse. To do this, we will use RNAseq data from ENCODE (http://chromosome.sdsc.edu/mouse/download.html). \n",
    "\n",
    "We have pre-processed the data into a gene expression matrix (data/mm9.rnaseq.fpkm.tsv). The sample names are in the columns and the genes (labeled with their NCBI identifiers) are in the rows. There is also a corresponding metadata file (data/mm9.rnaseq.metadata.tsv). You will use these files for question 2. \n",
    "\n",
    "Note the gene expression data is in the units of FPKM instead of TPMs. \n"
   ]
  },
  {
   "cell_type": "markdown",
   "metadata": {},
   "source": [
    "### 3a) ###\n",
    "\n",
    "Use the WashU browser to determine the identity of GENE1 and GENE2. Note: please report both the common gene name and the NM_ identifier value from the mm9 genome. \n",
    "\n"
   ]
  },
  {
   "cell_type": "markdown",
   "metadata": {},
   "source": [
    "#### BEGIN ANSWER #### \n",
    "#### END ANSWER ####"
   ]
  },
  {
   "cell_type": "markdown",
   "metadata": {},
   "source": [
    "### 3b) ###\n",
    "Read in the RNA-Seq datatable \"data/mm9.rnaseq.fpkm.tsv\" into a dataframe using the pandas package. Use the head command to print the first 10 lines of the dataframe."
   ]
  },
  {
   "cell_type": "code",
   "execution_count": null,
   "metadata": {},
   "outputs": [],
   "source": [
    "# use the variable rnaseq to store the pandas dataframe\n",
    "## BEGIN SOLUTION ## \n",
    "## END SOLUTION ## "
   ]
  },
  {
   "cell_type": "markdown",
   "metadata": {},
   "source": [
    "### 3c) ###\n",
    "\n",
    "Select the row of 'data/mm9.rnaseq.fpkm.tsv' that has the RNA-seq data for GENE1 and select the row that has RNA-seq data for GENE2. Store these values in the variables \"gene1_rnaseq\" and \"gene2_rnaseq\". \n"
   ]
  },
  {
   "cell_type": "code",
   "execution_count": null,
   "metadata": {},
   "outputs": [],
   "source": [
    "## BEGIN SOLUTION ## \n",
    "## END SOLUTION ## "
   ]
  },
  {
   "cell_type": "markdown",
   "metadata": {},
   "source": [
    "### 3d) ### \n",
    "Generate histograms of GENE1 and GENE2 expression across all samples in the RNA-seq dataset. You will need to experiment with different values of the \"binwidth\" parameter to find one that clearly displays the range of values in the data set.  "
   ]
  },
  {
   "cell_type": "code",
   "execution_count": null,
   "metadata": {},
   "outputs": [],
   "source": [
    "## GENE1\n",
    "## BEGIN SOLUTION ## \n",
    "## END SOLUTION ## "
   ]
  },
  {
   "cell_type": "code",
   "execution_count": null,
   "metadata": {},
   "outputs": [],
   "source": [
    "## GENE2\n",
    "## BEGIN SOLUTION ## \n",
    "## END SOLUTION ## \n"
   ]
  },
  {
   "cell_type": "markdown",
   "metadata": {},
   "source": [
    "### 3e) ### \n",
    "We observe some outliers in the histograms of expression for GENE1 and GENE2. Which sample has the highest expression of GENE1? Which sample has the highest expression of GENE2?\n",
    "\n",
    "HINT: You can use the sort function which has the format: x=x.sort_values(ascending=False)"
   ]
  },
  {
   "cell_type": "code",
   "execution_count": null,
   "metadata": {},
   "outputs": [],
   "source": [
    "#Store the sample name with the highest expression of GENE1 in the variable sample1.\n",
    "#Store the sample name with the higehst expression of GENE2 in the variable sample2. \n",
    "## BEGIN SOLUTION ## \n",
    "## END SOLUTION ## \n"
   ]
  },
  {
   "cell_type": "markdown",
   "metadata": {},
   "source": [
    "### 3f) ###\n",
    "Perform principle component analysis on the <b>samples</b> in the rnaseq dataframe. Decompose the data into 10 principle components. Remember that the PCA is run on the rows of the input matrix. "
   ]
  },
  {
   "cell_type": "code",
   "execution_count": null,
   "metadata": {},
   "outputs": [],
   "source": [
    "from sklearn.decomposition import PCA as sklearnPCA\n",
    "from sklearn import preprocessing\n",
    "\n",
    "#Note: we will scale our RNA-seq data to have a mean of 0 and a variance of 1. By making sure all sample values \n",
    "# are on the same scale, our PCA plot will provide a more informative visualization. \n",
    "rnaseq_scaled = preprocessing.scale(rnaseq)\n",
    "#use the rnaseq_scaled variable as input for your PCA \n",
    "\n",
    "#store your PCA analysis output in a variable called PCA_results \n",
    "\n",
    "## BEGIN SOLUTION ##\n",
    "## END SOLUTION ## "
   ]
  },
  {
   "cell_type": "markdown",
   "metadata": {},
   "source": [
    "### 3g) ###"
   ]
  },
  {
   "cell_type": "markdown",
   "metadata": {},
   "source": [
    "Generate a scree plot of the variance explained by the first 10 principal components. "
   ]
  },
  {
   "cell_type": "code",
   "execution_count": null,
   "metadata": {},
   "outputs": [],
   "source": [
    "## BEGIN SOLUTION ## \n",
    "## END SOLUTION ## "
   ]
  },
  {
   "cell_type": "markdown",
   "metadata": {},
   "source": [
    "### 3h) ###"
   ]
  },
  {
   "cell_type": "markdown",
   "metadata": {},
   "source": [
    "How much variance is explained by PC1? "
   ]
  },
  {
   "cell_type": "markdown",
   "metadata": {},
   "source": [
    "#### BEGIN ANSWER #### \n",
    "#### END ANSWER ####"
   ]
  },
  {
   "cell_type": "markdown",
   "metadata": {},
   "source": [
    "### 3i) ### \n",
    "Read in the metadata for the mouse rnaseq dataset from: data/mm9.rnaseq.metadata.tsv\n",
    "Generate a scatterplot of PC1 vs PC2. Color the scatterplot by the System column from \"mm9.rnaseq.metadata.tsv\"."
   ]
  },
  {
   "cell_type": "code",
   "execution_count": null,
   "metadata": {},
   "outputs": [],
   "source": [
    "## BEGIN SOLUTION ## \n",
    "## END SOLUTION ## "
   ]
  },
  {
   "cell_type": "markdown",
   "metadata": {},
   "source": [
    "### 3j) ### \n",
    "We will overlay sample1 and sample2 on the PCA to determine which organ systems these samples cluster closest too. "
   ]
  },
  {
   "cell_type": "code",
   "execution_count": null,
   "metadata": {},
   "outputs": [],
   "source": [
    "sample1_row_index=metadata.index.get_loc(sample1)\n",
    "sample1_pcs=pca_results[sample1_row_index,0:2]"
   ]
  },
  {
   "cell_type": "code",
   "execution_count": null,
   "metadata": {},
   "outputs": [],
   "source": [
    "sample2_row_index=metadata.index.get_loc(sample2)\n",
    "sample2_pcs=pca_results[sample2_row_index,0:2]"
   ]
  },
  {
   "cell_type": "markdown",
   "metadata": {},
   "source": [
    "Based on the values in sample1_pcs and sample2_pcs, which organ systems do these samples cluster with? "
   ]
  },
  {
   "cell_type": "markdown",
   "metadata": {},
   "source": [
    "### BEGIN ANSWER ### \n",
    "\n",
    "### END ANSWER ### "
   ]
  }
 ],
 "metadata": {
  "kernelspec": {
   "display_name": "Python 3",
   "language": "python",
   "name": "python3"
  },
  "language_info": {
   "codemirror_mode": {
    "name": "ipython",
    "version": 3
   },
   "file_extension": ".py",
   "mimetype": "text/x-python",
   "name": "python",
   "nbconvert_exporter": "python",
   "pygments_lexer": "ipython3",
   "version": "3.7.3"
  }
 },
 "nbformat": 4,
 "nbformat_minor": 4
}
