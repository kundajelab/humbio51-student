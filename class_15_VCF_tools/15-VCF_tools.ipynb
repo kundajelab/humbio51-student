{
 "cells": [
  {
   "cell_type": "markdown",
   "metadata": {},
   "source": [
    "## Big Data for Biologists: Decoding Genomic Function - Class 15\n",
    "\n",
    "\n",
    "##  Learning Objectives\n",
    "***Students should be able to***\n",
    " <ol>   \n",
    " <li><a href=#geneticVariation> Identify  different types of genetic variation that can occur across individuals of a species</a></li>\n",
    " <li><a href=#geneticVariation> Describe the goals of the 1000 Genomes Project </a></li>\n",
    " <li><a href=#vcf>Understand how to use data in the variant call format (VCF) file format.</a></li>\n",
    " <li><a href=#tabix>Use the tabix tool to query a VCF file.  </a></li>\n"
   ]
  },
  {
   "cell_type": "markdown",
   "metadata": {},
   "source": [
    "In tutorial 4, we learned how to use the [Burrows-Wheeler aligner](http://bio-bwa.sourceforge.net/) to map FASTQ reads to a reference genome. The resulting alignment can serve as a starting point for identifying genetic variants in the genomic sequence data. We have followed the workflow below to identify variants in a yeast dataset: \n",
    "![pipeline](../Images/pipeline.png)"
   ]
  },
  {
   "cell_type": "markdown",
   "metadata": {},
   "source": [
    "## Working with  Variant Call Format (VCF) files <a name='vcf'>"
   ]
  },
  {
   "cell_type": "markdown",
   "metadata": {},
   "source": [
    "A whole genome sequencing experiment was performed on some yeast cells. The sequenceing was paired-end with output FASTQ files **y1.fastq** and **y2.fastq**. These were aligned to the yeast reference genome, stored in file **yeast.fasta**, and variants were called in accordance with the pipeline detailed above. The resulting variant file, in VCF format, is **yeast_vars.vcf.gz**"
   ]
  },
  {
   "cell_type": "code",
   "execution_count": null,
   "metadata": {},
   "outputs": [],
   "source": [
    "!zcat yeast_vars.vcf.gz | head -n 50"
   ]
  },
  {
   "cell_type": "markdown",
   "metadata": {},
   "source": [
    "The columns in the vcf file can be interpreted as described [here](https://faculty.washington.edu/browning/beagle/intro-to-vcf.html)"
   ]
  },
  {
   "cell_type": "markdown",
   "metadata": {},
   "source": [
    "We use the **tabix_index** command to generate an index of the vcf file for rapid querying. "
   ]
  },
  {
   "cell_type": "code",
   "execution_count": null,
   "metadata": {},
   "outputs": [],
   "source": [
    "import pysam\n",
    "pysam.tabix_index(\"yeast_vars.vcf.gz\", '-f',preset=\"vcf\")"
   ]
  },
  {
   "cell_type": "markdown",
   "metadata": {},
   "source": [
    "Additionally you may find it helpful to prepare graphs and statistics to assist you in filtering your variants:\n",
    "\n"
   ]
  },
  {
   "cell_type": "code",
   "execution_count": null,
   "metadata": {},
   "outputs": [],
   "source": [
    "!bcftools stats -F yeast.fasta -s - yeast_vars.vcf.gz > yeast_vars.vcf.stats"
   ]
  },
  {
   "cell_type": "markdown",
   "metadata": {},
   "source": [
    "print the statistics: "
   ]
  },
  {
   "cell_type": "code",
   "execution_count": null,
   "metadata": {},
   "outputs": [],
   "source": [
    "!cat yeast_vars.vcf.stats"
   ]
  },
  {
   "cell_type": "markdown",
   "metadata": {},
   "source": [
    "A number of summary plots are generated. Of most interest to us is the tally of base substitutions and insertions/deletions (indels) observed in the data. "
   ]
  },
  {
   "cell_type": "markdown",
   "metadata": {},
   "source": [
    "Substitutions:\n",
    "![substitutions tally](../Images/substitutions.0.png)\n",
    "Indels: \n",
    "![indels tally](../Images/indels.0.png)"
   ]
  },
  {
   "cell_type": "markdown",
   "metadata": {},
   "source": [
    "Not all variants are high quality. We want to apply filters to the vcf file to keep only variants with high quality scores (i.e. QUAL > 10). We can do this by passing filter arguments to **bcftools**. "
   ]
  },
  {
   "cell_type": "code",
   "execution_count": null,
   "metadata": {},
   "outputs": [],
   "source": [
    "!bcftools filter -O z -o yeast_vars.filtered.vcf.gz -s LOWQUAL -i'%QUAL>10' yeast_vars.vcf.gz "
   ]
  },
  {
   "cell_type": "markdown",
   "metadata": {},
   "source": [
    "## tabix <a name='tabix'>"
   ]
  },
  {
   "cell_type": "markdown",
   "metadata": {},
   "source": [
    "The tabix tool can be used to index into a vcf file and select variants that fall within a region of interest. For example: "
   ]
  },
  {
   "cell_type": "code",
   "execution_count": null,
   "metadata": {},
   "outputs": [],
   "source": [
    "#load the filtered vcf file into tabix \n",
    "import tabix\n",
    "tb=tabix.open(\"yeast_vars.vcf.gz\")"
   ]
  },
  {
   "cell_type": "code",
   "execution_count": null,
   "metadata": {},
   "outputs": [],
   "source": [
    "# A query returns an iterator over the results.\n",
    "records = tb.query(\"II\",1,325188)\n",
    "for record in records: \n",
    "    print(record)"
   ]
  },
  {
   "cell_type": "markdown",
   "metadata": {},
   "source": [
    "A file must first be indexed with pytabix before it can be queried. "
   ]
  },
  {
   "cell_type": "code",
   "execution_count": null,
   "metadata": {},
   "outputs": [],
   "source": []
  }
 ],
 "metadata": {
  "anaconda-cloud": {},
  "kernelspec": {
   "display_name": "Python 3",
   "language": "python",
   "name": "python3"
  },
  "language_info": {
   "codemirror_mode": {
    "name": "ipython",
    "version": 3
   },
   "file_extension": ".py",
   "mimetype": "text/x-python",
   "name": "python",
   "nbconvert_exporter": "python",
   "pygments_lexer": "ipython3",
   "version": "3.7.10"
  }
 },
 "nbformat": 4,
 "nbformat_minor": 4
}
