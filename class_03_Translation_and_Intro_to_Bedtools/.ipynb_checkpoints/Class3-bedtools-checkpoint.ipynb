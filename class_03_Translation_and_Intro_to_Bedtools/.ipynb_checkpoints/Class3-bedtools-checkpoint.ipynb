{
 "cells": [
  {
   "cell_type": "markdown",
   "metadata": {},
   "source": [
    "# Big Data for Biologists: Decoding Genomic Function- Class 3\n",
    "\n",
    "## How can we predict the amino acid sequence for the protein product made from an mRNA sequence? \n",
    "## What are genomic coordinates and how are they used to designate the position of a gene in the human genome? \n",
    "\n",
    "##  Learning Objectives\n",
    "***Students should be able to***\n",
    " <ol>\n",
    " <li>Use the genetic code to determine the amino acid sequence of the protein product of an mRNA sequence </li>\n",
    " <li>Make a Python dictionary for the genetic code (also called a look up table) </li>\n",
    " <li>Define and call a function in a Python script </li>\n",
    " <li>Predict a protein sequence from a processed mRNA sequence using a Python dictionary</li>\n",
    " <li>Explain how genomic coordinates are used to designate the position of a gene or feature in the human genome </li>\n",
    " <li>Use genomic coordinates to make a file in BED format </li>\n",
    " <li>Use the genomic analysis package Bedtools to extract exon regions from a gene sequence</li>\n"
   ]
  },
  {
   "cell_type": "markdown",
   "metadata": {},
   "source": [
    "## How can we use the genetic code to determine the amino acid sequence of the protein product made from an mRNA sequence?\n",
    "\n",
    "In the last class, we wrote code to transcribe DNA to pre-mRNA and concluded by finding the start and stop codons in an mRNA sequence. Today we are going to look at the next step in gene expression, the translation of an mRNA sequence into protein. \n",
    "\n",
    "<img src=\"../Images/1-CentralDogma.png\" style=\"width: 40%; height: 50%\" align=\"center\"//>\n",
    "\n",
    "As a reminder,during translation, every three base pairs in an mRNA sequence past the start codon codes for one amino acid. These three base pair sequences are called codons. \n",
    "\n",
    "The start codon, as we saw previously is ATG which codes for the amino acid Methionine. Below is the **genetic code** for the rest of the amino acids as well as the three stop codons. \n",
    "\n",
    "\n",
    "<img src=\"../Images/3-Genetic Code.png\" style=\"width: 40%; height: 40%\" align=\"center\"//>\n",
    "\n",
    " "
   ]
  },
  {
   "cell_type": "markdown",
   "metadata": {},
   "source": [
    "In the final step of our last class we found three possible combinations of start and stop codons: \n",
    "\n",
    "* start codon: 60 stop codon: 390 orf length: 332\n",
    "* start codon: 72 stop codon: 390 orf length: 320\n",
    "* start codon: 442 stop codon: 448 orf length: 8\n",
    "\n",
    "The actual combination of start and stop codons is often the combination that results in the longest sequence, but the true start and stop codon needs to be determined experimentally. \n",
    "\n",
    "In this case, the actual start codon for human insulin is at amino acid 60 in the mRNA sequence that we were using in the last class. \n",
    "\n",
    "Here is the mRNA sequence for the first eighteen residues from codon 60 of the insulin sequence from the previous class: \n",
    "\n",
    "AUGGCCCUGUGGAUGCGCCUC \n",
    "\n",
    "As an exercise, write out the amino acid sequence corresponding to the mRNA sequence. "
   ]
  },
  {
   "cell_type": "markdown",
   "metadata": {},
   "source": [
    "The amino acid sequence should be: \n",
    "\n",
    "MALTMRL\n",
    "\n",
    "We are now going to learn additional Python tools to help us create the code to write out the amino acid sequence of a protein product that is made from an mRNA sequence."
   ]
  },
  {
   "cell_type": "markdown",
   "metadata": {},
   "source": [
    "## Making a python dictionary for the genetic code\n",
    "\n",
    "The python code we will be writing today has some similarities to scripts that we looked at in the last class. \n",
    "\n",
    "Last time, when we wrote out the complementary DNA sequence we made four substitutions and when we wrote out the mRNA sequence we made one substitution. \n",
    "\n",
    "To write out the amino acid sequence that will be produced from a mRNA sequence, we will need to make sixty four substitutions, that's a lot! \n",
    "\n",
    "We could write code similar to what we used in the last class, but it would be long and messy.\n",
    "\n",
    "A helpful Python tool to know about is dictionaries also known as look-up tables. \n",
    "\n",
    "Python dictionaries let you define a number of substitutions in one line rather than as a series of lines. \n",
    "\n",
    "There are a few different ways to define a dictionary in Python. If you are interested, this  [link](https://docs.python.org/2/library/stdtypes.html#typesmapping) gives the complete syntax options. \n",
    "\n",
    "Before we define the dictionary for translation, we are going to practice writing a dictionary for writing out a complementary DNA sequence.\n",
    "\n",
    "We'll use the same code as last time but we will use a python dictionary to do the substitutions instead of using if statements. \n",
    "\n",
    "The syntax for creating the dictionary is: \n",
    "\n",
    "DNAdict={'A':'T','T':'A','G':'C','C':'G'}\n",
    "\n",
    "DNAdict is the name of the dictionary.\n",
    "\n",
    "For the first entry, the 'A' before the : is the element in the original sequence. The 'T' after the : is the element in the new sequence. \n"
   ]
  },
  {
   "cell_type": "code",
   "execution_count": 8,
   "metadata": {
    "collapsed": false
   },
   "outputs": [
    {
     "name": "stdout",
     "output_type": "stream",
     "text": [
      "TCGGGAGGTCCTGTCCGACGTAGTCTTCTCCGGTAGTTCGTCCAGACAAGGTTCCCGGAAACGCAGTCCACCCGAGTCCTAAGGTCCCACCGACCTGGGGTCCGGGGTCGAGACGTCGTCCCTCCTGCACCGACCCGAGCACTTCGTACACCCCCACTCGGGTCCCCGGGGTTCCGTCCCGTGGACCGGAAGTCGGACGGAGTCGGGACGGACAGAGGGTCTAGTGACAGGAAGACGGTACCGGGACACCTACGCGGAGGACGGGGACGACCGCGACGACCGGGAGACCCCTGGACTGGGTCGGCGTCGGAAACACTTGGTTGTGGACACGCCGAGTGTGGACCACCTTCGAGAGATGGATCACACGCCCCTTGCTCCGAAGAAGATGTGTGGGTTCTGGGCGGCCCTCCGTCTCCTGGACGTCCCACTCGGTTGACGGGTAACGACGGGGACCGGCGGGGGTCGGTGGGGGACGAGGACCGCGAGGGTGGGTCGTACCCGTCTTCCCCCGTCCTCCGACGGTGGGTCGTCCCCCAGTCCACGTGAAAAAATTTTTCTTCAAGAGAACCAGTGCAGGATTTTCACTGGTCGAGGGACACCGGGTCAGTCTTAGAGTCGGACTCCTGCCACAACCGAAGCCGTCGGGGCTCTATGTAGTCTCCCACCCGTGCGAGGAGGGAGGTGAGCGGGGAGTTTGTTTACGGGGCGTCGGGTAAAGAGGTGGGAGTAAACTACTGGCGTCTAAGTTCACAAAACAATTCATTTCAGGACCCACTGGACCCCAGTGTCCCACGGGGTGCGACGGACGGAGACCCGCTTGTGGGGTAGTGCGGGCCTCCTCCCGCACCGACGGACGGACTCACCCGGTCTGGGGACAGCGGTCCGGAGTGCCGTCGAGGTATCAGTCCTCTACCCCTTCTACGACCCCTGTCCGGGACCCCTCTTCATGACCCTAGTGGACAAGTCCGAGGGTGACACTGCGACGGGGCCCCGCCCCCTTCCTCCACCCTGTACACCCGCAACCCCGGACATCCAGGTGTGGGTCACACCCACTGGGAGGGAGATTGGACCCAGGTCGGGCCGACCTCTACCCACCCTCACGCTGGATCCCGACCGCCCGTCCGCCCGTGACACAGAGGGACTGACACAGGAGGACACAGGGAGACGGAGCGGCGACAAGGCCTTGGACGAGACGCGCCGTGCAGGACCGTCACCCCGTCCACCTCGACCCGCCCCCGGGACCACGTCCGTCGGACGTCGGGAACCGGGACCTCCCCAGGGACGTCTTCGCACCGTAACACCTTGTTACGACATGGTCGTAGACGAGGGAGATGGTCGACCTCTTGATGACGTTGATCTGCGTCGGGCGTCCGTCGGGGTGTGGGCGGCGGAGGACGTGGCTCTCTCTACCTTATTTCGGGAACTTGGTC\n"
     ]
    }
   ],
   "source": [
    "#Write out the complementary sequence for a DNA sequence using a look up table\n",
    "FASTAgenesequence=open('../class_1/data/Human-Insulin-NG_007114.1.txt','r')\n",
    "genesequence=(FASTAgenesequence.readlines()[1:])\n",
    "genesequence=''.join(genesequence)\n",
    "genesequence=genesequence.replace('\\n','') #this line removes the \\n values from the genesequence\n",
    "DNAdict={'A':'T','T':'A','G':'C','C':'G'}\n",
    "complementarysequence='' #this defines the variable 'complementarysequence'\n",
    "for i in genesequence:\n",
    "    complementarysequence=complementarysequence+str(DNAdict[i])\n",
    "print (complementarysequence)"
   ]
  },
  {
   "cell_type": "markdown",
   "metadata": {},
   "source": [
    "Using the space below, start writing a python dictionary for the genetic code starting with the four entries for the upper left hand corner of the table in the figure above. "
   ]
  },
  {
   "cell_type": "code",
   "execution_count": null,
   "metadata": {
    "collapsed": true
   },
   "outputs": [],
   "source": [
    "\n",
    "##ANSWER -- REMOVE BEFORE GIVING TO STUDENTS ## \n",
    "geneticcode3let={'UUU':'Phe','UUC':'Phe','UUA':'Leu','UUG':'Leu',\n",
    "      }"
   ]
  },
  {
   "cell_type": "markdown",
   "metadata": {},
   "source": [
    "We will be using a complete dictionary for the genetic code below when we write out the protein sequence for an mRNA sequence, but first we will be covering one other tool for writing more complex scripts, creating functions. "
   ]
  },
  {
   "cell_type": "markdown",
   "metadata": {},
   "source": [
    "## Defining and calling functions in Python scripts \n",
    "\n",
    "As you start to write more complex python scripts, a very helpful tool for any set of commands that accomplish a particular task and are used repeatedly either within a script or between scripts is to define a function for the series of commands. \n",
    "\n",
    "Once the funciton is defined the series of commands can be run with one line of code rather than multiple lines. \n",
    "\n",
    "An example of a task that we will be using more than once is converting between DNA and RNA sequences. That is converting the 'T's in a sequence to 'U's. \n",
    "\n",
    "We wrote the code for the conversion of Ts to Us in a sequence in the last class. In this class we are going to write a function.   \n",
    "\n",
    "Functions are defined using the **def** command followed by the name of the function and then any necessary inputs separated by commas. \n",
    "\n",
    "In the example below: \n",
    "\n",
    "    def write_mRNA_from_DNA(filename_FASTAgenesequence):\n",
    " \n",
    "defines a function called \"write_mRNA_from_DNA\". \n",
    "\n",
    "The input to the function is assigned the variable name \"filename_FASTAgenesequence\", and will be defined when the command is called. \n",
    "\n",
    "In the example below the line: \n",
    "\n",
    "RNAsequence=write_mRNA_from_DNA('../class_1/data/Human-Insulin NM_000207.2.txt')\n",
    "\n",
    "calls the function \"write mRNA_from_DNA). \n",
    "\n",
    "The input sequence '../class_1/data/Human-Insulin NM_000207.2.txt' is assigned the name 'filename_FASTAgenesequence' within the function. \n",
    "\n",
    "At the end, the \"return\" command defines the output of the function. "
   ]
  },
  {
   "cell_type": "code",
   "execution_count": 14,
   "metadata": {
    "collapsed": false,
    "scrolled": true
   },
   "outputs": [
    {
     "name": "stdout",
     "output_type": "stream",
     "text": [
      "AGCCCUCCAGGACAGGCUGCAUCAGAAGAGGCCAUCAAGCAGAUCACUGUCCUUCUGCCAUGGCCCUGUGGAUGCGCCUCCUGCCCCUGCUGGCGCUGCUGGCCCUCUGGGGACCUGACCCAGCCGCAGCCUUUGUGAACCAACACCUGUGCGGCUCACACCUGGUGGAAGCUCUCUACCUAGUGUGCGGGGAACGAGGCUUCUUCUACACACCCAAGACCCGCCGGGAGGCAGAGGACCUGCAGGUGGGGCAGGUGGAGCUGGGCGGGGGCCCUGGUGCAGGCAGCCUGCAGCCCUUGGCCCUGGAGGGGUCCCUGCAGAAGCGUGGCAUUGUGGAACAAUGCUGUACCAGCAUCUGCUCCCUCUACCAGCUGGAGAACUACUGCAACUAGACGCAGCCCGCAGGCAGCCCCACACCCGCCGCCUCCUGCACCGAGAGAGAUGGAAUAAAGCCCUUGAACCAGCAAAA\n"
     ]
    }
   ],
   "source": [
    "#define a function to write mRNA from DNA sequence in FASTA format\n",
    "\n",
    "def write_mRNA_from_DNA(filename_FASTAgenesequence):\n",
    "    FASTAgenesequence=open(filename_FASTAgenesequence,'r')\n",
    "    genesequence=(FASTAgenesequence.readlines()[1:])\n",
    "    genesequence=''.join(genesequence)\n",
    "    genesequence=genesequence.replace('\\n','')\n",
    "    RNAsequence='' #this defines the variable 'complementarysequence'\n",
    "    for i in genesequence:\n",
    "        if i=='T':\n",
    "            RNAsequence=RNAsequence+'U'\n",
    "        else:\n",
    "            RNAsequence=RNAsequence+ i\n",
    "    return(RNAsequence)\n",
    "\n",
    "RNAsequence=write_mRNA_from_DNA('../class_1/data/Human-Insulin NM_000207.2.txt')\n",
    "print(RNAsequence)"
   ]
  },
  {
   "cell_type": "markdown",
   "metadata": {},
   "source": [
    "## Predict a protein sequence from a processed RNA sequence using a Python dictionary\n",
    "\n",
    "We are now ready to write our script to predict a protein sequence from a processed mRNA sequence. We will both call a function and use a dictionary in the code. \n",
    "\n",
    "The code has three main sections. \n",
    "\n",
    "First, since we wrote our genetic code using uracils (reflecting the correct biology!) in our first step we will need to convert our processed mRNA sequence with thymines to the actual mRNA sequence with Uracil. \n",
    "\n",
    "For that, we are going to use the write_mRNA_from_DNA function that we defined above. \n",
    "\n",
    "Second, we will define a complete python dictionary for the three letter genetic code. \n",
    "\n",
    "Finally, we will iterate over the RNAsequence from the start to the stop codon and will convert each codon to the corresponding amino acid defined in the dictionary. \n",
    "\n",
    "We will use basepair 60 as the start codon and 390 as the stop codon since that is the start and stop codon in the actual insulin sequence.  \n",
    "\n",
    "Complete the code below to write out the protein sequence for an mRNA sequence. \n",
    " "
   ]
  },
  {
   "cell_type": "code",
   "execution_count": 43,
   "metadata": {
    "collapsed": false
   },
   "outputs": [
    {
     "ename": "SyntaxError",
     "evalue": "invalid syntax (<ipython-input-43-b076904cc46a>, line 4)",
     "output_type": "error",
     "traceback": [
      "\u001b[0;36m  File \u001b[0;32m\"<ipython-input-43-b076904cc46a>\"\u001b[0;36m, line \u001b[0;32m4\u001b[0m\n\u001b[0;31m    RNAsequence=\u001b[0m\n\u001b[0m                ^\u001b[0m\n\u001b[0;31mSyntaxError\u001b[0m\u001b[0;31m:\u001b[0m invalid syntax\n"
     ]
    }
   ],
   "source": [
    "#Write out the protein sequence for a mRNA sequence\n",
    "\n",
    "#calls the function defined above called write_mRNA_from_DNA\n",
    "RNAsequence=\n",
    "\n",
    "#defines the python dictionary for the three letter genetic code \n",
    "geneticcode3let={'UUU':'Phe','UUC':'Phe','UUA':'Leu','UUG':'Leu',\n",
    "     'CUU':'Leu','CUC':'Leu','CUA':'Leu','CUG':'Leu',\n",
    "     'AUU':'Ile','AUC':'Ile','AUA':'Ile','AUG':'Met',\n",
    "     'GUU':'Val','GUC':'Val','GUA':'Val','GUG':'Val',\n",
    "     'UCU':'Ser','UCC':'Ser','UCA':'Ser','UCG':'Ser',\n",
    "     'CCU':'Pro','CCC':'Pro','CCA':'Pro','CCG':'Pro',\n",
    "     'ACU':'Thr','ACC':'Thr','ACA':'Thr','ACG':'Thr',\n",
    "     'GCU':'Ala','GCC':'Ala','GCA':'Ala','GCG':'Ala',\n",
    "     'UAU':'Tyr','UAC':'Tyr','UAA':'Stop','UAG':'Stop',\n",
    "     'CAU':'His','CAC':'His','CAA':'Gln','CAG':'Gln',\n",
    "     'AAU':'Asn','AAC':'Asn','AAA':'Lys','AAG':'Lys',\n",
    "     'GAU':'Asp','GAC':'Asp','GAA':'Glu','GAG':'Glu',\n",
    "     'UGU':'Cys','UGC':'Cys','UGA':'Stop','UGG':'Trp',\n",
    "     'CGU':'Arg','CGC':'Arg','CGA':'Arg','CGG':'Arg',\n",
    "     'AGU':'Ser','AGC':'Ser','AGA':'Arg','AGG':'Arg',\n",
    "     'GGU':'Gly','GGC':'Gly','GGA':'Gly','GGG':'Gly'}\n",
    "\n",
    "#translates the RNAsequence into protein \n",
    "\n",
    "#In the range command: \n",
    "#The first number is the start codon using numbering starting at zero.\n",
    "#The second number is the stop codon using numbering starting at zero, so that the stop codon is included. \n",
    "#The third number is the number of basepairs that are skipped every iteration since codons come in threes. \n",
    "\n",
    "proteinseq=''\n",
    "\n",
    "for i in range(59,390,3): \n",
    "    proteinseq=proteinseq+str(geneticcode3let[])\n",
    "print ( )\n",
    "\n",
    "\n",
    "\n",
    "##ANSWER -- REMOVE BEFORE GIVING TO STUDENTS ## \n",
    "\n",
    "#Write out the protein sequence for a mRNA sequence\n",
    "\n",
    "#calls the function defined above called write_mRNA_from_DNA\n",
    "RNAsequence=write_mRNA_from_DNA('../class_1/data/Human-Insulin NM_000207.2.txt') \n",
    "\n",
    "#defines the python dictionary for the three letter genetic code \n",
    "geneticcode3let={'UUU':'Phe','UUC':'Phe','UUA':'Leu','UUG':'Leu',\n",
    "     'CUU':'Leu','CUC':'Leu','CUA':'Leu','CUG':'Leu',\n",
    "     'AUU':'Ile','AUC':'Ile','AUA':'Ile','AUG':'Met',\n",
    "     'GUU':'Val','GUC':'Val','GUA':'Val','GUG':'Val',\n",
    "     'UCU':'Ser','UCC':'Ser','UCA':'Ser','UCG':'Ser',\n",
    "     'CCU':'Pro','CCC':'Pro','CCA':'Pro','CCG':'Pro',\n",
    "     'ACU':'Thr','ACC':'Thr','ACA':'Thr','ACG':'Thr',\n",
    "     'GCU':'Ala','GCC':'Ala','GCA':'Ala','GCG':'Ala',\n",
    "     'UAU':'Tyr','UAC':'Tyr','UAA':'Stop','UAG':'Stop',\n",
    "     'CAU':'His','CAC':'His','CAA':'Gln','CAG':'Gln',\n",
    "     'AAU':'Asn','AAC':'Asn','AAA':'Lys','AAG':'Lys',\n",
    "     'GAU':'Asp','GAC':'Asp','GAA':'Glu','GAG':'Glu',\n",
    "     'UGU':'Cys','UGC':'Cys','UGA':'Stop','UGG':'Trp',\n",
    "     'CGU':'Arg','CGC':'Arg','CGA':'Arg','CGG':'Arg',\n",
    "     'AGU':'Ser','AGC':'Ser','AGA':'Arg','AGG':'Arg',\n",
    "     'GGU':'Gly','GGC':'Gly','GGA':'Gly','GGG':'Gly'}\n",
    "\n",
    "#translates the RNAsequence into protein \n",
    "\n",
    "#In the range command: \n",
    "#The first number is the start codon using numbering starting at zero.\n",
    "#The second number is the stop codon using numbering starting at zero, so that the stop codon is included. \n",
    "#The third number is the number of basepairs that are skipped every iteration since codons come in threes. \n",
    "\n",
    "proteinseq=''\n",
    "\n",
    "for i in range(59,390,3): \n",
    "    proteinseq=proteinseq+str(geneticcode3let[RNAsequence[i:i+3]])\n",
    "print (proteinseq)"
   ]
  },
  {
   "cell_type": "markdown",
   "metadata": {},
   "source": [
    "In the code above we have started a script to write out the same protein sequence using one letter amino acid symbols. Add in the missing lines to write out the protein sequence using the one letter amino acid symbols. "
   ]
  },
  {
   "cell_type": "code",
   "execution_count": 17,
   "metadata": {
    "collapsed": false
   },
   "outputs": [
    {
     "name": "stdout",
     "output_type": "stream",
     "text": [
      "MALWMRLLPLLALLALWGPDPAAAFVNQHLCGSHLVEALYLVCGERGFFYTPKTRREAEDLQVGQVELGGGPGAGSLQPLALEGSLQKRGIVEQCCTSIC\n"
     ]
    }
   ],
   "source": [
    "#calls the function defined above called write_mRNA_from_DNA\n",
    "RNAsequence=write_mRNA_from_DNA('../class_1/data/Human-Insulin NM_000207.2.txt') \n",
    "\n",
    "#defines the python dictionary for the one letter genetic code \n",
    "geneticcode1let={'UUU':'F','UUC':'F','UUA':'L','UUG':'L',\n",
    "     'CUU':'L','CUC':'L','CUA':'L','CUG':'L',\n",
    "     'AUU':'I','AUC':'I','AUA':'I','AUG':'M',\n",
    "     'GUU':'V','GUC':'V','GUA':'V','GUG':'V',\n",
    "     'UCU':'S','UCC':'S','UCA':'S','UCG':'S',\n",
    "     'CCU':'P','CCC':'P','CCA':'P','CCG':'P',\n",
    "     'ACU':'T','ACC':'T','ACA':'T','ACG':'T',\n",
    "     'GCU':'A','GCC':'A','GCA':'A','GCG':'A',\n",
    "     'UAU':'Y','UAC':'Y','UAA':'*','UAG':'*',\n",
    "     'CAU':'H','CAC':'H','CAA':'Q','CAG':'Q',\n",
    "     'AAU':'N','AAC':'N','AAA':'K','AAG':'K',\n",
    "     'GAU':'D','GAC':'D','GAA':'E','GAG':'E',\n",
    "     'UGU':'C','UGC':'C','UGA':'*','UGG':'W',\n",
    "     'CGU':'R','CGC':'R','CGA':'R','CGG':'R',\n",
    "     'AGU':'S','AGC':'S','AGA':'R','AGG':'R',\n",
    "     'GGU':'G','GGC':'G','GGA':'G','GGG':'G'}\n",
    "\n",
    " \n",
    "\n",
    "##ANSWER -- REMOVE BEFORE GIVING TO STUDENTS ## \n",
    "\n",
    "geneticcode1let={'UUU':'F','UUC':'F','UUA':'L','UUG':'L',\n",
    "     'CUU':'L','CUC':'L','CUA':'L','CUG':'L',\n",
    "     'AUU':'I','AUC':'I','AUA':'I','AUG':'M',\n",
    "     'GUU':'V','GUC':'V','GUA':'V','GUG':'V',\n",
    "     'UCU':'S','UCC':'S','UCA':'S','UCG':'S',\n",
    "     'CCU':'P','CCC':'P','CCA':'P','CCG':'P',\n",
    "     'ACU':'T','ACC':'T','ACA':'T','ACG':'T',\n",
    "     'GCU':'A','GCC':'A','GCA':'A','GCG':'A',\n",
    "     'UAU':'Y','UAC':'Y','UAA':'*','UAG':'*',\n",
    "     'CAU':'H','CAC':'H','CAA':'Q','CAG':'Q',\n",
    "     'AAU':'N','AAC':'N','AAA':'K','AAG':'K',\n",
    "     'GAU':'D','GAC':'D','GAA':'E','GAG':'E',\n",
    "     'UGU':'C','UGC':'C','UGA':'*','UGG':'W',\n",
    "     'CGU':'R','CGC':'R','CGA':'R','CGG':'R',\n",
    "     'AGU':'S','AGC':'S','AGA':'R','AGG':'R',\n",
    "     'GGU':'G','GGC':'G','GGA':'G','GGG':'G'}\n",
    "\n",
    "proteinseq=''\n",
    "for i in range(59,359,3):\n",
    "    proteinseq=proteinseq+str(geneticcode1let[RNAsequence[i:i+3]])\n",
    "print (proteinseq)"
   ]
  },
  {
   "cell_type": "markdown",
   "metadata": {},
   "source": [
    "## What are genomic coordinates and how are they used to designate the position of a gene in the human genome?\n",
    "\n",
    "In the last class, you had the opportunity to practice finding the position of start and stop codons for a gene in a single DNA sequence. \n",
    "\n",
    "As we move forward with the class, we are going to be working with genomic datasets with many sequences.\n",
    "\n",
    "In these cases, the genomic coordinates need to specify the start and stop positions as well as the chromosome number. \n",
    "\n",
    "Human Genomes typically have 23 pairs of chromosomes. \n",
    "\n",
    "<img src=\"../Images/3-Human Chromosomes.jpg\" style=\"width: 40%; height: 50%\" align=\"center\"//>\n"
   ]
  },
  {
   "cell_type": "markdown",
   "metadata": {},
   "source": [
    "## Use genomic coordinates to make a file in BED format\n",
    "\n",
    "\n",
    "The format for specifying genomic coordinates depends on the particular programs that you plan to use. There are several formats including BED, VCF, GFF/GTF. For this class, we will be using a suite of programs called BED tools, so we will be using the BED format for genomic coordinates. \n",
    "\n",
    "BED files are text files that contain genomic coordinate information, and are typically given the .bed extension. The format of a BED file is specified here: https://genome.ucsc.edu/FAQ/FAQformat.html#format1. Only the first three columns are mandatory for bed files, and they contain the following information:\n",
    "\n",
    "Columns in a BED file:\n",
    "- Column 1: chromosome (this is designated as a number for chromosomes 1 to 22 and chrX or chrY for the sex chromosomes) \n",
    "- Column 2: start position (the beginning of the first base is indicated by the start position 0; the beginning of the 5th base is indicated by the start position \"4\")\n",
    "- Column 3: end position (the end of the first base is indicated by the end position \"1\"; the end of the 5th base is indicated by the end position \"5\")\n",
    "\n",
    "People are often confused by the fact that the same \"base\" is referred to by a different number depending on whether you are referring to the start or the end. A simple way to understand this is to realize that the positions are not referring to the numbering of the bases themselves, but to the boundary between bases, as illustrated in the figure below:"
   ]
  },
  {
   "cell_type": "markdown",
   "metadata": {
    "collapsed": true
   },
   "source": [
    "<img src=\"./array_slice_indexing.png\">"
   ]
  },
  {
   "cell_type": "markdown",
   "metadata": {},
   "source": [
    "As a reminder from our previous class, this convention is also consistent with how slicing in python works, as illustrated below:"
   ]
  },
  {
   "cell_type": "code",
   "execution_count": 1,
   "metadata": {
    "collapsed": false
   },
   "outputs": [
    {
     "name": "stdout",
     "output_type": "stream",
     "text": [
      "ACCT\n",
      "CCTG\n",
      "ACCTG\n"
     ]
    }
   ],
   "source": [
    "dna_string = \"ACCTG\"\n",
    "print(dna_string[0:4])\n",
    "print(dna_string[1:5])\n",
    "print(dna_string[0:5])"
   ]
  },
  {
   "cell_type": "markdown",
   "metadata": {},
   "source": [
    "We can use Python to make a file in bed format. \n",
    "\n",
    "For this example, we will be making a .bed file that specifies the exon regions in the human insulin gene. \n",
    "\n",
    "Originally the exon boundaries would be determined experimentally, but we can obtain them from genomics resources such as this [link](https://www.ncbi.nlm.nih.gov/nuccore/161086962?report=genbank&from=4986&to=6416)from NCBI.\n",
    "\n",
    "The exon boundaries for the human insulin gene that we have used in the preceding two classes are: \n",
    "1-42\n",
    "222-425\n",
    "1213-1431\n",
    " "
   ]
  },
  {
   "cell_type": "code",
   "execution_count": 18,
   "metadata": {
    "collapsed": false
   },
   "outputs": [],
   "source": [
    "#Note that the exon locations have been adjusted to the zero-based numbering system described above\n",
    "#\\t is a tab character, and \\n is a newline character\n",
    "file1 = open('human_insulin_exons.bed', 'w') #defines a file with the name \"human_insulin_exons.bed\"\n",
    "#writes the lines of the file\n",
    "file1.write(\"chr11\\t0\\t42\\n\") \n",
    "file1.write(\"chr11\\t221\\t425\\n\")\n",
    "file1.write(\"chr11\\t1212\\t1431\\n\")\n",
    "file1.close()\n",
    " "
   ]
  },
  {
   "cell_type": "markdown",
   "metadata": {},
   "source": [
    "Let's view the created files:"
   ]
  },
  {
   "cell_type": "code",
   "execution_count": 13,
   "metadata": {
    "collapsed": false
   },
   "outputs": [
    {
     "name": "stdout",
     "output_type": "stream",
     "text": [
      "human_insulin_exons.bed\n",
      "chr11\t0\t42\n",
      "chr11\t221\t425\n",
      "chr11\t1212\t1431\n"
     ]
    }
   ],
   "source": [
    "!echo \"human_insulin_exons.bed\" #print \"file1.bed\" to the screen\n",
    "!cat \"human_insulin_exons.bed\" #display the contents of file1.bed"
   ]
  },
  {
   "cell_type": "code",
   "execution_count": null,
   "metadata": {
    "collapsed": true
   },
   "outputs": [],
   "source": [
    "#Transcription: Writes out the pre-mRNA sequence that will be made from a DNA sequence \n",
    "FASTAgenesequence=open('../data/Human-Insulin-NG_007114.1.txt','r')\n",
    "genesequence=(FASTAgenesequence.readlines()[1:])\n",
    "genesequence=''.join(genesequence)\n",
    "\n",
    "RNAsequence='' #this defines the variable 'RNAsequence'"
   ]
  },
  {
   "cell_type": "markdown",
   "metadata": {},
   "source": [
    "To write the output of any command to a file, use the > operator which redirects the output to a text file"
   ]
  },
  {
   "cell_type": "code",
   "execution_count": 6,
   "metadata": {
    "collapsed": true
   },
   "outputs": [],
   "source": [
    "!bedtools intersect -a file1.bed -b file2.bed > intersection_results.bed"
   ]
  },
  {
   "cell_type": "markdown",
   "metadata": {},
   "source": [
    "The contents can then be read back from the file, which could then be used as an input file for subsequent commands."
   ]
  },
  {
   "cell_type": "code",
   "execution_count": 7,
   "metadata": {
    "collapsed": false
   },
   "outputs": [
    {
     "name": "stdout",
     "output_type": "stream",
     "text": [
      "chr1\t0\t50\r\n",
      "chr1\t50\t90\r\n",
      "chr1\t90\t100\r\n",
      "chr1\t50\t90\r\n",
      "chr1\t90\t110\r\n",
      "chr1\t110\t150\r\n"
     ]
    }
   ],
   "source": [
    "!cat intersection_results.bed"
   ]
  },
  {
   "cell_type": "markdown",
   "metadata": {},
   "source": [
    "The --help command can be used to view options. We recommend you read through all of these to know what is possible"
   ]
  },
  {
   "cell_type": "code",
   "execution_count": 8,
   "metadata": {
    "collapsed": false
   },
   "outputs": [
    {
     "name": "stdout",
     "output_type": "stream",
     "text": [
      "\r\n",
      "*****ERROR: Unrecognized parameter: --help *****\r\n",
      "\r\n",
      "\r\n",
      "*****\r\n",
      "*****ERROR: Need -a and -b files. \r\n",
      "*****\r\n",
      "\r\n",
      "Tool:    bedtools intersect (aka intersectBed)\r\n",
      "Version: v2.17.0\r\n",
      "Summary: Report overlaps between two feature files.\r\n",
      "\r\n",
      "Usage:   bedtools intersect [OPTIONS] -a <bed/gff/vcf> -b <bed/gff/vcf>\r\n",
      "\r\n",
      "Options: \r\n",
      "\t-abam\tThe A input file is in BAM format.  Output will be BAM as well.\r\n",
      "\r\n",
      "\t-ubam\tWrite uncompressed BAM output. Default writes compressed BAM.\r\n",
      "\r\n",
      "\t-bed\tWhen using BAM input (-abam), write output as BED. The default\r\n",
      "\t\tis to write output in BAM when using -abam.\r\n",
      "\r\n",
      "\t-wa\tWrite the original entry in A for each overlap.\r\n",
      "\r\n",
      "\t-wb\tWrite the original entry in B for each overlap.\r\n",
      "\t\t- Useful for knowing _what_ A overlaps. Restricted by -f and -r.\r\n",
      "\r\n",
      "\t-loj\tPerform a \"left outer join\". That is, for each feature in A\r\n",
      "\t\treport each overlap with B.  If no overlaps are found, \r\n",
      "\t\treport a NULL feature for B.\r\n",
      "\r\n",
      "\t-wo\tWrite the original A and B entries plus the number of base\r\n",
      "\t\tpairs of overlap between the two features.\r\n",
      "\t\t- Overlaps restricted by -f and -r.\r\n",
      "\t\t  Only A features with overlap are reported.\r\n",
      "\r\n",
      "\t-wao\tWrite the original A and B entries plus the number of base\r\n",
      "\t\tpairs of overlap between the two features.\r\n",
      "\t\t- Overlapping features restricted by -f and -r.\r\n",
      "\t\t  However, A features w/o overlap are also reported\r\n",
      "\t\t  with a NULL B feature and overlap = 0.\r\n",
      "\r\n",
      "\t-u\tWrite the original A entry _once_ if _any_ overlaps found in B.\r\n",
      "\t\t- In other words, just report the fact >=1 hit was found.\r\n",
      "\t\t- Overlaps restricted by -f and -r.\r\n",
      "\r\n",
      "\t-c\tFor each entry in A, report the number of overlaps with B.\r\n",
      "\t\t- Reports 0 for A entries that have no overlap with B.\r\n",
      "\t\t- Overlaps restricted by -f and -r.\r\n",
      "\r\n",
      "\t-v\tOnly report those entries in A that have _no overlaps_ with B.\r\n",
      "\t\t- Similar to \"grep -v\" (an homage).\r\n",
      "\r\n",
      "\t-f\tMinimum overlap required as a fraction of A.\r\n",
      "\t\t- Default is 1E-9 (i.e., 1bp).\r\n",
      "\t\t- FLOAT (e.g. 0.50)\r\n",
      "\r\n",
      "\t-r\tRequire that the fraction overlap be reciprocal for A and B.\r\n",
      "\t\t- In other words, if -f is 0.90 and -r is used, this requires\r\n",
      "\t\t  that B overlap 90% of A and A _also_ overlaps 90% of B.\r\n",
      "\r\n",
      "\t-s\tRequire same strandedness.  That is, only report hits in B\r\n",
      "\t\tthat overlap A on the _same_ strand.\r\n",
      "\t\t- By default, overlaps are reported without respect to strand.\r\n",
      "\r\n",
      "\t-S\tRequire different strandedness.  That is, only report hits in B\r\n",
      "\t\tthat overlap A on the _opposite_ strand.\r\n",
      "\t\t- By default, overlaps are reported without respect to strand.\r\n",
      "\r\n",
      "\t-split\tTreat \"split\" BAM or BED12 entries as distinct BED intervals.\r\n",
      "\r\n",
      "\t-sorted\tUse the \"chromsweep\" algorithm for sorted (-k1,1 -k2,2n) input\r\n",
      "\r\n",
      "\t-header\tPrint the header from the A file prior to results.\r\n",
      "\r\n",
      "Notes: \r\n",
      "\t(1) When a BAM file is used for the A file, the alignment is retained if overlaps exist,\r\n",
      "\tand exlcuded if an overlap cannot be found.  If multiple overlaps exist, they are not\r\n",
      "\treported, as we are only testing for one or more overlaps.\r\n",
      "\r\n"
     ]
    }
   ],
   "source": [
    "!bedtools intersect --help"
   ]
  },
  {
   "cell_type": "markdown",
   "metadata": {},
   "source": [
    "We go over some key options below. -wa reports the original entry for the -a file involved in the overlap, instead of just the overlapping portion."
   ]
  },
  {
   "cell_type": "code",
   "execution_count": 9,
   "metadata": {
    "collapsed": false
   },
   "outputs": [
    {
     "name": "stdout",
     "output_type": "stream",
     "text": [
      "chr1\t0\t100\r\n",
      "chr1\t0\t100\r\n",
      "chr1\t0\t100\r\n",
      "chr1\t50\t150\r\n",
      "chr1\t50\t150\r\n",
      "chr1\t50\t150\r\n"
     ]
    }
   ],
   "source": [
    "!bedtools intersect -a file1.bed -b file2.bed -wa"
   ]
  },
  {
   "cell_type": "markdown",
   "metadata": {},
   "source": [
    "Adding in the -wb option will also include the entry from \"b\" involved in the overlap:"
   ]
  },
  {
   "cell_type": "code",
   "execution_count": 10,
   "metadata": {
    "collapsed": false
   },
   "outputs": [
    {
     "name": "stdout",
     "output_type": "stream",
     "text": [
      "chr1\t0\t100\tchr1\t0\t50\r\n",
      "chr1\t0\t100\tchr1\t50\t90\r\n",
      "chr1\t0\t100\tchr1\t90\t110\r\n",
      "chr1\t50\t150\tchr1\t50\t90\r\n",
      "chr1\t50\t150\tchr1\t90\t110\r\n",
      "chr1\t50\t150\tchr1\t110\t200\r\n"
     ]
    }
   ],
   "source": [
    "!bedtools intersect -a file1.bed -b file2.bed -wa -wb"
   ]
  },
  {
   "cell_type": "markdown",
   "metadata": {},
   "source": [
    "If you just want to know which features from the -a file overlapped with some feature in the -b file, but do not want repeated features to be reported, use the -u flag:"
   ]
  },
  {
   "cell_type": "code",
   "execution_count": 11,
   "metadata": {
    "collapsed": false
   },
   "outputs": [
    {
     "name": "stdout",
     "output_type": "stream",
     "text": [
      "chr1\t0\t100\r\n",
      "chr1\t50\t150\r\n"
     ]
    }
   ],
   "source": [
    "!bedtools intersect -a file1.bed -b file2.bed -u"
   ]
  },
  {
   "cell_type": "markdown",
   "metadata": {},
   "source": [
    "If you want to know how many distinct regions from -b are overlapped by some region from -a, use the -c flag"
   ]
  },
  {
   "cell_type": "code",
   "execution_count": 12,
   "metadata": {
    "collapsed": false
   },
   "outputs": [
    {
     "name": "stdout",
     "output_type": "stream",
     "text": [
      "chr1\t0\t100\t3\r\n",
      "chr1\t50\t150\t3\r\n",
      "chr1\t200\t250\t0\r\n",
      "chr2\t100\t250\t0\r\n"
     ]
    }
   ],
   "source": [
    "!bedtools intersect -a file1.bed -b file2.bed -c"
   ]
  },
  {
   "cell_type": "markdown",
   "metadata": {},
   "source": [
    "To filter for those entries in -a with NO overlap with an entry from -b, use the -v flag"
   ]
  },
  {
   "cell_type": "code",
   "execution_count": 13,
   "metadata": {
    "collapsed": false
   },
   "outputs": [
    {
     "name": "stdout",
     "output_type": "stream",
     "text": [
      "chr1\t200\t250\r\n",
      "chr2\t100\t250\r\n"
     ]
    }
   ],
   "source": [
    "!bedtools intersect -a file1.bed -b file2.bed -v"
   ]
  },
  {
   "cell_type": "markdown",
   "metadata": {},
   "source": [
    "-loj can be used to report overlaps for all features in the -a file, or a blank if there are no overlaps:"
   ]
  },
  {
   "cell_type": "code",
   "execution_count": 14,
   "metadata": {
    "collapsed": false
   },
   "outputs": [
    {
     "name": "stdout",
     "output_type": "stream",
     "text": [
      "chr1\t0\t100\tchr1\t0\t50\r\n",
      "chr1\t0\t100\tchr1\t50\t90\r\n",
      "chr1\t0\t100\tchr1\t90\t110\r\n",
      "chr1\t50\t150\tchr1\t50\t90\r\n",
      "chr1\t50\t150\tchr1\t90\t110\r\n",
      "chr1\t50\t150\tchr1\t110\t200\r\n",
      "chr1\t200\t250\t.\t-1\t-1\r\n",
      "chr2\t100\t250\t.\t-1\t-1\r\n"
     ]
    }
   ],
   "source": [
    "!bedtools intersect -a file1.bed -b file2.bed -loj"
   ]
  },
  {
   "cell_type": "markdown",
   "metadata": {},
   "source": [
    "-wao adds information about the number of bases in the overlap:"
   ]
  },
  {
   "cell_type": "code",
   "execution_count": 15,
   "metadata": {
    "collapsed": false
   },
   "outputs": [
    {
     "name": "stdout",
     "output_type": "stream",
     "text": [
      "chr1\t0\t100\tchr1\t0\t50\t50\r\n",
      "chr1\t0\t100\tchr1\t50\t90\t40\r\n",
      "chr1\t0\t100\tchr1\t90\t110\t10\r\n",
      "chr1\t50\t150\tchr1\t50\t90\t40\r\n",
      "chr1\t50\t150\tchr1\t90\t110\t20\r\n",
      "chr1\t50\t150\tchr1\t110\t200\t40\r\n",
      "chr1\t200\t250\t.\t-1\t-1\t0\r\n",
      "chr2\t100\t250\t.\t-1\t-1\t0\r\n"
     ]
    }
   ],
   "source": [
    "!bedtools intersect -a file1.bed -b file2.bed -wao"
   ]
  },
  {
   "cell_type": "markdown",
   "metadata": {},
   "source": [
    "To impose a certain minimum overlap as a fraction of the size of the region in -a, use the -f flag"
   ]
  },
  {
   "cell_type": "code",
   "execution_count": 16,
   "metadata": {
    "collapsed": false
   },
   "outputs": [
    {
     "name": "stdout",
     "output_type": "stream",
     "text": [
      "chr1\t0\t100\tchr1\t0\t50\t50\r\n",
      "chr1\t0\t100\tchr1\t50\t90\t40\r\n",
      "chr1\t50\t150\tchr1\t50\t90\t40\r\n",
      "chr1\t50\t150\tchr1\t110\t200\t40\r\n",
      "chr1\t200\t250\t.\t-1\t-1\t0\r\n",
      "chr2\t100\t250\t.\t-1\t-1\t0\r\n"
     ]
    }
   ],
   "source": [
    "!bedtools intersect -a file1.bed -b file2.bed -wao -f 0.4"
   ]
  },
  {
   "cell_type": "markdown",
   "metadata": {},
   "source": [
    "## The bedtools merge command\n",
    "\n",
    "The bedtools merge command (also known as mergeBed) unifies overlapping intervals in a bed file. The regions in the file must be sorted, first by chromosome, then by the start coordinate."
   ]
  },
  {
   "cell_type": "code",
   "execution_count": 17,
   "metadata": {
    "collapsed": false
   },
   "outputs": [
    {
     "name": "stdout",
     "output_type": "stream",
     "text": [
      "chr1\t0\t150\r\n",
      "chr1\t200\t250\r\n",
      "chr2\t100\t250\r\n"
     ]
    }
   ],
   "source": [
    "!bedtools merge -i file1.bed"
   ]
  },
  {
   "cell_type": "markdown",
   "metadata": {},
   "source": [
    "Remember that it is possible to use the cat command to concatenate files, as shown below:"
   ]
  },
  {
   "cell_type": "code",
   "execution_count": 18,
   "metadata": {
    "collapsed": false
   },
   "outputs": [
    {
     "name": "stdout",
     "output_type": "stream",
     "text": [
      "chr1\t0\t100\r\n",
      "chr1\t50\t150\r\n",
      "chr1\t200\t250\r\n",
      "chr2\t100\t250\r\n",
      "chr1\t0\t50\r\n",
      "chr1\t50\t90\r\n",
      "chr1\t90\t110\r\n",
      "chr1\t110\t200\r\n",
      "chr1\t150\t180\r\n",
      "chr2\t400\t450\r\n"
     ]
    }
   ],
   "source": [
    "!cat file1.bed file2.bed"
   ]
  },
  {
   "cell_type": "markdown",
   "metadata": {},
   "source": [
    "Thus, if we want to merge the regions in file1.bed and file2.bed, we can do so as shown (we will use bedtools sort, a.k.a. sortBed, to sort the file)"
   ]
  },
  {
   "cell_type": "code",
   "execution_count": 19,
   "metadata": {
    "collapsed": false
   },
   "outputs": [
    {
     "name": "stdout",
     "output_type": "stream",
     "text": [
      "chr1\t0\t250\r\n",
      "chr2\t100\t250\r\n",
      "chr2\t400\t450\r\n"
     ]
    }
   ],
   "source": [
    "!cat file1.bed file2.bed > concatenated_regions.bed\n",
    "!bedtools sort -i concatenated_regions.bed > sorted_concatenated_regions.bed\n",
    "!bedtools merge -i sorted_concatenated_regions.bed"
   ]
  },
  {
   "cell_type": "markdown",
   "metadata": {},
   "source": [
    "Note that we can use the pipe operator to feed the output of one command directly as the input of another, so that the commands above can actually be executed in one line as shown:"
   ]
  },
  {
   "cell_type": "code",
   "execution_count": 20,
   "metadata": {
    "collapsed": false
   },
   "outputs": [
    {
     "name": "stdout",
     "output_type": "stream",
     "text": [
      "chr1\t0\t250\r\n",
      "chr2\t100\t250\r\n",
      "chr2\t400\t450\r\n"
     ]
    }
   ],
   "source": [
    "!cat file1.bed file2.bed | bedtools sort | bedtools merge"
   ]
  },
  {
   "cell_type": "markdown",
   "metadata": {},
   "source": [
    "You can also browse the help for bedtools merge as shown below."
   ]
  },
  {
   "cell_type": "code",
   "execution_count": 21,
   "metadata": {
    "collapsed": false
   },
   "outputs": [
    {
     "name": "stdout",
     "output_type": "stream",
     "text": [
      "\r\n",
      "*****ERROR: Unrecognized parameter: --help *****\r\n",
      "\r\n",
      "\r\n",
      "Tool:    bedtools merge (aka mergeBed)\r\n",
      "Version: v2.17.0\r\n",
      "Summary: Merges overlapping BED/GFF/VCF entries into a single interval.\r\n",
      "\r\n",
      "Usage:   bedtools merge [OPTIONS] -i <bed/gff/vcf>\r\n",
      "\r\n",
      "Options: \r\n",
      "\t-s\tForce strandedness.  That is, only merge features\r\n",
      "\t\tthat are the same strand.\r\n",
      "\t\t- By default, merging is done without respect to strand.\r\n",
      "\r\n",
      "\t-n\tReport the number of BED entries that were merged.\r\n",
      "\t\t- Note: \"1\" is reported if no merging occurred.\r\n",
      "\r\n",
      "\t-d\tMaximum distance between features allowed for features\r\n",
      "\t\tto be merged.\r\n",
      "\t\t- Def. 0. That is, overlapping & book-ended features are merged.\r\n",
      "\t\t- (INTEGER)\r\n",
      "\r\n",
      "\t-nms\tReport the names of the merged features separated by semicolons.\r\n",
      "\r\n",
      "\t-scores\tReport the scores of the merged features. Specify one of \r\n",
      "\t\tthe following options for reporting scores:\r\n",
      "\t\t  sum, min, max,\r\n",
      "\t\t  mean, median, mode, antimode,\r\n",
      "\t\t  collapse (i.e., print a semicolon-separated list),\r\n",
      "\t\t- (INTEGER)\r\n",
      "\r\n",
      "Notes: \r\n",
      "\t(1) All output, regardless of input type (e.g., GFF or VCF)\r\n",
      "\t    will in BED format with zero-based starts\r\n",
      "\r\n",
      "\t(2) The input file (-i) file must be sorted by chrom, then start.\r\n",
      "\r\n"
     ]
    }
   ],
   "source": [
    "!mergeBed --help"
   ]
  },
  {
   "cell_type": "markdown",
   "metadata": {},
   "source": [
    "## The bedtools closest command\n",
    "\n",
    "The bedtools closest command can be used to find the regions from one file (the -b file) that are closest to the regions in another. Overlapping features have a distance of zero. This tool is particularly useful when trying to find the nearest gene to an enhancer."
   ]
  },
  {
   "cell_type": "code",
   "execution_count": 22,
   "metadata": {
    "collapsed": false
   },
   "outputs": [
    {
     "name": "stdout",
     "output_type": "stream",
     "text": [
      "chr1\t0\t100\tchr1\t90\t110\r\n",
      "chr1\t50\t150\tchr1\t110\t200\r\n",
      "chr1\t50\t150\tchr1\t150\t180\r\n",
      "chr1\t200\t250\tchr1\t110\t200\r\n",
      "chr2\t100\t250\tchr2\t400\t450\r\n"
     ]
    }
   ],
   "source": [
    "!bedtools closest -a file1.bed -b file2.bed"
   ]
  },
  {
   "cell_type": "markdown",
   "metadata": {},
   "source": [
    "The -d option can be used to report the distance to the feature in the -b file:"
   ]
  },
  {
   "cell_type": "code",
   "execution_count": 23,
   "metadata": {
    "collapsed": false
   },
   "outputs": [
    {
     "name": "stdout",
     "output_type": "stream",
     "text": [
      "chr1\t0\t100\tchr1\t90\t110\t0\r\n",
      "chr1\t50\t150\tchr1\t110\t200\t0\r\n",
      "chr1\t50\t150\tchr1\t150\t180\t1\r\n",
      "chr1\t200\t250\tchr1\t110\t200\t1\r\n",
      "chr2\t100\t250\tchr2\t400\t450\t151\r\n"
     ]
    }
   ],
   "source": [
    "!bedtools closest -a file1.bed -b file2.bed -d"
   ]
  },
  {
   "cell_type": "markdown",
   "metadata": {},
   "source": [
    "The \"-D ref\" option will report a negative distance for features that are earlier (\"upstream\")  and a positive distance for those that are later (\"downstream\"):"
   ]
  },
  {
   "cell_type": "code",
   "execution_count": 24,
   "metadata": {
    "collapsed": false
   },
   "outputs": [
    {
     "name": "stdout",
     "output_type": "stream",
     "text": [
      "chr1\t0\t100\tchr1\t90\t110\t0\r\n",
      "chr1\t50\t150\tchr1\t110\t200\t0\r\n",
      "chr1\t50\t150\tchr1\t150\t180\t1\r\n",
      "chr1\t200\t250\tchr1\t110\t200\t-1\r\n",
      "chr2\t100\t250\tchr2\t400\t450\t151\r\n"
     ]
    }
   ],
   "source": [
    "!bedtools closest -a file1.bed -b file2.bed -D ref"
   ]
  },
  {
   "cell_type": "markdown",
   "metadata": {},
   "source": [
    "Many other options can be browsed in the help menu:"
   ]
  },
  {
   "cell_type": "code",
   "execution_count": 25,
   "metadata": {
    "collapsed": false
   },
   "outputs": [
    {
     "name": "stdout",
     "output_type": "stream",
     "text": [
      "\r\n",
      "*****ERROR: Unrecognized parameter: --help *****\r\n",
      "\r\n",
      "\r\n",
      "*****\r\n",
      "*****ERROR: Need -a and -b files. \r\n",
      "*****\r\n",
      "\r\n",
      "Tool:    bedtools closest (aka closestBed)\r\n",
      "Version: v2.17.0\r\n",
      "Summary: For each feature in A, finds the closest \r\n",
      "\t feature (upstream or downstream) in B.\r\n",
      "\r\n",
      "Usage:   bedtools closest [OPTIONS] -a <bed/gff/vcf> -b <bed/gff/vcf>\r\n",
      "\r\n",
      "Options: \r\n",
      "\t-s\tReq. same strandedness.  That is, find the closest feature in\r\n",
      "\t\tB that overlaps A on the _same_ strand.\r\n",
      "\t\t- By default, overlaps are reported without respect to strand.\r\n",
      "\r\n",
      "\t-S\tReq. opposite strandedness.  That is, find the closest feature\r\n",
      "\t\tin B that overlaps A on the _opposite_ strand.\r\n",
      "\t\t- By default, overlaps are reported without respect to strand.\r\n",
      "\r\n",
      "\t-d\tIn addition to the closest feature in B, \r\n",
      "\t\treport its distance to A as an extra column.\r\n",
      "\t\t- The reported distance for overlapping features will be 0.\r\n",
      "\r\n",
      "\t-D\tLike -d, report the closest feature in B, and its distance to A\r\n",
      "\t\tas an extra column. Unlike -d, use negative distances to report\r\n",
      "\t\tupstream features.\r\n",
      "\t\tThe options for defining which orientation is \"upstream\" are:\r\n",
      "\t\t- \"ref\"   Report distance with respect to the reference genome. \r\n",
      "\t\t            B features with a lower (start, stop) are upstream\r\n",
      "\t\t- \"a\"     Report distance with respect to A.\r\n",
      "\t\t            When A is on the - strand, \"upstream\" means B has a\r\n",
      "\t\t            higher (start,stop).\r\n",
      "\t\t- \"b\"     Report distance with respect to B.\r\n",
      "\t\t            When B is on the - strand, \"upstream\" means A has a\r\n",
      "\t\t            higher (start,stop).\r\n",
      "\r\n",
      "\t-io\tIgnore features in B that overlap A.  That is, we want close,\r\n",
      "\t\tyet not touching features only.\r\n",
      "\r\n",
      "\t-iu\tIgnore features in B that are upstream of features in A.\r\n",
      "\t\tThis option requires -D and follows its orientation\r\n",
      "\t\trules for determining what is \"upstream\".\r\n",
      "\t-id\tIgnore features in B that are downstream of features in A.\r\n",
      "\t\tThis option requires -D and follows its orientation\r\n",
      "\t\trules for determining what is \"downstream\".\r\n",
      "\t-t\tHow ties for closest feature are handled.  This occurs when two\r\n",
      "\t\tfeatures in B have exactly the same \"closeness\" with A.\r\n",
      "\t\tBy default, all such features in B are reported.\r\n",
      "\t\tHere are all the options:\r\n",
      "\t\t- \"all\"    Report all ties (default).\r\n",
      "\t\t- \"first\"  Report the first tie that occurred in the B file.\r\n",
      "\t\t- \"last\"   Report the last tie that occurred in the B file.\r\n",
      "\r\n",
      "\t-N\tRequire that the query and the closest hit have different names.\r\n",
      "\t\tFor BED, the 4th column is compared.\r\n",
      "\r\n",
      "\t-header\tPrint the header from the A file prior to results.\r\n",
      "\r\n",
      "Notes: \r\n",
      "\tReports \"none\" for chrom and \"-1\" for all other fields when a feature\r\n",
      "\tis not found in B on the same chromosome as the feature in A.\r\n",
      "\tE.g. none\t-1\t-1\r\n",
      "\r\n"
     ]
    }
   ],
   "source": [
    "!bedtools closest --help"
   ]
  },
  {
   "cell_type": "markdown",
   "metadata": {},
   "source": [
    "## Other bedtools commands"
   ]
  },
  {
   "cell_type": "markdown",
   "metadata": {},
   "source": [
    "We have shown only the tip of the iceberg of what bedtools can do. To get a taste of the other functionality, you can browse the documentation at https://bedtools.readthedocs.io/en/latest/ or simply enter \"bedtools --help\":"
   ]
  },
  {
   "cell_type": "code",
   "execution_count": 26,
   "metadata": {
    "collapsed": false
   },
   "outputs": [
    {
     "name": "stdout",
     "output_type": "stream",
     "text": [
      "bedtools: flexible tools for genome arithmetic and DNA sequence analysis.\r\n",
      "usage:    bedtools <subcommand> [options]\r\n",
      "\r\n",
      "The bedtools sub-commands include:\r\n",
      "\r\n",
      "[ Genome arithmetic ]\r\n",
      "    intersect     Find overlapping intervals in various ways.\r\n",
      "    window        Find overlapping intervals within a window around an interval.\r\n",
      "    closest       Find the closest, potentially non-overlapping interval.\r\n",
      "    coverage      Compute the coverage over defined intervals.\r\n",
      "    map           Apply a function to a column for each overlapping interval.\r\n",
      "    genomecov     Compute the coverage over an entire genome.\r\n",
      "    merge         Combine overlapping/nearby intervals into a single interval.\r\n",
      "    cluster       Cluster (but don't merge) overlapping/nearby intervals.\r\n",
      "    complement    Extract intervals _not_ represented by an interval file.\r\n",
      "    subtract      Remove intervals based on overlaps b/w two files.\r\n",
      "    slop          Adjust the size of intervals.\r\n",
      "    flank         Create new intervals from the flanks of existing intervals.\r\n",
      "    sort          Order the intervals in a file.\r\n",
      "    random        Generate random intervals in a genome.\r\n",
      "    shuffle       Randomly redistrubute intervals in a genome.\r\n",
      "    annotate      Annotate coverage of features from multiple files.\r\n",
      "\r\n",
      "[ Multi-way file comparisons ]\r\n",
      "    multiinter    Identifies common intervals among multiple interval files.\r\n",
      "    unionbedg     Combines coverage intervals from multiple BEDGRAPH files.\r\n",
      "\r\n",
      "[ Paired-end manipulation ]\r\n",
      "    pairtobed     Find pairs that overlap intervals in various ways.\r\n",
      "    pairtopair    Find pairs that overlap other pairs in various ways.\r\n",
      "\r\n",
      "[ Format conversion ]\r\n",
      "    bamtobed      Convert BAM alignments to BED (& other) formats.\r\n",
      "    bedtobam      Convert intervals to BAM records.\r\n",
      "    bamtofastq    Convert BAM records to FASTQ records.\r\n",
      "    bedpetobam    Convert BEDPE intervals to BAM records.\r\n",
      "    bed12tobed6   Breaks BED12 intervals into discrete BED6 intervals.\r\n",
      "\r\n",
      "[ Fasta manipulation ]\r\n",
      "    getfasta      Use intervals to extract sequences from a FASTA file.\r\n",
      "    maskfasta     Use intervals to mask sequences from a FASTA file.\r\n",
      "    nuc           Profile the nucleotide content of intervals in a FASTA file.\r\n",
      "\r\n",
      "[ BAM focused tools ]\r\n",
      "    multicov      Counts coverage from multiple BAMs at specific intervals.\r\n",
      "    tag           Tag BAM alignments based on overlaps with interval files.\r\n",
      "\r\n",
      "[ Statistics tools ]\r\n",
      "    jaccard       Calculates the Jaccard statistic b/w two sets of intervals.\r\n",
      "\r\n",
      "[ Miscellaneous tools ]\r\n",
      "    overlap       Computes the amount of overlap from two intervals.\r\n",
      "    igv           Create an IGV snapshot batch script.\r\n",
      "    links         Create a HTML page of links to UCSC locations.\r\n",
      "    makewindows   Make interval \"windows\" across a genome.\r\n",
      "    groupby       Group by common cols. & summarize oth. cols. (~ SQL \"groupBy\")\r\n",
      "    expand        Replicate lines based on lists of values in columns.\r\n",
      "\r\n",
      "[ General help ]\r\n",
      "    --help        Print this help menu.\r\n",
      "    --version     What version of bedtools are you using?.\r\n",
      "    --contact     Feature requests, bugs, mailing lists, etc.\r\n",
      "\r\n"
     ]
    }
   ],
   "source": [
    "!bedtools --help"
   ]
  }
 ],
 "metadata": {
  "anaconda-cloud": {},
  "kernelspec": {
   "display_name": "Python [Root]",
   "language": "python",
   "name": "Python [Root]"
  },
  "language_info": {
   "codemirror_mode": {
    "name": "ipython",
    "version": 3
   },
   "file_extension": ".py",
   "mimetype": "text/x-python",
   "name": "python",
   "nbconvert_exporter": "python",
   "pygments_lexer": "ipython3",
   "version": "3.5.2"
  }
 },
 "nbformat": 4,
 "nbformat_minor": 0
}
