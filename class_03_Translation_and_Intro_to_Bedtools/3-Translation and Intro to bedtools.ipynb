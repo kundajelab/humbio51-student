{
 "cells": [
  {
   "cell_type": "markdown",
   "metadata": {},
   "source": [
    "# Big Data for Biologists: Decoding Genomic Function- Class 3\n",
    "\n",
    "## How can we predict the protein product of a gene? More specifically, how can we predict the amino acid sequence of a protein made from an mRNA sequence transcribed from a gene?\n",
    "\n",
    "## What are genomic coordinates and how are they used to designate the position of a gene in the human genome? \n",
    "\n",
    "##  Learning Objectives\n",
    "***Students should be able to***\n",
    " <ol>\n",
    " <li><a href=#Aminoacidsequence>Use the genetic code to determine the amino acid sequence of the protein product for an mRNA protein coding sequence </a></li>\n",
    " <li><a href=#PythonDictionary>Make a Python dictionary for the genetic code (also called a look up table)</a> </li>\n",
    " <li><a href=#DefineFunction>Define and call a function in a Python script </a></li>\n",
    " <li><a href=#PredictProteinSequence>Predict a protein sequence from a processed mRNA sequence using a Python dictionary</a></li>\n",
    " <li><a href=#SaveFunction>Save functions to a .py file so they can be used in other programs </a></li> \n",
    "  <li><a href=#ReferenceGenome>Explain what a reference genome is </a></li>\n",
    " <li><a href=#GenomicCoordinates>Explain how genomic coordinates are used to designate the position of a gene or feature in the human reference genome </a></li>\n",
    " <li><a href=#BEDformat>Use genomic coordinates to make a file in BED format </a></li>\n",
    " <li><a href=#makeFASTAfromBED>Use the genomic analysis package BEDtools to obtain a protein coding sequence from the human reference genome</a></li>\n",
    "\n"
   ]
  },
  {
   "cell_type": "markdown",
   "metadata": {},
   "source": [
    "## How can we use the genetic code to determine the amino acid sequence of the protein product made from an mRNA sequence? <a name='Aminoacidsequence' />\n",
    "\n",
    "In the last class, we wrote code to transcribe DNA to pre-mRNA and concluded by finding the start and stop codons in an mRNA sequence. Today we are going to look at the next step in gene expression, the translation of an mRNA sequence into protein. \n",
    "\n",
    "<img src=\"../Images/3-Translation.png\" style=\"width: 70%; height: 75%\" align=\"center\"/>\n"
   ]
  },
  {
   "cell_type": "markdown",
   "metadata": {},
   "source": [
    "Looking at a little more detail at the mRNA sequence, the region that gets translated into protein is called the **coding sequence**. The coding sequence is flanked by the 5' untranslated region at one end and the 3' untranslated region at the other. \n",
    "\n",
    "<img src=\"../Images/3-CDS.png\" style=\"width: 80%; height: 90%\" align=\"center\"/>\n"
   ]
  },
  {
   "cell_type": "markdown",
   "metadata": {},
   "source": [
    "As a reminder,during translation, every three base pairs in an mRNA sequence past the start codon codes for one amino acid. These three base pair sequences are called codons. \n",
    "\n",
    "<img src=\"../Images/3-Translation Codons.png\" style=\"width: 80%; height: 90%\" align=\"center\"/>"
   ]
  },
  {
   "cell_type": "markdown",
   "metadata": {},
   "source": [
    "The start codon, as we saw previously is ATG which codes for the amino acid Methionine. Below is the **genetic code** for the rest of the amino acids as well as the three stop codons. \n",
    "\n",
    "<img src=\"../Images/3-Genetic Code.png\" style=\"width: 60%; height: 70%\" align=\"center\"/>"
   ]
  },
  {
   "cell_type": "markdown",
   "metadata": {},
   "source": [
    "In the final step of our last class we found three possible combinations of start and stop codons: \n",
    "\n",
    "* start codon: 60 stop codon: 390 orf length: 330\n",
    "* start codon: 72 stop codon: 390 orf length: 318\n",
    "* start codon: 442 stop codon: 448 orf length: 6\n",
    "\n",
    "The actual combination of start and stop codons is often the combination that results in the longest sequence, but the true start and stop codons need to be validated experimentally. \n",
    "\n",
    "In this case, we can find the actual start codon for human insulin that has been experimentally validated in the NCBI database [here](https://www.ncbi.nlm.nih.gov/nuccore/NM_000207.2) is at position 60. \n",
    "\n",
    "Here is the mRNA sequence for the first twelve residues from codon 60 of the insulin sequence from the previous class: \n",
    "\n",
    "AUGGCCCUGUGG \n",
    "\n",
    "As an exercise, write out the amino acid sequence corresponding to the mRNA sequence. "
   ]
  },
  {
   "cell_type": "markdown",
   "metadata": {},
   "source": [
    "The amino acid sequence should be: \n",
    "\n",
    "\n",
    "We are now going to learn additional Python tools to help us create the code to write out the amino acid sequence of a protein product that is made from an mRNA sequence."
   ]
  },
  {
   "cell_type": "markdown",
   "metadata": {},
   "source": [
    "## Making a python dictionary for the genetic code<a name='PythonDictionary' />\n",
    "\n",
    "The python code we will be writing today has some similarities to scripts that we looked at in the last class. \n",
    "\n",
    "Last time, when we wrote out the complementary DNA sequence we made four substitutions and when we wrote out the mRNA sequence we made one substitution. \n",
    "\n",
    "To write out the amino acid sequence that will be produced from a mRNA sequence, we will need to make sixty four substitutions! \n",
    "\n",
    "To simplify the code, we will use a Python tool known as dictionaries or look-up tables. \n",
    "\n",
    "Python dictionaries let you define a number of substitutions in one line rather than as a series of lines. \n",
    "\n",
    "There are a few different ways to define a dictionary in Python. If you are interested, this  [link](https://docs.python.org/2/library/stdtypes.html#typesmapping) gives the complete syntax options. \n",
    "\n",
    "Before we define the dictionary for protein translation, we are going to practice writing a dictionary that we could use to write out a complementary DNA sequence.\n",
    "\n",
    "We'll use the same code as last time but we will use a python dictionary to do the substitutions instead of using if statements. \n",
    "\n",
    "The syntax for creating the dictionary is: \n",
    "\n",
    "DNAdict={'A':'T','T':'A','G':'C','C':'G'}\n",
    "\n",
    "DNAdict is the name of the dictionary.\n",
    "\n",
    "The letters before the colon are known as 'keys'and the letters after the colon are known as values. \n",
    "\n",
    "The syntax for defining a dictionary is as follows: \n",
    "\n",
    " a={key1:value1,key2:value2,key3:value3}\n",
    " \n",
    "To index or refer to a dictionary value use the following syntax: \n",
    "\n",
    " a[key1]=value1\n",
    "\n",
    " a[key2]=value2\n",
    "\n",
    " a[key3]=value3\n",
    " \n",
    "Given the information above:\n",
    "\n",
    "What is DNAdict[A] =  ?\n"
   ]
  },
  {
   "cell_type": "code",
   "execution_count": null,
   "metadata": {},
   "outputs": [],
   "source": [
    "#Write out the complementary sequence for a DNA sequence using a look up table\n",
    "FASTAgenesequence=open('../class_01_Gene_Sequences/data/Human-Insulin-NG_007114.1.txt','r')\n",
    "genesequence=(FASTAgenesequence.readlines()[1:])\n",
    "genesequence=''.join(genesequence)\n",
    "genesequence=genesequence.replace('\\n','') #this line removes the \\n values from the genesequence\n",
    "\n",
    "#This line defines the subsitutions that will be made when the dictionary is called \n",
    "DNAdict={'A':'T','T':'A','G':'C','C':'G'}\n",
    "\n",
    "complementarysequence='' #this defines the variable 'complementarysequence'\n",
    "for i in genesequence:\n",
    "    #this line adds the dictionary element for the base pair in position i in genesequence to complementary sequence. \n",
    "    complementarysequence=complementarysequence+str(DNAdict[i])\n",
    "\n",
    "#if we wanted to reverse-complement, we would execute the line below to reverse the sequence. \n",
    "print (complementarysequence[::-1])"
   ]
  },
  {
   "cell_type": "markdown",
   "metadata": {},
   "source": [
    "Using the space below, start writing a python dictionary for the genetic code starting with the four entries for the upper left hand corner of the table in the <a href=#GeneticCode>figure above </a>. "
   ]
  },
  {
   "cell_type": "code",
   "execution_count": null,
   "metadata": {},
   "outputs": [],
   "source": [
    "#Start writing a Python Dictionary for the first four entries in the upper left hand corner of the Genetic Code \n",
    "###BEGIN SOLUTION\n",
    "###END SOLUTION"
   ]
  },
  {
   "cell_type": "markdown",
   "metadata": {},
   "source": [
    "We will be using a complete dictionary for the genetic code below when we write out the protein sequence for an mRNA sequence, but first we will be covering one other tool for writing more complex scripts, creating functions. "
   ]
  },
  {
   "cell_type": "markdown",
   "metadata": {},
   "source": [
    "## Defining and calling functions in Python scripts <a name='DefineFunction' />\n",
    "\n",
    "As you start to write more complex python scripts, a very helpful tool for any set of commands that accomplish a particular task and are used repeatedly either within a script or between scripts is to define a **function** for the series of commands. \n",
    "\n",
    "Once the function is defined the series of commands can be run with one line of code rather than multiple lines. \n",
    "\n",
    "An example of a task that we could put into a function is reading in a nucleotide sequence from a FASTA sequence. \n",
    "\n",
    "We wrote the code to read in the nucleotides from a FASTA sequence in the first class. In this class we are going to define it as a function. \n",
    "\n",
    "Functions are defined using the **def** command followed by the name of the function and then any necessary inputs separated by commas. \n",
    "\n",
    "In the example below the following code: \n",
    "\n",
    "> <font color=green>def</font><font color=blue> read_nt_from_fastasequence(FASTA_sequence)</font>:\n",
    " \n",
    "defines a function called \"read_nt_from_FASTAsequence\". \n",
    "\n",
    "And the code: \n",
    "\n",
    "> sequence=read_nt_from_fastasequence('../class_1/data/Human-Insulin NM_000207.2.txt')\n",
    "\n",
    "calls the function \"read_nt_from_FASTAsequence\". \n",
    "\n",
    "Within the function, the input sequence '../class_1/data/Human-Insulin NM_000207.2.txt' is assigned the name 'FASTAsequence'.  \n",
    "\n",
    "At the end, the \"return\" command defines the output of the function that is saved for the rest of the program. \n",
    "\n",
    "Note, the variable names definied within the function are not  "
   ]
  },
  {
   "cell_type": "code",
   "execution_count": null,
   "metadata": {},
   "outputs": [],
   "source": [
    "#read in a nucleotide (DNA or RNA) sequence from a FASTA sequence\n",
    "\n",
    "def read_nt_from_fastasequence(FASTAsequence):\n",
    "    FASTAsequence=open(FASTAsequence,'r')\n",
    "    nt_sequence=(FASTAsequence.readlines()[1:])\n",
    "    nt_sequence=''.join(nt_sequence)\n",
    "    nt_sequence=nt_sequence.replace('\\n','')\n",
    "    return(nt_sequence)\n",
    "\n",
    "insulin_DNA_sequence=read_nt_from_fastasequence('../class_01_Gene_Sequences/data/Human-Insulin NM_000207.2.txt')\n",
    "print(insulin_DNA_sequence)"
   ]
  },
  {
   "cell_type": "markdown",
   "metadata": {},
   "source": [
    "An example of another task that we could put into a function is changing a DNA sequence to an RNA sequence by substituting uracils (Us) for thymines (Ts). \n",
    "\n",
    "We wrote the code to substitute uracils for thymines in the last class. Now we can define that as a function."
   ]
  },
  {
   "cell_type": "code",
   "execution_count": null,
   "metadata": {
    "scrolled": true
   },
   "outputs": [],
   "source": [
    "#write an RNA sequence from a DNA sequence\n",
    "\n",
    "def write_RNA_from_DNA(DNAsequence):\n",
    "    RNAsequence=DNAsequence.replace('T','U')\n",
    "    return(RNAsequence)\n",
    "\n",
    "#call the function to write an RNA sequence from a DNA sequence and print the sequence\n",
    "\n",
    "###BEGIN SOLUTION\n",
    "###END SOLUTION"
   ]
  },
  {
   "cell_type": "markdown",
   "metadata": {},
   "source": [
    "Lets look carefully now at the variables in the function that we wrote above. In the example above we defined the variable name RNAsequence within the function and we used the variable insulin_RNAsequence when we called the function. Try running the code in the box below.      "
   ]
  },
  {
   "cell_type": "code",
   "execution_count": null,
   "metadata": {},
   "outputs": [],
   "source": [
    "print(RNAsequence)"
   ]
  },
  {
   "cell_type": "markdown",
   "metadata": {},
   "source": [
    "Why does the print(RNAsequence) command lead to an error message?"
   ]
  },
  {
   "cell_type": "markdown",
   "metadata": {},
   "source": [
    "RNAsequence is what is known as a **local variable**. It is defined only within the write_RNA_from_DNA function. Once outside of the function the variable name is no longer stored. \n",
    "\n",
    "In contrast, insulin_DNA_sequence and insulin_RNA_sequence are examples of **global variables**. They are defined in the main body of the code and are stored in the notebook until they are deleted or changed. "
   ]
  },
  {
   "cell_type": "code",
   "execution_count": null,
   "metadata": {},
   "outputs": [],
   "source": [
    "print(insulin_RNA_sequence)"
   ]
  },
  {
   "cell_type": "markdown",
   "metadata": {},
   "source": [
    "## Predict a protein sequence from a processed RNA sequence using a Python dictionary<a name='PredictProteinSequence' />\n",
    "\n",
    "We are now ready to write a third function to predict a protein sequence from a processed mRNA sequence, using the genetic code dictionary. \n",
    "\n",
    "Note if we were starting from scratch, we would first need to call the functions defined above. \n",
    "\n",
    "The function has two main sections. \n",
    "1. Define a complete python dictionary for the three letter genetic code\n",
    "2. Iterate over the bases in the RNAsequence and convert each codon to the corresponding amino acid defined in the dictionary. \n",
    "\n",
    "Complete the code below to write out the protein sequence for an mRNA coding sequence. \n",
    " "
   ]
  },
  {
   "cell_type": "code",
   "execution_count": null,
   "metadata": {},
   "outputs": [],
   "source": [
    "#Write out the protein amino acid sequence from an mRNA sequence\n",
    "\n",
    "def write_protein_from_RNA(RNAsequence):\n",
    "                           \n",
    "#defines the python dictionary for the three letter genetic code \n",
    "    geneticcode3let={'UUU':'Phe','UUC':'Phe','UUA':'Leu','UUG':'Leu',\n",
    "     'CUU':'Leu','CUC':'Leu','CUA':'Leu','CUG':'Leu',\n",
    "     'AUU':'Ile','AUC':'Ile','AUA':'Ile','AUG':'Met',\n",
    "     'GUU':'Val','GUC':'Val','GUA':'Val','GUG':'Val',\n",
    "     'UCU':'Ser','UCC':'Ser','UCA':'Ser','UCG':'Ser',\n",
    "     'CCU':'Pro','CCC':'Pro','CCA':'Pro','CCG':'Pro',\n",
    "     'ACU':'Thr','ACC':'Thr','ACA':'Thr','ACG':'Thr',\n",
    "     'GCU':'Ala','GCC':'Ala','GCA':'Ala','GCG':'Ala',\n",
    "     'UAU':'Tyr','UAC':'Tyr','UAA':'Stop','UAG':'Stop',\n",
    "     'CAU':'His','CAC':'His','CAA':'Gln','CAG':'Gln',\n",
    "     'AAU':'Asn','AAC':'Asn','AAA':'Lys','AAG':'Lys',\n",
    "     'GAU':'Asp','GAC':'Asp','GAA':'Glu','GAG':'Glu',\n",
    "     'UGU':'Cys','UGC':'Cys','UGA':'Stop','UGG':'Trp',\n",
    "     'CGU':'Arg','CGC':'Arg','CGA':'Arg','CGG':'Arg',\n",
    "     'AGU':'Ser','AGC':'Ser','AGA':'Arg','AGG':'Arg',\n",
    "     'GGU':'Gly','GGC':'Gly','GGA':'Gly','GGG':'Gly'}\n",
    "\n",
    "#translates the RNAsequence into protein \n",
    "\n",
    "#defines the string variable proteinseq\n",
    "    proteinseq=''\n",
    "\n",
    "#range command (start,stop(not included),step)\n",
    "\n",
    "    for i in range(1,len(RNAsequence),3): "
   ]
  },
  {
   "cell_type": "markdown",
   "metadata": {},
   "source": [
    "Is the start to the code above correct, why or why not?"
   ]
  },
  {
   "cell_type": "markdown",
   "metadata": {},
   "source": [
    "The code above writes out the protein sequence from the entire RNA sequence but does not take into account where the open reading frame is. \n",
    "\n",
    "The actual start site, based on what is reported in the NCBI database, is basepair 60 (one-based numbering). \n",
    "\n",
    "The end of the last codon (including the Stop codon) is 392 (also 1-based numbering).   \n",
    "\n",
    "How could we change the code above to write out only the protein sequence only from the start to the stop codon?  \n"
   ]
  },
  {
   "cell_type": "code",
   "execution_count": null,
   "metadata": {},
   "outputs": [],
   "source": [
    "#Write out the protein amino acid sequence from an mRNA sequence\n",
    "\n",
    "def write_protein_from_RNA(RNAsequence):\n",
    "                           \n",
    "#defines the python dictionary for the three letter genetic code \n",
    "    geneticcode3let={'UUU':'Phe','UUC':'Phe','UUA':'Leu','UUG':'Leu',\n",
    "     'CUU':'Leu','CUC':'Leu','CUA':'Leu','CUG':'Leu',\n",
    "     'AUU':'Ile','AUC':'Ile','AUA':'Ile','AUG':'Met',\n",
    "     'GUU':'Val','GUC':'Val','GUA':'Val','GUG':'Val',\n",
    "     'UCU':'Ser','UCC':'Ser','UCA':'Ser','UCG':'Ser',\n",
    "     'CCU':'Pro','CCC':'Pro','CCA':'Pro','CCG':'Pro',\n",
    "     'ACU':'Thr','ACC':'Thr','ACA':'Thr','ACG':'Thr',\n",
    "     'GCU':'Ala','GCC':'Ala','GCA':'Ala','GCG':'Ala',\n",
    "     'UAU':'Tyr','UAC':'Tyr','UAA':'Stop','UAG':'Stop',\n",
    "     'CAU':'His','CAC':'His','CAA':'Gln','CAG':'Gln',\n",
    "     'AAU':'Asn','AAC':'Asn','AAA':'Lys','AAG':'Lys',\n",
    "     'GAU':'Asp','GAC':'Asp','GAA':'Glu','GAG':'Glu',\n",
    "     'UGU':'Cys','UGC':'Cys','UGA':'Stop','UGG':'Trp',\n",
    "     'CGU':'Arg','CGC':'Arg','CGA':'Arg','CGG':'Arg',\n",
    "     'AGU':'Ser','AGC':'Ser','AGA':'Arg','AGG':'Arg',\n",
    "     'GGU':'Gly','GGC':'Gly','GGA':'Gly','GGG':'Gly'}\n",
    "\n",
    "###BEGINSOLUTION fill in the brackets to write out the correct protein sequence\n",
    "#translates the RNAsequence into protein \n",
    "\n",
    "#defines the string variable proteinseq\n",
    "    proteinseq=''\n",
    "\n",
    "#range command (start,stop(not included),step)\n",
    "\n",
    "    for i in range(0,len(RNAsequence),3): \n",
    " \n",
    "        proteinseq=proteinseq+str(geneticcode3let[RNAsequence[]])\n",
    "\n",
    "    return (proteinseq)\n",
    "\n",
    "#call the write_protein_from RNA sequence\n",
    "insulin_protein_sequence=write_protein_from_RNA(insulin_RNA_sequence[])\n",
    "\n",
    "#print the protein sequence\n",
    "print(insulin_protein_sequence)\n",
    "###ENDSOLUTION"
   ]
  },
  {
   "cell_type": "markdown",
   "metadata": {},
   "source": [
    "In the code above we have started a script to write out the same protein sequence using one letter amino acid symbols. Add in the missing lines to write out the protein sequence using the one letter amino acid symbols. \n",
    "\n",
    "This time change the numbers to leave off the stop codon. "
   ]
  },
  {
   "cell_type": "code",
   "execution_count": null,
   "metadata": {},
   "outputs": [],
   "source": [
    "#Write out the protein 1-letter amino acid from an mRNA sequence\n",
    "\n",
    "def write_protein_1_letter_aa_from_RNA(RNAsequence):\n",
    "\n",
    "#defines the python dictionary for the one letter genetic code \n",
    "    geneticcode1let={'UUU':'F','UUC':'F','UUA':'L','UUG':'L',\n",
    "     'CUU':'L','CUC':'L','CUA':'L','CUG':'L',\n",
    "     'AUU':'I','AUC':'I','AUA':'I','AUG':'M',\n",
    "     'GUU':'V','GUC':'V','GUA':'V','GUG':'V',\n",
    "     'UCU':'S','UCC':'S','UCA':'S','UCG':'S',\n",
    "     'CCU':'P','CCC':'P','CCA':'P','CCG':'P',\n",
    "     'ACU':'T','ACC':'T','ACA':'T','ACG':'T',\n",
    "     'GCU':'A','GCC':'A','GCA':'A','GCG':'A',\n",
    "     'UAU':'Y','UAC':'Y','UAA':'*','UAG':'*',\n",
    "     'CAU':'H','CAC':'H','CAA':'Q','CAG':'Q',\n",
    "     'AAU':'N','AAC':'N','AAA':'K','AAG':'K',\n",
    "     'GAU':'D','GAC':'D','GAA':'E','GAG':'E',\n",
    "     'UGU':'C','UGC':'C','UGA':'*','UGG':'W',\n",
    "     'CGU':'R','CGC':'R','CGA':'R','CGG':'R',\n",
    "     'AGU':'S','AGC':'S','AGA':'R','AGG':'R',\n",
    "     'GGU':'G','GGC':'G','GGA':'G','GGG':'G'}\n",
    "\n",
    "###BEGINSOLUTION edit the code to write out the 1 letter amino acid sequence\n",
    "#defines the string variable proteinseq\n",
    "    proteinseq=''\n",
    "\n",
    "#range command (start,stop(not included),step)\n",
    "\n",
    "    for i in range(0,len(RNAsequence),3):  \n",
    "        proteinseq=proteinseq+str(geneticcode3let[RNAsequence[i:i+3]])\n",
    "    return (proteinseq)\n",
    "###END SOLUTION\n",
    "\n",
    "\n",
    "###BEGINSOLUTION\n",
    "#call the write_protein_1_letter_aa_from RNA sequence and print the 1-letter amino acid sequence\n",
    "insulin_1letter_protein_sequence=write_protein_from_RNA(insulin_RNA_sequence[59:389])\n",
    "print(insulin_1letter_protein_sequence)\n",
    "###END SOLUTION "
   ]
  },
  {
   "cell_type": "markdown",
   "metadata": {},
   "source": [
    "## Save functions to a .py file that can be imported into other programs<a name='SaveFunction' />\n",
    "\n",
    "Once you have written a function or set of functions, it is helpful to be able to save the funcion(s) in a format that you can use it in other scripts. \n",
    "\n",
    "In Python, a file with a set of functions is called a **module**. Module files are saved with the extension .py and they can be called from other Python scripts using the import command. \n",
    " \n",
    "In the course of this class, you will learn about the vast resources of .py files that are publicly available and that you can use to view or analyze sequences or data without having to write algorithms from scratch. \n",
    "\n",
    "Here, you are going to make your own module. \n",
    "\n",
    "We will write two functions: write_RNA_from_DNA and write_protein_from_mRNA and then save them to a .py file called central_dogma_helpers.py.  \n",
    "\n",
    "The first line defines the name of the .py file and provides the instructions to write the contents of the box to a file. We are going to store the file in a directory called helpers that we will use for saving modules throughout the class. \n",
    "\n",
    "We already copied the first function, write_mRNA_from_DNA, for you into the box. \n",
    "\n",
    "Fill in the code for the second function, write_protein_from_mRNA. You will need the code that you wrote above as well as your knowledge about how to format a function. "
   ]
  },
  {
   "cell_type": "code",
   "execution_count": null,
   "metadata": {},
   "outputs": [],
   "source": [
    "%%writefile ../helpers/central_dogma_helpers.py\n",
    "\n",
    "#read in a nucleotide (DNA or RNA) sequence from a FASTA sequence\n",
    "\n",
    "def read_nt_from_fastasequence(FASTAsequence):\n",
    "    FASTAsequence=open(FASTAsequence,'r')\n",
    "    nt_sequence=(FASTAsequence.readlines()[1:])\n",
    "    nt_sequence=''.join(nt_sequence)\n",
    "    nt_sequence=nt_sequence.replace('\\n','')\n",
    "    return(nt_sequence)\n",
    "\n",
    "#write an RNA sequence from a DNA sequence\n",
    "def write_RNA_from_DNA(DNAsequence):\n",
    "    RNAsequence=DNAsequence.replace('T','U')\n",
    "    return(RNAsequence)\n",
    "\n",
    "#Write out the protein 1-letter amino acid from an mRNA sequence\n",
    "def write_protein_1_letter_aa_from_RNA(RNAsequence):\n",
    "\n",
    "#defines the python dictionary for the one letter genetic code \n",
    "    geneticcode1let={'UUU':'F','UUC':'F','UUA':'L','UUG':'L',\n",
    "     'CUU':'L','CUC':'L','CUA':'L','CUG':'L',\n",
    "     'AUU':'I','AUC':'I','AUA':'I','AUG':'M',\n",
    "     'GUU':'V','GUC':'V','GUA':'V','GUG':'V',\n",
    "     'UCU':'S','UCC':'S','UCA':'S','UCG':'S',\n",
    "     'CCU':'P','CCC':'P','CCA':'P','CCG':'P',\n",
    "     'ACU':'T','ACC':'T','ACA':'T','ACG':'T',\n",
    "     'GCU':'A','GCC':'A','GCA':'A','GCG':'A',\n",
    "     'UAU':'Y','UAC':'Y','UAA':'*','UAG':'*',\n",
    "     'CAU':'H','CAC':'H','CAA':'Q','CAG':'Q',\n",
    "     'AAU':'N','AAC':'N','AAA':'K','AAG':'K',\n",
    "     'GAU':'D','GAC':'D','GAA':'E','GAG':'E',\n",
    "     'UGU':'C','UGC':'C','UGA':'*','UGG':'W',\n",
    "     'CGU':'R','CGC':'R','CGA':'R','CGG':'R',\n",
    "     'AGU':'S','AGC':'S','AGA':'R','AGG':'R',\n",
    "     'GGU':'G','GGC':'G','GGA':'G','GGG':'G'}\n",
    "\n",
    "#defines the string variable proteinseq\n",
    "    proteinseq=''\n",
    "\n",
    "#range command (start,stop(not included),step)\n",
    "\n",
    "    for i in range(0,len(RNAsequence),3): \n",
    "        proteinseq=proteinseq+str(geneticcode1let[RNAsequence[i:i+3]])\n",
    "    return (proteinseq)"
   ]
  },
  {
   "cell_type": "markdown",
   "metadata": {},
   "source": [
    "You should now be able to see a ../helpers/central_dogma_helpers.py file. Take a look at the file and make sure you see what you would expect. "
   ]
  },
  {
   "cell_type": "code",
   "execution_count": null,
   "metadata": {},
   "outputs": [],
   "source": [
    "ls ../helpers/"
   ]
  },
  {
   "cell_type": "markdown",
   "metadata": {},
   "source": [
    "## What is a reference genome? <a name='ReferenceGenome' />\n",
    " \n",
    "Now that you have learned some tools for how to work with single DNA, RNA and protein sequences, we are going to start to learn about genomics data. \n",
    "\n",
    "We will be working with data from the Human Genome Project as well as larger scale sequencing projects such as the 1000 Genomes Project.  \n",
    "\n",
    "The Human Genome Project produced what is called a human **reference genome**, a publicly available, mostly complete sequence of the human genome that the scientific community agreed to use as a basis for comparison for new sequencing information. \n",
    "\n",
    "The sequence is \"mostly complete\" because some regions are difficult to sequence. The human genome still has some gaps.  \n",
    "\n",
    "The initial reference genome was made from the sequences of a small number of individuals. Now, with more individuals having been sequenced, the reference genome captures more, but still not all of human genetic diversity. \n",
    "\n",
    "Researchers are still updating the reference genome. It is maintained by a consortium. You can find out more details [here](https://www.ncbi.nlm.nih.gov/grc/human).  \n",
    "\n",
    "As an introduction to working with data from the Human Genome, we are going to look at how to find the sequence for human insulin that we have been looking at in the human reference genome.\n"
   ]
  },
  {
   "cell_type": "markdown",
   "metadata": {},
   "source": [
    "## What are genomic coordinates and how are they used to designate the position of a gene in the human genome?<a name='GenomicCoordinates' />\n",
    "\n",
    "The position of genes in the human reference genome are specified by their **genomic coordinates**. \n",
    "\n",
    "The genomic coordinates for a gene include the start position, stop position as well as the chromosome number. \n",
    "\n",
    "Whenever you are using genomic coordinates its important to also keep track of the version of the reference genome because these numbers change as the reference genome sequence is updated. \n",
    "\n",
    "Human Genomes typically have 23 pairs of chromosomes. Reference genomes are typically haploid, meaning that they   have sequencing information for 23 chromosomes, but not for separate pairs. \n",
    "\n",
    "<img src=\"../Images/3-Human Chromosomes.jpg\" style=\"width: 40%; height: 50%\" align=\"center\"/>\n"
   ]
  },
  {
   "cell_type": "markdown",
   "metadata": {},
   "source": [
    "## Use genomic coordinates to make a file in BED format<a name='BEDformat' />\n",
    "\n",
    "\n",
    "The format for specifying genomic coordinates depends on the particular programs that you plan to use. There are several formats including BED, VCF, GFF/GTF. \n",
    "\n",
    "For this class, we will primarily be using a suite of programs called BED tools, so we will be using the BED format for genomic coordinates. \n",
    "\n",
    "BED files are text files that contain genomic coordinate information, and are typically given the .bed extension. The format of a BED file is specified [here](https://genome.ucsc.edu/FAQ/FAQformat.html#format1). \n",
    "\n",
    "Only the first three columns are mandatory for BED files, but we've listed the first six columns here. They contain the following information:\n",
    "\n",
    "Columns in a BED file:\n",
    "\n",
    "- Column 1: **chromosome** (this is designated as a number for chromosomes 1 to 22 and chrX or chrY for the sex chromosomes)  \n",
    "<br>\n",
    "- Column 2: **start** position (the beginning of the first base is indicated by the start position 0; the beginning of the 5th base is indicated by the start position \"4\")  \n",
    "<br>\n",
    "- Column 3: **end** position (the end of the first base is indicated by the end position \"1\"; the end of the 5th base is indicated by the end position \"5\")  \n",
    "<br>\n",
    "- Column 4: **name** defines the BED feature eg. Exon number  \n",
    "<br>\n",
    "- Column 5: **score** We'll hear more about this later. eg. quality score of sequencing data  \n",
    "<br>\n",
    "- Column 6: **strand** which can be either '+' or '-'\n",
    "\n",
    "People are often confused by the fact that the same \"base\" is referred to by a different number depending on whether you are referring to the start or the end. A simple way to understand this is to realize that the positions are not referring to the numbering of the bases themselves, but to the boundary between bases, as illustrated in the figure below:\n",
    "\n",
    "<img src=\"./array_slice_indexing.png\">\n",
    "\n",
    "As a reminder from our previous class, this convention is also consistent with how slicing in python works, as illustrated below:"
   ]
  },
  {
   "cell_type": "code",
   "execution_count": null,
   "metadata": {},
   "outputs": [],
   "source": [
    "dna_string = \"ACCTG\"\n",
    "print(dna_string[0:4])\n",
    "print(dna_string[1:5])\n",
    "print(dna_string[0:5])"
   ]
  },
  {
   "cell_type": "markdown",
   "metadata": {},
   "source": [
    "We can use Python to make a file in BED format. \n",
    "\n",
    "For this example, we are going to make a .bed file that allows us to print the coding sequence for human insulin from a file containing the whole human genome in fasta format! \n",
    "\n",
    "Originally, the coding sequence would be determined experimentally, but we can obtain it now from genomics resources such as this [link](https://www.ncbi.nlm.nih.gov/variation/view/) from NCBI.\n",
    "\n",
    "The coding sequence boundaries for the human insulin gene in the version of the human genome that we will be using in 1-based numbering (hg19 or GRCh37) are: \n",
    "\n",
    "* 2,181,082 to 2,181,227\n",
    "* 2,182,015 to 2,182,201\n",
    "\n",
    "And insulin is on the (-) or reverse strand. "
   ]
  },
  {
   "cell_type": "code",
   "execution_count": null,
   "metadata": {},
   "outputs": [],
   "source": [
    "#Note that the exon locations have been adjusted to the zero-based numbering system described above\n",
    "#\\t is a tab character, and \\n is a newline character\n",
    "file1 = open('human_insulin_cds_boundaries.bed', 'w') #defines a file with the name \"human_insulin_cds.bed\"\n",
    "\n",
    "#Coordinates are for GRCh37 reference genome \n",
    "file1.write(\"chr11\\t2181081\\t2181227\\tcds\\t1\\t-\\n\") \n",
    "file1.write(\"chr11\\t2182014\\t2182201\\tcds\\t1\\t-\\n\")\n",
    "\n",
    "file1.close()"
   ]
  },
  {
   "cell_type": "markdown",
   "metadata": {},
   "source": [
    "Let's view the lines in the created file:"
   ]
  },
  {
   "cell_type": "code",
   "execution_count": null,
   "metadata": {
    "scrolled": true
   },
   "outputs": [],
   "source": [
    "file1 = open('human_insulin_cds_boundaries.bed', 'r')\n",
    "file1_contents=file1.read()\n",
    "print(file1_contents)"
   ]
  },
  {
   "cell_type": "markdown",
   "metadata": {},
   "source": [
    "## Use the genomic analysis package BEDtools to obtain a protein coding sequence from the human reference genome<a name='makeFASTAfromBED' />\n",
    "\n",
    "\n",
    "We are now going to use the BED tools box to obtain the sequence of the exon regions for the human insulin gene from the human reference genome. \n",
    "\n",
    "We can use the output of the BED tool box to make the mRNA sequence by pasting the exon sequences together using Python. \n",
    "\n",
    "Bedtools provides the getFastaFromBed command to extract the FASTA sequence from a specific set of chromosome coordinates.\n",
    "\n",
    "The FASTA sequences must contain chromosome information in the headers.  \n",
    "\n",
    "For details on the syntax of the command see [\"getFastaFromBed\"](http://bedtools.readthedocs.io/en/latest/content/tools/getfasta.html)\n",
    "\n",
    "The syntax for the full command is:\n",
    "!bedtools getfasta \n",
    "\n",
    "A shortcut is: \n",
    "!fastaFromBed\n",
    "\n",
    "The command requires an input FASTA file, a BED file containing your regions of interest, and an output FASTA file name. The reference file in our case is the h19.fa containing all DNA bases in the hg19 version of the human genome. The file can be downloaded from the [UCSC Genome Browser](https://genome.ucsc.edu/). You can access this file here:"
   ]
  },
  {
   "cell_type": "code",
   "execution_count": null,
   "metadata": {},
   "outputs": [],
   "source": [
    "!ls /data "
   ]
  },
  {
   "cell_type": "code",
   "execution_count": null,
   "metadata": {},
   "outputs": [],
   "source": [
    "!cat  /data/hg19.genome.fa | head -n250"
   ]
  },
  {
   "cell_type": "code",
   "execution_count": null,
   "metadata": {},
   "outputs": [],
   "source": [
    "## first, the default behavior: \n",
    "!bedtools getfasta -fi /data/hg19.genome.fa -bed human_insulin_cds_boundaries.bed -fo human_insulin_cds.fa.out  \n",
    "#examine the output\n",
    "!cat human_insulin_cds.fa.out"
   ]
  },
  {
   "cell_type": "markdown",
   "metadata": {},
   "source": [
    "We can use the startswith command in Python to take out the lines starting with '>'. \n",
    "\n",
    "Optional and if we have time: Try combining what you have learned to write a script to use the output above to write a single FASTA sequence.  "
   ]
  },
  {
   "cell_type": "code",
   "execution_count": null,
   "metadata": {},
   "outputs": [],
   "source": [
    "!cat human_insulin_cds.fa.out"
   ]
  },
  {
   "cell_type": "code",
   "execution_count": null,
   "metadata": {},
   "outputs": [],
   "source": [
    "#opens the FASTA sequences output from the bedtools command\n",
    "\n",
    "file1 = open('human_insulin_cds.fa.out','r')\n",
    "file1_contents=file1.readlines()\n",
    "print(file1_contents[1])\n",
    "\n",
    "###BEGINSOLUTION\n",
    "###END SOLUTION"
   ]
  },
  {
   "cell_type": "markdown",
   "metadata": {},
   "source": [
    "If you compare the sequence you made above to the mRNA sequence that we got from NCBI in the last class they should be the same!  "
   ]
  }
 ],
 "metadata": {
  "anaconda-cloud": {},
  "kernelspec": {
   "display_name": "Python 3",
   "language": "python",
   "name": "python3"
  },
  "language_info": {
   "codemirror_mode": {
    "name": "ipython",
    "version": 3
   },
   "file_extension": ".py",
   "mimetype": "text/x-python",
   "name": "python",
   "nbconvert_exporter": "python",
   "pygments_lexer": "ipython3",
   "version": "3.7.10"
  }
 },
 "nbformat": 4,
 "nbformat_minor": 4
}
