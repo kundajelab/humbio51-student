{
 "cells": [
  {
   "cell_type": "markdown",
   "metadata": {},
   "source": [
    "# Big Data for Biologists: Decoding Genomic Function- Class 6\n",
    "\n",
    "## Introduction to the WashU EpiGenome browser: High throughput sequencing and RNA sequencing\n",
    "\n",
    "##  Learning Objectives\n",
    "***Students should be able to***\n",
    " <ol>\n",
    " <li><a href=#GeneSeqinBrowser> View a gene sequence in the WashU EpiGenome Browser</a></li>\n",
    " <li><a href=#HighThroughput> Understand what high-throughput DNA sequencing is</a></li>\n",
    " <li><a href=#Applications> Explain how an RNA-Seq experiment works and what it measures</a></li>\n",
    " <li><a href=#RNASeqinBrowser> Determine what cell type a gene is likely expressed in by viewing results of RNA-Seq experiments </a></li>\n",
    "  "
   ]
  },
  {
   "cell_type": "markdown",
   "metadata": {},
   "source": [
    "## How can I view a gene in the WashU Epigenome Browser? <a name='GeneSeqinBrowser' />\n",
    "\n",
    "The Washu Epigenome browser provides a way to visualize the results of RNA-seq experiments. \n",
    "You can access the browser here:\n",
    "\n",
    "\n",
    "<a href=\"http://epigenomegateway.wustl.edu/browser/\">http://epigenomegateway.wustl.edu/browser/</a>\n",
    "\n",
    "First, you will see a screen asking you to select the source organism for your dataset. Click on \"Human hg19\", as this is the reference that we have been using for our analysis. \n",
    "\n",
    "<img src=\"../Images/humbio51-lecture6-washu_browser.1.png\" style=\"width: 50%; height: 50%\" align=\"center\"/>\n",
    "\n",
    "You will see a display of the genome, zoomed to a random region on chromosome 7: \n",
    "\n",
    "<img src=\"../Images/humbio51-lecture6-washu_browser.2.png\" style=\"width: 100%; height: 50%\" align=\"center\"/>\n"
   ]
  },
  {
   "cell_type": "markdown",
   "metadata": {},
   "source": [
    "The browser enables you to navigate across the genome and select regions or genes of interest to examine in more detail.\n",
    "\n",
    "<img src=\"../Images/humbio51-lecture6-washu_browser.3.png\" style=\"width: 50%; height: 50%\" align=\"center\"/>\n",
    "\n",
    "<img src=\"../Images/humbio51-lecture6-washu_browser.5.png\" style=\"width: 50%; height: 15%\" align=\"center\"/>\n",
    "\n",
    "<img src=\"../Images/humbio51-lecture6-washu_browser.6.png\" style=\"width: 50%; height: 50%\" align=\"center\"/>\n",
    "\n",
    "Clicking on a gene will highlight additional information about the gene.\n",
    "\n",
    "<img src=\"../Images/humbio51-lecture6-washu_browser.4.png\" style=\"width: 50%; height: 25%\" align=\"center\"/>\n"
   ]
  },
  {
   "cell_type": "markdown",
   "metadata": {},
   "source": [
    "### Exercise\n",
    "\n",
    "Q1: Use the browser to find the insulin gene that we used in classes 1-3. \n",
    "\n",
    "INS gene -- type \"INS\" into the gene lookup field. \n",
    "\n",
    "For a gene in the browser be able to identify: \n",
    "- transcript identifiers\n",
    "- exons\n",
    "- introns\n",
    "- 5'UTR\n",
    "- 3'UTR\n",
    "- coding regions\n",
    "- strand"
   ]
  },
  {
   "cell_type": "markdown",
   "metadata": {},
   "source": [
    "Q2: Examine the NEUROD1 gene. What is peculiar about this gene?"
   ]
  },
  {
   "cell_type": "markdown",
   "metadata": {},
   "source": [
    "# Introduction to high-throughput DNA sequencing  <a name='HighThroughput' />\n",
    "\n",
    "According to the Wikipedia entry on <a href=\"https://en.wikipedia.org/wiki/DNA_sequencing\">DNA Sequencing:</a>\n",
    "\n",
    "      \"DNA sequencing is the process of determining the precise order of nucleotides within a DNA molecule. It includes any method or technology that is used to determine the order of the four bases—adenine, guanine, cytosine, and thymine—in a strand of DNA. The advent of rapid DNA sequencing methods has greatly accelerated biological and medical research and discovery...\n",
    "\n",
    "    The high demand for low-cost sequencing has driven the development of high-throughput sequencing technologies \n",
    "    that parallelize the sequencing process, producing thousands or millions of sequences concurrently. High-throughput sequencing technologies are intended to lower the cost of DNA sequencing beyond what is possible with standard dye-terminator methods. In ultra-high-throughput sequencing millions of sequencing-by-synthesis operations may be run in parallel.\""
   ]
  },
  {
   "cell_type": "markdown",
   "metadata": {},
   "source": [
    "<a href=\"https://drive.google.com/file/d/0B_ssVVyXv8ZSWHUxSmxJREVsYUU/preview\">DNA Sequencing Slides</a>"
   ]
  },
  {
   "cell_type": "markdown",
   "metadata": {},
   "source": [
    "### Video tutorial on Illumina sequencing by synthesis "
   ]
  },
  {
   "cell_type": "code",
   "execution_count": 3,
   "metadata": {},
   "outputs": [
    {
     "data": {
      "text/html": [
       "<iframe width=\"560\" height=\"315\" src=\"https://www.youtube.com/embed/fCd6B5HRaZ8\" frameborder=\"0\" allowfullscreen></iframe>"
      ],
      "text/plain": [
       "<IPython.core.display.HTML object>"
      ]
     },
     "execution_count": 3,
     "metadata": {},
     "output_type": "execute_result"
    }
   ],
   "source": [
    "HTML('<iframe width=\"560\" height=\"315\" src=\"https://www.youtube.com/embed/fCd6B5HRaZ8\" frameborder=\"0\" allowfullscreen></iframe>')"
   ]
  },
  {
   "cell_type": "markdown",
   "metadata": {},
   "source": [
    "# How can we use sequencing to detect and quantify RNA expression of all genes (RNA-sequencing) <a name='Applications' />\n",
    "\n",
    "According to the Wikipedia entry on <a href=\"https://en.wikipedia.org/wiki/RNA-Seq\">RNA-Seq:</a>\n",
    "\n",
    "    \"RNA-Seq (RNA sequencing), also called whole transcriptome shotgun sequencing (WTSS), uses next-generation sequencing (NGS) to reveal the presence and quantity of RNA in a biological sample at a given moment in time.\n",
    "\n",
    "    RNA-Seq is used to analyze the continually changing cellular transcriptome. Specifically, RNA-Seq facilitates the ability to look at alternative gene spliced transcripts, post-transcriptional modifications, gene fusion, mutations/SNPs and changes in gene expression over time, or differences in gene expression in different groups or treatments.In addition to mRNA transcripts, RNA-Seq can look at different populations of RNA to include total RNA, small RNA, such as miRNA, tRNA, and ribosomal profiling.RNA-Seq can also be used to determine exon/intron boundaries and verify or amend previously annotated 5' and 3' gene boundaries.\n",
    "\n",
    "    Prior to RNA-Seq, gene expression studies were done with hybridization-based microarrays. Issues with microarrays include cross-hybridization artifacts, poor quantification of lowly and highly expressed genes, and needing to know the sequence a priori. Because of these technical issues, transcriptomics transitioned to sequencing-based methods. These progressed from Sanger sequencing of Expressed Sequence Tag libraries, to chemical tag-based methods (e.g., serial analysis of gene expression), and finally to the current technology, next-gen sequencing of cDNA (notably RNA-Seq).\""
   ]
  },
  {
   "cell_type": "markdown",
   "metadata": {},
   "source": [
    "<a href=\"https://drive.google.com/file/d/0B_ssVVyXv8ZSOXlINi1XbzFIZFU/preview\">RNA-seq Slides</a>"
   ]
  },
  {
   "cell_type": "markdown",
   "metadata": {},
   "source": [
    "### RNA sequencing tutorial "
   ]
  },
  {
   "cell_type": "code",
   "execution_count": 4,
   "metadata": {},
   "outputs": [
    {
     "data": {
      "text/html": [
       "<iframe width=\"560\" height=\"315\" src=\"https://www.youtube.com/embed/tlf6wYJrwKY\" frameborder=\"0\" allowfullscreen></iframe>"
      ],
      "text/plain": [
       "<IPython.core.display.HTML object>"
      ]
     },
     "execution_count": 4,
     "metadata": {},
     "output_type": "execute_result"
    }
   ],
   "source": [
    "HTML('<iframe width=\"560\" height=\"315\" src=\"https://www.youtube.com/embed/tlf6wYJrwKY\" frameborder=\"0\" allowfullscreen></iframe>')"
   ]
  },
  {
   "cell_type": "markdown",
   "metadata": {},
   "source": [
    "#  Determine what tissue a gene is likely expressed in by viewing results of RNA-Seq experiments <a name='RNASeqinBrowser'>"
   ]
  },
  {
   "cell_type": "markdown",
   "metadata": {},
   "source": [
    "Load browser session: http://epigenomegateway.wustl.edu/browser/?bundle=498db090-9d15-11ed-bb0f-a95e38237dbe\n",
    "\n",
    "Lets examine the following genes: \n",
    "\n",
    "* MYOD1\n",
    "* INS"
   ]
  },
  {
   "cell_type": "markdown",
   "metadata": {},
   "source": [
    "#### EXERCISE\n",
    "\n",
    "Which tissues are the remaining four genes expressed in?  \n",
    "\n",
    "* NEUROD1 \n",
    "\n",
    "**Your answer**: \n",
    "\n",
    "* SPI1 \n",
    "\n",
    "**Your answer**: \n",
    "\n",
    "* HNF4A \n",
    "\n",
    "**Your answer**: \n",
    "\n",
    "* GTF2B\n",
    "\n",
    "**Your answer**: \n"
   ]
  },
  {
   "cell_type": "code",
   "execution_count": null,
   "metadata": {},
   "outputs": [],
   "source": []
  }
 ],
 "metadata": {
  "anaconda-cloud": {},
  "kernelspec": {
   "display_name": "Python 3",
   "language": "python",
   "name": "python3"
  },
  "language_info": {
   "codemirror_mode": {
    "name": "ipython",
    "version": 3
   },
   "file_extension": ".py",
   "mimetype": "text/x-python",
   "name": "python",
   "nbconvert_exporter": "python",
   "pygments_lexer": "ipython3",
   "version": "3.7.10"
  }
 },
 "nbformat": 4,
 "nbformat_minor": 4
}
