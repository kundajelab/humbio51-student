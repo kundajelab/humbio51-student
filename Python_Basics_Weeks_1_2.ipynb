{
 "cells": [
  {
   "cell_type": "markdown",
   "metadata": {},
   "source": [
    "# This is an overview of python commands covered in weeks 1-2 of HUMBIO51, Fall 2019\n",
    "\n",
    " <ol>\n",
    " <li><a href=#0>Miscellaneous essential concepts </a></li>\n",
    " <li><a href=#1>Moving around the file system </a></li>\n",
    " <li><a href=#2>Reading and writing files</a></li>\n",
    " <li><a href=#3>Strings</a></li>\n",
    " <li><a href=#4>Lists</a></li>\n",
    " <li><a href=#5>Tuples</a></li>\n",
    " <li><a href=#6>Dictionaries</a></li>\n",
    " <li><a href=#7>For loops</a></li>\n",
    " <li><a href=#8>If statements</a></li>\n",
    " <li><a href=#9>Functions</a></li>\n",
    "</ol>"
   ]
  },
  {
   "cell_type": "markdown",
   "metadata": {},
   "source": [
    "## Miscellaneous essential concepts <a name='0' />"
   ]
  },
  {
   "cell_type": "code",
   "execution_count": 94,
   "metadata": {},
   "outputs": [],
   "source": [
    "# This is a comment. Comments are lines that begin with a hash(#) symbol. They are not executed and are used as notes for the programmer. "
   ]
  },
  {
   "cell_type": "code",
   "execution_count": 95,
   "metadata": {},
   "outputs": [
    {
     "name": "stdout",
     "output_type": "stream",
     "text": [
      "Hello World\n"
     ]
    }
   ],
   "source": [
    "#The print function prints text to the screen. \n",
    "#Make sure you surround the text you wish to print in quotes \n",
    "print ('Hello World')\n"
   ]
  },
  {
   "cell_type": "code",
   "execution_count": 96,
   "metadata": {},
   "outputs": [
    {
     "name": "stdout",
     "output_type": "stream",
     "text": [
      "1\n"
     ]
    }
   ],
   "source": [
    "#We can also print variables by \"casting\" them as strings. For example \n",
    "a=1 \n",
    "print(str(a))"
   ]
  },
  {
   "cell_type": "code",
   "execution_count": 97,
   "metadata": {},
   "outputs": [
    {
     "name": "stdout",
     "output_type": "stream",
     "text": [
      "Help on built-in function print in module builtins:\n",
      "\n",
      "print(...)\n",
      "    print(value, ..., sep=' ', end='\\n', file=sys.stdout, flush=False)\n",
      "    \n",
      "    Prints the values to a stream, or to sys.stdout by default.\n",
      "    Optional keyword arguments:\n",
      "    file:  a file-like object (stream); defaults to the current sys.stdout.\n",
      "    sep:   string inserted between values, default a space.\n",
      "    end:   string appended after the last value, default a newline.\n",
      "    flush: whether to forcibly flush the stream.\n",
      "\n"
     ]
    }
   ],
   "source": [
    "# Use the help function when confused about a variable / function \n",
    "help(print)"
   ]
  },
  {
   "cell_type": "code",
   "execution_count": 98,
   "metadata": {},
   "outputs": [
    {
     "name": "stdout",
     "output_type": "stream",
     "text": [
      "a is:1\n"
     ]
    }
   ],
   "source": [
    "#We can use the \"+\" sign to join strings for printing \n",
    "print(\"a is:\"+str(a))"
   ]
  },
  {
   "cell_type": "markdown",
   "metadata": {},
   "source": [
    "## Moving around the file system <a name='1' />"
   ]
  },
  {
   "cell_type": "code",
   "execution_count": 99,
   "metadata": {},
   "outputs": [
    {
     "data": {
      "text/plain": [
       "'/home/jovyan/humbio51_instructor'"
      ]
     },
     "execution_count": 99,
     "metadata": {},
     "output_type": "execute_result"
    }
   ],
   "source": [
    "#the import statement adds python libraries to your PYTHONPATH and allows the interpreter to find them \n",
    "#os library has not been imported: \n",
    "os.getcwd() #will fail because the os library has not been imported. "
   ]
  },
  {
   "cell_type": "code",
   "execution_count": 100,
   "metadata": {},
   "outputs": [
    {
     "data": {
      "text/plain": [
       "'/home/jovyan/humbio51_instructor'"
      ]
     },
     "execution_count": 100,
     "metadata": {},
     "output_type": "execute_result"
    }
   ],
   "source": [
    "import os  #to fix the error, first import the os library. \n",
    "os.getcwd() #We execute the getcwd function to print the current working directory "
   ]
  },
  {
   "cell_type": "code",
   "execution_count": 143,
   "metadata": {},
   "outputs": [],
   "source": [
    "os.chdir(\"/home/jovyan/humbio51_instructor\") #changes your working directory. There are shortcuts we can use: "
   ]
  },
  {
   "cell_type": "code",
   "execution_count": 144,
   "metadata": {},
   "outputs": [],
   "source": [
    "os.chdir(\"/home/jovyan/humbio51_instructor/helpers\") #starting the directory name with \"/\" indicates an absolute path. \n",
    "os.chdir(\"..\") #moves one directory up (to the parent directory)\n",
    "os.chdir(\"helpers\") #omitting the parent directories indicates a relative path. "
   ]
  },
  {
   "cell_type": "code",
   "execution_count": 145,
   "metadata": {},
   "outputs": [
    {
     "data": {
      "text/plain": [
       "['__init__.py',\n",
       " 'sequence_alignment_helpers.py',\n",
       " 'startup.sh',\n",
       " 'plotly_helpers.py',\n",
       " 'alignment.py',\n",
       " '.DS_Store',\n",
       " 'RNAseq_helpers.py',\n",
       " 'central_dogma_helpers.py',\n",
       " '__pycache__',\n",
       " 'viz_sequence.py',\n",
       " 'kmeans_helpers.py']"
      ]
     },
     "execution_count": 145,
     "metadata": {},
     "output_type": "execute_result"
    }
   ],
   "source": [
    "#lists files in the current directory, a single period (.)  stands for the current directory \n",
    "os.listdir('.')"
   ]
  },
  {
   "cell_type": "code",
   "execution_count": 104,
   "metadata": {},
   "outputs": [],
   "source": [
    "#create a new directory \n",
    "os.mkdir('mydir')"
   ]
  },
  {
   "cell_type": "markdown",
   "metadata": {},
   "source": [
    "## Reading and writing files <a name='2' />"
   ]
  },
  {
   "cell_type": "code",
   "execution_count": 105,
   "metadata": {},
   "outputs": [],
   "source": [
    "#open a file for writing \n",
    "f=open(\"myfile.txt\",'w')"
   ]
  },
  {
   "cell_type": "code",
   "execution_count": 106,
   "metadata": {},
   "outputs": [
    {
     "data": {
      "text/plain": [
       "29"
      ]
     },
     "execution_count": 106,
     "metadata": {},
     "output_type": "execute_result"
    }
   ],
   "source": [
    "#write text to a file \n",
    "f.write(\"hello world! \\n goodbye world\\n\") #use \\n to indicate newline characters. "
   ]
  },
  {
   "cell_type": "code",
   "execution_count": 107,
   "metadata": {},
   "outputs": [],
   "source": [
    "#open a file for reading \n",
    "f=open('myfile.txt','r')\n"
   ]
  },
  {
   "cell_type": "code",
   "execution_count": 108,
   "metadata": {},
   "outputs": [
    {
     "name": "stdout",
     "output_type": "stream",
     "text": [
      "hello world! \n",
      " goodbye world\n",
      "\n"
     ]
    }
   ],
   "source": [
    "#read an open file \n",
    "contents=f.read()\n",
    "print(contents)"
   ]
  },
  {
   "cell_type": "code",
   "execution_count": 109,
   "metadata": {},
   "outputs": [
    {
     "name": "stdout",
     "output_type": "stream",
     "text": [
      "[]\n"
     ]
    }
   ],
   "source": [
    "#read the lines contained in a file, split by newlines \n",
    "contents=f.readlines()\n",
    "print(contents) #note! this can be done only once, contents will be empty the second time you iterate through. "
   ]
  },
  {
   "cell_type": "markdown",
   "metadata": {},
   "source": [
    "## Working with strings <a name='3' />"
   ]
  },
  {
   "cell_type": "code",
   "execution_count": 110,
   "metadata": {},
   "outputs": [
    {
     "name": "stdout",
     "output_type": "stream",
     "text": [
      "helloworld\n"
     ]
    }
   ],
   "source": [
    "#you can concatenate strings with the \"+\" sign \n",
    "a=\"hello\"\n",
    "b=\"world\"\n",
    "c=a+b\n",
    "print(c)"
   ]
  },
  {
   "cell_type": "code",
   "execution_count": 111,
   "metadata": {},
   "outputs": [
    {
     "name": "stdout",
     "output_type": "stream",
     "text": [
      "goodbyeworld\n"
     ]
    }
   ],
   "source": [
    "#you can find and replace string characters \n",
    "c=c.replace(\"hello\",\"goodbye\") #make sure you assign the new string to a new variable, so your edits stick. \n",
    "print(c)"
   ]
  },
  {
   "cell_type": "code",
   "execution_count": 112,
   "metadata": {},
   "outputs": [
    {
     "name": "stdout",
     "output_type": "stream",
     "text": [
      "C\n",
      "CG\n",
      "TGCATGCA\n"
     ]
    }
   ],
   "source": [
    "#string indexing \n",
    "sequence=\"ACGTACGT\"\n",
    "print(sequence[1]) #we can select a single character at a numeric index (0-based)\n",
    "print(sequence[1:3])#we can slice the string to select several contiguous characters\n",
    "print(sequence[::-1]) #string reversal\n"
   ]
  },
  {
   "cell_type": "markdown",
   "metadata": {},
   "source": [
    "## Working with lists <a name='4' />"
   ]
  },
  {
   "cell_type": "code",
   "execution_count": 113,
   "metadata": {},
   "outputs": [
    {
     "name": "stdout",
     "output_type": "stream",
     "text": [
      "a[]\n",
      "b[]\n"
     ]
    }
   ],
   "source": [
    "#both of the below are valid ways to create an empty list \n",
    "a=[] \n",
    "b=list()\n",
    "print(\"a\"+str(a))\n",
    "print(\"b\"+str(b))"
   ]
  },
  {
   "cell_type": "code",
   "execution_count": 114,
   "metadata": {},
   "outputs": [
    {
     "name": "stdout",
     "output_type": "stream",
     "text": [
      "[1, 2, 3, 4]\n",
      "['a', 'b', 'c', 'd']\n"
     ]
    }
   ],
   "source": [
    "#creating lists with some values in them \n",
    "a=[1,2,3,4]\n",
    "b=['a','b','c','d']\n",
    "print(a)\n",
    "print(b)"
   ]
  },
  {
   "cell_type": "code",
   "execution_count": 115,
   "metadata": {},
   "outputs": [
    {
     "name": "stdout",
     "output_type": "stream",
     "text": [
      "[1, 2, 3, 4, 5]\n"
     ]
    }
   ],
   "source": [
    "#use the \"append\" command to add values to a list \n",
    "a.append(5)\n",
    "print(a)"
   ]
  },
  {
   "cell_type": "code",
   "execution_count": 116,
   "metadata": {},
   "outputs": [
    {
     "name": "stdout",
     "output_type": "stream",
     "text": [
      "[7, 2, 3, 4, 5]\n"
     ]
    }
   ],
   "source": [
    "#we can update list values with new values \n",
    "a[0]=7\n",
    "print(a)"
   ]
  },
  {
   "cell_type": "code",
   "execution_count": 117,
   "metadata": {},
   "outputs": [
    {
     "name": "stdout",
     "output_type": "stream",
     "text": [
      "a.b.c.d\n"
     ]
    }
   ],
   "source": [
    "#use the \"join\" command to join the elements in a list \n",
    "c='.'.join(b)\n",
    "print(c)\n"
   ]
  },
  {
   "cell_type": "code",
   "execution_count": 118,
   "metadata": {},
   "outputs": [
    {
     "name": "stdout",
     "output_type": "stream",
     "text": [
      "['a', 'b', 'c', 'd']\n"
     ]
    }
   ],
   "source": [
    "#use the \"split\" command to split a string into a list using a specified delimiter \n",
    "d=c.split('.')\n",
    "print(d)"
   ]
  },
  {
   "cell_type": "code",
   "execution_count": 119,
   "metadata": {},
   "outputs": [
    {
     "name": "stdout",
     "output_type": "stream",
     "text": [
      "4\n"
     ]
    }
   ],
   "source": [
    "#use the \"len\" command to get the length of a list \n",
    "print(len(d))"
   ]
  },
  {
   "cell_type": "markdown",
   "metadata": {},
   "source": [
    "## Tuples <a name='5' />"
   ]
  },
  {
   "cell_type": "code",
   "execution_count": 120,
   "metadata": {},
   "outputs": [
    {
     "name": "stdout",
     "output_type": "stream",
     "text": [
      "(1, 2)\n"
     ]
    }
   ],
   "source": [
    "#Unlike lists, tuples are immutable. \n",
    "#Tuples can be defined as follows: \n",
    "a=(1,2)\n",
    "print(a)\n"
   ]
  },
  {
   "cell_type": "code",
   "execution_count": 121,
   "metadata": {},
   "outputs": [
    {
     "name": "stdout",
     "output_type": "stream",
     "text": [
      "1\n",
      "2\n"
     ]
    }
   ],
   "source": [
    "#you can index into a tuple, just like a list \n",
    "print(a[0])\n",
    "print(a[1])"
   ]
  },
  {
   "cell_type": "code",
   "execution_count": 122,
   "metadata": {},
   "outputs": [
    {
     "ename": "TypeError",
     "evalue": "'tuple' object does not support item assignment",
     "output_type": "error",
     "traceback": [
      "\u001b[0;31m---------------------------------------------------------------------------\u001b[0m",
      "\u001b[0;31mTypeError\u001b[0m                                 Traceback (most recent call last)",
      "\u001b[0;32m<ipython-input-122-06e17181b861>\u001b[0m in \u001b[0;36m<module>\u001b[0;34m\u001b[0m\n\u001b[1;32m      1\u001b[0m \u001b[0;31m#However, you cannot reassign values to a tuple\u001b[0m\u001b[0;34m\u001b[0m\u001b[0;34m\u001b[0m\u001b[0;34m\u001b[0m\u001b[0m\n\u001b[0;32m----> 2\u001b[0;31m \u001b[0ma\u001b[0m\u001b[0;34m[\u001b[0m\u001b[0;36m0\u001b[0m\u001b[0;34m]\u001b[0m\u001b[0;34m=\u001b[0m\u001b[0;36m5\u001b[0m \u001b[0;31m#should give an error\u001b[0m\u001b[0;34m\u001b[0m\u001b[0;34m\u001b[0m\u001b[0m\n\u001b[0m",
      "\u001b[0;31mTypeError\u001b[0m: 'tuple' object does not support item assignment"
     ]
    }
   ],
   "source": [
    "#However, you cannot reassign values to a tuple \n",
    "a[0]=5 #should give an error "
   ]
  },
  {
   "cell_type": "markdown",
   "metadata": {},
   "source": [
    "## Dictionaries <a name='6' />"
   ]
  },
  {
   "cell_type": "code",
   "execution_count": 123,
   "metadata": {},
   "outputs": [],
   "source": [
    "#Dictionaries are key value pairs that are efficient to use \n",
    "#Dictionaries can be defined in two ways: \n",
    "\n",
    "my_dict={} \n",
    "my_dict=dict() "
   ]
  },
  {
   "cell_type": "code",
   "execution_count": 124,
   "metadata": {},
   "outputs": [
    {
     "name": "stdout",
     "output_type": "stream",
     "text": [
      "{'a': 1, 'b': 2, 'c': 3}\n"
     ]
    }
   ],
   "source": [
    "#We can populate a dictionary by assigning keys and values \n",
    "my_dict['a']=1\n",
    "my_dict['b']=2\n",
    "my_dict['c']=3\n",
    "print(my_dict)"
   ]
  },
  {
   "cell_type": "code",
   "execution_count": 125,
   "metadata": {},
   "outputs": [
    {
     "data": {
      "text/plain": [
       "1"
      ]
     },
     "execution_count": 125,
     "metadata": {},
     "output_type": "execute_result"
    }
   ],
   "source": [
    "#We can query a dictionary by looking up specific keys \n",
    "my_dict['a']"
   ]
  },
  {
   "cell_type": "code",
   "execution_count": 126,
   "metadata": {},
   "outputs": [
    {
     "data": {
      "text/plain": [
       "dict_keys(['a', 'b', 'c'])"
      ]
     },
     "execution_count": 126,
     "metadata": {},
     "output_type": "execute_result"
    }
   ],
   "source": [
    "#we can also print all keys or all values in a dictionary \n",
    "my_dict.keys()"
   ]
  },
  {
   "cell_type": "code",
   "execution_count": 127,
   "metadata": {},
   "outputs": [
    {
     "data": {
      "text/plain": [
       "dict_values([1, 2, 3])"
      ]
     },
     "execution_count": 127,
     "metadata": {},
     "output_type": "execute_result"
    }
   ],
   "source": [
    "my_dict.values()"
   ]
  },
  {
   "cell_type": "markdown",
   "metadata": {},
   "source": [
    "The alignments output of the pairwise2 algorithm is a list of a data type called tuples. \n",
    "\n",
    "* A **list** is denoted by square brackets. For example: \n",
    "\n",
    "       alignments=[alignment0, alignment1, alignment2] \n",
    "\n",
    "       Individual elements of a list can be referred to using an index. \n",
    "\n",
    "       alignments[0]= alignment0  \n",
    "       alignments[1]= alignment1 \n",
    "       alignments[2]= alignment2  \n",
    "       \n",
    "       Values of lists can be changed, for example:  \n",
    "       \n",
    "       alignments[2]= new_alignment2 \n",
    "       \n",
    "       alignments=[alignment0, alignment1,new_alignment2]\n",
    "       \n",
    "       Values in lists can be different data types. In the alignments example, the data types are tuples. \n",
    "\n",
    "\n",
    "* A **tuple** is denoted by parentheses. A tuple behaves similarly to a list, but it is \"immutable\". That means that once you define a tuple in your script or program, you cannot change, add or remove elements. Why would you ever want this constraint? There are two main reasons: using tuples can make some operations faster due to how they are stored internally in the computer's memory. Additionally, tuples can be used as dictionary keys (more on dictionary keys below), while lists cannot.\n",
    "\n",
    "       alignments[0]=('sequence1','sequence2',alignment_score,start,stop) \n",
    "       \n",
    "       Individual elements of a tuple can be referred to using an index. \n",
    "       \n",
    "       alignments[0][0]='sequence1' \n",
    "       alignments[0][1]='sequence2' \n",
    "       alignments[0][2]= alignment_score\n",
    "       alignments[0][3]=start\n",
    "       alignments[0][4]=stop\n",
    "       \n",
    "       alignments[0][1]='new_sequence2' will give error message: 'tuple' object does not support item assignment\n",
    "       \n",
    "       \n",
    "\n",
    "* As a review, a third data type that we have already seen is a **dictionary**. Dictionaries are denoted by curly braces and define a map of a value to a key.  \n",
    "       \n",
    "       In the pre-class assignment, for example, we saw: \n",
    "       \n",
    "       aminoacid_molecular_weight={'M':149,'F':165,'L':131,'A':89}\n",
    "       \n",
    "       Elements in dictionaries are referred to as keys and values. \n",
    "\n",
    "       a={key1:value1,key2:value2,key3:value3}\n",
    "\n",
    "       a[key1]=value1\n",
    "\n",
    "       a[key2]=value2\n",
    "\n",
    "       a[key3]=value3"
   ]
  },
  {
   "cell_type": "markdown",
   "metadata": {},
   "source": [
    "## For loops <a name='7' />"
   ]
  },
  {
   "cell_type": "code",
   "execution_count": 128,
   "metadata": {},
   "outputs": [
    {
     "name": "stdout",
     "output_type": "stream",
     "text": [
      "A\n",
      "G\n",
      "C\n",
      "C\n",
      "C\n",
      "T\n",
      "C\n",
      "C\n",
      "A\n"
     ]
    }
   ],
   "source": [
    "#iterate by values \n",
    "sequence='AGCCCTCCA'\n",
    "for i in sequence:\n",
    "    print (i)\n"
   ]
  },
  {
   "cell_type": "code",
   "execution_count": 129,
   "metadata": {},
   "outputs": [
    {
     "name": "stdout",
     "output_type": "stream",
     "text": [
      "G\n",
      "C\n",
      "C\n",
      "C\n"
     ]
    }
   ],
   "source": [
    "#iterate by index \n",
    "for i in [1,2,3,4]: \n",
    "    print(sequence[i])"
   ]
  },
  {
   "cell_type": "code",
   "execution_count": 130,
   "metadata": {},
   "outputs": [
    {
     "data": {
      "text/plain": [
       "[0, 1, 2]"
      ]
     },
     "execution_count": 130,
     "metadata": {},
     "output_type": "execute_result"
    }
   ],
   "source": [
    "#use the range command to get all integers in a given range \n",
    "list(range(0,3)) #first number is included, second number is excluded"
   ]
  },
  {
   "cell_type": "code",
   "execution_count": 131,
   "metadata": {},
   "outputs": [
    {
     "data": {
      "text/plain": [
       "[0, 1, 2]"
      ]
     },
     "execution_count": 131,
     "metadata": {},
     "output_type": "execute_result"
    }
   ],
   "source": [
    "#if only one integer is provided to range, the first integer is assumed to be 0 \n",
    "list(range(3))"
   ]
  },
  {
   "cell_type": "code",
   "execution_count": 132,
   "metadata": {},
   "outputs": [
    {
     "name": "stdout",
     "output_type": "stream",
     "text": [
      "A\n",
      "G\n",
      "C\n",
      "C\n",
      "C\n",
      "T\n",
      "C\n",
      "C\n",
      "A\n"
     ]
    }
   ],
   "source": [
    "#A common pattern is to combine range with len to iterate through all indices in a list \n",
    "for i in range(len(sequence)):\n",
    "    print(sequence[i])"
   ]
  },
  {
   "cell_type": "markdown",
   "metadata": {},
   "source": [
    "## If statement logic <a name='8' />"
   ]
  },
  {
   "cell_type": "markdown",
   "metadata": {},
   "source": [
    "Equals: a == b\n",
    "\n",
    "Not Equals: a != b\n",
    "\n",
    "Less than: a < b\n",
    "\n",
    "Less than or equal to: a <= b\n",
    "\n",
    "Greater than: a > b\n",
    "\n",
    "Greater than or equal to: a >= b"
   ]
  },
  {
   "cell_type": "code",
   "execution_count": 133,
   "metadata": {},
   "outputs": [
    {
     "name": "stdout",
     "output_type": "stream",
     "text": [
      "10 is greater than 5\n"
     ]
    }
   ],
   "source": [
    "#An \"if statement\" is written by using the if keyword.\n",
    "a=5\n",
    "b=10\n",
    "if a>b: \n",
    "    print(str(a) + \" is greater than \" + str(b))\n",
    "else: \n",
    "    print(str(b) + \" is greater than \"+ str(a))"
   ]
  },
  {
   "cell_type": "code",
   "execution_count": 134,
   "metadata": {},
   "outputs": [
    {
     "name": "stdout",
     "output_type": "stream",
     "text": [
      "10 is greater than 5\n"
     ]
    }
   ],
   "source": [
    "#an elif can be used to perform multiple comparisons \n",
    "if a>b: \n",
    "    print(str(a) + \" is greater than \" + str(b))\n",
    "elif a==b: \n",
    "    print(str(a) + \" is equal to \" + str(b))\n",
    "else: \n",
    "    print(str(b) + \" is greater than \"+ str(a))"
   ]
  },
  {
   "cell_type": "markdown",
   "metadata": {},
   "source": [
    "## Using functions <a name='9' />"
   ]
  },
  {
   "cell_type": "code",
   "execution_count": 135,
   "metadata": {},
   "outputs": [],
   "source": [
    "#Functions are re-usable chunks of code that can be called with a single command \n",
    "#functions are defined as follows \n",
    "\n",
    "#def my_function(arg1,arg2):\n",
    "#    #do something with arg1, arg2\n",
    "#    return output  #return an output value \n",
    "\n"
   ]
  },
  {
   "cell_type": "code",
   "execution_count": 136,
   "metadata": {},
   "outputs": [],
   "source": [
    "#For example: \n",
    "def multiply(a,b): \n",
    "    return a*b\n"
   ]
  },
  {
   "cell_type": "code",
   "execution_count": 137,
   "metadata": {},
   "outputs": [
    {
     "name": "stdout",
     "output_type": "stream",
     "text": [
      "6\n"
     ]
    }
   ],
   "source": [
    "#Functions can be executed after they are defined by passing arguments: \n",
    "product=multiply(2,3)\n",
    "print(product)"
   ]
  },
  {
   "cell_type": "code",
   "execution_count": null,
   "metadata": {},
   "outputs": [],
   "source": []
  }
 ],
 "metadata": {
  "kernelspec": {
   "display_name": "Python 3",
   "language": "python",
   "name": "python3"
  },
  "language_info": {
   "codemirror_mode": {
    "name": "ipython",
    "version": 3
   },
   "file_extension": ".py",
   "mimetype": "text/x-python",
   "name": "python",
   "nbconvert_exporter": "python",
   "pygments_lexer": "ipython3",
   "version": "3.7.10"
  }
 },
 "nbformat": 4,
 "nbformat_minor": 4
}
